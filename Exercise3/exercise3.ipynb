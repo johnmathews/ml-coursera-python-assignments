{
 "cells": [
  {
   "cell_type": "markdown",
   "metadata": {},
   "source": [
    "# Programming Exercise 3\n",
    "# Multi-class Classification and Neural Networks\n",
    "\n",
    "## Introduction\n",
    "\n",
    "\n",
    "In this exercise, you will implement one-vs-all logistic regression and neural networks to recognize handwritten digits. Before starting the programming exercise, we strongly recommend watching the video lectures and completing the review questions for the associated topics. \n",
    "\n",
    "All the information you need for solving this assignment is in this notebook, and all the code you will be implementing will take place within this notebook. The assignment can be promptly submitted to the coursera grader directly from this notebook (code and instructions are included below).\n",
    "\n",
    "Before we begin with the exercises, we need to import all libraries required for this programming exercise. Throughout the course, we will be using [`numpy`](http://www.numpy.org/) for all arrays and matrix operations, [`matplotlib`](https://matplotlib.org/) for plotting, and [`scipy`](https://docs.scipy.org/doc/scipy/reference/) for scientific and numerical computation functions and tools. You can find instructions on how to install required libraries in the README file in the [github repository](https://github.com/dibgerge/ml-coursera-python-assignments)."
   ]
  },
  {
   "cell_type": "code",
   "execution_count": 6,
   "metadata": {},
   "outputs": [],
   "source": [
    "from IPython.core.interactiveshell import InteractiveShell\n",
    "InteractiveShell.ast_node_interactivity = \"all\""
   ]
  },
  {
   "cell_type": "code",
   "execution_count": 1,
   "metadata": {},
   "outputs": [],
   "source": [
    "# used for manipulating directory paths\n",
    "import os\n",
    "\n",
    "# Scientific and vector computation for python\n",
    "import numpy as np\n",
    "\n",
    "# Plotting library\n",
    "from matplotlib import pyplot\n",
    "\n",
    "# Optimization module in scipy\n",
    "from scipy import optimize\n",
    "\n",
    "# will be used to load MATLAB mat datafile format\n",
    "from scipy.io import loadmat\n",
    "\n",
    "# library written for this exercise providing additional functions for assignment submission, and others\n",
    "import utils\n",
    "\n",
    "# define the submission/grader object for this exercise\n",
    "grader = utils.Grader()\n",
    "\n",
    "# tells matplotlib to embed plots within the notebook\n",
    "%matplotlib inline"
   ]
  },
  {
   "cell_type": "markdown",
   "metadata": {},
   "source": [
    "## Submission and Grading\n",
    "\n",
    "\n",
    "After completing each part of the assignment, be sure to submit your solutions to the grader. The following is a breakdown of how each part of this exercise is scored.\n",
    "\n",
    "\n",
    "| Section | Part                                 | Submission function                   |  Points \n",
    "| :-      |:-                                    | :-                                    |  :-:    \n",
    "| 1       | [Regularized Logistic Regression](#section1)     | [`lrCostFunction`](#lrCostFunction)   | 30     \n",
    "| 2       | [One-vs-all classifier training](#section2)       | [`oneVsAll`](#oneVsAll)               | 20     \n",
    "| 3       | [One-vs-all classifier prediction](#section3)     | [`predictOneVsAll`](#predictOneVsAll) | 20     \n",
    "| 4       | [Neural Network Prediction Function](#section4)   | [`predict`](#predict)           | 30\n",
    "|         | Total Points                         |                                 | 100    \n",
    "\n",
    "\n",
    "You are allowed to submit your solutions multiple times, and we will take only the highest score into consideration.\n",
    "\n",
    "<div class=\"alert alert-block alert-warning\">\n",
    "At the end of each section in this notebook, we have a cell which contains code for submitting the solutions thus far to the grader. Execute the cell to see your score up to the current section. For all your work to be submitted properly, you must execute those cells at least once. They must also be re-executed everytime the submitted function is updated.\n",
    "</div>"
   ]
  },
  {
   "cell_type": "markdown",
   "metadata": {},
   "source": [
    "## 1 Multi-class Classification\n",
    "\n",
    "For this exercise, you will use logistic regression and neural networks to recognize handwritten digits (from 0 to 9). Automated handwritten digit recognition is widely used today - from recognizing zip codes (postal codes)\n",
    "on mail envelopes to recognizing amounts written on bank checks. This exercise will show you how the methods you have learned can be used for this classification task.\n",
    "\n",
    "In the first part of the exercise, you will extend your previous implementation of logistic regression and apply it to one-vs-all classification.\n",
    "\n",
    "### 1.1 Dataset\n",
    "\n",
    "You are given a data set in `ex3data1.mat` that contains 5000 training examples of handwritten digits (This is a subset of the [MNIST](http://yann.lecun.com/exdb/mnist) handwritten digit dataset). The `.mat` format means that that the data has been saved in a native Octave/MATLAB matrix format, instead of a text (ASCII) format like a csv-file. We use the `.mat` format here because this is the dataset provided in the MATLAB version of this assignment. Fortunately, python provides mechanisms to load MATLAB native format using the `loadmat` function within the `scipy.io` module. This function returns a python dictionary with keys containing the variable names within the `.mat` file. \n",
    "\n",
    "There are 5000 training examples in `ex3data1.mat`, where each training example is a 20 pixel by 20 pixel grayscale image of the digit. Each pixel is represented by a floating point number indicating the grayscale intensity at that location. The 20 by 20 grid of pixels is “unrolled” into a 400-dimensional vector. Each of these training examples becomes a single row in our data matrix `X`. This gives us a 5000 by 400 matrix `X` where every row is a training example for a handwritten digit image.\n",
    "\n",
    "$$ X = \\begin{bmatrix} - \\: (x^{(1)})^T \\: - \\\\ -\\: (x^{(2)})^T \\:- \\\\ \\vdots \\\\ - \\: (x^{(m)})^T \\:-  \\end{bmatrix} $$\n",
    "\n",
    "The second part of the training set is a 5000-dimensional vector `y` that contains labels for the training set. \n",
    "We start the exercise by first loading the dataset. Execute the cell below, you do not need to write any code here."
   ]
  },
  {
   "cell_type": "code",
   "execution_count": 2,
   "metadata": {},
   "outputs": [],
   "source": [
    "# 20x20 Input Images of Digits\n",
    "input_layer_size  = 400\n",
    "\n",
    "# 10 labels, from 1 to 10 (note that we have mapped \"0\" to label 10)\n",
    "num_labels = 10\n",
    "\n",
    "#  training data stored in arrays X, y\n",
    "data = loadmat(os.path.join('Data', 'ex3data1.mat'))\n",
    "X, y = data['X'], data['y'].ravel()\n",
    "\n",
    "# set the zero digit to 0, rather than its mapped 10 in this dataset\n",
    "# This is an artifact due to the fact that this dataset was used in \n",
    "# MATLAB where there is no index 0\n",
    "y[y == 10] = 0\n",
    "\n",
    "m = y.size"
   ]
  },
  {
   "cell_type": "markdown",
   "metadata": {},
   "source": [
    "### 1.2 Visualizing the data\n",
    "\n",
    "You will begin by visualizing a subset of the training set. In the following cell, the code randomly selects 100 rows from `X` and passes those rows to the `displayData` function. This function maps each row to a 20 pixel by 20 pixel grayscale image and displays the images together. We have provided the `displayData` function in the file `utils.py`. You are encouraged to examine the code to see how it works. Run the following cell to visualize the data."
   ]
  },
  {
   "cell_type": "code",
   "execution_count": 3,
   "metadata": {},
   "outputs": [
    {
     "data": {
<<<<<<< HEAD
      "image/png": "iVBORw0KGgoAAAANSUhEUgAAAlUAAAJECAYAAAA/jNGMAAAABHNCSVQICAgIfAhkiAAAAAlwSFlzAAALEgAACxIB0t1+/AAAADl0RVh0U29mdHdhcmUAbWF0cGxvdGxpYiB2ZXJzaW9uIDMuMC4wLCBodHRwOi8vbWF0cGxvdGxpYi5vcmcvqOYd8AAAIABJREFUeJzsvWecFFW3/b+8V5L6KGZUBLOgghERw2MAMWAWzDnniKigYsIcURDDY0LMAXPALIKYFUVRQEUUxYAiStB77+/F/792r2KqGWamuqtnWN837M9muvucOqdOd+24wP/93//BGGOMMcbUjf/KewDGGGOMMQ0B/6gyxhhjjMkA/6gyxhhjjMkA/6gyxhhjjMkA/6gyxhhjjMkA/6gyxhhjjMkA/6gyxhhjjMkA/6gyxhhjjMkA/6gyxhhjjMkA/6gyxhhjjMkA/6gyxhhjjMmABfP64FmzZjXIpoNNmjRZAABmz57dIOfXuHHjBYCGv34zZswoyfz++7//GwCwwAILhO6ff/4pxUel0qxZs/li/Rr6/P75558GOb8FF1ww1/NzwQX/v6/E//qvgr1B78///d//rdP78/z8+++/G+T6NWrUaL64/+aGLVXGGGOMMRmQm6XKmIaMWqKUkSNHAgBmzpwZui233DLk//u/BvmAZ+Yz1NJTV+tOKdD7U8f62muvAQBeffXV0B122GEhr7DCCgAqc06mMrClyhhjjDEmA2ypaqDo0xfjeIBCfEAlWUT0qZGyjj/N6vM///M/IVf6U6OOdciQIQCAp556KnSjR48OeeGFFwZQWetjzLzCe3Hq1KmhW2SRRUJu1KhR2cek8CzR++uBBx4I+cgjjwQALLrooqHbd999yzQ60xCwpcoYY4wxJgP8o8oYY4wxJgMarPuvWKBwddR3twvn/fPPP4du3LhxIW+wwQYAkmb4POZczL1Ht8H3338fuhkzZlSR27dvH7rmzZuHTFdbJa2jul8PP/xwAMCLL74Yurvvvjvk448/HkDSZdjQ0fXXa0XKWXLC1I1nn30WAHDcccdV0QHJ+zaPdaV78q677grdaaedFnKrVq0AAPfdd1/oVllllSqvr1R4rur5qmchx19J5yPHWix5QPVp41ZdJZz/tlQZY4wxxmSAf1QZY4wxxmRAvXX/FTMV0uyn7pOauFLSKl7nTdr8ipk3Oe5+/fqF7u233w6ZWWeLL754lfcsFRyTXtOvvvoq5Ntuuy3kN998E0DS/ffHH3+E/NdffwEANttss9D17t075E033bTKZ+VhCtbP1LHQ/XrooYeGTrOPunfvDgBYZpllQlcpLoe0LE2gZuNLy+6cNWtWyIMGDQIATJkyJXS9evUKuWnTpiFXkgtjbqSdVfOyP6mvlPWfF5544gkAyfCCZs2ahZzHmqlLeeLEiQCASy+9NHTt2rULmW6/li1bhq4Sr7/uH1aBB4DJkycDAB599NHQ8cwBgA033BBA8prkPb/vvvsOQDIkQr+zvvzyy5CbNGlS5fUdOnQImW7npZZaKnTlnp8tVcYYY4wxGVBvLVVqfZo0aVLIrIT79NNPh+71118PWZ+Qif7Sv+CCCwAABx10UOjyDuR+7733Qv7ggw8AAPvvv3/o9Omd6DXJ++mec9Enjr322ivksWPHhsz6MH/++Wfo1llnnZCXX355AMCwYcNCt+uuu4bMde/UqVPo9Eklb6sVZX06vuyyy0K+8847AQA9e/YMXd5WN0IrIZC8postttg8vwfvWz6dAsD1118f8oABAwAAXbt2DV0lWY2rg2NVS4Ba4n766ScAwLRp00KnVtnZs2eH3LZtWwBA69atSzPYFHivVvd0X6x3JefVsWPH0K244oohl8tqoNf/t99+C/nAAw8EkLzOffv2DZnX+u+//y71EGtMsSr1n332Wcgnn3wyAODll18OXePGjUM+99xzAQCnnnpq6PT7r5Tni37OmDFjQuaaqPdk6aWXDnm11VYLeY011gCQtFhxzgDQpk0bAMnaYrZUGWOMMcbUQ/yjyhhjjDEmA+qV+0/Nn998803IDO4FgDXXXBNAIWAZAI444oiQaQr96KOPQnf66aeHzEa3ebhc1GSt89tnn31C3mabbQAUTKbFUFNrHqS5bMaPHx+ymqzZGgIoNC+96aabQqeBiBMmTACQNG9rc+Jff/21LsMuOdxLq666auj0Wk2fPj3xd3P+fx7w8zX4le12gKSpnQH2anJX99cnn3wCIOme173AoOazzz47dOq+zjuotrpAc7o3dX8+/PDDITM8QfeptnRZdtllQ2YCh9ZJygodf5p7ko2D5+X1elaxJp66r8vlXtLvh99//z1kde99+umnAJK14bp06RJyJbr9eK3VZXn77beHfMUVV4TMBI+dd945dOqevfjii6u8/5lnnhlyKevj6Xvr/rr//vsBFGqEAcWTG7jGuucYMgAUAvHzPCdsqTLGGGOMyQD/qDLGGGOMyYB65f5TM2CLFi1C1uyhjTbaCEDSZaBuNZoPtXXCkksuGfLWW28NoLwuF46JNUaAQjsTIDlX1lfR7Ac1dXLcqitW8r+UpGW8qUt2hx12CPmHH34Iee211wYAXHfddaHTmlsDBw4EkDTTs7ULAHTu3BlA/hl/xUhz/+25554hDx8+HEDSJaOm8DzRjC51BWodKboo9P5T9w+zOtUVoPNj9i3vYyB/l5+eH3TP6vw1O4k1x7TOju57uk11/6p7TzO1FlpoIQBJ943+f13Qe+Khhx4Kme6xiy66KHRpoQQ6fnXV0/202267ha5coRT63vfee2/q+G6++WYAyfMnbUxZ1GTLirTvhyuvvDJkPT/33ntvAMD5558fOq0ZRrfsNddcE7o99tgj5NVXXx1AadyAep0XWWSRkJnxrddWXZ1pbl09c/T7gePPs7WVLVXGGGOMMRngH1XGGGOMMRlQb91/6l7YfPPNq/xNMffXyJEjARSKLALAKaecEjJN8XmYedniAShkCQHA0KFDQ2b5/erMm9rmRAst8nXldG/yWmqRSM1C6dGjR8hnnXUWgKRLSNvY8L3o5gOAPn36hMx9UcoslrrA/akupe233z7kE088EQDw888/h06zYvIsXsrCe0CytY4Wp2V2nxZ8pHkfKLhiNCNOs281EzRP9MzQljl0T2ohW3XFsBChZjepy666+y7NbZ7VmuucNOPwxhtvDJmuTD1f1P3H8f/444+h071w8MEHA0iGJ5R6z3Je77//fujOO++8kDU7lZnUxdYhLdNOC7UyVKSYS7MUc+VnaUHnb7/9NmQ965lVSjcgUCiICQDLLbccgGQhX2bfAYWztNQu27SMWUU/X13NLFqqLncNn+D3Q54Fk22pMsYYY4zJgHplqVKqezrQpzIGlwKFmh4anH700UeHzKeyUluq9Jc0nxq09g8D5gFgq622CpnzKlb7he+71lprhe61114LOc8APv1sBqQDSashrTb6dKJzpSXxqquuCl3z5s1DrlQLFeH66JzUqsEnTbVaaiA+X5+HxUrvCQ1+1UBsWo31/nvrrbdCpjVBWwvp/GjByzMgGEhaYrT5Na1ud911V+i0+S73n44/70B7zkvvKbVOqCWuf//+AApB8kB6IozOXznkkEMSnznn60sBz5Wrr746dGqJ0/N94YUXBpBc388//zzkJZZYAgBwyy23hO6dd94JmTWdWA8JSDbv1fsiK3iv6z5baaWVQmaTaAB46aWXACQt/WqV4vmp66teETYk1u/HPM5U3T9MLgCAJ598EkByrS+88MKQOb8dd9wxdP/617+qvH9J66WV7J2NMcYYY+Yj/KPKGGOMMSYD6q37rzrUfPjMM89UkYcNGxY67Y5dLlOnBio/+OCDAIBRo0aF7qijjgr5q6++CpnjUzOzmp8ZDK7BlWrq1c/NE10fNc+m1eFR9y2DLjX4Oa2mTN61qXRMOle21FGXg7bMYKC91kFi8C+QrO+SJ8UCTanXQG4dP101l19+eeh0/+bpvtV1euONN0IeMWJEyEywSGstBBTcS3m7/BRe88ceeyx02gaIrb1U1tZPek+yJtKtt94aOnW1MEGh1PdfWu0oTZigGw8o1C4CgDFjxgBIti7Tmmi8/3RNtT4b6xuqe1CTpu65556QGaxf12vB+S2//PKh0/tHE5noluzatWvoVl555ZDvuOMOAMDzzz9fpzGVGr1m+v3AUInBgweHrnXr1iHT/akuX01kYlKafn9mvVdtqTLGGGOMyQD/qDLGGGOMyYAG5/6jCf/7778P3SWXXBIys1M6dOgQujxM9WpypClSx6Q1VzT7iK+jmwFIuvdYs0Rfr2ZjZp3l4R5T16PWWWFtH6CQqaJz0tpFH3/8MQCgW7duoWNtKwDYfffdASTNu+VyKan7SOvcTJgwIWS22Xn88cdDp5mAzNpRl4y6/PJ2a6ah68r6Wqy3BRQyGoFCTSM12eedsUlXko5j3XXXDVld8czK1NYnmv3Iv11//fVDp9enlOunLjFtc8RMWa2npfvzs88+C5n3lbrMNNOMWXPaGqV9+/Yhc/+Wek31OvK+02v++uuvh/zhhx+GzO+CDTbYIHTqHlp66aUT7wkk50JXqtb+0+xVzWQ+5phjqoy1NvD1ek7wnAOAXXbZJWT+jY5f7z9mz2kmqGZip7WMyQP9/IMOOijkvfbaC0ByfprpSLe1ZrdyHQBgs802A5CsbZn1XrWlyhhjjDEmAxqEpUqf0PirUxuCaiNK/mrV4Ms8ajfpr2P++tbaPTVBn0QY9M4nEiD5q5xWj3JaPLg++nR0ww03hKxBwVwXDaRl7RSg8IT91FNPhY5NpgHghRdeAABcdtllodOg1VJWPNand60Y//LLL4fMis5qqdLxac2VOd8fqBxLlY5J7x9a4l555ZXQaU0ZWnXynkdaxWYNdG7btm3Iur9oAfrpp59C98gjj4RMq4c+KZd6/5FiwfNsYq2Vz9USqgkytPBqoovWTKO8xRZbhE6bE+dh4aB15oADDgidBm9rogQtqWq90EBo7oViCT38LO0YoIHgWr9LPyMLiu2d6mqCqdeC96V6ArS5O9c/b0uVovOmVUp1ev4wOYDnLJAM6h80aBAAoFOnTqHL+ny1pcoYY4wxJgP8o8oYY4wxJgMahPtPzZ8s2f/iiy+GTgMJ27VrByDfdi1zQpNybVscaKNitnlRl4vW4dJgx3LB9VE3pbYuUVMzx3/44YeHTq8Lx7///vuHTpu3sjmzmrevu+66kEvhSuN76py0CbSuxQknnAAg6X7W60K3EhufVip6Hb/++uuQ6f5Q8zqTQ4DCXsjb/adnBl3JmtzCgFYg6QpKu390f/J8UZdSueaq95G6HNV9mYa6r7iuej5qc2/WV9PWIdrcNs+kA23ttd9++4WcVgfu+uuvT/3/fv36AUgmKuicuNaaCKANmzfZZJOQS7nuxd47LelC3b7c97o/N9544yqvz/v+LEZ1bkmOW+ev9y/3eilDKmypMsYYY4zJAP+oMsYYY4zJgAbh/lPefPNNAMBvv/0WOs0KqUSzJsdU27GpKZNZO2ry1Ewfui/ycH9q64spU6aE3Lx585BZs0pdmmry5Vw1+0qzk4i61PS66rXKCr7/VlttFTqtLaauaLqndU7aZZ6ZkL179858nKXi3nvvDZn1x9TlpHVkKiWrSPfBuHHjABRaXABJ96xmBf7+++8ACvWagOS9xOwifX3edbhqcs3pHtKMsQEDBoR8xRVXAEieKZUyP63dpxlfWhONZ8XYsWNDp3uBNe+09pbWiWvRogUAYNKkSaFr2bJlyBq2kAecC+v9Acnzh+urtcd0rnmvZV3h/DX7Ve/V3XbbDUDxOmRZYEuVMcYYY0wG1FtLlf7SZB0WoPCkqIGmWlOkEi1VtUEtUfpLnBYO/X+tNJzH/Pkkyac8ADj11FNDPu+880Jm9fE11lgjdPrUxZo6/fv3D51WTGYlaK2yXl0dl7rCa6oWN1axBpJNVmnV0KcjtbqxPpcmV1TKntUg7dGjR4eszWW7d+8OIFm7qBLR60/rqFo6tLaYVh9nAgHnCSTrwHGPV4pFbl7Q++OXX34BkKwTpxZY1tKrlD2p6Jpqk+5zzjknZFqSRo4cGTq1FFPWpAUNgOf677TTTqHToG+lXNcorbm01svSRAP+PxOCgOS+r++WKl7zXr16hU5/C7D+XCnXxpYqY4wxxpgM8I8qY4wxxpgMqLfuP+X2228P+ZtvvgGQbB6qrrD6ZJafG2q+1EDKVq1aAUg2Sc0bjlXXQetMaX0n1nFS9582L2UAupq8tSYV29Oss846oSvXmuvn6Jiqa1eh7pe0Oit5u1p4rdXNrrW/dHx0P6tLpBJdCjpmBpWry/Xoo49OfV1aw1pd9/p4vuhc6EpX95jWXGPSQSXV+Uuj2DqwuTzr2QHpyStpLrV5ef887lVdP4aCaO0tTRCi+0ubhOd9vtQGXR/9XmF7KHXfDx8+PGSey6U8k2ypMsYYY4zJAP+oMsYYY4zJgHrl/lMzp2ZMXXvttSHvueeeAIANN9wwdPXRvFkdan5W9x9dTey2DiRbnuR5LXTMWrtI6+Bw/I888kjo3nnnnZDp3lx77bVD16VLl5DZJkQ/K48562dWZ2quRPeYwvtOsyw1u6hv374hc10qfU5K2v5Ql0La31a6+6sm6Fw23XRTAMnWQ4suumjq39ZH0tzr9R3dv2zZpe53beN10kknAQCWWWaZ1NdXIurq4/fal19+GTqtI8c2Q4MHDw4dvzOA8qy7LVXGGGOMMRngH1XGGGOMMRlQb91/avLT4mU0b2rn+IZk6k1DTfKdOnUCUDDjA0nzbqVkJ+k41DzdoUOHxL+1fd9KN2nXJ3gttYiuFlTUljz1Ge8ZoGnTpgCS7nm9Lr5GlYeuCb8Lzz///NT/79ix41xfX4mkZerq97u2PHvhhRcAJNvwlPv735YqY4wxxpgMWCCvX6mzZs2q8QdrwNqsWbNC1qD1FVZYoY4jqxtNmjRZAABmz55d2T//a0njxo0XAGq3fvUBrt+MGTMa5PyaNWtW6/VTS7G2rFFLad6WUK5fQ9+f//zzT4Oc34ILLjhfnJ9///13SebH78hiiRa02pTqe79Ro0Zluf90firzLCrVOcT7b27YUmWMMcYYkwH+UWWMMcYYkwG5uf+MMcYYYxoSuWX/NXSfeUOP6Wjo69fQ5+f9WT+ZX9bPMWP1k1LHjOUNY8bmht1/xhhjjDEZUK/qVJn5B830LCaTvFvS5EHadZiT+eValJq0/ddQazel7avq7jljTAFbqowxxhhjMsCWqgaA1gxiLaHqrDeVVGVdn4Q5fh3f77//HvLs2bOrvGaxxRYLmZV2855TXUm7JqrX+WnNNq3Zoq8zNUOv/4wZM0LmtWbl8Tnl+mi10n3C8fM+A4Dp06eHzErrCy20UOjq+73WkOBa6ndC2p4sZulOaxhe6Xta9y/PPzZezgOfusYYY4wxGeAfVcYYY4wxGdAg3H9prpJirg+aMrXJYqWbN9PQ+X366achf/LJJwCAddZZJ3SLLLJIyDTVaxPqJZdcMuRSXotiLi3lxx9/BACMHTs2dEceeWTIEydOBJBsqHn88ceHzEaibLwJVL57Iu26qPn6+++/D3nChAkAgHfeeSd0o0aNCnmjjTYK+YwzzgCQz/yLJRdwfqrT8eXZ/Fz3JK8zkNx/Y8aMAZB+nQFgiy22qPK+lXi+qJt42rRpIQ8dOhQA8Pzzz4fu6aefDnm99dYDAFx77bVVdEC+e61Ya5bqwh/qY9JBsbOULdvefvvt0C2++OIh063722+/pb7vsssuCyC5ptrwvlKuj87/l19+Cfnzzz8HAGy88cahK7YvSoUtVcYYY4wxGeAfVcYYY4wxGVBv3X9q8lRXyYcffggAuO+++0L366+/hrzuuusCAA455JDQqXm00l1FnPf7778fuv322y9kui1WWWWV0Kmrj5k8vA4A0L9//5BbtGgRclbXIs2l9e6774b8+OOPh0y31vjx40On68esFjVDDxw4MOQlllgCAHD66aeHTk3FeZuvORbdv5pdxvnffvvtoVP33pQpUwAk13SbbbYJeamllsp4xDWDpnZ1433zzTchP/bYYwAKZnoA6N69e8jbbrstgPK6ZLgmmvE2YMCAkJdffvmQ27VrB6AwDwDYddddQ77ssssAAEcccUTo0rLr8kDHoWvSs2fPkF988UUAwFprrRW6Cy+8MOQbb7wx8S8A/Oc//8l+sNWg9zTnMnjw4NDpWaP3BN1bbdq0CZ1mD7ds2RJAMrxAydM9rXPWjN8HHngg5DvuuANA8vtBMzX5Os3oVPhdePDBB4eOIRVA8tzJ87tSr8WQIUNCpit+0qRJoVt66aVDLseYbakyxhhjjMmAemWp0l+n+sTQr1+/kK+88koAyV/n+nR4//33AwDefPPN0N15550h85d43hYNRQPtvvzySwBJS9vkyZNDbt68OQDghx9+CJ0+qW211VYAgAcffDB0I0aMCHmvvfYKWZ/ca4o+Fc+cORMA0Lt379DxiWrOz+ETol5/WgeAQlC9PnFoUOawYcMAAKecckroyh2oOCdp+/all14KnT71cy3WX3/90O29994hd+7cGQDQvn370GkiQrEA8KwpFojOmmJnnXVW6B566KGQ27ZtCyBpHe7bt2/Ia665JgCgdevWocvDOrDjjjuG3LFjx5B5PvTp0yd0V199dci06iy33HKh22WXXULO41xJs8RdfPHFIdM6BQAPP/wwAGDTTTcN3b/+9a+QmQCiZ+4XX3wR8uqrrw6g9BYBfX8GzeuZppZ6vf8XXXRRAElLjyaC8Kzp1q1b6NQSTKtlue4zRecxcuTIkE888cSQafXWNVOZlriVVlopdBqI/sYbbwBIWmIPO+ywkNdee+2QK8VSpd4V7s9ilsZyYEuVMcYYY0wG+EeVMcYYY0wG1Av3X1oTUzVPalApA+wOP/zw0Onr6B589tlnQ/fMM8+ETFdLngGJQNJ99scff4RM98K3334bOjXfUlaTr5rFGaD+2muvhU6DVutS3l9NsupqoKtAA1p1fhoIzEBsNblrIDqDSnV9Pvvss5Bpkk5r7QKUz/2in6ktI2i2Vzcrg7OBgvuSbjCg0BpEKWZ6L9f89Pqq+5muAtZzAoBrrrkm5N133x1A0jyvrjYG2Kr7r9Trx/fUddL9lxY0r8GvDE4HCm4/da/p/PJoHcTP1OBkddn16NEjZIYH6Dj1XmP9Hz2TNCnoggsuAFB615DuiV69egEATjvttNAts8wyIev6cd/p+aShEty3r776auhuuummkHfbbTcAwDHHHBM6PWtLef/pNdVEAr3+bC+jAeXqHqP7U6+Pnp8ffPABgKR7tBKTt3RMupdXW201AMk6heV2udtSZYwxxhiTAf5RZYwxxhiTAfXK/acm51tvvTXkTp06hXz99dcDKN45nu6vRx99NHSa/ULzrron8nCpMGMOAG6++eaQH3nkEQBJl9+ZZ54Z8r777gsg6R5MayOh5vPRo0eHrGZxmlDrOv8///yzik5rw6hbkCb8VVddNXSaSZWGrj/npeZrdWlW1729LhTr/E6TOlCoX6TuaXUVMWtVu8Tn7YomOj8d33nnnRcy3XdPPfVU6LRlBLnnnntCHj58eMjHHntsNoOtI9XtDXU/6H17wAEHAEjOn62XAGCFFVao8vpyoXPSe1JdSWl1xnTdmbWpLuk8M62AwjWtSUaengN0GQGF7EXN/tPsQLrtW7VqFTqeuUBp71WdE+ttAck6aaTY/qVeXWaaycnvjU022SR0elZXSla8nunM6AcK66P70+4/Y4wxxph6iH9UGWOMMcZkQL1w/xE1raopdPvttw85LVNq7NixIdPtoIXU1JSqZuFyQbO1mjS1C7yaZ+kKO/nkk0OnLhOa4jWjTs2fvG76WVoory6mfDW/6/t/9913AJLtWE499dSQN99885CZfcnXAMl1p6ulWBsT/q0WF9XPPf744+f6XrWB89ZxassMzQ47++yzARTcREAyU0XdapWG3jMff/xxyJqJy33ZoUOH1Nd98sknAJIFP/fcc8+Qu3TpAqC8bWpqQzFXL88PdZmwYC2Qj9uPn8nCwECyDUlaqEOxjEuGSug5q8Vp83BV1/Wapo1ZXbr6/cA2WOo+K7YXSonOOa1Is95zun5Dhw4FkGzjpdmPzFS96qqrQkf3KpB/KAKvNYsMA8mWV+ussw6A5PzLfabaUmWMMcYYkwH1ylJVjL/++itk/mpluX0gGQjNQLwVV1wxdPrUlhaoWWr4VKStB/RJQduQMChdWwcUqymT9v/vvfdeFd0OO+wQslrq6vILPy0oVnUaaK+WGrYE0USC6tAnRQaVavC0Bl1qo1sGhWdlqdLaNmoRU0vAb7/9BiAZnK0tWxg0rE9aKvMJNW/rzbRp00Jm7Rug8KSr9+Qrr7wSMpMuNFD63HPPDZnXIu8n4urQJt86/+eeew5AMlEm70Bu7hW954866qiQNSkmrc6bWkJef/11AMk6SMWs4vWRNKuTWr1feOEFAMBFF10UurzrOKWNWS1pN9xwQ8hPPPEEgOT9edxxx4XM7xetw1aJ96ImIik8P/KwHhJbqowxxhhjMsA/qowxxhhjMqBeuf/UZaTmSTXFsg2N1rTSQDsGGqp5Xt0vedSk+vrrrwEARx99dOi09QGDmwHgyCOPBFB9IG+xNjesiaSBpsVaOpQSdZ+oe2HllVcGAHTv3j10NTHl8r3UJK/uJw2w1vpWdYGfNW7cuNT35pwA4PnnnweQbI30888/h8yaRnvssUfodF/QPZhH6x39HN5HQHL9OG51WdLlCRTcfupyb9u2bch5u1LS0Llw3XR/prnK6CYCki71PF0pae1agKT7Pa2OndbZ4v2jyQV6llbi+lWHzpWy1lHTRCC2xGFANJD/nHX8POv4PQEAv/zyS8jci+ecc07oTjjhhJDzCH+pCbzXtA6c1jTk+Zjn+G2pMsYYY4zJAP+oMsYYY4zJgHrh/qN5VTNOtCM5a98ABVfDGWecETrtOH/WWWcBSGa2afZOuVwpaTWNvvrqq9Dp/LSlCcdl8pX0AAAgAElEQVRX3TjVJaHme2ZHbrbZZqFT918pTNmsWaVuArbbAZLZX61btwaQbAOh12pe10ddLmnZTaXgkEMOCVnrUDHLEChk3eic1D3LDFC2WwKAzp07h8yaUJtuumnoyrVn9dqtueaaIQ8cODBkjp/tPgBgxIgRId91110AgJ122il0NWkvkgc6ppYtWwIAzj///NDpWcKsVW2jpfea3pd5UmzPcHw6Z80e41mi2a1pNZEqPQtQx6x17K655hoAwKWXXho6rTPHOmylbHc1J7w/5sXl/+GHHwJItinT+mRpNRHT6gBWKhyruv/0LGQdxzzr/VX2FTTGGGOMqSfUC0sV0V/UG264Ycha84e/ULWKMZu8AsBbb70FIBkoq4GapQxw06cjtUo9+OCDAJIB9fvss0/IGlRa3fj4pKFPX1qdnZY8De7XBIC6WAr06UmvKZ/U33nnndBpcLZaMtjIVN+rJkHZaUHt+tRSSkuIXsdiDb215hjRJ8mVVloJQKFeFwBssMEGIfMJTWtvlQudh+7lXXbZJWSun/6/NuxmpXFt8l3p6LwZoNyuXbvU/6dV+cADDwydNtRmc+m8A4GLVdxmoP3jjz8eOrW6cf5a50iTTri/KyU4f054PmoVcbUq02qvZ9Uaa6wRMs+XUlun1GLEa60JIcWaHDOovn379qG77rrrQqYlWXVbbbVVyNyfldTZQc907qWpU6eGTgPV86xPRWypMsYYY4zJAP+oMsYYY4zJgHrl/lPU5KmB5mnmWW0fwvL2G220UYlHOHfefPPNkBk8zhYBQNI9Up0pVk3F/Nsbb7wxdAwOBgo1SRhwC2TnEivm/uvZsyeA5DqMGjWqypiAQs0urdOkgfRp65sWdKqmcrrUgKSLtS4m/LTaNvPipqyuphgDSLVJqDYPZYC4viaP4O60Jt1AYVxam4qtMQBg6623BpCsM1eJQc1p66sUqxPXokULAEmX7UsvvRQy65fl4RLTeaj7Xdfn6aefBpAMqdCg5o8++ghAMhFBa5Ydc8wxAJKB7EsttVTIeezVtDZdO++8c+i0oTvbKOl3ip6/pdyrOs7p06eHzKQlDR3o379/yHrWsf6guvT0u4ZthvRMVLkSE0UUJh3p/bP77ruHXAmuZluqjDHGGGMywD+qjDHGGGMyoN66/5Q0k2UxVwz12hqj1PAztbM2szCAgsm2a9euoVOXlpJWB0ZNxcz0Y70VINmFnPV11NRcCpO2vifrNPXr1y906h4YO3ZsyKwDw9pdQLJOFzPNNGNO65SxpgzboQBAhw4dQlb3X03Ra/bTTz+FPGnSJADJ9dU6W5q9SVeJ/q1mWr3xxhsAgNdeey10e++9d8icfyVkuRBda14j1ssBCtcHKLR30WtSKe4/vefefvvtkLWmGl3VrIcDJDPduC6afazu2zzgvCZMmBA6zU7U7Gi6T9Q9y9ZWQCErVff/3XffHTLv8cmTJ4dOXVXlWnddSz1rWR9t2223Dd2gQYNCpost7+w3PR+YPautyzT7Tc9C1hHTs5a104DC9dfWV7pXK9H9p2cdv+t077Rp0ybkSjhLbKkyxhhjjMmABmGpUvirVp8O77vvvpD5JF0Xi0Vt0Sda/XwGgtJKASSfhPXpgQGmGuitT9JjxowBAJx44omh0+aZDCAv9RNJ2hOD1lbSuR500EEh00KgdWI4J6BQX0UDSdUSMmXKFADJmlH6VF6Xmlz69Ktj4viLNanVp04GmuuTpj7106p27733hk5rInF/V0JAZhpplird91tssQWAmtVeywO1VGhzXVo1DjvssNDtv//+ITNo+IEHHgidVl8vlyVAn+45l969e4dOLXEaAL3ddtsBAK644orQqdU17f3V6sNK5JdffnnotOaedgfQAPgsUEuyni/bb799yKeffjoAoE+fPqHTM6FSGl6rVYpJAeymAACnnnpqyOrhYM1DbdiuNfM4b92/9QnuZT3/tWNFJWBLlTHGGGNMBvhHlTHGGGNMBjRY958Gb0+cODFk1mcq1kakFPD91eXBdgCqv+SSS0KnTTzTyvSre2LttdcOme6JPffcM3SVUtNI56HNsbWm1vjx4wEAr7zySuiGDBkS8rhx4wAUD+Tn+tLMDxRqA+lY5pTnBb3mun7Dhg0DkHRn6DXX5qYM4GVyApBsKbHyyisDSO5PXbNKCMScE11XXgN1/6krm21OlEqZk7p+tI7dc889FzJd7TfddFPotOEw92Xfvn1Dp+6ZPAKguX90TdSlpy2rmAih92d1+0/dL0ceeSSApEteQx1Kcf5w/2lyh7Yh69WrV8hnnXUWgMp0Pxer87fDDjsASLr0HnrooZDV1cz916VLl9BpUPo222yT+DugMoPTi0FXtdZGq7Qm0JU1GmOMMcaYeop/VBljjDHGZMACeZneZ8+eXZIPplmT5fiBQkYLUHALaUZOljWbGjduvAAAzJo1q8obpWXkAAX3gdYTKWbSZPsLzZjTlhGayUOyXOMmTZosAGS7fmqK5ljVJK2uXG3JkAbN5po9o9e9OlM316+6+el7FnNF1ga6Ikp1X85tf9aWtJpZRx11VMjPP/98yGyZoe6nLN0vpd6fvG+nTZsWOnX78losvvjiqa8v5flSHZpxqmNabLHFQub4a+sS4vz0fEur41UMrt8///wzz/PjWFmDCiiECQBJtyfPhbxcfgsuuGCNzxeeeZrRqPeUzm/fffdN/Ask3bNp52uWcH/+/fffJTlfeC0YcgEk3eu610pBo0aNqi0QaEuVMcYYY0wG+EeVMcYYY0wGNDj3H02FX331VeiGDh0aco8ePQCUzv0wr+Z5NWlm2XKk1JkcpXCvKGnXoibXKq2NT032+Ly6/+orpXD/KXQrffTRR6HTQpN0SxTLLqsrpd6fpLqMo7pkmc6NuqxfsTFnOdZ5vT+LURv3H9/z1VdfDZ1mz2rR4bzbO82r+0/hmGuS5abXuZzZfaVw/6VRrA1dqbH7zxhjjDGmTDQ4SxXRX/UavMYAylIH6pXKEpA35bIE5IUtVdmggdAqM6i7VOfO/LI/G/r5UhNLFSkWpJx3c2SlNpaq+kS5LFV5YUuVMcYYY0yZ8I8qY4wxxpgMyM39Z4wxxhjTkLClyhhjjDEmA3JrqOxAvfoJA/VmzpzZIOfXtGnT+SIQuKHff55f/YTza+jnS0Nfv4Z+fs4NW6qMMcYYYzIgN0tVXrBoWHVF4MpZMM3MO3UtLlhfqG1x2HLt22Lj4/WvyTpV4ppVd/2LjbkS52Lmb6rby5X+Xaf31Lx+f1d3H6a9Z1bYUmWMMcYYkwHzhaVKC4GyENyvv/4aOu0yzy7m/Bdo+E+fen3SrlUe6Di0eOTMmTMBFH+6aty4MYD6u2ac619//RW6SZMmhfz0008DAB544IHQbbfddiH37t075EaNGgHI7lromowaNSrkm266KeSJEycCSBZi3GmnnUJmm5qllloqkzFlAZ9U04oEA8C0adNC5v7SPdmkSZOQ2fKqvu4/ok/vuu6cV6VbN+Z3dH/OmjUr5D///LPK3y666KIh593Gh+j9o3Mhs2fPDlm/v3nf6vd3TaxaWczflipjjDHGmAzwjypjjDHGmAxocO4/mu/UZPjHH3+EfMkllwAABg8eHLp111035IUXXhgAcPLJJ4dOu5znYdanSwFIN4XWBjXp//jjjyFPmDAh5A4dOlT521JDl9WUKVNCR5cXAIwZMwYAsN5664Vuo402Cnm11VYDUPnul2Jm5nHjxgEA+vTpE7qXX345ZJry1T3VuXPnat83C/Sa6p485JBDQm7evDkAYPLkyaG77bbbQr766qsBALfeemvo1H2p71tKdE/TlfDpp5+G7qWXXgr5P//5T8jt2rUDACyxxBKh22effULeeOONART2MVC/XGV0gc6YMSN0ej7wfFxyySVDp3uOc630+68Y9TERJi1R5JtvvgndddddFzLDBhZaaKHQqSuf+7rYnk37rKzQ99P78+effw55xIgRAIDHHnssdNOnTw+Z4Qc777xz6HSuq6yyCgBgxx13DF2xnpG1xZYqY4wxxpgM8I8qY4wxxpgMaHDuP2ZNvffee6E7//zzQ6b77Pnnnw/dSiutFPKrr74KoOCmAIAhQ4aEzOwfIHvzp5pWNePohx9+CHn11Vev02fQrEozKQAceOCBIa+11loh0/1XCoqZkR966CEAQL9+/UI3derUkAcOHFhlbJq9UomulrRMKnVzDRs2LORzzz0XQNIVpebpVVddFQBw0UUXhW7rrbdO/dtSmuc333zzuf7NhhtuGLotttgi5L59+wIAevbsGTq6zABg8cUXB1AaN6C6FNS9ddlllwEAbr755tBpyADHBBRcJd9//33oHnzwwZBvuOEGAMBee+0VulK4TNL2eU3c9DomvRZDhw4FADz55JOhe+edd0Jm1maPHj1Cp2dGp06dAACLLbZY6LKac7GMxOo+J82lV2xNeF11/1WXiZY3OheeGyeddFLo3nrrrSqvufTSS0NOy3RPc+kCwE8//RQyXcBZhYfoZ2pG35lnnhkyw1PU5a7hH9zLjz/+eJVxAsCNN94IIDlnDZ/I4vvDlipjjDHGmAxYIK/Au7r2PtInhtGjR4e83377AQC+/PLL0G211VYh33HHHQCAFVZYIXT665SWLr4PAJxyyimp75X2NJ1V7z8dU9oTWrH/TyPtqfTEE08M3VdffRWyBgDSAqR7JKvef/p08+yzz4bMJ/w999wzdJdffnnILVq0qPL6tNpaen1qssez6v2XFggNFALt1fp5//33h7z88ssDSNY+UkvA2WefDQBYeeWVQ6dzre5JK4/ef2nro/tP6+jQEqnzr8n6pfXGS0teee2110JmoLxagWkxBIANNtgg5GbNmgEA3n///dAdccQRIS+zzDIAkk/Kagmv65Mw5/fzzz/H/Fi7jffGvHyOrsmLL74YMu8/JnwAyaQQnhUMGAYK10T1bdq0CV1N6t2l9f7j+qn1Qq3XhEkSQNLSqEkvfA+1zun4aIl8/fXXQ/fZZ5+FzPtWras1sapm1ftP108DtXfddVcAyfFrnbgtt9wSAHDccceFTr0v3Ddq8da11uv273//G0Dy+6Uuvf/0fbQ2n34X0JqslvC0va46XZ/9998fANC1a9fQHXnkkal/m4Z7/xljjDHGlAn/qDLGGGOMyYB6Faiu5vtvv/02ZA1Ep6lWzYO33357yMsttxyApClZadq0KYCkeVdrWm266aYh00RaCheqml/VPcc6MUsvvXTo0j5fTanqXrniiisAAA8//HDo7rvvvpA1wLRcQd9aR4Xuh+uvvz50GohOPvjgg5AZ3A4UAmhZjwQoXDOgtHVm1CT/+++/h6xB5bfccgsAYM011wzdoEGDQua+1b2ubg3WP8qzhVBN0X3E8WsigtaBGz58OABg2223DV1WQet6z7/xxhshH3XUUQCAM844I3StW7cOWa817yt1tWnQ/lNPPQUAePPNN0Onrtqs0HuC92xN7lf9W7qEAOCFF14AkHTf6Vly9NFHA0ju9VNPPTVk3ndZJhrw87X20gEHHBAy3Vdt27YNndbW+vjjj0Omq1RdZlpTjC5gdRnqXCqljYuOQ7/fmFSggejq6ltkkUUAVB+Ir8kz5513Xsj33HNPlb8txfeErom27Bo/fjyA6t1/+nr9rqDbnvUqi72+LthSZYwxxhiTAf5RZYwxxhiTAfXC/UdTp3bYvuCCC0J+9913Qz799NMBJDNymFEFzLtZmmZSIGkKVldA1uXt9f20zpa2zKH7btlllw1ddXPS7DK+XusEaZuQUrrH1GSt5nfN1GzVqhWA5LXQNgV33nkngEK9ESDpCl1jjTUAJN0XpYauEM04UpeIulePOeYYAEDv3r1Dp2vJ66/rkFZHp77Cvcp6R0ByL957770AkrW31NVUl/2Z5sYCCjVr6PoHkhmbae+h76VjZX0nzZIqNXW9ZzX7iy27tLWQuudZJ4guU6Bw5gKFrM1i4RW1gfPTjO0TTjghZIZH/Pbbb6HTjE11haWhriKe7/vuu2/o1BXMOnGV1K7m7bffDpn7UuukqauY+1rDC3SvM/tRM+JYWw5IurJLWQePWbRA8vuJ575m4aeFwuhZfNVVV4XMTMJSzsOWKmOMMcaYDPCPKmOMMcaYDKhX7j922AaAu+++O+T+/fuHvPvuuwNImg9rk4mibpb27duHXNuihHOD89MsB81+00wjZiVW17JBi6edc845IdP8qcUNs3KvVIe+t7pXu3TpEjKL66nL9YsvvgiZmU7qklDzMNentsU/awPfX10mWtzz2GOPDZmmaDW/16dMvqzQ/auuGroadP+q+6U2a5n2Gm1dwf+fl3VIc/+p+4hoO49KRMev7iMWZdXipno+cK7qku/Tp0/Iu+yyC4BkRmRdM+a4Plpk9KCDDqryd8UKIlf3+bp+zM7VjGt1hS2xxBJVPitvNGObe/i7774LnRafpatX2yxdeeWVIdP9rtmV6gotFpaQBcXaAWl2P78rNHzi2muvrfJeGjKjbZZ4vuj7O/vPGGOMMaYCqVhLVVpQs9aW0CbAhx56aMi0VNS2Tgp/tWqZ/27duoWsAdRZWRg4V20XocHl3bt3D5l/ozVbtM4P68xo7SYGfwPAhRdeCKC0jXdryllnnRUym9M+99xzoWM7BKAQ9M16Y0Ay0LJcT5C6P1kTRy1VGvTM4HSgcN2L1b5Jq/2S1tw0jzUrZh2tbnxpY9X5aaApZbVUqqUqK2qyT3SubHSuVvNbb701ZFoC1DpQKbWNFB0TzwQAGDt2LIBkILDW7OP+/fXXX0PHJtJA4dxSS09WCT26j6o736u7P4rVlBs5ciSAZG07bd7O65b3mamfr5Yk1pF6+umnQ6c18VjTSi3panX8z3/+AyC5/mltbEpBsSbO2vyY3w9ae+vggw+u8h5q1dTm4KxDVsyTkcW9akuVMcYYY0wG+EeVMcYYY0wGVKz7T82zL730EoBk8Kd2rtbg8dq4/TRoje0ltDP55ZdfHnIpzL6s6XLHHXeETs2Tar5kexl1PWrQN1vSaJ0YrelUijYStUGvubbMoZ5mWiAZaMgu7DonNc8Xqy+UNTp+dk5nDR8gGUirNVG4rmpm1rXke6j7mbWDAGCdddYBkAyuLbUrgmPVPamBrnrNGTSrtXHSArmVhRZaKOS0lkR5UMzV+corrwBIuh8UzlXr6G200UYhp7kf8kA//5FHHgmZe0nnnOa+09ZdCudXiS7PYui99thjjwFIJs+stdZaIed9bqah5x/HPWDAgNCxth9QGD/PUSAZiM+kkWKuuFLAPVdsz+j5xkQBdWnqdwHPZQ0f0UQzfj9m7fJTbKkyxhhjjMkA/6gyxhhjjMmAinX/KaxTxBooALDNNtuEXBvzpJr81H3BmleavdOyZcs6fda8oll8W2yxRchax+ejjz4CkMzYoEsCKHRkZzsaIJkdmafbQV1m2prm6quvDnm33XYDkHSfaFbkZZddBiC5/uo+ZNZKuWpvAQWTtLoGWC8NSLpn6ZbVlkuafcX6a7/88kvoFl988ZD3339/AMnWC6UmrQ6XusRpUgcKmaZt27YNne7frl27Aii0EwKAqVOnhjx58mQAleMGBJL7Z8sttwSQdK/oWn799dcAkteK7mGgsG56/uSdSabuPY5L7x9dX85LW9NodiCzz9Tlm7erU0nL3tOziPfnjjvuGDrNPqsU95/uH+45oJB1qSEFeu7yrN1nn31S35fzK8WeLOZy4/j0/zV8Rc8HfpdpHcpnn3025BEjRgAALrrootDp3/JcKuWetKXKGGOMMSYDKtZSpb9aWd13xRVXDJ3WEalJcHLak5haQtjIWKu0a82hUvzC5S91bcKbVsUYKDwpax2fN954I2RWBO7Ro0fqZ+VZ30jXSS0t2vySAd4MqAeAww47LGQGYu69996hU0scEw20Nlcpni51H/CpVqvUa0XqHXbYIWTWxNEnfbW0MWj0kEMOCZ1aIi+++GIAwB577BE6rV6d1f7U/ffJJ58kPhtI1ibq2LFjlb8dPXp06J555pmQuT81+F4b4dKCVcqGpzVl5syZITOoXhsKK3zCVuuP1pxj9f9tt9029fV1mauuWVrF6GK1edI6MmjD8+OPPz5k1gnacMMNQ6c18di8vlIsOsXQ8WkiDM+qdu3alX1M1aHWHbUeasXxb7/9FkCyyrpaytM6cpS6o0N1geis88caWgAwfPjwkDUQn2esnh9q1aaHR62Pjz76aMisqK7Xz4HqxhhjjDEViH9UGWOMMcZkQMW6/xSWyVeTnpqnq3PPqXmbZt/HH388dNp8kc2H1WVTrkDLNDM8kDTPcixnn3126LTOD11R5awzUh0ci7r5Pv/885C1eefWW28NIOly0etC94K6nDRQUwMcS4m6TxgIud5664VOG2Lr/qSrWYMvhw4dGjJb8mhrCA3qZlCmmrTV/VcK2HxYzeza2kPd8kzq0CbXen/RPaGtJRhcChRcSeVqjaGoy4wJIUCyDg7vO62jpvcna+bpnNmkFgCuueYaAIV9Pufn1gbeX5q88u6774bMmj68d4Bk+MQPP/wQMtvUaPKEhhfst99+AJItw5ZddtmQK93tx2uliSAM+QAKc9FEpbzdz2no95euD5sj65mpzYfZaHnVVVct9RCDNPeajplNvNWlp6EG6oqlW13XRF15vP+0dY/WrOLflrKOmi1VxhhjjDEZ4B9VxhhjjDEZULHuPzXPsfbQSSedFLqbbrop5BNOOCFkZsqpG2j8+PEh021y7bXXhk5dacwkqySTr7rCmH2jGVU0+QIFV2DeLj+F11JdDsVcEXSl6PrPmDEjZLrKtPaPtoSh+6lcrRWAgltM96e6NHV/MatRM8K05QLrNGmmpP7tuHHjAABnnnlm3SZQDXr9uFbMnAGS2YusIwcUMjVXWGGF0E2bNi1kmuLpBgSS7olu3boByOf+Uzecti5h7TAAWGqppQAks2vV/cmaZfpebC0ElMY9xnuF7byA5D3BTNi11147dFr7TDM1J02aBCBZe0v3NbOvNOSg0l1+Ct1i6vLTlkvc11qbKu/vgrQ2UZoRrGEVdJVpSIS2d6OeYQblgOPXc/zSSy8NmeETdI0DSZdy2vUv1kaKe1Gzr/X68P9L2ebLlipjjDHGmAyoWEuV/irfa6+9ACSD27Titv5q79y5M4BknQsNVONTpQZiHnHEESGnVdzNA/0lPmjQoJAZwKdP91qzqRLhtWzWrFnotKKvNvRknSNtQqsNQfm0ow21WWUdKDyB5LF+LVq0CFktNRp0/euvvwJIBmLqkz4tdWr9UKsCK5lvttlmoSu1VY7vr9aZpZdeOmQNWmZFbQ3e1qdCWnJ0TTXQPs/7T8fMMwdIPukPGTIEADBw4MDQaU211q1bA0g212aVa6BQaT/LQFmuj9Yu0z3Xr18/AMkm8Xp9tWMErf56f2rNMFrgKskSXh1pVu8HHngg9W9Z/V/rjJW6jtO8ohYZbRLMPQkUvss0kYv3HFAIUC/n/cXP0j2pDcnpNdJ6W6zHCABt2rQJmTW3dH20zh09GPqdrzX1mDRUyjW1pcoYY4wxJgP8o8oYY4wxJgMWyMvNNXv27Hn+4LRAt8GDB4esbsExY8YASLqaunfvXkVWk3eW16Bx48YLAMDff/9dpzdV8zqb6AKFAMsnn3wydNq8ttRm+UaNGi0AADNnzqzT/NQlNGrUqJAZCKv/r/PbaaedAADrr79+6LQNQ13n37Rp0wUAYNasWTXen1r7Rk3S6t5jeyF16alZnDWhmjdvHrq0oMraBgc3adJkAaBm918aan7XoGa6mNT9pW5RBuWr+1Dvv7rei7z/6jo/dbXonuK8Xn755dCdd955ITMoXwPVtc1Sr169ACQTNZTq5j+v89P1Yf0qDdhVlxiD74HCvaRzLqerj/Or6/mi6P3D7wpteK7u5zvuuANAsiZblvPn+VKb/alr9tdff4WsoSysqaZj1kQuhh3omVOK7z89P9Pa1Oj9xdpZen5qHUMN5eFe1kQDbWPDc1PbfOl3RV3d7jw/54YtVcYYY4wxGeAfVcYYY4wxGVAv3H+kmElea1JRVjOfugJpli9VbZWs3H86fnWlsI3OaaedFjo1f9YX95+irhI1axM1VVPW9SuFeb4m7j+i+7OYmZl/U8zlRblU65iV+0/RuXIt9Vro/LhupZpfVu4/JW1+On5mdM6pJ4sttljIbKNR2+yj2syPa1FsT+qY8856LoX7T88P1vnTNiaaPcw6VaXKDquL+0/R+0tr2mlNOKLhEXotSkGa+4/o3kpzBabVm/r/3ytkfr9rKJDWOeT8dJ76XmmuyJpg958xxhhjTJnwjypjjDHGmAyo2OKfaRRzGaipj+b1Yu6V+tJSQcesxQXvu+++Kv9fnwrxpaFrQldtMTeEunorjXlZh/qy/2qCrlWlFErMkrT5qfuAGZvF0H2Rx/Wp7+dDXdH1Y0sUzShmwc85/7aS0TXV7EbNqk372zznV537Wc9G/Vt+p6tcrI1QWnZ0MbdjqbClyhhjjDEmA+qVpaoYWda5qUQa+vyU+f2p2tQP6qP1e35FrYNsf/Xss8+GTq079XEtG8peLGZFSvvOq8n3YDmsU4otVcYYY4wxGeAfVcYYY4wxGZBbnSpjjDHGmIZEbjFVWRZ3qyRY3K2hz682xTHrA6UojllJlKK4YiVRrvtP4zS+//77kJmdpP30KqV3XH2gFMVbK4msikNXKiwO3dDXb27Y/WeMMcYYkwENIvvPmEpGrRppmSjOeKw/cP20TcZxxx0XMluesB4S4PXNg3lpGTU3GlIdwPkd3QuklGtqS5UxxhhjTAbUK0tVWhNGAFhwwblPQ3+Vlrqha6nhE1SxJ7HqmqdW+vzZsFabLFdHWsXrSkrA0CEHHNMAACAASURBVCrwbHiq81t00UVDLndNlVJRzDqX9tSYNudiloK89y3XTescacPatdZaC0DDrCxf6eg+mj59eshPPPFEyE899RSAZBPiVVddNeTNNtsMALDVVluFThti51EHivPSM6O29wTfS78zS9WcPk/0Wule4Fz1ns0aW6qMMcYYYzLAP6qMMcYYYzKgXrj/0twDP/zwQ8hqiv/rr78AJN0Mq622WsgdO3YEUNykW0luozRotv35559DN3Xq1JDHjx8PoOBmApLXYu211waQbCiap0kbSJpqv/32WwDAqFGjQpfmMlp44YVDXmKJJUJu164dgGQTznLNT/fOG2+8EfKDDz4YMhtiaxPeV155JeRWrVoBqPx2E7p+6jKgftasWaHTe5XlBzTQ+/fff6/y/ssvv3zIyy23XKrMRrKlvmd1rpzXkCFDQrf33nuX9PMribTwgrz3Kseke+rUU08N+f777w+Z49Yx6/ly4403AgC23Xbb0N1yyy0ha6mMcjFz5kwAwNdffx06PT9UTvuuVN2ff/4JAHj77bdDt95664XMs7S+ugG5lu+//37oTjnllJD5vTdw4MDSjaFk72yMMcYYMx/hH1XGGGOMMRlQL9x/NOlNmDAhdPvvv3/ILVu2DJluAzXvjhw5MuS77roLALDLLruErmvXriEzEytvN2CaywEA3nnnHQDADTfcELpvvvkm5DXXXBNA0r350EMPhUzz7kknnRS6Y445JuRymX3V5ceMHAA499xzAQCjR48OXZpJW9176gpkzaCTTz45dKXO3uFctLL2OeecE7Ka2pl1MmXKlND17ds35IsvvhhA0v2l5GmW189Wl+YLL7wQMtdi0qRJofviiy9Cnjx5MoDk/aX7m6hLY+mllw55/fXXD/miiy4CkLz/S4HuVYYa6Fm08847h1xf3SaE66Lro/fM559/DgB47733QrfXXnuFzPXP4/zUc+SRRx6pMiag4NZbZ511QqfuZ7rt1SV/ySWXhHzppZcCAJo1axa6Uqx52p4744wzQqf3gbonF198cQDFs2cHDRoEADjrrLNCp+974YUXAkhmB+b9XVgT+Fvh8ssvD92IESNCbty4MYCCSxVIrmUWc7WlyhhjjDEmAyrWUpVW52b48OGhW2ONNUK+/fbbQ+YvVf3FqfKvv/4KAHjsscdC9+KLL4a8++67V/n8PH6pP//88yGfd955ITMQWy11G264YcgtWrQAkBz/ddddV+V9jz766NCtvvrqIXfu3DnkrJ/A9Olr4sSJIffu3TvkcePGAUjWEdGaMnxqVp3CJxQNVLzzzjtD5pMcULdaQnp9f/vtNwDA6aefHrqPP/44ZK1DxfFrcCyD14GC1ebYY48Nne51Whr1WpZ6f3KsanG68sorQx47dmzInJ/W/mFyiNK+ffuQV1xxxSqvT6stByRrfqVZuLJC15fJLwAwYMAAAECvXr1Cp5aQvIO255Vi8zvttNMAJK2umgija000EYj1nUpdpyvNeq0WJ73P77jjjpBZhyot+QUoBHL36dMndHp+9OjRAwCw+eab12LU847Oj8lHmpyk34U6b03aIXovcS3VEvXhhx9WeS8NyK90S5VeK567OiedK+/VYuufBbZUGWOMMcZkgH9UGWOMMcZkQMW6/9JMjuoyuO2220JWsyjdX2qGV/MgzZpHHnlk6OgSBAruBQa0lQOO79133w3dUUcdFTJdDkDBPacuJTW1p7Wx0ZpVc34mUHBf6etLQbHg9C+//DJk1h5aeeWVQ9elS5eQuQc00HDYsGEhM8BUdeqW02vJYPfauDn1+rF+zHPPPRc6NTmry6p58+aJf4FkHScG2Kp7Wt27dE+feOKJqZ9VivWje+iaa64JnQZqa1A9g7a1dlOnTp0yHxNQWLdSBArr/TNmzJiQGYDfrVu3zD8zL3T/cK0YkA4k9xQD1LW20brrrpv6t6VEP4f34p577hm6TTbZJGS2DtK/LQbPVQ3eVvffZ599BqDgRpzzPbOav35/MZFIw1zopgTSXVk6Dv1/hn1oHT0N5B48eDCAZKJPJaLfJfr9zQSsr776KnR6Puy2224AgKZNm6b+fxbYUmWMMcYYkwH+UWWMMcYYkwEV6/5TaApVM7O6Fw499NCQaapdZpllqrweKJhqNeNFM3nOPPNMAIV6T0D5Os6vsMIKIR900EEh61ho6tTxqymTbssff/wxdIcddljIbAOj2S00iQKlMd/zmmvGnmYX6fVl9hDrqQDJ60KXnb5Gs69ef/11AAU3IgA8+eSTIWv9Er1udYGmeDVJ61z1+rI+jNZW0ppcTz/9NIBk9udHH30UMrNa9P2ZsQUkXTl1QefCNh9PPPFE6PTaHX/88SGzTphe//qSEVeMu+++O2SuZU2ySNNcTnlnVOnna6iDnqVEM2npAt51111DpzXjeC7p/ij1XOm+0TXROmc1aUPG99LaaDvssEPIDCs4+OCDQ5fVPafoOHkt9Zrq+amhENXRunVrAMCmm24aOj1feK+fcMIJodOzIG/SvksuuOCCkFnHUff0xhtvHPJOO+2UeJ9SYEuVMcYYY0wG+EeVMcYYY0wG1Av3X5rJVs2Tml11wAEHAADuueee0C277LJVXq8ZPdrmhWbjcprn+VnMXAQK7UqA5Px69uwJIOke22KLLUJmIT4tvkiXGlDIkGnTpk3oSt1aI83lyiKfQPJaMztT3bdqXqf7k93kgWTLHprC9TWXXXZZyFocry7zVpM4Xc5//PFH6NQVoZlEa6+9dpXPVlM8s5bYrgdIZt1xLv369QudzumII46o4UzSUfM4szM142iVVVYJWV3VdFHo63WuaW1QKgUds7oXnnnmmZCvuuqqKn+b9h6acaX3L6+FukfzvhZpmXTTp08PnRbP5Pqqy0jPn5VWWglAMjtbM5VLOVfdZ1meaQsttFDI3AvqctNCxeUirTi2ysWKW/L/eQ7N+XoW1M17T1aHZkffeuutIXPceibyngUK53IpQxJsqTLGGGOMyYB6YakixZp8ak2Nf/3rXwCSTT71SZ+NNDV4WYMzaSnJO7hWn7TUKsKWLhp8rk+NAwcOBJC0Hqilik/g5Wz8yiehGTNmhE4D6bWhJQO0TznllNBp0ChreTEgEUi2K+ETmtb5OvDAA6uMBcjuGtASoftTg+f59K6fWd1na1AqrZNAYX5s7AoAV1xxRcjdu3cPmU9rdZ0n56UWF60Np9eaSRXaukQDRVnTSgOJ0yxZeaD3mdbxUf0222wDIBmcrlYB6tVS88ADD4TMe2DIkCGhS9sfpUbvA7W6MChf68hp0gT35ahRo0KnZ22HDh0A5G+JK2bJmVfU0r3ccsuFzKD8UrY5mfP9mVyk9QZ1TjpW7q/vvvsudGlB761atUp9r1IGcNcWvf/YUk6/8/Va8f7ZZ599QqfNs9Pa2GWNLVXGGGOMMRngH1XGGGOMMRlQr9x/SjHz3eGHHw4g2eZku+22C3mxxRYDkHSPac0ruv0qNVCPAdwa1L7++uuH3LZtWwDJQGat86Rm33KRVvtF10RdeXQx3XfffaFLWws1U6+++uoh0z3KeiRA0jyelXtFx8RAVjVDq0tl8uTJqWOdGzpOrbnCmlQa6H/XXXeFPHbs2JDr0h5G3d8MtNcxae2il19+OWSa5/X1WseI7r/rrrsudBqor3+bJy+88ELIdGkBhfACvRY6V9bpYj0xIFnTiaEI6h7O2z2mSTt0NaurXmuq3XLLLQCSLl1dszT3Sqnnx7nofa4hASoTdd/q+Cnr9dE2KFtvvTWA7GrcFUM/n648TRTRuap7mUlXQ4cODZ2eS3ydhlzoe/Fv83YD6pg+/vjjkFnnT1ur6f23wQYbAEgm+qgruhzudVuqjDHGGGMywD+qjDHGGGMyoN66/4pBU/PEiRNDpyY/6tU9qO4VzXCqRDi/YtmJHTt2BJB0WbD1CQCceOKJAMo7T5qSNWOMWXxA0jxNubo6K1qPSWuW0b2klMLkqy6NnXfeGQBw7733hm7q1Kkhv/TSSyGvscYaNf4sHT/N4urS1Wv10EMPhVwX95/Oj1mEV155Zeh++eWXkD/77LOQmV2qJntd62effRYAsN9++4Wuc+fOIe+yyy4AklmMpc604p7SOf/0008ha/ZXGupqoCv7kUceCZ264pnVyizjOT+3XOie0ppFXOOzzz47dJo9TPdXsdYveWQv8vPpegaAxx9/PGRdS45b63BpHUOutbr39H3XW2+9xGcWG0ttKJaRyfZQ6rLUjDjNBObn65yaN29e5bM0+1phrT11eWrNwJJmzcl9/sMPP4R89NFHh8xzRee/4447hszvN3WvlzPTHbClyhhjjDEmE+qtpapYIB2fEFnlGgDefPPNkBngdsghh4Tu3//+d8hsOFmKOlX6K19/lXMuWfyi5rhZWR4o/HoHgH333RdA8umllE2UgcK81NLx3HPPhayBorR0pAVPqqxNijX4Pq1mVCnQ92d1ca28rE+VWkeMAcAaKFqTvcYnNLXkXH/99SFrUC7fN6ugU52z1pmi9UL/RnX61D1p0iQAySr3tF4BhaB3DcrVmmylWFe+p+4zrR2lT80MemWVeSCZVME6T9oRQWHD9qysG1mgFcE5b62JtOGGG1Z5Td5j1rV69dVXASStn9q9QRNkeO7p9Z8wYULIWt+JaKAz65epVVobLut9UVN0TmpdS0v+0POF31lAIVGiW7duodPuDpy3Wo/1/uK6f/3116FTq1cp1p3z1uQItZS+9957IfO7Qq95WvX+PGvf2VJljDHGGJMB/lFljDHGGJMBDcL9pzUr2GhXG+6utdZaVV6vZeyvvvrqkFk/pxTmeTXvaiAz3Qts8THn59eVYcOGhcw6JtpwstQtefj+GryrgYYaVEhX5euvvx46rYlE9yBN/kAhOB8on6lXzct0/2lrnT59+oSs7iGap/VvNeic4y/mCuZ1U/O/ogHivC90recV3X8MStfaN9pQWZMDGIBdrMksXbV6f6r5vm/fvgCSLrdyucr0vXVOOlbuT20yrGNlyx5tMnzssceGzABpdcnkjTaPHjFiBACgffv2oWPIAJB/+y6ie2L06NEAirv89F7UdSFap6tXr14Akkk1rG0IFM7oe+65J3R6lun3Sk1bouj3w/jx40NmTTpNqNp///1DPumkk0Km+7a6ht9s3A4k11pDZcoFx6S13TThRvcca75pyANrx835t3lhS5UxxhhjTAb4R5UxxhhjTAY0CPffF198ETKzn1ZdddXQpbVM2GyzzULHNhxAoU6HmnyzMilqFpR22aYpV7tpF3PvVAdN0eoe0zY2bG9TajeZmsTp9vv9999Dp+un2X9pNa0U/r+6/PKGmYqaRcMsISBZp2rQoEEAkmZ2NcWzDo5mpOq1pFtUXWbq9tCaQsx0qs1aqyuCNX80i1QzgjSTka5MdTmm1TFSVwYzAoHC/VvMfVhK9D5XN466VLfffnsAyeujZw2zArW2T//+/UPmWVPs+pQLHb/el8ya3nLLLUOnWa15Z/0RdY+zthkzL4FkG6ebb7455AcffBBA0uWpoRh0dev5pN8PPKv183X/63Wt6bXS99SMZtab09ZAbMcFJGtqVddmLa0mm64vx6BZxKVoWaPvyf2n34laR1HPGtYn1PtL17ISsKXKGGOMMSYD6q2lStGgWdbZ0OBsrbjKpwqtIqyWLlaSTatCW1uqq9j82GOPAUhalPTXuVoq0tAnbNb0uOCCC0KngaYM4Cx1lVl9YmMdIloBgeTTkT4pXnvttVXeS612DDTVivF5Pz3zWmqNmttvvz1kbXh8ww03AAA++OCD0I0aNSpkWmiKNWylVUqtnlo5XRtJc9/UZq31NT169ACQtH4+9dRTIWuiCIO2q1sT/X990txoo40AJBtul2t99XPUkqb11VgdXZ+09f7kdStW/Zo1j8pd5Xlu6PnBe7RYnZ+8G+0SHR/rNN10002hGzBgQMhvvfVWyDwftaK9JorQQnzooYeGTms+Vdcwui57VddBa0+xonpavb45X1cdHJ9a19QqTkuenll6vmj9wKzuS45/ypQpodP11fHRglpp1inFlipjjDHGmAzwjypjjDHGmAyot+4/NQ+qKZdmX60DNHjw4JA333xzAMDnn38eui5duoRMt1uW5nmaSdWlc9VVV4VM9xxrcABA165dQ9Y6TmktNTTQlDWRdE5ax6SmtVNqi74/gy61No/OSZt7cnx6/TWo95xzzqny+kpxpRTbkxqASVe01uEaPnx4yA8//DCApPtI35duabajmFPWANe6JFjo+rEODGu4AQU3HQA8+uijIfO+Ktawm++riSDa0qZnz54AgDZt2oQuj/Utdn9oUkUadPVpa5N5ed88UZdeli2zygX3ubbTueWWW0KeOHFiyKxppS4/bZjN+1bXWdcsjzpIaeEfdd1Huubt2rULmWe01gZUt1zLli1Dzup84Vmga6Z1uNT9Vynu57lhS5UxxhhjTAb4R5UxxhhjTAYskJc5eubMmZl9cJr5mu0ggELtFaBQM4b1moBky4nVVlsNQO1Nm02bNl0AqH5+OmZmLGqZfs2++Oijj0KmKbht27ahY20joJAdoSZddUVwXrU1o3J+s2bNmuf5sfu4mpHV/aVtQGj25ToAwLrrrhsy24eUqnVJkyZNFgCA2bNnl+TGYPaMuvc0k4V7odj8+Hq2u5nzb6tb18aNG8/T/kxDXc7qHtJ7jXV+Ro4cGTpt48KsOu0yry6FYm6zeWVe77/6CudX1/2pa8mMZ6BwrrAeEABcdNFFdfmoGsH9Wdf5FcvOTAt/0L1MuVTfi5zf33//nev+LBY+cuqppwJInkmaka3tf9JcxI0aNarx+qVlx2tGsdas0+zDPOD6zQ1bqowxxhhjMsA/qowxxhhjMqBBuP8UmhJr4hIpZgquDbVxP5Qio6FU6zqv7j+FpuYs5llq83yp3X9p1GSvktru07q4/4pRm/ErWRVPBOz+m1d0nbQlydNPPw0g2cZLCxGX+vsiK/dfpVIp7r9iqFuQ1OSsqY37r7pxZHk+1BW7/4wxxhhjykS9rVNVDP6SzfsXbU2oT2OtDfWp5k0eVNKTWG2o7+OfHynWkoctiTRRx2s6/1ApZ3WljKM22FJljDHGGJMB/lFljDHGGJMBuQWqG2OMMcY0JGypMsYYY4zJgNwC1Ss1pbSuMKX0r7/+apDzW2ihheaLlOeGPr+Gfv/VpORHfSKPkh/lhPuzoa/fjBkzGuT8mjVrNl+s39ywpcoYY4wxJgMaXEmF+khawdL6nFJqTDHS9rpSH0uipFHd/EzlkFa81udv/aZYQeK0PoNZr7UtVcYYY4wxGTBfWKr0Vyk7lmvn8r///rvsY9Jfz/z8CRMmhG7NNdcMeX56uuV1SessDxSeKv7555/yDswURfcn169Ym4nZs2cDAGbMmFFFBwDNmjUDADRt2jR0uhfSPqsS0dYver4svPDCeQxnnuG6Lbjg3L8atDioPunncVal7Tkd39xeAyTXh69r0qRJlkMsG5yXrp+uT22sMvXp+4fz1+8Hlf/66y8AyftQz5osrFa2VBljjDHGZIB/VBljjDHGZMB84f5T98GkSZMAAOPGjQvdpptuGnJ1Zu+sUFP1vffeCwAYPXp06K699tqQG7qrS68FTfHvv/9+6D777LOQ6RbdYIMNQlfJbqCakjaXtM7x1bk3yomOmeOaOnVq6D766KOQuddffvnl0H377bcht2nTBgBwzDHHhO7oo48OOe1aVBIc3zXXXBO6J598MuSnnnoKALDkkkuGrlxB0Xrt0lzqAPDrr78CAN56663QqauWZ2m7du1C16pVqyr/X2p0z9F9/Msvv4SuRYsWc329jnPs2LEhn3vuuQCAu+66K3QLLbRQyJUYwK7XYvr06QCAkSNHhm6VVVYJeZlllgFQ3KXH9/rXv/4VumJ7pVJIc/teeOGFofv8889Dfu211wAUelwCyXtV+2DW1u1Z2SeUMcYYY0w9wT+qjDHGGGMyoMG6/4pld1x22WUAgMGDB4fugw8+CJmm0lKbOXV8Q4cOBQD07NkzdOX8/DzqY6nJdvLkySH36dMHAPDqq6+GTt1DZMiQISHvs88+IVeiq1Tnmube02tO8/Uff/wRupdeeink1q1bAwA6dOgQOjVT55Gpo+Onqf2CCy4I3Ysvvhgy3ROacbPIIouE/OWXXwJImuS7du0a8hprrBFy1i7QYvdEba4v3SxA0v35448/AgCWXnrp0JXinkvLmPz+++9D98QTT4Ss7vV3330XQNL9rvcUrwv3IQDsuOOOIfft2xcAsMQSS4SuFPPT9fnpp58AACeddFLorr/++pBXXHHFuY5FXT50S2soxiabbJLBiLOl2P4cMGAAgOT9t9JKK6XKafCeWnXVVUOn15Xu+Tk/t1zwLNX5T5s2LWR+vw8aNCh0uuaNGjUCANx3332h22uvvULeZpttQq5tVQBbqowxxhhjMqDBWqrUOsDgdAB48MEHAQCLLrpo6MoVXKmfM378+JCff/55AMBtt90WulI9BXAM+ut95syZIWddsyPtswHgk08+CXmXXXYJeffddwcAvPnmm6H79NNPQ77ooosAJK167du3D5mB7HnXVtG5qtWJQbF//vln6NRScMcddwBIWge+/vrrkNu2bQsgaclZf/31Uz+3XNdAP2f48OEAkkHDu+22W8idOnUCkLQyPfDAAyG//fbbAJLz15pPpUQ/88MPPwz5999/D7lz584Aqr+2K6ywQqr+m2++AQCstdZatR7nvDBlypSQb7zxRgCFJAEgGYi8+OKLh0wL6Mknn5z6vtxfan0cOHBgyJzXUUcdVeux1xTuJZ1zTfa+WiSYqKSW8o4dO9ZxhNmj329jxowJmRYatSTqmc59rdYdvRdZv0kTubp06RKyWqrSqpOXAp0rzwJNJFCrE+dXnfdFky/0rMoi6cmWKmOMMcaYDPCPKmOMMcaYDGiw7j8146lZn6b8ww47LHQtW7YMuZSB2mrG1NooDNRVl2Rd0fmrS4hBsxdffHHo1NVx8803h7zVVlsBqPs14VjUzK6BhN26dQv5iiuuAJC8VupK+fe//w0AOOGEE0Kn7kMmIGhwablqOul1ZvAsAPTq1Stkunp/++230GltNAZS6vzT3KbqUuvfv3/IdJ8C5TPP6/iOOOIIAMAhhxyS+v9sQ6PuB3VLca3o5gSqDzSuKxyfull1T2677bYh0xVS3TXVcer588UXXwAAtt9++9oPeA7SmgA//vjjITP8oV+/fqHbfPPNQ15sscVC5vronkyrDabuIQ305rrVpGVMVmjCg9aWSnPp6PrpvUr3Et3YAHDmmWdmOs7aovNQl/j5558fMt1at9xyS+jWWWedkJkU9NVXX4VOQxEYoL788suHTu8/pZTnSrFAfLqaNRA/bX31/N9ss81CpqtQz9+sa9/ZUmWMMcYYkwH+UWWMMcYYkwEN1v2npnCtacT2BWoyVfdEueo0sR0EUKizlEWLnDRT6HXXXVdF1uyeM844I+TDDz88ZHULZjGmn3/+OXRae0lrhnEt1GWQVmdEM46eeeaZkOkW1Do8yy23XOp7ZQXXjTWIgKR7WVtGrLzyygCKz48uUs1OUfi3+v/axkVbUjArsJyZkFy/6vby66+/HvLHH38cMk3xWudJs5dKAfenrom6RLJsXVWKNjtcX733DzzwwJAPPvhgAEk3Xdrr53wPomcVXbUaPrDvvvuGzOzBcu45XlNmjgLAY489FrLeH2kucc0a5P1X2xpFpUT3jp5vmonJ+anLjmcOUAh12WijjVI/I+366PlUrnXVfajf1Qwb4fcAADRp0iTkPfbYAwDQu3fv0On6MvtfvxM0UzKL7wdbqowxxhhjMsA/qowxxhhjMqDBuf9oNtTWJ9qygGX6WeQMKJ9JU823bMcBAM2bNweQdEPWNmMmzRSuplC6WrTdh2ZCqNsja7Tzvbax0IJy1ZlfuVZ6rTQT7r333gMAXH755aG7+uqrQ86iuBuQXEtmD6lLku0ugGRWUlobndmzZ4fM7ClmXs75WZy/6l555ZWQdf2ymmttKNbahfelZn+qq4WmfJrxgaT7r5SZZCzMCST3oWafpl3TtEzbYgWF6YLT9UtrA1NX0lx9xa6djvW7774DADz33HOhu/baa0OeMGECgOT6XHnllSEze7DUYRS6p7g/NIvxhhtuCFmzN+kK0+u83nrrhcyiqHkXD1a4VzS8gAVdgfSxDhs2LGTNKqfbq1h2XaWg42PGNFAoVK1zuueee0JmoejTTz89dBoesuyyywJIFk/W7MgszhdbqowxxhhjMqDBWar4q14bgmqbkJ133hlA8uk3j+A7tShkVQcKKPySP+aYY0I3YsSIkFdbbTUAyTlr0CPbcOj7ZnV91HqobTo00HBeKRZIeeSRRwIorPOcn6sBnFlZPdjSQp+OdU7du3cPmUG/WhNJa0vxCUufntKuv665tmzII6g0rSaRWkp++OGHkI899lgAwGuvvRY6teSxIep2221X5T2zRMdM6+0pp5wSOq2TxTEDBauSXmcN5Gb9Oa1zpGcNk2bUkqw1q9QCVBerVXVrr/Nn7SygEOBOiy8ArL766iHT6q9NzLXlTblqUim0emuSjQbSn3322SHffffdAJJ1rKpLHtB14N+WK6FJGTVqVMhq9ad1ECiMj42tAeDWW28NmeunjYOVSrRaaRsu3l86Tj3/mACltcf0b3fddVcAydqGGvTuQHVjjDHGmArBP6qMMcYYYzKgwbn/aKrVNgoMTgcKJmI1+ZXLZK1mSDXZasuB2qB1dGgKVffauuuuW2UMah7t2bNnyNoyJOtAZ73OxQKZa4O+ngkIGvxLl2hd0T2j5nfWUdGAX639pUGTHIsmT2hLF9aRKWaG5hgm1LjkggAAIABJREFUTpwYOq1Dpu4jtvTJimLB1++++27IDz/8MICk+07dogwa1flpyxS6bdU9k9X9qW6e8ePHh3zAAQcASCaPdO3aNWRNQKBbj+2CgPSgcHVp6nX79ttvASRdGhtvvHHqGMvlitGzgK5MdVlqUHCnTp0AJF1+ebjC9Nrw/NPacE8++WSqfNJJJwEAzjrrrNBpeEgauv+mTp0KoJBcBJQvIURrK3Xs2DHkdu3ahcz2LOrSpcsTKLi4NRFBW9Lk6f7T66jXnLUlFU3ueeSRR0Lm/aPhE1tssUXI/K7Tezbr739bqowxxhhjMsA/qowxxhhjMqBBuP/UbMisqv79+4dOzX+tWrUCkE+WiprJ1XxLk7R23lbze1pGVzGTM1sWaHaOuh+mTZsGIJnppGZzvVZZmfU55qzccHOi14LmeXVZqFwX87Z+jrrfPv/8cwDJ2ieaMabuWbonzz333NDpdea+VDdQWn2zAQMGhE5d3V26dEkdb03Rz2QdKc4TSNaO0ZpgvP7qktT9R1nHpi1r2D7p9ttvD12xe2Fe55fWhkZbI3Fe+jnaRkkz+ejWVPegutrpvlX3sLqajjrqqCo6nUe5XGl6H+hZxPPjoYceCl2/fv1CpntW21wdf/zxIXN9y+lG4jVjDSIAuOmmm0Lm+QoU1l3ryDEjWt9Ls3N79eoV8vTp0wEkXdp6f5di3nxPraelbXjUFcmx6J7S9WV2p2ZH6lx435dz/ThW3fuasa5nQdr81JW35JJLAkjWrtL7k2dZKb//bakyxhhjjMmABmGpUviEpbVj9EkrTzR4Wi0KrLOi9Yp0zBrUmhYUq5aAX375BUCyNpAG4LJOTrdu3ULXo0ePkEsRKMunCrUE6OfUNdBT53///fcD+H/svWeYFFX3vb28roegYhYDmBETRoI555wVFRVRTJgxizk9JlTMARTFgFkxoRgBE4iKAQyPmFExK0rw9+H/4X3X7lVONcPMVHdVj+v+wr42093n1Dl1umvHZHC+PsFm9YSin0nrk9aj0qdXfQKjXnV6Lfi+DGgGkokMrI7/2GOPhU4DWLWqdEPXT9dBqzfTEqUBv2mWLCC9orbKtPDo07UGmj788MMAkg2VL7744pA1gH1255dWhX6DDTYIuU+fPnXGpMGxWt2elm5NWtC1pqxdChRaxRpjcWssfP9yjeP185nUo5Zs1vYBSh4Atd789ddfITMQuNLWGyVtfTt37hyyWnVuueUWAElLnNY05Htp8/fbb789ZFp6KtEYuxxpXSS0I4VeX37H6JrqWX/qqacCSHY00KQN1iSrZsV1fpZWPuc9CSSD0jmWcvX4eA/TYgwkz6dqWIJtqTLGGGOMyQD/qDLGGGOMyYCadf+peVLdaqyZo4HaRanDoZ+tbjwGh2rtIpqZgWQdG7of0lwuQCmAWoPetWYJ63SVa2JcyeuT5qZs7Geq+f23334LmS1jWDuqGnAtNPi8a9euIetacy3VJamuNtK3b9+QNZCbbXh0fdXVoe1VZve68l7S1iQa3Dt27FgAyXuqW7duIWugOtdC3WM6ViZFqBuPe1rf6+abbw5d9+7dQ9aaVmnNqWeFXg9tx0RX/Oy44fge+l5p9dfKNUnm/an3XLn6X01BP5PuE54zQDLoWRtGc9x6f2mbGiYgLLDAAqHToPDlllsOALD33ns3bQKNoFztu7Zt24bcr18/AEDv3r1DxybRQKmm3DvvvBM6TSo488wzAeTTkLicy1E/P621mO4vNpceOHBg6Nj6BSg1nK7EnlTSkjP0/GFCFZA8Pzk+dTlPmTIlZLrX9Uzla6qFLVXGGGOMMRngH1XGGGOMMRnQLNx/mj3ENhlq3iwiav5nHSV1WWlrkyeffDJkZmqoe0VNvf379weQNO9rJlNazZ5qoa4bdRlpmxP+jbpP0kzZOn7OGSjVKVGXaSXmqvuP7r/77rsvdMOGDUt9HddaXS6a6Tdt2jQAyYw/dZWx/cmBBx4YOs2UUxrq/tPO9rom/EytvTRixIiQWZsKABZeeGEAyexVHWtaHRxmJAHA6quvDiCZ8aMtJyqxlmkuvUpRrawx/ZwxY8YASJ4vmhGnmXr1uVTpimFrHyBZ5+iNN94AkMwozpu0jC89E3lmAKVzU/e/ho9w/ro/K0Gae+yJJ54Inbq31C3PUBB9vcp0teuaM2MaKLnd1H1b6UxO3tPPPvts6NTlp+tHt3M59yv1GjJh958xxhhjTA3SLCxVbCIMlCqC77jjjql/m2egejn4S1x/kat1QgN16xt/WqBiuZpB1YJj6dSpU+hYWRpIzo+NPldcccXQtWrVKmQGQl911VWhY20joPQ0V4mG2foUr5XnaSm7/PLLQ6eBlroWrJ+mdXD0qYzVf7UKsjZJXmGFFQAk61EpTdnftJIByX3CSvifffZZ6NQ6pjVljjjiCADJRAi9/nxfHafWL9NabaTcXq5WI9vGUM7SmoeFmNdXrRvlEgHSGnqrzPpbGrytc2IiTEOsX3mgY9bzhfXLBg0aFDq1Wv35558Akvdspb9T2PD68MMPrzMOIGlpWn/99QEkE2G0Zt97770HIHmva3cENmHX9asWap1XWROxxo8fX+d1eg7wdXpNevbsmek468OWKmOMMcaYDPCPKmOMMcaYDKgp95/WzmDtHCDZZuCyyy4DkHRPaE2nWiFvl12WpDWB1oas6pag+XrfffcN3dJLLx3yiy++mHhPIJmosOSSSwKojJtF10HbRLChbJcuXUKnbTA0kJstIzT4Va8L60ypey+tvUi5mjyNga9nixGg1K4EKAU9a8AnG+sCwGqrrRby7CZCNNYlX2SXn6L1wrROEt27lQ5Y1+vPOmYXXHBB6DQpQevjrbvuugCSgdjqiqELWN///PPPD5k1rfJwczYWHStbEvEcAkrJF0A++4+f36NHj9BpbTBNIHnllVcAlHeZEz2/dF8cdNBBdf62kk2igVKoxg033BA6dU9rfTWGVejrtU0XWyqxnt8//7Ya2FJljDHGGJMB/lFljDHGGJMBc+SVDff33383+IM1o+u6664LWWtS3XPPPQDKZx9VmhYtWswBAH/99Vfx0gwzYK655poDAGbOnNmk+an7Q92zbA8xZMiQ0E2ePDlkmud79eoVOtZRApq+1i1btmzw/OgS0Dmpy0TN78zEKtcGguPP0r2ncH5p95+OM+066v1X1Owu3n8zZswozP2nbZSYaaYZjw2hVatWjd6fCjPKAOCmm24KefTo0QCSLhVdd2bwMksMSNbES6tD1hC4P/NaP45bs+N0r2vWX2Pg+k2bNq3B66etWe6///6QR40aFTJbkqn7WUMN6ErcdtttQ9ehQ4c6n9XY9ZtzzjkbvH5p+1Pdz5rpWN+5xKz5cnWumgrXb1bYUmWMMcYYkwH+UWWMMcYYkwE15f5TypXhr2bLiTTs/ms45dZyVlTaPdbU+ZWbR97FZ2fl/lPSxp/32GeHIrr/1C3c1POpMe4/0pj7bHbI8l7M2/1H0tbsn3JjaIz7j9TC+jXG/UfKzam+eaeNv1Jnld1/xhhjjDFVoqbqVCmVslSY6tMc17LW51Hr4y8SRakz1xzvs0pRlDVTmvv6lZtTrc3VlipjjDHGmAzwjypjjDHGmAzILVDdGGOMMaY5kVtMVd7ZHZWC2QFNzW4sKsyuyjL7r0hklf1XVP4t85s+fXpm89OCgyxKOOecc2b19g2idevWhciOqxT/lvMzy/1ZJLg/m/v5Mivs/jPGGGOMyYCazf4rR1odi/p01axzYYwpPno+DB8+PGRaqvbaa6/QFalNT1PhvOurg1TrmWiVqkNljC1VxhhjjDEZ0CwsVfVVVNeaI5S1SaPGR6TFShT96UXHxycwbQKa1ihXX5Nldd5ZoZ+jT4o6vvqudVrz4oa83piG8uyzz4a82Wab5TiSyqDNvWl1mz59eui0kS/vr3nnnTd0bBKt/18k9Nxh83Ztcp02lyLWqWoI5c5ayuU8NVz/Iq5jrWBLlTHGGGNMBvhHlTHGGGNMBtSs+0/NlxooOnjwYADA5MmTQ/fTTz+F/McffwAARowYEbpu3bqF3Lt3bwDAtttuG7pyQY15kubyA0qm+pEjR4ZuqaWWCnmllVYCUD2Xn34WTe8A8M0334Tcvn37kFu0aAGgvHtyxowZAIDvv/8+dIsttljILVu2rPP6SpBmUs/yM4vu0mzs/kkLhFY5zT2dB7///nvI77zzTsiHHXYYgOblHnr33XdDvvfeewEAr776aur/M1C/R48eoRswYEDIdJ/lvX6KzpXresABB4SOcwKAm2++GQDQsWPH0NXSWqfdXz/88EPIkyZNAgB88cUXoVtyySVD7ty5M4DSOQwUcy3LuTepTwt5qRa2VBljjDHGZIB/VBljjDHGZEDNuv/U5KfmzUsvvRRA0v2XVkdGs+OefPLJkN98800AwEsvvRS6Dh06hFwUU6iaP9XUeeuttwIATjrppNCdeOKJIV900UV1Xl9p+FlqZr/jjjtCPu6440JeYIEFAJR3/zFrs1evXqHjnABggw02AFCZ2kGaJfXBBx+E/PjjjwMA5p9//tCVW5809P9XWGEFAMB6660Xurnnnnu236uSlMsYUvN62v2hbt9vv/0WAPDVV1+F7qOPPgq5Z8+eAJJZuNWas67vxIkTQ1ZXdV6V1LNA10+z34455piQGSpw2mmnhY4hA0ApbOKSSy4J3YQJE0Lu0qULgOq7XGaF7p8FF1wQQPL8efjhh0M+88wzAQCDBg0KXZs2bVLfqyjodyHP2CeeeCJ0/fv3D/mzzz4DkMzo1OzN1157DQCw/PLLhy6POmzl3HvcV1OmTAndkCFDQqZb86CDDgodXZpAdb6/bakyxhhjjMmAmrVUKU899VTIfALWX6Rdu3YNeY011gBQemIBkpauRx99NPEvAJxyyikhF+VJRX+9//rrryE/99xzAIBFF100dHvuuWfIDECs5pMknzr06ejrr78OWeeShl7zhRZaCADQvXv30I0bNy7k9ddfP/GZQGWeTlq3bh3ye++9ByAZPM+ECABYeOGFQ+ZcNRBU///uu+8GkJwzg2cBYLXVVgNQXYtpWqIBE0IA4Prrrw+ZT7VzzTVX6LTmEZ/6df1p3QCA/fffP6NRNxzdM2rp1kQIWnKKcg40BJ2fnhm0DgMlCw0TPoCkVZ+BznrP6l6uFRZffPGQDz300JA//vhjAMk6hmqpKgp6/adOnRryqaeeCgC46667QtepU6eQb7rpJgDARhttFLp+/fqFTEuWemfyRq3al19+OYCkd0kT0ZjI9MILL4ROfx8ss8wyACr7/WdLlTHGGGNMBvhHlTHGGGNMBtSs+0/N7/vuu2/I7dq1A5B0Vayzzjoht23bFkDSfaPuCZp9tTbLtGnTQlazeFGChtWtxkA9NW8vu+yyIecxZo71yy+/DJ2abPWazu57qcvinnvuCZmm/Eq0zlCTsV5TusI0EF/dB/PMM0/IaXVWdP6//PILAGDrrbcOHU3eADBw4MA6r6m0KzAtqeHDDz8MWQP0mSii49Prxn2pyQXqfq9mAsWsoEsXSNbx4bxq0f2n+0TPhz59+oTMPazno7pCr776agAlNztQSq4Ain9d0vaXnkVMQKkvJCEP0trtAEn33SOPPAIguaYnnHBCyPx+1PPpu+++C/nCCy8EAKy++uqh43cmUNn11WvOhBYgGRIwfvx4AEmXtLqfmWyiZzFdgtWieDvHGGOMMaYG8Y8qY4wxxpgMqFn3n5qytY7PzjvvXOdv1f1A86WaBNVVRLM4s+iAZE2XRRZZpCnDzgydv7piONZzzjkndJrpWK2ssbQ2Qrfddlvo1LysrobZHZ+airWmELPu9D0rgY6TJmetYaTZb2k1t3T86l6m+V5dpWyNApT2ajXdLPwsdemde+65Ib/xxhshs05Yfej8dS/wXs6jHpyGAXz66achr7nmmg1+r3KtrfKsc6efrWu55ZZbhsxQAm3jpTWpWL/vuuuuC53W9+L+Lko9v3/CvawZc6xNBZTqH+l3SlHQPaW104YOHRoyv//OO++80KWdhere1uxptuepZngB0X2kc9LzhaEU5bK7ub6asavuS9epMsYYY4ypEfyjyhhjjDEmA2rW/aeoK0Sj/mdFfcUhP/nkk5BZEA5ImhXzaMXAcatL8pZbbgmZRT/32Wef0KnZuFpuI72+LN720EMPhW7kyJEhq9l3dlsi1NcGRv+/0oVA095TdXr9mbXDdhAAMGDAgJCHDRsGANh8881Dt99++2U32Cag13neeecNeauttgpZs5KIzp/ulbfeeit0N954Y52/rWZrjDSXlc6DBWfre72+hxaC1exPuoXzzpIrtz/pAtXWH1qclplYzPIEkm1qLrjgAgDJgpl5uALTwg+A0l7T8etavf766wCS7vu81yoN/e7R85OhHhrSot+JDBXR+Wv2HL9LNLu60vci958WTB47dmzq+NLu1TRZM5LLhWJUCluqjDHGGGMyoKYsVbNTw6a+v+Gv4nItG95++20AwDbbbBM6LfOfd6NQjl8bPmtQPWsa5dGQVtGn3+HDhwMAdt1119BpG4SGXFOum9Yp0fnRwqBPn/rUphaWSl4XfSLSJ3kG/bIJM5BMmmCALOuxAMlA2vPPPx9A/paA+q5duYaobPSqT48rr7xyyHncX7x+uqd0n2giQVqdMW25w7XS4F+1dLGNyHbbbVfn8/NC13K++eYDAFx11VWh0/uHa6mWxr322ivkLbbYAkAyYSjvM1OhNYTjBJKWGFpo8rDuNxbdt/wuUO+KrtXxxx8PAPj5559Dp82zq9HG5Z9w/6tFSu8ZtRozgL6c9YzXgvX+gGRNLu7lSt5ztlQZY4wxxmSAf1QZY4wxxmRAodx/5Vx3aXo1T6opkLK+Rs2K7MKt5sX//e9/IbOmx0knnRQ6rfNUzQBakla+/8orrwzdeuutF/Kee+5Z5zV6rSrZBkQDJn/88ceQ2RldA+q1dopeU30Pkhbora0ltKbTiSeeCCBZx6V///4ha8uirM36Ok51CeleYh0grf2z7rrr1nkPrZOkSQfLLbccAODoo4/OatgVQa+FumKvvfZaAMBBBx0UOnVV53F/Ea3Ns9pqq4X85JNPhnzkkUcCSLpc2NoDKAXiq0tF9yfdt3rP0uVWaWYnYYPrpoG+aWibGt5zAHD77bcDALbddtvQ6bWqlqszrY4cUFoX1XHMQKk+krZ+KQp6XjEhCUjeSzfffDOAkpsZAF555ZWQmTTRt2/f0GkdPK5/NV2eXCu9/+imBJJnIb+r9czU1z322GMAkmeOflfUl3SSBbZUGWOMMcZkgH9UGWOMMcZkQCHcf2m1J9K6TI8ZMyZ0kyZNCrlLly4hsxaS1rxQUyndD9pZnSZ7oFQfaKWVVgpd3tkfarYfPXo0gKTLUt1qNO/qmCvp8tP318/UMS277LIAkjW+1KSrr6OpVluG6Fo///zzAEoZhfr+ALD77rsDSLr52HoIqKx7Seehn6nuBa6PtsFIqxmk2ZG6V9lRPu+MsXKk7bUPPvggZLqFd9ttt9AVZS7qJlf31WWXXRbyiy++CCDZ2oUueaCUNaetd+jyBYBXX30VAPDFF1+Ebo011gi5knXU9Ewt1xqKcn1nnoZUbLLJJiHT/fT777+HTsMn8iCtZp26/9TVS/eRZuTm0bIlDf1srX2mrrwHHngAAPDss8+GTjMdWZ9KM27T2rzkgd5/yy+/fMh33HFHyPx+YBgEAEyePDlk1vlLaw1WLWypMsYYY4zJgEJYqoj+umQ9G6BU54dPiQCw1FJLhaxPvQcffDAAoEePHqF79913Q2adCm0oqXVoWEspjybEiv66VkvawIEDAQBdu3YNnVa0LsqTBquoA6WnJq1do5YovdZ8KtQn/aWXXjpkBsXq071WZ+f6aW0dtU7l0VBaLaX8/PrqwJSrGEwLV6WrxDcVvebafJf139SSV5Tx672jlsLtt98+5BNOOAFAMnh9o402CvnNN98EAKyyyiqho3URKCVQqKWhEuj+YPcFPSf1/NRAZ1qd6nu61zVTS11aolAeaKJEmnVag+eVtESZolDunh88eHDI3Gv6tzvttFPIPFf1/C0iej4ussgiIfMs1fmldXFQqv2daEuVMcYYY0wG+EeVMcYYY0wGFMr9p2iZeQZVqkl9ww03DFkD1RjUrKXp1X3EAEsN9E5r/pu3e0U/X12VDFQ//fTTQ1fOlF1t1OR+zDHHhEyXjwaE6vyWWGKJkOubC/9f2zCktaxR83He7qWGmJ95XdSlojVXtt56awDl65DlTVrDbzapBUr1czTQOe/1qQ9t2cKaPqwHByTbL5133nkAksH5mmjBpAo9kyo9f76/3jNa50frhNGVou5zHR/vNa39w9pbAHDAAQcASDbkzcPlrvtvxIgRIe+www4AksHnn3/+eci8l/J2X6ahY9LWM5pIwUQrDeTW+XN9dH3zTsSqj7TzTc/8tEQETTTQ3xLVWFdbqowxxhhjMsA/qowxxhhjMqAQfiOah9UkqXU02AVdzch33313yGmZXpoRd9FFF4VM85/WSdL/v/zyywEAe+yxR+iqlQlYrraGZmrQ7bP22mvX0QH5mHLTromuX6dOnQCUH5vq6xs/TcHl2hTlMf80k3J9+0RfoxlHzN45/PDDQ7fddtuFTBd4kUz2afO///77Q1ZTfOfOnQEU131JdP20phPrr2nrI9b+AUpuJW0jpa42tmzSNa9kbSqg1AaHrh8A+PXXX0PWmm50y5a7Jxk2ccYZZ9R5fwDo06cPgHzCJ9QlxHpFAPDyyy+HzO8ShSEVQCk7Tt2Ded9rvJZ6zt15550hzzXXXCEPGDAAQHJNtKXQU089BaBUz0/fHyi+Kz6NtExpDS/Q61ON+dlSZYwxxhiTAYWwVPGXslb8XXXVVUO+/vrrAQDXXHNN6DSQV6tTs6bTf//739B17NgxZD4Vax0a/f/x48fXec9q/XrXp3etCH/DDTeETAsVn/iLilofKmGJ0CfJN954I+Sff/4ZANC+ffvMP7MctMTo/m3Tpk3I+iTIp2n9Ww06PeqoowAkg/d13/OpqyhPz0By377//vsAkvff/vvvHzL3r46/6E/HaVYrtdScfPLJs3y9WqUoV3PO3HPdu3cPndbe0nuFgfgaXP/444+HTAuk1pHT7gmsKZSH9VH3lFrytU4arYpqnXv44YdDZv2xvK3/aeie0e8HrflGudz5ywQKTa5oTnDd2LkBSH5/MulErc9Zr68tVcYYY4wxGeAfVcYYY4wxGVAI9x9R86a2HnnppZcAJOuJ7LjjjiFrUPRaa60FIOk+qa+M/TLLLBMy63vkUedI3QQaaKnXgq6ghRZaKHRFMU9XE10fDYTmWlWzzgzd0+pS2HTTTUPWmjncywwYBYCnn346ZLZZOu6440KnLU2KstZ6ffX6c39qa4kzzzwz5LRA6Foi7SzQoNjGvL7S8FprnTh1KWtSAc9Vre2z8cYbh8w6XNryRkMl8kw60M9eccUVQ9b50RWoLmkN4Od3SRGTJzQQX5NXtA4VmyvrPanfmxq03VxIC1RX9+1HH30U8tSpUwEka7NljS1VxhhjjDEZ4B9VxhhjjDEZUCj3n5rstthii5CZ6davX7/QqRlTI/lZs6oh7jv9/zzdEuqmVPO7mnpZPyvN5AkUs71ClnCu2oahZ8+eIbM9RjXXccKECQCAe++9N3RsRwIAn332Wcjcl7vsskvonn322ZA5ryJmHym6zyZOnBjybbfdBgC4+eabQ7fwwguHXMS5NHd4z6j7SNvs7LTTTiEzq0z/VjNZeb7qmVNEV5nuMw3vYPZfue+SPLIz6yMtpEHrTGmm5pAhQwAkQ0nYGgooZXemvX8toWPW9WN9Lj1zNRRj/vnnB1DZc8iWKmOMMcaYDPCPKmOMMcaYDJgjL9PfjBkzZvnB6v6orw1I2hzymlerVq3mAIC///67wQPQMZebP82Webn8WrRoMQcAzJw5M1ebcbnik2nXpyG0bNlytuann//VV18BAB555JHQafG5du3ahUy3n2anNqRNT1OZ3fnVh15zFlwFgHvuuQcAcOCBB4Zu3nnnDbla85s+fXrt+TRmg9atW88B1H9+NgTdy405a7OkKefn7MD5lWvNUun58fxs6v4sd/7VB+dXqfuQ+7PS3w/lvvPefPNNAMCrr74aOj2LmhoewvNlVthSZYwxxhiTAYW1VNUqlX7SypuiWKoqRWMsOXxS1ODQck/CDOrNK2A7K0uVok/KDHDOq8m1LVW1zb/l/Gzu+zOv7weeP3omZXkW2VJljDHGGFMl/KPKGGOMMSYDcnP/GWOMMcY0J2ypMsYYY4zJgNwqqjf3QMTmHsjtQMvahOvX3O+/5j6/5r4/m3sg/v/93/81y/n95z//+Vfcf7PClipjjDHGmAwoVO+/apBW/C2NahaEM8YYY0ztY0uVMcYYY0wGNFtLVbnS/TNmzAAA/Pnnn6HTLut8nbbW0KKOpvqkFZcsZ0nUQm+meNBCzHUEkvdfXkVRjTEmC2ypMsYYY4zJAP+oMsYYY4zJgGbn/qN74aeffgrdM888E/Kzzz4LAHj66adD9+uvv4bcqlUrAMC5554buuOOO67O+1eCSr43qZWge70W3377bcivvPJKnf9v3759yF27dgWQdC9Vy6WkYyq3lrz+tbIOWTNz5kwApXUEgFVXXTXk+eabD0Cxrk/aupZb67R1/7e7N8tdn3/jtTDNH1uqjDHGGGMywD+qjDHGGGMyILfef5WquMpMvREjRoTu8MMPD3n99dcHACy00EKhU1fhI488AgDYbLPNQvfQQw+F3KJFi5DTrl1TKh6rOTxL07hmz/H6NHbdq1VRXV0mJ5xwQsi33norgKR7jy4jADjttNMAAPvvv3/oFlhuGsqvAAAgAElEQVRggZDrm/esKqrrddTxUf79999D99tvv4Wse2bBBRcEAMw999yhq6ZLZHYrqutc33rrLQDACy+8ELpTTjkl5PoyLvW9vv76awDJ++v+++8PuXPnzgCS17chZFVRvVxG6RdffAEAeP/990M3cuTIkLnuuj/79u0b8iqrrAKg6fNrzPlSzg2nc62vjl/a/aPry/2r+5gZ1wDw3Xffhbz00kvXea+iVFTX+ev8qG/sWZ1VRfWGuJ91zf7+++86Os1ub2oISmMqqvP6pu0jIH3PlVsf/m1j76/6cEV1Y4wxxpgq0ewC1fkLdZNNNgndO++8EzKtGlqn6pBDDgl5+vTpAIDVVlstdPpLvhKWPb4/g+gBYJ999glZLTGcX33WAR0zn/4B4IYbbgAALLnkkqErUsAor2+/fv1C9+CDD4ZMCyMDnv8p//e//wUArLPOOqFTuTHrx6eiL7/8MnTXX399yF999VWd9/78889DpnUGKFmodM8dfPDBIdOSlYcFWZ/++EQLAFdccQWA9Cf2hsK1mn/++UOnVuM8A9T1nvnggw9C3mOPPer8rd5TXH8AePXVVwEAa6+9dui4pkC+66pr9tprr4WsSQN77rkngKR1lck7QHqdOLX0jx49GgDwxhtvhO7FF18Meauttgr52muvBTD75099lrbZubazm2ig5+uUKVNC/uWXXwAkz8/WrVvXGUul4fcUAPz111919GoR/OSTT0KmVXjs2LGhU0vqEUccAaDyc9Jr/scffwAAfvjhh9AtscQSIev+41j0zNezlt+ViyyySOrnVmN9bKkyxhhjjMkA/6gyxhhjjMmAZuH+S2tJo6Z8/f8xY8YAAAYOHBg6DWpnoPNJJ52U+vpKmA/5ngxiBYBu3bqFTJM6ACy33HIAgC5duqS+F82io0aNCt3w4cNDfvfddwEASy21VFOHnRm6Vt9//z2ApPtATb00G6t7dOLEiSFPmDChYuN86qmnQtbr36tXLwBA27ZtQ6fuM3UfPPnkkwCAM844I3RqCmcAeN7tdvTz6fJICyxuLGrSn3POOUPO0/2nn60uSXXf7bjjjgCAU089NXTDhg0Lme6/bbbZJnSLLbZYyJUKoJ0V3F8aUL/ffvuFzHsOAG6//XYAyeDyhRdeOGS6r8u5X/j/u+++e+iuuuqqkJkoBMz+WnP8U6dODd3PP/8cMq9vy5YtQ1cuqYTz0ve64447QqZek07GjRsXMs/PI488MnRnn312yDqGrPYy5/LNN9+E7swzzwxZwwsoa20/dQ9yfHrmDB48OGSeq+3atQtdJfasrs/HH38MANhyyy1Dx/sMSJ61rCmpLs377rsv5B49egBIfr/Xl1yWNbZUGWOMMcZkgH9UGWOMMcZkQM26/9SMp5l8NEWrqVuzT6hX8+8555wT8rHHHgsgmf1QaZM9s180o+Sxxx4LWedHt4m6T9SU++mnnwIAtttuu9BttNFGITMrKe82IGr+fe+990Led999ASTN1yuttFLIt9xyCwBg+eWXD93pp58eMjM9s5wf3+uggw4Knbqs0mrXqEtTXUl33nkngFI7HSBZUysP91Aaev0o6/5syPXVv51nnnkApNd+AkpZO3lcB12/RRddNGRmqQGl7Dd1KfCeA0rZR5tuumno8s7kZHbViSeeGDqto6WuwC222AJAcs8uvvjidd5L/3/eeecNmVmdbdq0CZ1eq8a07OFczjvvvNBpRjBdVeutt17ouM+AZBsyZjpyHgAwadKkOmMt57Jldh1dVkDyWlaCtNZrWjtRvx84b3XZ6vrwe+2jjz6q8/5A9faqrv3qq68OINkarn///iFrVjxfp3PidzYATJ48GUDSPa37rxrYUmWMMcYYkwH+UWWMMcYYkwE15f5Tl5Fmfxx44IEhs5WGuhfUvEm3jJqHl1lmmZBpKsyjIKaaXueaa66QtaUJ/0bnpJk61113HYBkpkj37t1DzrO4ZDm0+CDHrePTQouUNaNF14p7pKntFtJQl2uae0o/U03yhx12WMjMatSMU3WvFMX9p+5Lmtp1Tzbk/ki7LpoRqYUKK7FujUHnp/uP49M2NeqqoHtdi3/mca+pS4ruS3UfMQsVSBY6bupY0wpxaiZsU9hll11CZjsxAHj77bcBlNop/RNdS7ol6XICShljQCnrWq/JZZddFvKgQYMAJLMb9V6p5PeGnnl6TrBgJwBsv/32AJLj1+xVFn1lmAWQ/K6s1l7Vz+Fe1XZkvXv3DpnZx4oWxNbrwqxb1akruhrYUmWMMcYYkwE1ZanSX7caKKy/ytk8V2tbaKAag2Lvvffe0GnNDz5hqvUq76DZNPTpSOuUPPfccwCSgYoHHHBAyLwWeddBUqujtvmgXtdMnyQ5brVuaSAjn3oq8cTYkKe4m266KWQNKqWFoFzNp7TxpwWNVwJ9b623Q0uNWmQ0EaJTp04h12eVoKVHnx71XisiuhZcH01++fHHH0Ned911ASSvX7UoZ70eP348gKR1pmPHjiGnnW9ptf+UtCbMKmd5//GztMYVzzmgFJz84Ycfhk7bIGnSAa2tev9pw3Vao9UT8vrrr4fMfat1yCoNr6XWMWQ9NCCZyMPvxXJnBl+nwfsbb7xxyPTgVNO6ys/S7yT1zqRZmnR/atIBrVp5WvxtqTLGGGOMyQD/qDLGGGOMyYCadf9pHakLL7ywzt+oe0yh2VA7Yt91110hsw7SBRdckMGIs4fmdXWzXH311SHTvbnHHnuETt0zeZpF1U2gbSDUlUK0DYTWdCJspwEkA51p6tc6OpWGe0prnz366KMh61qx/pi24WHrIQBYYYUVACS7tKt7gvu6nHuwErCLvbpBmBABJNuQpCV6qKn+t99+A5AMJNUAal6rogSsl0Pr4OhcuVbVCl5W9DO1ddObb74JABgwYEDoyiUd8PproovWkaNbUc9PrV9GF6O2OWnq/Lm/dR/pPUN5gw02SH19Wpuxcu4x1qHS1i1a02mnnXYCkJ48VCl4/TS5as0116zz/0DJhaaJClpTi2EJGuitAeLU550w09g9w3sgz/PDlipjjDHGmAzwjypjjDHGmAyoCfdfmimvvuwT/X81izOrQ1sT6OuZYaEm4zxqVpWDY9U6Pw8//HDIzKRSl6jOL8+56JrcdtttIWvWDjM9tPaYunrpNtTsHM0aYaagZjdVes6cl2Z8qUn94IMPDplmebbTAYDnn38+ZF4Lzd7Ulic77LADgGQmlF6frFwRaZmAp556aug0+09dIWw1Uc69xKwtbU3Tr1+/kO+//34AQPv27UOXtysiDT0f1NWia1FtdExs1wWU3OOaMc2MQKDkHgSAMWPGAACGDx8eOq0TxPZQ6j5SVyHdv7feemvotGZXU+5F3ZMN2RP1faauH93y2jKFrZMA4LTTTgNQ3TZmad9p9X3mtGnTQtbwELpty4VXFOm7rlaxpcoYY4wxJgMKa6lS6xKDJ9UiUa4ODH/V69OHBhDTgqNBt2uttVbIW265ZeJ9ikBaw0sNDtZAX1oTll122TqvyQuOX6uMjxs3LmR9OuK6lhszK+aPHTs2dFtvvXXIRx99dAYjbhgcq+45rf6ctpe0yr0GPXOvjxo1KnRDhw4NmRYwrZKsVr8OHTqEnNUTNOenDWu1oa1WjOe4V1555dCxjhBQqnqt66vvS6tAkZ6Y0+o/TZgwIXRqtWFNr7wt3fr53Ae9evUKnZ6fetbSKvrMM8+Erm3btiFzj+v7a9LBcccdByDZfFytXlofKtdaQjJ+teoMHDiwjq5Pnz4h05NRpP2pcF5qCb/jjjtCXmeddQAAZ511VujUqszv2CJ9/zWGPL/zbKkyxhhjjMkA/6gyxhhjjMmAQrn/yrUuueGGGwCUgiQB4NBDDw1ZTbE0RWvDU3WVPf744wCAxRZbLHRav4UBwnkHx6r5Va8L2wwMGTIkdFqzZP/996/z+rxN1WmBlurK1ZYadD9onSZtyXDKKacASLoctOEtm//mTX3XXNdUg14ZTLzjjjuGjk1SgVJ7iWOOOSZ06ipknSsge/efrh/d5P/8/HvuuQdA0uWnbULYxkVdlrvuumvIdEvl3UapHLwGumfVfZZHexqi9dA22WSTkNkaSZNztLXJqquuGnJ9dbbS3CraRuTkk08GAGy22Wah06QEDUsoivtPr8uwYcMAJM+fvffeu87r8v5+UNLc0xdffHHq///3v/8FkPz+03vNbr+mY0uVMcYYY0wG+EeVMcYYY0wGFML9R5PqK6+8EjpmkQAlV8/TTz8dOq1TpGX46SqkGVdfD5Syi66//vrQMSMCKIb58J+oWf/OO+8EkKwdoy112J09b5dfQ9Cxskv8yy+/HLoTTzwxZLqFNbtI90qaq7GIlBtffW2WmCmo+z+PTE9dM60pRfdsOTj+0aNHh04zrYoO3T4//vhj6NLq5OVBuTZeW221FYD0LOJ/yt9//z2AZBuaFVdcMWTNcCXqCuPr1Q1azZYu9ZHW5uvaa68NmW1qNDtO3ddFcvulwaxNvb+05h8zbYs+j8bC9XWbGmOMMcaYGqcQliry7bffhqxVtvnUtfvuu4dOnxT1qZ1PIBqwq9WtWT9Im9QWEQ2kZJVjoFQ9XRsmH3DAAXVen/cTYRrlgue10jMbDj/yyCOh06BgBpBqdW8NTi9qgPM/UUuUrjX3rzax1TozDDrWNd9www3rvL6aNMQqmhbIrRWfu3XrBiBZ+6mIVlcdk1oK2Vw47zGXSwpJQ/cia/rpmckuDQDQpUsXAMl7WWv+8XzaeeedQ6eWrryvC8et3x9MXgJKNe80OD2P5tj1odefTcoB4PLLLwcALL744qHToHVWvFdLVa0HpxcNW6qMMcYYYzLAP6qMMcYYYzKgEO4/mqq1tcctt9wSMmvfqBuMZmggWWeF7gPWwwGSrRFovi26e4wBkwBw3nnnhUyzrQYEp7UZKBK85ho8u9dee4U8cuTIkJlUoPPQNiZMRGjXrl3oijhnRdeVgdoffPBB6D799NOQeY0uuuii0OlcmWChDZXLBSAXEY5P10zXn43C1T1fFJdLObQNFoPumTBSC6griK5MJsQAyTpkI0aMAJBM/tFA9CuvvBJA0v2n/5/HWqaFHdx3332h0/ZZvXv3BlDdhsmNQUMGdC5sTzNo0KDQpbnSm6vLL62mXrWxpcoYY4wxJgP8o8oYY4wxJgMK5f7TGij77rtvyGxjoS4xNc8yowFIzy4qovk2Dc0y0dYsWrOpR48eAErd0oHiu0eIzm+33XYL+Y8//giZmW69evUK3QYbbBByx44dAeST5dYQ1Lyu86P7TvfydtttFzLXVTOSNDuS+76+1iFFR+uMaUseZncW9Z6l20XPHM0+piupVt0r3EuaPda9e/eQeRbrntO58vzV/8/7fNLx0T2r2cWavalhJUVGa7sNHTo0ZLZv09ZPtXg+NJYi3He2VBljjDHGZIB/VBljjDHGZEAh3H+knJmS7g/Nciv3uqK6DWYHzehgFgeQnPdRRx0FoNTOBaidOZdb3549e6bKaa8rutuP6JjbtGkTMouWlmttwteVy+irlbUuB11Baeus/18kl4WOhfddv379Qvfrr7+GTFdSra9TufGntamZnddVG71/dExDhgwBAEyYMCF0V111Vcht27at85qioNeeWZgA8MUXX4TMTHkNg8nb/VpNirButlQZY4wxxmTAHHk9Ef7999/FeRTNkBYtWswBADNnzmzw/NRSpQ1NtQ0Bn4T1b6u5hi1btpwDAKZPn94s169169aNXr9agOvX3O+/Ss9Pky7UKlLpmmlNOV9qAe7PGTNmNGl+ej5q8/ktt9wSQNLirUlBrKlVqTO1VatWcwDA//3f/zX4A3SfaZsdnV+HDh3q/G01+c9//lP1+0+vBRNgbrvtttAtssgiITfVksX7b1bYUmWMMcYYkwH+UWWMMcYYkwG5uf+MMcYYY5oTuWX/NfeYjqbGBBQVxgQ095iq5r4/m/v8mnvM0dSpU5vl/Nq0adPomKNagDFHzX1/Nvf5zQq7/4wxxhhjMqBQdaqMMaaWYdZZuTpjlB12YaqFZkJyXxapjVBzw5YqY4wxxpgMaLaWKn1S1JoWla4jY5oG102rB+tTldfPFIFyFfGnTp0KAPjrr79Cpx0RtLo+sdXKZI1ap7755puQjz32WAClxssAsO2224ZcFKuV3lP6XUC9jlNrTxXhXrKlyhhjjDEmA/yjyhhjjDEmA5qd+4/mwT///DN0EydODHmttdYCkDSPFpFyga5p/98YimAmJTqXGTNmAABeeOGF0C266KIhr7rqqgCKY6Y2laG+htP/lKsFzw1tc/Liiy+GfPbZZwMAxo8fH7o11lgj5GOOOQYA0L1799BpeEKR7stapr7zs9zfci3KhRzk1f5ldklzj11yySUhDxs2DADw+++/h2677bar0uhmn2nTpoX81ltvhfzdd98BADp27Bi6FVdcMWQ2PM/zPir2LwtjjDHGmBrBP6qMMcYYYzKg2bn/aJ5/4oknQnfOOeeETFN9+/btQ9fUztVZUc60rO4B/o2OWU29NHvq/6dlUjTEPF5pdH6TJk0CAOyxxx6h0/VbffXVAdSW+0+vdX1uZ84r7zVpLJxruXmmzUv/lv9PNzBQMvkDwHzzzRfyvPPOW/Y9s0THN336dABJl8pNN90U8syZMwEA88wzT+g+/PDDkI866igAwC+//BK6I488MvWz8tgDaeuXdi7p/VeUe1Fdsrp/NOOSc9E5/fbbbyH3798fALDMMsuErlevXiEX/b7kvH799dfQjRgxImSetZrxlzdp+2vw4MEhn3rqqSHz/lt88cVDp/ffTjvtBCC5J/X9qa/knrWlyhhjjDEmA5qdpYpPEs8880zo9Fc75SWWWKK6A5sFfCrUJ/Lbb7895K5du4bMJ+CXXnopdD/++GPIkydPBgC8//77odP5n3TSSQBKAbNAPlYr/Uy1qj366KMAksGHBx98cOrfFhmtraJPzV9++SUA4LPPPkv9227dugEA5p577tAVxRJQDrVqcKxqnfn+++9D5vx0HX/44YeQ+bqLLroodLqXb7vttpBpzazEntA50foEAP369QMADBw4MHQMjgVKdYCWW2650P30008h33rrrQCAyy+/PHTrrbdeyHqvV2uvpyUF8BwBknWOiFpyFlpooZDztK49/PDDoTv55JND1ppMyy67LADg66+/Dt3YsWNDZiD3jjvuGDo9f4poqUqzxFx99dWh++qrr0Lm+Pfcc88qja5xfPHFFyGrBXKBBRYAkAy0f++990LeaqutAABTpkxJff38888PoGTlrgS2VBljjDHGZIB/VBljjDHGZECzc/8xEK9169ahU/M7zYJ51xtJ+/wnn3wyZA3O1r9t27YtAGDnnXcO3eabbx5yu3btACTnf+6554Y8btw4AEmXUh41u8oFit5xxx0AgDPOOCN0NNkCxXT/8frpNX3zzTdDVpcVg0bV/aevu/jiiwEAxx13XOh0LWm+z9slqMkFbM0CANdffz0AYMCAAaHTli0MkFWT/MiRI+u8f+/evUPea6+9QqZ5H8jeFaN7Ul1+DF4GgEGDBgFIrgldgkBp3Ope0LWiK1Tfc8yYMSGr+y+t+W1WlLvnhw8fDqDkxgSS7j+6qk855ZTQnXXWWSFXIxC4HHrtDjzwwJA///zzkIcMGQIA2GWXXUKne+qdd94BACyyyCKVGmYmlKvj9vTTTwNIuqd1LVZZZRUAwIILLhi6Iro0FT3z2fJJ3etDhw4N+eOPPwaQvKf0+2X33XcHAFx22WWha9GiRchZXAtbqowxxhhjMsA/qowxxhhjMqDZuf9o6uzcuXPollxyyZDpHsvbfaLQvKmtWWimBZJ1OJi9ohk3ar6keV6zI9T83alTJwDFcn9+8sknIS+88MIA6m+dUM59Ua11VTMxr++VV14ZOnXlanYfs6qWWmqp0LVs2TLku+66C0DJjA+U1gwATjjhBAClfQBUL3tTP0fbQGkdmaeeegoAsPzyy4dOXX1cHzXfa3bVaqutBqB0nwKVX+u01h533nlnyLquXEsdk7riWRNJ3YfqKqXbSd0zmn3GOjxAcl9kgY5Zz4ejjz465Ndffx0AcMABB4SOtbWAUlYms7CAZCYd90WHDh1CV+n9yffUPXfBBReErG1mmImrtau+/fbbkFl/TK9PEdE9RZctUHJ7qstdM4mvuuoqAOXd03nA9dP9uf/++4f8v//9L2R+R+o+0rOIf6vvpd+PzNStZMiLLVXGGGOMMRngH1XGGGOMMRnQ7Nx/ZLHFFgtZzehqNi0KNElrN241v2txQKIm27SMOM2oUvMp2/Pk7f5T8+21114bMruPa8ZfWssBLWiqa0qzfiXcDPo56lLdeuut6/z/FVdcEbK2hDjzzDMBJK+/ZvpRrwVd1ZV4/PHHJz4TAA477LCQda9ndQ3SWpcwiwpIuqd79OgBIFm8U+9Fvkd996Guubpv6muf0hj4nlpQV7NvNVOKes3uVFndsmlwLjq/Sp9JnJ9mQR900EEha8ucxx9/HEAy/ED3Il2d6lLZdNNNQ95oo40AlIqcVhPd77o39J6g+0f/X4tHMtNR2yEVBR2zFhTW7FO6wvQ+OeSQQ0LeYIMNAJTfc3m2ydJ7gu3IAOC6664LeYcddgCQzJ7WvUhZ96+2lFp55ZUBVLYdlC1VxhhjjDEZ0GwtVfpUxtpOQCnAMu/aHPrUQauL1tNYY401QtanCg2AnRVs9/LPz1p77bXrvKdaAiqJPh38/PPPIbPJNVB6gtbgSp0z56JPH2q1Yc0ZDY7OCh2/Wqq4p/Saa6C17jUG0Ka1/gBKVh0NZGfwtr7u7LPPDp0GUmv9II63qXudr9f32XXXXUPWlhIMtN9nn31Cd/PNN4e86qqrAqi/3li5OjxZoWvJRAmtzaTBr3p99913XwDAbrvtFjoNLk8L+tXxMxBcA4l1fbXlTVPWLe2a3XPPPXXGASQtbQww13moJYBnhba5Uqtx3759ASTPl7xry+l1TGs4z9p4QGmubMxbBNLW8oknnghZzyImUvA+A4ATTzwxZHotHnvssdBtuOGGIa+//vp1PjOP70pdH22ezDpxWodMEyW47/R83GSTTeq8rxsqG2OMMcYUHP+oMsYYY4zJgGbn/qNZ/4033kj9/6xrvzQWNT8uuuiiAIDXXnstdBocW597Li2A8dNPPw2ddpRfeumlAeTv/lTUVcBgYa3do+4RumU0EH/NNdcMmfPX96x00DpdORo8qqiriW5NBuQDyfXlWpYLzmYg9IUXXhi6Qw89NGR1yzEoM6v5p+1ZIBmUfsQRRwAouYEAoE+fPiHff//9AJLB62nuIR1zVmup11Fb65x++ukASi0ugGSiiLr6eA3mnHPO0KnM/9d7ctq0aSEzGYX12ICk+0XHmJVbnu+jLj9NLuA+AUohCOqS19dtscUWAJL7V11N1BfpfElDx6fuz3nmmQcAsM4661R9TOXgXlKXMe8jIFlTi+fLiiuuGLojjzwyZK6lJh9oHUeuO78ngOqFh5RD7yWef3p+TJo0KWS6L9ddd93Q6flSjZpctlQZY4wxxmSAf1QZY4wxxmRAs3P/0VSp5n3tKJ9VRlSW0LypJlcdX30mSzWPsjv3xIkTQ3f++eeHzO7rebQm0M/UNheanUJ5++23D92OO+4YMrP6Pvzww9BpJgwzASvRhV3NyFoHhZma6nrTNjusDQOU6vhom4j6uqSnZS+p+0hreg0YMCBkdfE0lLTsu3J7Uv+WruYbb7wxdN27dw+ZLTW0TlJ9mUZZ19sCkrWJ6HbXNaVLEEhm5M1uJpu6LNmaCADGjx8PIFnPSt3zlbgveeapy4TthICk25OZVOrSZGskoOT21ezInj17hsxrlXfrk3JwD2hGsbq32N5Ms4/z/q7g+mk9sbfffjvktNp0jzzySOh0Lfheuqc1ezVvV18a6hLn9xrvIyC5V999910AyfAfZoRXC1uqjDHGGGMyoFlYqvQJlL+6v//++9BpUCUrbhfxF3lDnu50zvr0/MADDwBIPoltvPHGIfNXf961YxQNpGT1eLW48OkDKFXSZWV4AOjfv3/ItNpU4km5nKXtlltuAQAMHjw4dKzXBABDhw4NmVZT1gsDkjWd2BRW31+fxP744w8AyeujljoNEG8ouqd0rryn9Om2XPA495Va0nStuJZaR6zSFcXTLG36pD9lyhQAySau2py3IXuJcylX54oJJHvssUfo1NKYlVVE34f3vCY0aG0mHSv/RpND1NL/4IMPAkjWWaP1VT83b+tOObgXtLaaBnrz+yHvjhNpqEVJa4OlVQfX8afdX2n37D/1eZL2nQ6UagFqUlCa1U0bottSZYwxxhhTg/hHlTHGGGNMBjQ79x9NuRrUx+DD5oSafLUlD+s7aZ2VSgfCNoY09wQAdO3aFUCyYa8GcrN5qDYZ1jYG1XLr6vjpnjvqqKNCp64WbWjNmjhaW+Xuu+8OmXtZ2/io+0XrcxGtqXT00UenjnF2UDeBJjqwfYs2vu7UqVPI6j7ge+icX3311ZD5Hrqm1dqT6hJXlzJbe7BGEZDck2mucj1z0tovaUNmdbUx6SKtnRBQWbf1SiutFDpt8zSr1wDJ+Y8aNQpAqV4VkEwKKVJYwazQc6KI7i+FY9IwAG29pmeJ3lezQuevCQxzzTVX4jPzQu8vbUPz0EMPASg/T75OE9WqjS1VxhhjjDEZ4B9VxhhjjDEZ0Czcf2o+ZybPd999Fzqa94H8zZqVYNy4cSG///77AICTTz45dOrWKYr7TymXiULSxq/m77zXlJ+f5gYDkvWP2NJD10HbmLAVBbP8VAeU9rK+f7t27UJWV2FT1lpr3/BeOu2000KnXeC1zckPP/wAIFnbSOuvafsIUq3102um2Ym8Trp+6hyzOlIAACAASURBVH7Q84N/q9f2888/D5luv3vvvTd0++23X8iXXXYZgKSrsVr3ZEM+R89Utq4BSm5ddV/WOjrXIpJWm27TTTcNWWv2cY+ntS5TvbpsL7300pBZhyzv7wkdv+4/ZvWrKzSNtdZaqzIDmw2KvZuMMcYYY2qEZmGp0l/VSy21VOJfoNSkFyjVoqlV6xV/wetT9eOPPx4yg3F32GGHOq+pJfTpUa02fCrbe++9qz6mxqJrlWaJ0zortDQttNBCoatv/bJqGKrBq1qnadiwYQCAq6++OnSHHHJIyGpJo9WNVeaBZP0uPiFXM6CZ97fe81onjE+9DIIFgC5duoSs1c/ZEHn06NGh06QJNqrVmlfXXHNNyKyDVPSAbr3/Pvnkk5A/+ugjAMmGvbV0fpKGdKzIG45PrcfnnntuyGopZSVxnd/mm28eMi04u+++e+jU0kzyXlP9fLW+817V/0+rr1ft2lSKLVXGGGOMMRngH1XGGGOMMRnQLNx/agpMq1+hgcAM5MvbvNlUtObO888/H/IKK6wAAFhyySVDV4tzVZMukw+AUp0mrQNU66Q1TM4bdYl06NABQLLdypdffhmy1kmjC5EB+UA+Qdlp6LXV1k1seP3CCy+ETmt/qduQ9W806F1dYaxV1qdPn9Bpc96iu/3SWvpMmDAhZDYCV5dMLaJ7UteyyOuj946GBwwcODBk1nTSNlDqylYXYtr7FuX80XEst9xyIbMOnwbXq6uarnoN/6k2tlQZY4wxxmSAf1QZY4wxxmRAs3P/MTuge/fuoVNTNU351WpnkjU0VWvGHzvfAyW3mJqHi2LSbQhqkmbtFADo3bs3gKRLpRbnV0vQJaJuEs0O7NixY9nXAMXJrtJxzDfffCEPHToUQDJMoBxpmZiavcl9WenWM9WErb8AoGfPngCS7rMiu8z+Cc8KrXOnbVrU1VtkdE/p+LVmHdHvOr6u6Gdmuew/tv967733QqfXom/fvgCS16Tac7WlyhhjjDEmA/yjyhhjjDEmA2rD1tkAaOo79thjU/+/Vt1+/+SXX34JmRl/ALD99tsDSJqxa3HOarJV98oFF1xQ5/9r3b1SK+g1r8U9pehcWJBTXVqNfS/Ktb4ndX2/+uqrkHfdddc6f1t0V5LCsXLNAeDBBx8M+c8//wSQzJIr+vzqKy5c6+hepFtP10xJu//s/jPGGGOMqUHmyOtX+N9//13sn/+NpEWLFnMAwIwZMyoyPwbKah0SrRPEAHWt15XlGrdq1WoOAJg+fXqzXL/WrVvPATT//dnc5zdz5sxmOb+WLVvOAQBTp06t6Pmi1oFRo0aFvOGGGwKo3PnSpk2bOf7/z6/a+mlSQVobsCz5z3/+86/Yn819frPClipjjDHGmAzwjypjjDHGmAzIzf1njDHGGNOcsKXKGGOMMSYDciupUKlAZ1retPJxWsNMtdClVUluLAx0bu6Beg50rk3+LYGkzX1+lUqEyRsmwjT39fP5WZs4UN0YY4wxpko0u+KftEppmYFXXnkl5O222y7xd7WKWtdUpgXu3x4rp2nSSq0XZTTGGCXN61LO+0J9WsFakw22VBljjDHGZECzs1T9+OOPAIATTzwxdEsssUTIO+64Y9XHlCV80lCLyx9//BEy2y+Us9T8W9BrMn369JDnn3/+kGvdWmmMaTppxT/LeQIYk5uHxVstSjpmLcTK8c2cOTN0WiiabXi0JZO25GF7My1+Wqn44+bKv/ub1xhjjDEmI/yjyhhjjDEmA5qF+09NnX379gUArLnmmqE7+uijqz6mLFFT75QpUwAAN998c+hUfuyxxwAA3bp1C5328SoiOr/GmNXVJE1X3+abbx469kMEgIcffjhkmrorHaip86NcXxf1+hIR8g64Lze+NLdz2lzru+Zpc64m5eaX5v7Q8eW9Lk2lMe6dogQ617dOQGl/qkvs22+/DfmXX34BAEybNi10dJkBwHLLLQcAaN++feiqNX+d019//RXy+PHjQ544cWId3aeffhryCy+8AADYbbfdQrfyyiuHvNdeewEAOnToELoihknoOZM2Pv3Oq/b+tKXKGGOMMSYD/KPKGGOMMSYDatb9p6bQp556KuSff/4ZANC7d+/QaXYDsxpqKYuBbioAGDt2LADgggsuSP3bL7/8EgCwzjrrVH5gTUCzS958882QaYpmFiNQv/lWTcHvv/8+AODtt98O3eDBg0PW962kW1T31//+97+QuVd32GGH0M0999x1XqfuiW+++SZk7uU11lgj4xHXT7mMUl5zABg2bBiA5JrtscceIS+zzDIAgDnnnDN0eq3oPiuXcZSVKT8t40vfW90/6j7hWrZq1Sp0K620UshLL710JuOrJmnrWp/7JM2lXe5vKw3XT2sT6p7UTLeXX34ZAPDBBx+ETuXJkycDSK7/77//HvKZZ54JAOjXr18mY28I6ua66667Qj7++OPr/K1+Z2y88cYhs07jSy+9FLrHH3885DvvvBMAcN5554WuR48eIeu+yOM7lHuNYTAAMHDgwJA/+eQTAMCAAQNCN++884ZcDfe8LVXGGGOMMRlQs5Yq5a233gp51113BZCsR5T3r+ssoQVDn1pqJThWx6xPkvvss0/IDLrfZpttQpdmUSoXtHnNNdcAANq1axe6PKx2Or7Ro0eHzCfdq6++OnRaZ4ZPmJp8oTLnNWLEiNCppasSlgLORa/zrbfeGvIll1wSMi2Qah2+/PLLQ6aF7bDDDgvdqquuGvKECRMAJOuM6f5oylOnXhsGJOuY1WKq1s1Ro0aFzLVQS+L6668f8tChQwEA8803X533LxJ6L2og9g033AAAeOedd0Kndd5mzJgBAFh++eVDd/HFF4fcunVrANW1WHF/fvjhh6FjwPU/4fh1/XStNMGHLLrooiHvu+++ic8EqjdX/Ry9Z9Zaa62QmZTTqVOn0J111lkhc92/+uqr0J100kkhP/vsswCS3p/dd989ZLXQVmveej7SEsXveQD47LPPQub9eeWVV4au2t/5tlQZY4wxxmSAf1QZY4wxxmRAzbr/1PT/xRdfhExTZa24xBpKWpuaxRZbLGQGAhdx/moufv3110PW4PGNNtoIQP1B5Oq++Prrr0NmIOpmm20WOg0erpYrRue60047hUy3ijb5pksCKAXF6vrpmKvVJiOtNYcG5w4aNChkDYrl3zAgFki6Ku+44w4AwEEHHRS6tDozSy21VMhbbrllyOrWn91rwOBWPSeOOeaYkOkKVPeRulzT6h+pS4LJI0ApaPbYY48Nnc4vz5pOGlD+22+/hawtvdjmS2v7LbDAAiHzvrz22mtDp658utrzqI23yiqrhLzuuuuGzNpMQMl9pWuqdey4b9XltfDCC4fMvZ7H+arnwAYbbBDyQw89FPJcc80FoOSGBZJ7lXugY8eOoevSpUvIdP+pS43JX0AyrKKSe1n3qp6PDJvQ5B+dK++1559/PnTlXMGVwpYqY4wxxpgM8I8qY4wxxpgMqCn3n5oE1X30+eefh1xk91c1KErLCIXrpvVgtM7WnnvuGTLrFzXETaduHbpy1Dyu5uFquSV0HRZccMGQL7vsMgBJ95JmV51zzjkAgAceeCB0mknHrJZq1l5hptTTTz8dOt5nQGlOQMlVp1lCmom09957AwDuueee0D3yyCMhM5NX63Cpe7spc9UsyR9++CFk1gHTLDC6UYCkK5P1xc4444zQqfuL7olDDjkkdOqyzDMTUM9PdXWqK+yqq64CkMzu073M91D3tcrrrbdehiOePbgndP20dpi6nzkXPQfUlURX6N133x2622+/PeQVVlghq2E3mDSXPAAsvvjiIXN+5VpH8ay59957Q6cyUZegvn+1vld1z40bNy5kZtdqeIBm+rEm3nXXXRc6njnVwpYqY4wxxpgM8I8qY4wxxpgMqCn3n5o0tUy9mvXVbD+7pLWsKGLBPkXNsOpeYKZOkdyAvJaXXnpp6HR8mn1U37i5PlOnTg2dup+YAdS9e/c6n58XOidm4mibFnWLMmtFM47oEgRK7pVqri/H/OCDD4ZOM6bS3A9aXFHv2yWWWAJA0uXL1jZAya15wgknhE7v78asJe8VvU/U/UhXrF5TPUfU1cCipOXOGc5b3Ys6fmYn5XF/qsura9euIa+99tohp62fjpXj15CLJZdcMvOxNgSe38xcBJLFS3X/MdNYswPV1cy/1eKXWmjyySefBAAsu+yyocsj1KScK5Dro+ejFq+lq/3RRx8Nnbbk2WKLLQAk27yltZH6pz4LNEuW7YIA4KKLLgqZ32/77bdf6LT4Ls9HLe6roRbVyN60pcoYY4wxJgNqylKlaG2jX3/9NWS20tDgXoW/rtXSpc0lWb9ll112CV3btm2bPuCM0acEreNBOe92PPr5XJ9nnnkmdPokpLVPSJr1UPWspwIAI0eOrPO+2kQ1b6tdWvPZ77//PnRsXQOUWoZoQ1Nt08K5VPrpOC04ebXVVkv9//rGouvHeat18rXXXgu5b9++AJLWk6zmquuglob67hW18LDO1nvvvRc6PWv4tz179gydNpQ+6qij6rym0vuT89P5q3VDEyX4N1rbSGU2LdZEoV69eqW+b7Xg9VOLoLaW0bPgtttuA5C0buj/c/56PmlNNVrbr7/++tDlfdaqhefLL78EAJx++umho3UNKI1Va8tpTS62HGrfvn3oKmmd0vfUvaNtsN5+++2QGVSvgfS67gcccACApHVrzJgxITMBQz0BWWNLlTHGGGNMBvhHlTHGGGNMBtSU+0/NkFovRMvo0y3Uo0eP0Kl5e8iQIQCSbTbUlUiztgb3lWvJkSdq8tWg0Y8++ghAsot5HqirgbVF1E2p9Ww0kDDNfaDry+7q6j5SV4q6qPJE9ypdekDpGmidLjVvM1BUg2dHjx4dMoPa999//9Bp0HslXUkNce3o/vzuu+9CPuKIIwAk20jsu+++IbP+k7qcKuFSaojLUt1/7777LoBkyIGOlbWSPv7449BpogFdTYceemjoquWe1nY6TzzxRMi6v3hWamsgTfrg+dqtW7fQde7cOeQ83X9aj+7II48MmXsOADbccMM6r9f15bprIoZ+1zAAXvdPWpulapK2V/XM1P/n95fWkdOaakzK0ESFSsMxqZuSbkgg2eaLCRblzjy2OVPd4YcfHjI/Q9cs6z1rS5UxxhhjTAb4R5UxxhhjTAYUw5c1m6hJT112qmd9CzXvac0Rtv+46aabQqeZANtuuy2AZO0VNSuXq7+TJzqOooxJoctD10Tdd+qq5PjVvE6XC1DKHlOXn2aKMJNFr0O13Cvq8tSaOZqJw/Yg6hLT/UX3s2aMac0j7k+t01JE9PprG5fhw4cDSGbUnnTSSSGzllS12gmVQ/eMuvxPPvlkAMk2KOre3WSTTQAAX3/9deiY0QiUziJdP615ldVe1b1Il7G68Y4++uiQ77zzzpBZ3+fxxx8P3W677RbypEmTAJTa9QBJ9+Gaa64JIDmncvdi1hms+t7apkqZ3c/UkJEXXnghZLrn9fpmRbmzu749oe4rto/SOmyaKX3JJZcAKIVRAMm9Wi33rV4/hqwwMxZIXovtt98+ZO6rNJctACy99NIAgEUWWaTO+wOlUJNKfk/aUmWMMcYYkwE1ZalStHnmzjvvHPLEiRMBJAP1NCiYFhJt8somokCpfs3xxx8funK/ik159ImHT8hq5Rs4cGDIGmjPv9l6661DpzVn+Dq1dO21114hc33yrk2lT8QatPzpp58CSFratDkyn7QOPvjg0PHpHyhdi0pYN7KAT6C///576E477bQ6f3fssceGrPdi3tXv09B7vmPHjgCS54Nef66rBrJrzTHWxGPCDAD06dMn5KwsdGoV7t+/P4DkNT/uuONC1vuS+6pcnTetz0S0UwLXX2vPqdVAK31vvvnmAJJWr6ZQrvJ3faRZJdXSrM2nzz77bADJ65uVxU0bO+v1Yx0m/Rwdc9p3kgba6/cjK6pPmDAhdJoow+bDlbDElYOWev1OUOug7o/6rjXvPz1f2QUBAK655hoApcbnQPZeDVuqjDHGGGMywD+qjDHGGGMyoGbdf4q2EaD5Uuv4aHPGp59+GgDw3HPPhU4D1WmCVPNppcv0N3dYx0ddWiorvL5au0pbDjCQWRvuqqk6j+amaZ+tTYbPP//8kBmgrGO+4YYbQmaj13J1WCgXyeWXZj6/++67Q6euBtaZYTsJoLI1Y7KGa1wuOYTjL+ee4eu14Wu1YL04IBmcrO5phk9svPHGodNEH7b5UPRe/vbbbwEkXWbahqhDhw4hs1ZdVjWftDGw1g6r7z01EYFtyjSQX9ugVKJ5NM8CTWjQz6TLUZMjdE5pZ4FeU3WF0a2o91m55tmVRMfHljh6beka/ueY0u4//f/x48cDSLr8NBHqsMMOA1DZ7wxbqowxxhhjMsA/qowxxhhjMqBm3X9q8tPWJPfddx+AZHaLmjr5/8ccc0zoNDuQZuOiuvyYHaRzyrtNQn00xGVFU7zWnhowYEDIzD7SjLk8XX6K7hNtyaPtF2hq79WrV+i0dQbXsuhuMEX3H11JV155ZejUvcD2IeoeraW5knJ7mddizJgxoVNXX7XOEr2mF154IYBkvSJ1j2jNLN5XbFcCJN1HaWulrpQllliizutZWw1IXjeeZY25f/U6ci6nnHJK6LQ1TZcuXWY5fg0P6devH4BkGyWtn7TWWmsBqIybTNs10U0FlLLzevbsGTrW4wPSM4H1nlT3+7BhwwAk6zyussoqIfP8rWZ4AT+rIeeA7jm6nIFSVrheP7p0gVImdSXb8NhSZYwxxhiTAc3CUqVPOrRa6VMZq3ADwLhx4wCU6gEB6U9iRbJO6Vz5JKgVqbWmSi2iT1WsfsvKvwCw3XbbhczqznlUTK8Pncd7770X8qOPPhoynwT32Wef0On+y7uS+Oyiwb1TpkwJmdXjtWKzPlWzOnJa8H0toU/KKrPiOBtDA8mnYp5VCy64YEXHlxYIrNZRveZpNYnUalCfBSFtLSttPdbPZJ0jBtkDSe8Dk5eA0j2qHQ0GDx4cMrs3qHVLk2LYiDjL+fG99txzz9BpRXd2AVGLvVqC9dzRs4T89ddfITMBSBMONCi8KHX+6kP3rFqFWQdul112CV1aHbhKzs+WKmOMMcaYDPCPKmOMMcaYDKhZ9199zSfVJErzN1Byn6n5T83bRXL7EXUfdOvWDUCypL+2IaiVoF+9ztqQlgkENLMDpeBRoBSUWaR5ci7quqMZGki2LGEwKtudAMWay6xQk7u6T84888yQ6XbX+0+b27LOWFGSCxoK11qDzzXU4MYbbwSQrP2kZw3XX92/lV7/tPfX+69WXM7l4F7j2Qgkz0dtDs210PmrK3v11VcHAAwaNCh0/M4AKrNWHJOOQ121bMP11ltvhU6TX7ThOueqda60OXvnzp0BlBpDA8naYUW/L3kGffbZZ6F78cUXQ15sscUAJGtXasulapy1tlQZY4wxxmSAf1QZY4wxxmTAHHlF+U+fPr3Y6QWNpHXr1nMAwMyZMysyv7TsjJ9//jlk1h9R91mWa9yyZcs5AODvv//O7E3VJPvTTz8BSLZp0ZoqlXbPtmjRosHrR5O01v459NBDQ37ooYdCZp0tzUjRljyVhuvXmP2p7onXX3895G222abO32rNnbPOOitkmucrde40ZX6zA6/BTTfdFDqtY0Q4TwDYaqutQmYGl9ZZa4hLgvObMWNGszw/W7Vq1ej109pwGlKgrni6xz744IPQafYbs1cXWGCB0GXpEmvM+cnzRc8+PTN0/0ydOjXxGiDpCmR2oLrns3T/Nub8bAgc9zPPPBM6PWvvv/9+AMA666wTuiwzjbl+s8KWKmOMMcaYDPCPKmOMMcaYDLD7L2Mq7f4jagpO67hdafdKlu4/Ja0QYTUzUppivtZrPnbs2JBHjx4d8q677gogv+y/prjHyrWGGDp0aMjMJFKXIIszApWfa6Xdf7wGbB0CAMOHD9fPBwBsttlmoVt44YVDXmaZZQA03uVi91959ExsbJhAQ1pqNYZKnJ/1zTvN/aW6LEMqKu3+41gZJgIksyJZKFrvr0qEv8wKW6qMMcYYYzLAlqqMqZalKi8qbanKm6yetDQQNC0oNK96MFlZctRqpQHsPE8q9aRYH5W2VJFy60vUIleupVZjsKWqtvH5mQ3l2kRVuuaaLVXGGGOMMVXCP6qMMcYYYzIgN/efMcYYY0xzIrfef809pqq5z6+5xwQ09/Vr7jEr06ZNq9r8WrRoETJjpiqV5TjnnHP+K9avuceMNffzs7nvz1lh958xxhhjTAbkZqkyxsweaXVosmy9YGYfXn/N4rv11ltDZh2qTTbZJHSaneS1MqbxpNUxrO+eqvY9Z0uVMcYYY0wGNDtLFZ8ky9WxqI9Kx0Q0FdbE0Tk1pCJu2vz89Fw8dH3//vvvkH///XcAwHzzzRc6rROVV/2rfwtcF7VOHXvssSEfeOCBAICNNtqozmtqAZ4vWdbWMqYp6F785ZdfACTjGFVOQ8/HLKvHl6N27nZjjDHGmALjH1XGGGOMMRnQLNx/al6fMWMGAOCbb74J3UcffRTytGnTAJQ3b6+zzjoAgCWXXDJ0ebjHtPWFju/TTz8FAHz88ceh+/PPP0NOa5iprr5OnToBKDW+BYC555479W9N9eFenjJlSujOOuuskJ944gkAwDHHHBO6o446KuQ2bdqEnKdbt5z7PS3QW+UiuqJ1/D/88AMA4J577gmdumL32GMPAOllFmqBzz//HAAw55xzhq5t27Yhp61PWiB+kdaxqS6fIs2lMaQluqguzT2t3wN57F8d09SpU0NOa5i88sorh8y10jH36tUr5K222qrO/2eNLVXGGGOMMRngH1XGGGOMMRlQs+4/dY+pq+/iiy8GAIwaNSp0X331Vcjzzz8/AKB9+/ah+/HHH0Oea665AAC33HJL6Lp27Rpytdxjo0ePDvnuu+8O+ZVXXgGQnLOaMrt06QIAWGqppUL366+/hnzttdcCABZbbLHQnXLKKSGvvfbaIVfL7K2maH6mmnc1e4Pr3pzclGrq/uuvvwAAZ555ZuiGDx8e8r333gsA+P7770P3wQcfhLzeeuuFXK1rlOZK+O6770LHPQeUXPEHHHBA6LbffvuQ07LP8iBtTwLAAw88AAAYN25c6Pr27RvyFltsUec1RUT33JgxY0I+/PDDAQCLLLJI6IYMGRIyXYF65rzzzjsh83WLL7546PIOn0gLhdDzRefC16n7Vq9V0V25HKvu3+nTp4fM+/Ktt94K3ciRI0Pm9enTp0/oVlpppZDznj+/C/T7e/nllw+ZrkANn1h44YWrNLr/D1uqjDHGGGMyoKYsVfrrm/UqAODkk08OuVWrVgCSgbyrrLJKyPwlqwG9+tS/5557AkjWoVl11VVDbtmyZchZPYHx6Wjy5MmhO/roo0OeNGlSyL179078CyQDSTkvHadaLH777TcAwKWXXhq6Z599NmS1yvGppxJPmrqWOj5e98suuyx0fHoGgC233BJA8un6oIMOCrl169aZj7US6Pz1qfmKK64AANxxxx2hGzhwYMis1K1roq/P0zoFAGPHjgUAHHnkkaHTRIgVV1wRAHD88ceHTq0CO+ywA4DknPJmxIgRIZ9//vkASgHpAHDSSSeFXBRLWxq6Tkx4AUq1tYDkGURmzpwZMuf39ttvh27TTTcNefPNNwcAPPjgg6mfW0n0c9T7QOsuULLKqCVDrS98DwZEA8nvEnoy8rbYKGqV4/n+5ptvhu76668PmZ4Ovb800Yl69W7cdtttqZ+Vxx5nItree+8duu7du8/yNdWuuWZLlTHGGGNMBvhHlTHGGGNMBtSE+48m2a+//jp0Gkg3ceLEkJ955hkAJTcDkGzzkWayXG655ULeZZddAACDBg0K3WeffRay1sTIytVCk+QCCywQugsuuCDkq6++OmQG3WmdKXV5pc1PTbaLLroogJIbA0iawpVKmnf12un8zjvvPADJ4F91T1544YUAkoG0O+64Y8gM0C+SeT4NXRM11dPtqbWn9t9//5DT9lwebVD0M5977rmQjzjiCAAlNzqQTIRYcMEFAQAXXXRR6F5//fWQNWi92qhLkwkDAHD55ZeHzPHr/TnvvPOGXOQECr2fH3nkkZD1fNtggw0AJF1GGhTM+4oB+0ByzgyATnOpVYq05Ah1D6l7mfcS5wkk149JTZoooq4wnpuaPJOHG0w/X4POOe4XXnghdHRZAqVzkwlbQDLQ+9VXXwWQTO5iayygtP+BfObNzyxXB497Mdcafbl9sjHGGGNMM8I/qowxxhhjMqAm3H80y6uZmm4+IOk2Y6aUtvbQlgs0FWpGy/333x8ys646d+4cukqbPPmezFwEgJ133jlkrSlF94q6jNSVMmHCBADJ2kU6ZrpCmWUFJGtTVRJ1eWn2UJr774QTTgjd888/H/Jee+0FIGnS1vUtYtaVwr2s7iV1ddIUz+ugrwGK03qG7UyAZPYl2zydffbZodPsP8IsRiBZx4rXRde0Wq5cnd+LL74Y8htvvBEyM8GWWGKJ0KWNr1xrlDzWj/P6448/Qvfyyy+n/i3rh2nGs4ZPcF7lXHp0LzW1NUxD4GdpbT+9zg899FDIepan/S3bk918882hO/bYY0Omi1HrAFba5cv5acaeuvc0FObLL78EAKyxxhqh01AP1jFUl6iepccddxwA4Oeffw6dukertX/1c/R7kdnpjz32WOi23XbbkDnWamf8KbZUGWOMMcZkgH9UGWOMMcZkQE24/4hmfGnG3jzzzBPyTTfdBADYeOONQ7fNNtuEzAzCG264IXSDBw8OmZlk5557burnVtKUmNZOAQDWX3/9kE899VQAyYJ96qqgWb5Tp06h04KeNH9rxmBam4Z/jicLdE7Dhg0LYpSFzwAADW5JREFUWbOLWPRU3ZucM1Aq/rbZZpuFTtenyNlXQMmUr9lVdNkCwK677gog6R7U/V0UdJ+oW4JjVfeC7iO63dX99MUXX4TMeatLotJwTbi3AOCJJ54IWV1GPXr0SLwGSM6P10Vbg+jf0pWRxz795JNPQmaRViDpiqV7Xdc0LStSwwt0LnQF55Edp25KnZNmuqVlh6W1iRo6dGjo9Lr98MMPAICll146q2HXC8en4S96/uta0RWoLr/63He6vmzzptl/eRT81M/Rs4RFr7V4sBbi5f9rRrieJS7+aYwxxhhTI9SEpYpPF1qbSYOX9Vcta+KcdtppoWPtDQB48sknAQDzzTdf6M4555yQe/bsCaC8Jada6NOTBuVfc801AJLBv/pLnk/C2lpArxufOnRO+qRZyScRnZNal9KCnrUNzbrrrhsyg23XXHPN0BU9OF2f2t9//30AwI033hg6bUnDBAmdP1t/AKWnrjzmrHumXbt2IXNPAqWge73/9F6iVerpp58OnSYlLLTQQnU+q9LwSf3bb78NnVrS1NLNlld6/bUlCuelgcS67/kkrY2vK72WfH+2KAGStZeYXACUzsVy1mvuX7V06b3MljXVTK7gZ+mZqJZC/Xy9F4m2aeFe1kSLXr16hcz1r+b+5Gfp94C2aVNL/umnnw4gGdytlixa8zRRS61StNSpdyPvmn/6+Qy0V0+HJrrwLNH7r3///iFX4/y0pcoYY4wxJgP8o8oYY4wxJgNqwv1H1Ayt7odJkyaFTLOvdmG//fbbQz788MMBACeeeGLo1D1B8nb5afCymndZf6Rfv36hmzZtWsgM9NbaWyeffHLINHvm2WIASLZeee2110J+9913ASRbm6j7i66YatbBaQw6Pg2AvuKKKwAk64Sp+5X7V11OSlFcnTq/3XffPWQmHYwcOTJ06nJhfRmtQ6U12fi+1bz/eE2HDx8eOnXpaR2utJpBepY8+OCDAJLjb9myZcispcQwBCDZJqQS60uXz6233ho6DRn47bffQv7mm28AJPekjv/RRx8FkHQ/sbYTUAoKr+b9yWumLiutMzVgwICQWdNIW6/ce++9IdOFqMHPei/y/zUovlq0adMmZL2+WrNp8uTJAIBlllkmdLqnRo0aBQD46KOPQqffH3RvqqtRv3fzhnNhmACQdNUyQJ3fgwBw3XXXhczvUrv/jDHGGGMKjn9UGWOMMcZkwP9r735CbfreOI5/DHDvSIlkoiR/QyEZSBJXEUkRExNiokgMJBOh/EkMmAgDoiQMKYoSUeTfRLpDJYqRwjX5jZ61P/t7z/ld99x1zt5H79dotemevc/+c9Z+nrWe1RXpvwh1esj16tWrqR21NaRiyRoPBfvshpUrV0oqzxTxUH4VIu3nKUufceIzdWJ2gy9D4LNXXr16JUk6e/Zs2rZ48eLU7uvrk1RNnRwPuXrtFJ8J9+PHD0nlZUB8plGkZbop/RcheUm6e/eupCJNJJWvz61bt0oq11Hz81eXOlzN6vwsXbpUUrlOnB9/1JHzlK7XVKvy+DwN5ktDzZ8/f9D/9dpFMSNOKuoDeXrC00txLfv59WWa2nn8fnyeko1rUipmVft++PmNZ42nBF0VwybiM/2c+YxUf75E+t3rHHrNp3iubtmyJW2r+p6LZ4mnJP3687Ruf3+/pPL92ahOmp9TnykZw2rq/nxtdk5iyTVf+iueOZK0a9cuSeWl7XJfs0SqAAAAMuiKSFVEqHzAtb/9rVmzJrXjTcTfxLy6arxJ+kBur1hd5ZuWR5di4U6pPBAx3up98LO/NcYAdo/uHD16NLXnzZsnSZo0adKgz+8kf5PyAZhxLnyfJk6cmNpRE6fq6OJw+PcfERxfxDqip1IRrfRFUmNwqVSc67oMWJcarwTgb8Lv379P7ahT5bVlfCBslVGBRpXDpfJCxDEQ2wc6eyQ56k95JC5qN0nFoHyPLrdbHJdHz6IyuP+7JE2ePFlSOdLvx+r1Aesirj8/Dh/8f/LkydSO54YP1Pd2fC9v3rxJ2zxqVYV4FvrvlD9T/Pn//PlzSeXz51GZa9euSSrXBvSocvx+VFFFPYd4fvh35ZNmIsLntQ+JVAEAANQQnSoAAIAMapv+81BuDLD00vM+aN0XP47Bih7SO3z4cGrv2LFDUnnw4oEDBzLt9d9rlGqI0K0kHTlyJLV9SZZGoUrfFmX4PZW4YMGC1I6FUH1QZ9U8vBxtDz97KteXX6gbT3n5IsEPHz5M7YsXL0oqp2K+f/+e2lGfLAbsS+WBpM0GCNdFXNeeEjt+/Hhqx4LRnh6rOr0Q++zLtZw6dSq1Y+kPSTp27Jik8uB6H8gezyJfcPfjx4+pHRM0Yjksqf3HH/fSzZs307YHDx6ktu9rpEU8ZeT7F+fyxIkTDT/L74FOa7Ygve9To/vHhxLE+fGJMlVfn6HZ5BCv0xS/Bf6c9EH7Mbxg7dq1aZtPmujUMlH++xfH0mrq3/9W/Fb4pAwfXhIT1KhTBQAAUHN0qgAAADKobfrPw3MTJkyQVA7Jex2nK1eupHaUoffR/6tWrUrtjRs3SirPPvIV42MmRCdnITVaOsZrF3l4OsKbzcKzEUqN76zZZ3WTWDpDKr4XP7914WFovyY9VL9s2TJJ5fC0p5cePXokqRyyjxlnUvU1c4YSqaanT5+mbbE0i1Tcw56GqfqajM/354APKfDnTiwv5LPLfMmW169fSyrqjUnl9O6hQ4cGfVanZt9Onz49tWfNmpXajdJmvs1TSY3qGPnxx0xPT59VbTjXV1y/nv6sMqXZTLM6VPH7cO/evbQtZsRLxaxvT8mPHz8+tdt5Lfp++tI4L168kFSehejDP3yfGtXP8pm6Mavff9+9ZtWMGTMG/c3c6ne1AAAAdKHaRqpc9Mp9cJ0vkrx79+7UjvpM69evT9tWrFiR2gsXLpQk3bp1K227fft2ascbZLvrdPjfjMHlsdinVO5p+1vfpk2bJJUrwvvfijorp0+fTtt8ULq/lXQLrxMU9X0i4lNXHin0N/14k/KJEh8+fEjtqEm2fPnytK3u0Sl/k4+oxZkzZ9K21atXp7bX3wp1iVT5hAjfT6+DFxMNvI6cRzXi+TFz5sy0zeuQTZkypfSZ/223k7+dD+dN3fdvYGBg0DavuRV1gPxZ1o38WvBIXNXXaiN+/z1+/FiStG3btrTNJ1VcvnxZkjRt2rS0rVM1/3w/fcHyvXv3Siovgjxu3LjU9udjRKo+f/6ctvniz3F/7dmzJ23z7yL2gYHqAAAANUenCgAAIIOuSP8FT4N4SN4XBL1x44akcvrM61RFWs+XefFlGKL+laf/2i1CkgcPHkzbPn36lNqxdIAk3blzR1J5oKl/L2/fvpVU1DuSpAsXLqR21NSpe0ppKB6er8vin55SiXpoUjl9eenSJUnl2ilePygWJK5jmsH5d+7X0vnz5yWVl4bwBV97e3sllevM1UWz73zq1Kmp7YPW//ZvtZp2qwvf51jc25eO8gWzu108i+fOnZu2eZ2xRkviVHGveirty5cvqR0TIXyfvOZhTLCo4v7z68iHpMRA8vhtk8rPj9mzZ6f2nDlzJEmLFi1K2zZs2JDakX73yT3+uZ04V0SqAAAAMqBTBQAAkMGoqtIMv379yvbBnqqLsOa3b9/Stv7+/tR+9uyZJOnr169p27p161J7pLPKenp6RkmtHZ+HlH1pknfv3qV21Py5f/9+2ubHEmHRffv2pW0++yM+o9XzHsf358+ftl44fk6fPHmS2n19fZKk/fv3p207d+5M7Vhyo9U0y+jRo1s+f65ZeiDqs3j4PlJi/n/bdV/G+RsYGBjRB/j+e52YmLUYs3CkIiUvFfWp2nV8Y8aMGSVJP3/+rHf+tEW9vb1Zzt9IRT01qVzT69y5c5LK6Znh3Itx/n7//l3J8cVzJ2bpStLLly9TO9K/raaUxo4dm+X56fef/z7E7HYf/uLPx3bX3Irn51DXZ6Pnow/J8WdKT0+P/31J5RnVfkwxFKFdafa4Pv8fIlUAAAAZ0KkCAADI4J9I/7kIKw5nRljOQnwjSf853/+Rzm5rx/G1O/3nx+yz57Zv3y6pWNpAKhdvXbJkiaTWZzfmSv+5oc5fJ+/BXOk/PyafSXT9+nVJxSxGqVgaQmr/7DfSf53RLI000vR11em/OC5P+cXSO1Ixq7fVgpm50n9+//nwj1ieZvPmzWmbF4pu9/33t+k/1+j52OyZ2e7hEUMh/QcAANAh/1ykqmq5IlV11alIlWv0VuYD+WORV2nk9cXaEamqk1yRKtdoQVd/I+5kTTQiVd2t6khVXMseffV2LCnW6u9mrkiV86hhPP88ktbJ3/hWIlXdhEgVAABAh9CpAgAAyKCy9B8AAMC/hEgVAABABnSqAAAAMqBTBQAAkAGdKgAAgAzoVAEAAGRApwoAACADOlUAAAAZ0KkCAADIgE4VAABABnSqAAAAMqBTBQAAkAGdKgAAgAzoVAEAAGRApwoAACADOlUAAAAZ0KkCAADIgE4VAABABnSqAAAAMqBTBQAAkAGdKgAAgAzoVAEAAGRApwoAACADOlUAAAAZ0KkCAADI4H+BiPM8sDCNHQAAAABJRU5ErkJggg==\n",
=======
      "image/png": "iVBORw0KGgoAAAANSUhEUgAAAlUAAAJECAYAAAA/jNGMAAAABHNCSVQICAgIfAhkiAAAAAlwSFlzAAALEgAACxIB0t1+/AAAADl0RVh0U29mdHdhcmUAbWF0cGxvdGxpYiB2ZXJzaW9uIDMuMC4wLCBodHRwOi8vbWF0cGxvdGxpYi5vcmcvqOYd8AAAIABJREFUeJzsnWW8VeW69i/eI+He2y5QTAxKVBRsDzZiYiBsFQs7sTCxQAxsRewWuxtsRTAQEQuxsAMRYwvoOef9dN3zGq4xWcIac44xl9f/C/fvZs05n2c8z6g7m/zf//0fjDHGGGNMw/h/eQ/AGGOMMaYx4IcqY4wxxpgM8EOVMcYYY0wG+KHKGGOMMSYD/FBljDHGGJMBfqgyxhhjjMkAP1QZY4wxxmSAH6qMMcYYYzLAD1XGGGOMMRnghypjjDHGmAzwQ5UxxhhjTAbMk9cPz5o1q1E2HWzWrFkTAJgxY0ajnF+LFi2aAMAff/zRKOc3zzzz/C3W7/fff2+U82vatGkTAJg5c2ajnF/z5s2bAL5+VoomTZoAAOaZp3Rr/J//+Z+Q//d//7dB38/zr7Hvz8Z+fZkdtlQZY4wxxmRAbpYqYxoC3ygB4P/+r1G+FDVK/t//m/17XEMtAaZh8LzS8yvtXNNzrtbPP53fjBkzAAC33XZb6NZbb72Q27VrB8D71JTHlipjjDHGmAywpcrUJH/88UfI//Vf/5XjSEx96Fv9zz//DKBkEQCAFi1ahPyvf/0LQNJ6YCpLmvXwp59+CnnmzJkhN23aFAAw//zzp36+Viw45fbX2WefnfgXAO66666QO3ToACCfedZnPVRZ/1/jw6j//fffUz/fWCg3f66bxslljS1VxhhjjDEZ4IcqY4wxxpgMaHTuP5r91CRdzmxK1JWUZj5tjObRWufee+8N+b//+79DbtmyJYBiuSF0L9JVOSdp2vp5yvr5ou/Pc845J+Qbb7wRAPDpp5+GbqWVVgq5X79+AIDDDz+8SqObM3j8az1QW/eUuvceeughAMDJJ58cuo8++ijkJZZYAgAwYMCA0O21114hzzfffAAq617JAp3/o48+GvLw4cMBAGeccUbottlmm5D1XlEteC/S60SaSxYA5p13XgBJ9/rrr78e8pdffgkA2HzzzUOn7vda3MsKj9V//vOf0On8l1lmGQDAsssuG7qs52xLlTHGGGNMBvihyhhjjDEmA5rkZe7LsiKwZn8xq0FNfm+//XbI1Kv599RTTw150UUXTXwPkHQF6m+lHbu/WhG4oe7Fchk3NLvrd6Zl95TLmKtvLHlUVNexfvbZZwCAPffcM3TXX399yDTvzq37L6uK6nrMJ02aFPLpp58OADjooINCt/7664fM469zVlfZDTfcAAA46qijQvfPf/6zzufL0ZCK6vrd5VzqzLR59dVXQ6fuWf6/ZuToudasWTMAwFNPPRW6VVddNeT61rUSFdV1fuPGjQOQPOarrLJKyGnHP+1Yze3+bEhFdd2T06dPD/n4448P+Y477gBQug4CSVfsr7/+CgC4/PLLQ9ejR4+Qhw4dCqCUxQnM2VwrXVGd59Wbb74Zum233TbkDTbYAABwzTXXhC5L99jcVFTnur3yyiuhO/HEE0NmyIPKX3/9dej0XKL7csKECaFr1apVyA0Nm8ijorqeX7yWHHnkkaG76qqrQr7iiisAAPvtt1/o5mTOrqhujDHGGFMlajZQXd+6vvvuu5BPOukkAMCoUaNCt+uuu4bcp08fAKU3MgB4/PHHQ6YFRIMzGfwHJJ/q5/StRf9+1qxZITPQsFztFNXzqfqdd94J3c033xzyiy++CCBpHdE3fY5/5513Dt3WW28dcn2WuGqR9vYBADfddBMA4JtvvgndUkstFXKRAtTJfffdF/Lo0aMBlPYpkG61VJ2+ofJN64ADDgidWgUquWZqXdKA3d9++y3kL774AgBw0UUXhU73FGUdp34vz4tnnnkmdJ06dWrw2OcUvb788ssvIR966KEAgC5duoTuwgsvDDmtIvkHH3wQMue98sor19FVGl2Hl19+OeQnnngi5MMOOwxA8k1/oYUWCpnz2mmnnUK34YYbhty6dWsASUtK3kk/aWupgfZqdRw8eHAdXR7B6QqPn9YO43UeKFnXgNJc9Zjr/uzWrRsAYLHFFgtdEa+Zc4Ku79ixYwEkK+J37949ZL3XVWw8Ff8FY4wxxpi/AX6oMsYYY4zJgJpy/6lJU91n/fv3D3nMmDEAkua/rl27hkxXg7oUNKiWriYGPP/5dxtiKlU31vPPPx/yOuusA6BU4wVImsn1N6+99loAyeD6tm3bhkyz/AorrBA6HhOgFGB6//33h27YsGEh77bbbn95PpVETboMTgdK7i8GfANJt0aepmytF0M3HwBceeWVITPot3379qGrzyUyderUkLfbbjsAwCKLLPKXP58VDNIGgPHjx4esrjruta+++ip0zZs3/8u/wXPtwQcfDJ3W1NG9nnl9Gdlzeq6qK5Nud3WfpwWi69huv/32kB944AEAwLPPPhu6arlv1Y21ySabhKyBzEsvvTSApEs2LUGB9aoAYOGFFw75pZdeApA8D/NoI5XWJBkoud0///zz0GkbmuWXXx5A/i6/NDp37hyyup/33nvvkFkzTI9/2v2rvn2mny9i7SrdU3p9PPPMMwEkx3zccceFTPd0JdfXlipjjDHGmAzwQ5UxxhhjTAbUlPtPTX7qXlH3A91b6623XujS2tA88sgjodPsudVWWw1A+eyIuTGFpmX1vfbaayGzzo12flfUfUDzppo00zLB1D3K1hMAsOSSSwJImpKL2FJCxzRkyJCQF1xwQQDJjM68odtIWyPQTQkAq6++esgHHnhgnc+nuVd0/pqJuuaaawJI77yeJeoK++GHHwAAffv2DZ2697RlBsc1t7V9eI6/8MILodM2IloTKivS1u+CCy4IWVuW8PjvvvvudT4PpGdvsvYWUFrL77//PnTq/qskug7qqm7Tpk3I3Hfl9lR9a5mHqy8NHYdmerNmkV5TNTu6iG4/roXeHzp06BCyZnLuscceAMpfP0aMGAEgGVKhe5X3P63jVJSM8HJo+A6fC/7973+HTsN/qnGvs6XKGGOMMSYD/FBljDHGGJMBNeX+UzOlluFXPbP2VKfmeRZQ04ysrbbaKmQWuqtE9oN+j2YX0qxbzuTOjBoA6NixI4BkmxM1C7O43cCBA0N37733hkzz72abbRa6vIvzKWldxtW9S1egukyK4r58+OGHQx45cmTIml3EooLl3Aycv7ZWuvPOO0Nm9me5QrENQb+T3eyBUnattstR91Fadp+6BDWTjp9Tl1gaaS61LFGXBgvJHnzwwaF7+umnQ2Z2LlBy6zKLCEjuP66rFkRV9wvPey1Ym8c5p785Ny4vPT+1OCrdR2mtsSqN7l8dk55/zI7eYostQpd23dX9kZY9l0eWsbr8maUJlDJKgdK8NaTl7LPPDnnTTTcFACywwAKh0/Pz4osvBgCsuOKKodNjlfe1luvy8ccfh07vhbwvMEwGSBbvtvvPGGOMMaZGqClLlb5dqXVG65BceumlAJJPqvrWyKBTtXQxuA8ovQ1k+UTLceubhpbOTwtQ17cjDRpkgPa+++4bOm3Iy0ahbOcCACeccELIfFMpknVK4Rvuc889Fzp9a1x77bWrPqY09E2cQcfaeqZcw2S+4ZY7/tSfdtppodM6TRtttFGdz2SFfuc999wTMhMd/vGPf6T+bZolav/99w+d1kRiAPrVV18dOj3X0trYZDVXPeYTJ04M+dhjjwWQtIhqHSptuMu/0UQX3Z+08GmbKA2kpaUq73OuXENsUm58nKtaf/TzrJmkx6Ra1g09J3X/6rqeddZZAJI1AdWqStT6o1YR1jfUJuHVQq1jek/75JNPQu7ZsycAYMqUKaHThsIbb7wxgPKWOCY96frqvSoPS5Wu688//wwgea3Ve/nJJ58MIFnHr9pWRVuqjDHGGGMywA9VxhhjjDEZUFPuPzU9qvlVXV2U2Q4ESJo32R5G6xy1atUq9TeyRk2u9bUZUR2DP4FSAOJll10WOnUVTZ8+HUCyptDxxx8fMk2pebsflLT2Qzq/HXfcMWTW2co7YFKPH91i6salmfrPMus36V7Qmk5s//L666+HjsGjQKm9htZRK+eWawi//vpryGmtLXTMWrOpX79+AJKBrrq+TArRNj3Dhw8PmW45DYRncH9DUTeA1i5imxZdP3UZqSuaiS76XboX01wNeqy+/fbbxL9AMui9kuelhh/omDV8guef7in93OTJkwEAl1xySejUVbrccssBKB+oXq79VhboPlt88cVT9QzK13HoucgEkSOOOCJ06l7acsstASRd+np8KkFa8o4mP/z4448h07183XXXhS5tf+n8dfxMOuF9pAjo+jG8RWsv6rPA0UcfDaDydfxmhy1VxhhjjDEZ4IcqY4wxxpgMqCn3X7k2Cz169AiZmUZae2XUqFEhs/4Ms6iApKm6Wm6lOTHz698y+01dgiuvvHLI7LKu2Y9aEyiP+ir1oebdJ554AkCyDdFFF11U9THVh64J66BonSNmGQHAhAkTQub6LLvssqHTlhN33303gJKbCSjVFgOAwYMHAwDuu+++0Kl7LCv3UVp2kLY+YpYRAAwaNChkurrSWkPpd2nGrdbkYvsmbUfDjFUgea7O6V7WfZbmUtT5qaxwLqxnByTPRf6GZkTSpQuU3P7qvq20Kz6t9pm6PzW7bdq0aQBK+/TPMt0u5drsMOtMXVXq/mSbKaB0LCoxf70/pGU66j4aM2ZMyMy0ZmsmIDl+toTR7Dt1G1dyLfXeNHXq1JC32WabkC+88EIAyezGtHtaWsgFUHL7qfs3D3R8On5mD+v+atu2bchc9zzDW2ypMsYYY4zJgJqyVCn6JKpPsgy007cLrXTNtyptuFykoO2/ilZ81qDCoUOHAqhe8P3com8iGijLAEut4qtWnSKvlVpfGNAKJBMpaIkbO3Zs6LT6My0Fiy66aOi0Yjk7ASyxxBKhq5b1US2eGryte5EB6BoorFYBrrtWZ9fq7fwNbdisQftqlW0IhxxySMjafPWvopYQtVRwfpqcoIHcXOtKVxzX73/33XcBlKqJA0nrkgb6ci9pHS61SvF71dJ3yy23hEyrqp7fuldXWGGFkGnh1OryWVHOUsr9pdbjXr16hfzdd98BKF/HafvttweQ3kWgUnBN9JjfeuutIetYuK71XfN1f2hNKyaKaEeOvL0bun56ryBaR4vrluc9z5YqY4wxxpgM8EOVMcYYY0wG1Kz7rz7eeOONkDWol/WrWrZsGboiu5SApKmWNUnOO++80HXp0iVkus2KPic1qX/44Ychsz3Eiy++GDptiDk3zV8rDY+1rpO6XwcMGBDyMccck/gMANxwww0h0y2lyRVsjQGUjlslGn4rGrzKoGtdMw3kVbcSzys1yev6EW0jot9F870GNGfl8lPUlaKusLlBj39aHTh1m9L9p4G22ty2ki15unbtGrphw4aFrO5Lnl/qHtWG3tzLGj6hrlC6bTXQWZMO9FhzjbNyL+n3pDWsB0pJA5oIozXDiAbns40RUHLl6pyrda3V60u5RIe/eiz1u9QV+tlnnwFI3lPyuJfo/tU2Qmz5pHu5W7duIeftqgRsqTLGGGOMyQQ/VBljjDHGZECjc//RrHn55ZeHTjMBtt56awBJ820RXUqKml+Z9fHKK6+E7rHHHguZJvUiZvwpat7VjvBrrLEGgGTtkSKYdP8Kuk7lTOZpWV8ffPBByGz50q5du9TPV2tdNZOR2V/XX3996HRNNPuI2Ys33nhj6HTMnH+57Cma+jXjU2XdNw1xS/yVtZob0lr6qEz3n7YWUfdfJeDvq0tOs6M1+5RhBdoGZMiQISHvs88+AMq7v7g+f8UllfV5rd+nLuMjjzwyZNbvK7d/WX/tlFNOCZ3uP5KHS0zHrHJ9maR6ztC9ri5P1r4DgM022wxAMvs471ASdf+xjp2uqbrX8x4rYEuVMcYYY0wmNApLlT6ps87IO++8E7revXuH3LFjRwC1ZcnR2hysH7PBBhuEbt111w25yPPSOWnDXg3UPvnkkwEkG04X3ZI4N+g6acVtVnTWt+c85q+BvrReaPC4WjK05hTrM+laq4WEen371KQRWgUuuOCC0Olbc61YLbWhqwY9jxs3DkDynM7K+lYOWqUeffTR0GnD8pEjR4bMpJFrr702dJtvvnmd8WnF+CKix1StGtxLXAcgeX9gxwq1fuR9TeX97dlnnw0d69UBybXkuVSujiNrwp1wwgmh00QhrrtaMvO+/ur9ndcStbTp/GiJc0V1Y4wxxpgaxw9VxhhjjDEZ0Cjcf9pS4P333weQNGlefPHFIdOsmbdJtz7UfK2BzKyvcs0114ROXQ214h5R9w+bYAOlRIJamcecwnVlPRgg6UphTaq8Ay71+PP80npbdFMCSbfEF198ASDpMmDrJKBUn4n14gBg1113Dbl169YAihUoOydwrBrI3aZNm5DzaNjO8IDVV189dEcffXTIO+64Y8gML1huueVSv6tW1kLHqdfHfffdF0By/+qacN8X8f6grZ8++uijkLWm2IYbbljnc1oHjm2yvv7669DddtttITNBJu/5pzWsB0qB9MOHDw+d1sljWIzdf8YYY4wxNY4fqowxxhhjMqBm3X/qHlP3yTPPPAMAmDp1augq3RG+Eqj5Umv+MCtr/fXXr/qYGorOSWvzXHTRRSEz662xuv+4FzV7TrM3V1xxRQDFmj/HohmJSy65ZMh9+vQJOc3srq4W/r9mEqqr7M+/2RhIy56qdG0dPX5saaJuHs2+1dYxzK6qdBukvKBbK2/31pzA46+167SNlYa3MHtP74+613bYYQcApXp4QPJc5m/lvebl3Lf9+/cHkHRfPvjggyHzWqr3/GrPpfaeNowxxhhjCogfqowxxhhjMqBJXma+WbNmZfbDaupj9tHdd98dul69eoXcqlUrAJVzLzRr1qwJAMyYMWOO56fzmDx5csjakfuII44AkGyjUE1atGjRBAD++OOPzNav0sUP54R55plnrtfvr8A11uKDOv/OnTsDqJx7guv3+++/V+1Ap7nfK3X+NW3atAkAzJw5M9eNpGs6YcKEkJmdzHYoQDJ7uT6aN2/eBJi766euQ7lzLm+3a0Oun7UAz7+G7s+/spZppLURyjK7k/uzUtcXjl/nX01XNa8vs8OWKmOMMcaYDGgUliqFT7Aa3KaBopV+E2vIm5a+cUyfPj3kKVOmhMxAdQ30ruYaVsJSVSQqbaki5awTlQ6gzcNSVU2KYqlSdK15js9t64+GWKpqAVuqaptKW6ryxpYqY4wxxpgq4YcqY4wxxpgMyM39Z4wxxhjTmMit+Gdjjwlo7PNr7D7zxh7zkPf+1OwdjTnSQr5zg8+/2obnX2OP2Wzs69fYr5+zw+4/Y4wxxpgMqNk2NcaY2oMWqk8++SR0bC0FALvuuiuAZGf6oocoFKnOWkPhXHROedeuqibcn1nWbjLZo/tT5TSqvZa2VBljjDHGZMDf1lKlT6z6pMv6Vvp2prWD6nsqLgrlKu7WUiNR0zjQvTht2jQAwDHHHBO6b775JmRWGmdjX6CYlgI9j/RakdYcuujo9WHWrFkAgJkzZ4ZOGy43RnQtf/zxRwDJJsS6F00x0HOO1xSgdK3QPa01HbmulbwP2lJljDHGGJMBfqgyxhhjjMmAv637r5wbb8yYMQCA5ZZbLnSLLbZYyGp2LKIrkK6WGTNmhE7No5VuKD07KnW8iugeKkdaQ9C0oEudk5qqa2Wu5QKdhw0bBgAYOXJk6B588MGQF1xwwTqfKRIMDzjrrLNC99NPP4U8dOhQAHPfhiYPdC8+8sgjAIAhQ4aE7oUXXgi5efPmAGpnH5ZDy3h8++23IXfr1g0A0KFDh9DdddddVRuXmT10rz/99NOh22677UL+7bffAAAtWrQIXb9+/ULu27cvAGC11VYLXdZ72ZYqY4wxxpgM8EOVMcYYY0wG1JT7T8105dwndBuUy+5L+/yrr74acvfu3QEkTYpXXHFFyGpWzNpsWM49lvY7+rc6F5o/Bw0aFLr11lsv5NatWwOornslzaWlv5+2ruUyFvm35SpyF9EtoWPlXF577bXQPfrooyGPGzcOALDVVluFbr/99qvzXUWcZzluvPHGkC+++GIAwNFHHx269ddfP+Siuv0Ij/8dd9wRug8//DDkk08+GQAw33zzha7oa6Xn2kILLQQA+Oyzz0L36aefhrzKKqsAKP6c5gQNlWBF/8mTJ4dO96Sey0Uh7b6hY04LWSniPJRy45s4cSKA0nkGAAsvvHDIhx9+OICkS/6CCy4I+d577wUA3H333aHr0qVLyFlkBRb7yBpjjDHG1Ag1ZanSp1d9k3rrrbdC7tSpEwBg6aWXDl3ak7q+nVx66aUh//zzzwCSgeoMTgUq84bGMZWz3mjtG+rVOvP555+HfNJJJwEAJk2aFDp9qq9WAG1alenzzz8/dC+//HLIX375Zcht27YFkHz7YPAsUFqfjTbaKHTXX399yLQk5v0mXS5Qm5aa6667LnR77713yHvssQcA4KqrrgqdBlXS6ljUemM8V2hxA4Ajjzwy5K233hoAcNxxx9X5DFB8SxXRiu/ar/DXX38FAMw///yhy3sv1ofuVdak0uvE888/H3K7du0A1M46lUPX5KWXXgp5ypQpAIAtttgidHknJKXVXtJ7IfccANx5550AgNdffz106onZYIMNAABnn3126PT+8lc9PZVG53TttdeGzHu13jN69eoV8v777w8geX4uuuiiIfP+eMkll4ROr7XqiZrbPW5LlTHGGGNMBvihyhhjjDEmA2rK/admSNa7AZLuO9aZWmaZZUKnpky6zdSkrUFrK620EoCky6Kce6IhZtG02kQvvvhi6N57772Qe/fuHTLnMmHChNBpy4833ngDADBixIjQaZuFPOrncMzqkhw1alTIasr+4osvACTNsN99912d71L3oQYKr7rqqgDyd4+pe1bdkwyUvP/++0PH4F+gtBe++uqr0N13330h0/1XpCa+Ole6T/bcc8/QcU0A4JxzzgGQjZm9KMxJc9ciovuH1wpdH20j1FjQ6+CTTz4ZMq/1BxxwQOh0f+dZ30/X6e233w75zDPPDJlJLx07dgwdQ2KA0n1Da4/p+Um3dTXbLfH4/vLLL6Gjmw4Arr766pCZSHH66aeHbp999gn5n//8J4DksTrooINC5vx5HQaAm266KeR999035LlNCrKlyhhjjDEmA/xQZYwxxhiTATXh/qMZjjUqAOD2228PeY011giZ2WPq/lGTPDN1LrrootDp3zJTTjtbVzoTgiblJ554InTq0tSWEWwToS49ZlQBpS7cWvsnD/dQWu0pZr4ByYxEhePXLvHqKuTnWI8LAGbOnBlynu4X/e0ffvghZG1pct555wEo7VMAmDVrVp3vYBYWAHTu3LnO/+ft8lOXrbb52HnnnQEAP/74Y+huueWWkOmW13Ouvpo5te4eLDp6fNnGivXsAODjjz8OmXu16LXhypHmXteWJ5zXuuuuW92BzQaOSeuF8TwDgO+//z7kM844A0Ayo1gzUXn97NOnT+i0phrvi9tss03oKnH+6bWSmfhaT0pdfssvv3zIzATs2rVr6neljVX36sEHHwwgGX5xwgknhLzTTjuFvMgiiwCw+88YY4wxJhf8UGWMMcYYkwE14f6jSe+ee+4JHbPEAGCppZYKeerUqQCAJZZYInTqXhg9ejSAZJsQze5bc801ASRNhpXOmOP4BgwYELoVVlghZM2aY/f0TTfdNHTMeABKhUA1e0epzz1WCVM+v1NdllpcNQ1dsy233DLk4cOHAwDefffdOt+fN7qPNLtGC5nSLat7Svfam2++CSBpkuaci4SO//jjjw+ZWauasajZRzyX1Uyv+/u5554DkMze3WyzzULWY5UnRW/zMSfo+UNXkV5/Pvjgg5Dpdq+lNjwKr3/Tp08PnRaabNOmDYDy18884LmmxZM1I1qLIzM7WNdEw0qY6a7ued4zAeA///lPVsOeLXofYiiPFiTV8Bst/km3rIYP1Oee1L9lpuMuu+yS+v1ZuDobz5XBGGOMMSZHCmWp0qdrfevn27vWk9A6Gt26dQuZJenLNV9meXt9O1l99dVD5hNypYNjdXyU9elcm+im1dnSJ319a2HQn/5/Wp2VcoHClax/NCfHtNz8xo8fDyBpnVSrRp5BzfrbrBcGALvuumvIiy22GICkpYfJBwDw+OOPA0i+Ser+zNMqoPtIrRf6prz99tsDSDbx1rXkecd5Ask6a7RA6/pqogLryAH51CLj8S+XCFPrdaq4FzU4eOzYsSEzKUGDn2sJrs9TTz0VOr0XHHLIIQCSlri8EyW41/Q8Y70mIHn9Zq3Dhx9+OHS33XZbyFxXDcTXRJL27dvX+c6s5q/XD63DyOQdBoYDSaucBqXzWMztdZDz0uuTBsVngS1VxhhjjDEZ4IcqY4wxxpgMKJT7L62eFFBq86GdqbULtZoHab7W7/r5559DpnlU3S9a04MB7nmYfMu1wEmT1f2gbSRYy4QBv0DSrfjMM88ASNYWovkVSNZHKkoAqgaVci3V/bDggguGnMeY01w+enwXX3zxkDk+NYX/9NNPIT/77LMAgN133z10WjOoKO5NdUVonS3WgdHkic8++yzkww47DADw2GOPhW6PPfYImS4AdZ/mvSfTanK98847odOaY3leP7KA49Y6dzfccEPIrL9WS25OHStboWhtKoaMAMCGG24IoDLur7mF14rddtstdFpncYsttgi5ZcuWAICll146dKecckrIvK4MGjQodJpAxPqAWZ5nPP56z73jjjtCZqKKtojZcccdU7+roePiWur1K+uWPLZUGWOMMcZkgB+qjDHGGGMyoFDuP3WJaBfuO++8E0B6FhyQzG545ZVXACRNmpqpxDpVmnGl5t2iuLwUdYWyzohm5NClBwAffvghAKB3796h05YvNOurqVWPRd7zp6lY53zllVeGzLmsuOKKocu7dhGPmbqLKTlgAAAgAElEQVQZdHzqKuLfaJudY489NmRmN6rLRc3TeWS80RWi9Wy0y7u2dlhrrbUAJNuA7LXXXiHzWKj5X+uQ0Syvnefp0gDyd8UwK1nXRNskcX1qyT2mcC8vu+yyodPsW7pq1llnneoOrAHo9YHXxzFjxoSuXbt2IS+55JIA8t9nCs8/rV23+eabh6zud4YKqPtP74VcX80u7tGjR53PZzl/ngtaA0vbxNC9r6139PxqaJ1IdeUyFEHvn1mvtS1VxhhjjDEZUChLVVplXwA44IADACQrL48bNy5V5puIWgr0rXnKlCkAkoGYffv2DZlP1eWCxquFPl0zeBkoNcLUivFqaWLNJg0+79KlS8gM8NeKwWk1s/JGx6HV73lc1HpRxOauur8uvPDCkBnoq3uZ1imgFEiqVdiL8tasweMqa50XWm0YkA4kLR2sNadzUqsprXZaj6rSHQ3qQ8fK6xItGkDSUpBmtawlOH7teKCJLrQ2FGVPlkOPv64PLcDahFgDvbm+RZofx6LX+Y022ijktIbCOn6VOW9NFOnZs2fIvD9keR3ld2ntSa3Yz4bdOr8sSasur9ckVlkHsqmkb0uVMcYYY0wG+KHKGGOMMSYDCuX+0yBcDbQbOHAggGTwstaeUrOiBmWTo48+OmQGKLIxMZCseUVXQ97mezVZ6nG57LLLACTreLCJMlAKINYmtHp8aAouossPKB13rd2kbSRYk0pbv6SZv/NA3VTqcr3uuutCZn0cDQ7V/2dLGt3Hebu/+PtMkgCSe2bkyJEhs5acBrJry5M999wTQDJQ/7jjjgt55ZVXBpBPQH450upUMcwAADp37hwy3QfqcqoluK56TeSaAaWagVozSQOhi+I202uCBmXT7cV9BiRbgvFzRbwm6pjm5Jqg4RGffPIJgGRtw2o1B9drWseOHUN+6KGHACQTzrSNjI6vvnXhsdJA95dffjlk1uxiuzAgef3Noj2RLVXGGGOMMRnghypjjDHGmAwolPuvnMuNrgA1Y2qX7rTv0DYhDzzwQMj8Do34V5Ni3m4/oqZHreNDV56OU+twzZgxo87n1ZVSJLN2GpyXtiRS8z3/XzOSiogef3XFsr6MZh+xtQsAHH744QCKsw8VdTno+AYMGBAy96e2llFXLmtWaR0qdQ/y/CzqPqUrQq9FWn8nb1dtVqjLRWtSsT2Kuj87depUvYHNBaxzCACTJ08GkKytpveSorgvKwXPWz1/K32upWX/bb/99iHfeOONAIC77rordFonbf/99w+Z7jkds+5V3jeGDRsWOroXgVL7rPPPPz907du3DzmL9belyhhjjDEmAwplqSpH2lt7fU/XGsieVkdG36RrCb4J65vyW2+9FTLrG+lbQVHf+tPgWjOgEkh/e6gli4BaCrluGijK2mJAqSJ5kd6YOebTTz89dGuvvXbIEydODJnNadUSrJYOBojq/iy6JVXXgvXhtI7Wu+++GzIt5NpEu0hr+VfRay6bDAOl6uOPP/546DTpJ090zFqH6PLLLw+ZwdJqKSlinbtKo4kIWjOqkoH6ep4zIQco1a7TepGDBw8OWQPYWUesnKWKNSlZjxJI1pSjpVXXP+u52lJljDHGGJMBfqgyxhhjjMmAmnD/zQk0X6qpURue0j1WSw1BFdbq+vTTT0OnbXoOOuggAEmTaC25yrh+2oRYA4G7d+8OIBnIWEsme85PG4pqzZxWrVoBKJbLiMdXzegaPFqfez6tYXmR6lDNCRz/JptsEjp1/9XqvP6MzkNdmf379weQbL3Eaw5QCgTO45wsF3w9ffr0kLfddlsAwHbbbVe9gRUI3j+0ZpS6snnfqPT1R9eH7uWrrroqdP369QuZyQVA+rUm7V7373//O3THHHNMyAxKr2SdRluqjDHGGGMywA9VxhhjjDEZ0OjcfzRbapub4cOHh9y6dWsAwFJLLVXnM0VFTZ5s2XLeeeeFTtv3MJOj6HNSdH40306dOrWODii1zNDszVp0b6rLSDNhmBWna1oUyrVO+jvBvTZkyJDQnXjiiSGzjVItnX9zwh577AEA6NmzZ+jYmgfI1xWvx1zbkEyYMCHk5s2bAyi5Kf/8ucaIuscYKjJt2rS8hlMH7plNN900dOPHjw95bq7vzBIESmsOVGetbakyxhhjjMkAP1QZY4wxxmRAo3P/ETX59enTp87/p2UkAcVsD6JjpXvhsssuC11a1kstmbR1/L/99huAZPG2Nm3ahNy2bVsAlc3eqCR0m7EdDZDMvqklV+bfGb2+qPurls67v4qeX3RPF721i46ZGd+qL+KYK4XOtWPHjgCSxXc1Oz4P0q7f5drQzc13VnutbakyxhhjjMmAJnm95c+aNat2zAtzQLNmzZoAjX9+v//+e2bzU0sVLTnaEFv/nzVzNPgyyz3ctGnTJgAwc+bMiq6ftsYoZzWtBM2bN/9b7M/GPr8sz78iwfPvjz/+aJTzm2eeeXJdP9b80zqHTN4C0tvAzAnVun7mBa+fs8OWKmOMMcaYDPBDlTHGGGNMBuTm/jPGGGOMaUzYUmWMMcYYkwG5lVRo7IFsjT2QdMaMGY1yfi1atPhbrF9jn19jD1Rv7PNr7Puzsc+vsd8fZoctVcYYY4wxGdBoi3+a2kbLKKQVZK3V4p9/F7TkRdr6VbOMhDHGVAtbqowxxhhjMqBRWKrS3orrexPWt2f9PD/nt+d84Fpo6wQWrANKxUG1y7y2CUlbf1M9ePzfeOON0J155pkht2zZEgAwePDg0BW95YnC9h46Tu5JoJhtrszfB9639J6mhYbZBqvordlqGVuqjDHGGGMywA9VxhhjjDEZULPuPzVv/vbbbyF///33AIAll1wy9W+Jmu8/++yzkNlbTrvQV9oVSPOrXY7AuHHjAACXX3556J5++umQp02bBgDo1q1b6LbaaquQe/fuDQBYYIEFQlcklxL3YrnehbXoflb3wieffAIA6Nu3b+jefffdOp+hGwIALrzwwpD/8Y9/ACjW/HWsY8aMAQCsssoqoVt44YVDLtK454a0a1F97qGizJmu2T8zJ+Or72/5/0WZ85/hWv3666+hmzRpUsirr7564u9M9thSZYwxxhiTAX6oMsYYY4zJgJpy/6nL5Lvvvgu5f//+IS+//PIAgNNOO2223zFixIjQDR06NORrr70WANC5c+fQZVVTR02u+p10L6gbpb46P/VR9DpOOifN7uNaNmvWLHRXX311yPPNNx8A4Iknngjd8OHDQx49ejQA4JJLLgnd/PPPH3K1joXOT90SX331FQDg3nvvDZ3utTXXXBNAci8UyX1ZH0899RQA4NNPPw3dFVdcETL39amnnho6dRVutNFGAJIut7zR9XvggQcAAFOmTAndLbfcEnItulXSrkvl9h/PH/1M2t+Wc28rzJps6DHjb2pG6dSpU0Pu0KHDbD/ftGnTkNu1awcAWGSRRep8PwAsuuiiAIB//etfDRhx5eBx1/Nv1113Dfm5554DkAyPKfr1RfcH99KsWbNS/5bnalrIT7WwpcoYY4wxJgNq1lL1+eefh/zkk0+GvNdeewEoX4fq66+/BgBcfPHFofviiy9CZv2jtKfjuYXfpfVsBg0aFPKwYcMAANtvv33o9txzz5A7depU57vq+y0NtFerDylSReu03+/Zs2fIW2yxRZ3/79q1a8hHHnlkyP369QMAXHTRRaE744wzQv79998bNtjZkFbvDEgGah9xxBEAksH3uj6nnHIKgKT1VS0lea9VGjomJhDcf//9odt4441D5jlw/vnnh+6RRx4JeYMNNgCQ7fnXUNSSwXNUz1XdU2nnWhHRvXrTTTeFTEvGOuusE7oPP/wwZFqAaDEGgE022SRkJpq0bds2dD/++GPqGBhM3aNHj9DVZ1VKg3tFa9t9+eWXIatXg+P/+eefQ6fHggkuaun54YcfQmZNtYcffjh0rVu3Djlvqw/PFSZ8AMDHH38c8ltvvQUAWHrppUNXxDprOo4ZM2aEPGTIEADAgw8+GDoNyt9yyy0BABdccEHoyiUwVApbqowxxhhjMsAPVcYYY4wxGVBT7j9FgyPV1ZUWoKa6CRMmACjV0wGAzTffPOSllloKQGXMuBpcp208aIq++eabQ8eAXyBpEudcyo2Prgq2AwFKtbcAYJlllgEA9OnTJ3Ta5qVarhb9HTVVd+/eHUDSJK1y2vi0zclhhx0GIOleHTt2bMirrrpqyOrWaQg0Vev6XnfddSGfe+65IX/77bcAgG233TZ0GpSt4yYDBgwIWY9FUdC9uMIKKwAA2rRpk/r/aW006lvfvNH1YSLBuuuuG7oXX3wx5M022wxA/m6gOUHPj/fffx9AsnZfq1atQub6aHKJJo3wb995553Q6fV5scUWC3nttdcGkAwKnxt4/g0cODB05c4TnqPqUlJXE9236j48++yzQ2aCSRHPQ6C0Pnr915ZerONY9DY1Oj4NFbjjjjsAJF3W6l7ef//9AQDHH3986Mq5OiuFLVXGGGOMMRnghypjjDHGmAyoCfcfzZNqpmSWCpDM7khrI1CuPhRRUzBN/VmaRDkWNYMfcsghIdM8yxpGQMlNB8xZxhrHrebra665ps5vqRusS5cudcZaTdQVRFdefXMu16bovffeAwC88soroTvnnHNC1ppJdDs0dM4ci67feeedFzIzToFSzRito6ZuyGOOOQZAMntlxx13DHmllVYCUFz3Q9r5lXYu6fjVPcFMnUpmac4puj84VnVZv/zyyyEzU7WI7j/NglKXpbqtR44cWedzGmqRdq7o/1PWv9Nztb6WYVlRLuOLet1zCsen+/O1114LmeEJRa/zpGuiMBO5SHXgiO4NdR/feuutITNrf8MNNwyd1ozjdzCjHki6Apm1Wsn7nC1VxhhjjDEZ4IcqY4wxxpgMqCn3nxZsU5OsFtyjS6dcmwVmP6ipka1NgJIrUTPKskLdIFrQkhlD6oZU8/ScmCo5b2bxAMlMwgUXXBBAKcuxCKgpmoUGNWNDjxvliRMnhu7MM88MmYVgNbtRW6KwzQSQndmeY9KCtJo9pdmXLCSorSO0UCKzpzS76vbbbw/5pJNOSvwmUMyMOUXPxbfffhtA6TwEssvCrAbcMwsvvHDoPvroo5CLmEnFa50WSbzssstC1uxntl9paEZmuf1ZLbdTfWMu9//Ua8aZhlKw+GTRC/Iqeq9bdtllASTPyaKEEug4GcYBAO3btw+Z7ld9Fnj11VdDnj59OoBSuzkA2GGHHUJmxmkl52xLlTHGGGNMBtSEpYpPsKzxAwAvvfRSyBo0uM022yQ+AyTfjhgAp8GZ+tTO/2dAMFAZq0CalWTeeecNeW6fpDlWrR2j82d9JLWe5B1omdactVybAtby4hsjkJwf29P07t07dJogUIm5ck9ou4rlllsuZA2kpNVQ11qtUqzzpIHQzz77bMgHH3wwgGRtn7zfNNMsieUamrIhsa4paz8BxX/r5/7p1atX6DT5oUgB9oRroRY1TeTQOkxpTY7zvj5UGrU6vfnmmwCSTdp33333kNNaZhUdvZawfly5+2OellY997U22qRJk0Lm/VmvtVrfkdZY9cTQO/Pn36gUtlQZY4wxxmSAH6qMMcYYYzKgJtx/RIPTNOhS3XcMWl599dVDpyY/BrWpyXf++ecPmfo83BBz+5s6fwZw0w0GJFtqsD6Szj9v8766whg0e/rpp4furrvuCplthnbZZZfQnXzyySHT7aZzqvT8+P3qhtbaWPfff3/IdHWpG2H55ZcP+frrrweQdN8WkXK1i+jK1PPz448/DplB9yuvvHLoOnfuHHLee7E+OFe9vrz++ush0z2hdeCK4p5VN8+nn34a8k477RTy9ttvDwDYa6+9QqeulqKvz19F9++0adNCZk0jTZQ55ZRTQmZSRVGPA9f6p59+Cp0mVXAtdfxFSa7Q80RDAtZZZ52Qt9tuuzr/r0lZ1Oua6v3F7j9jjDHGmBrBD1XGGGOMMRlQWPdfWvbJG2+8ETptTaLZXaNGjQIAPP7446FTkx9NgZqlozWDevToUeczRcxIKpedc+eddwJIZpwdd9xxIdMUnIf5WjNO9Pc1E2nEiBEAkmu98cYbh8zu5Oo+a9GiRch5uFq4P9Sl2rNnz5Bpsta/0WPB2lUA8NBDDwFI7s8OHTqETFd1HuunLpPJkyeHzM7xQMn9zHpjQLImFVv5/Pd//3fotCZbUVwR5eBaq0vhxx9/DJl17nR983b/8fe19dUNN9wQsmaqMpOxW7duodPsKoYSFNX9VR/cX5r9PWjQoJCffvppAMCjjz4aOq1tl/da1gfnp+enXl+Kfn4RrV134YUXhvzCCy8ASNYBPOqoo0JmVYDx48eHrmXLliHb/WeMMcYYUyMU1lKVhganafDgeuutFzLfpvVNcerUqSGzUq7WuVpsscVC5hPyzJkzsxp2RdA3jm+++SZkWur06VwrJucB3+60Wau+/WrFd1otdE00aHSrrbYCkHyTKcpbc7m3oHIWOjJu3LiQn3nmGQDptWWAfAJlOX4mCQDAbrvtFrJasFixWatQs8oxUKrYPWbMmNAdcMABIbORtNZRK7p1QOenVoGiwL2i9Xq09pLuzzXWWANAMnhd14cJFJqUUfT10Wslxzp48ODQaVIPa3apJbUo15c5Qa2/5WrGFZm0JuYAsPXWWwNIrqnW+eP1Y5NNNgldte8VtXe0jTHGGGMKiB+qjDHGGGMyoLDuv7RAcQ3Y7dix42w/r+ZBDUp85JFHAADPP/986BraPDQP1KSrQXtss9CpU6fQaaBlHvNj8OvAgQNDp8GxBx54YMisj6MmXbZmAUpuo6Kb58sdZ+5L3XMa6M11nW+++ULXtWvXOp+v9Drq+cOg+cMPP7yODkjW1GLNprfeeit02vD8jDPOAJBMLhgwYEDIBx10EADgxhtvDJ2a/4uy1nr+aZ0xhg0UMSBY94zuP5Xpnj3vvPNCpw1pea3R2lVFd//pWjEA/eKLLw7dIYccEjL3X30u+6Kj4Su1ck8rR1pDbl0frYn39ddfAwBWXHHFKo2uLrZUGWOMMcZkgB+qjDHGGGMyoLDuvzTmxAyr5nc1FdKtot9VS+ZRzktb9gwdOjRkZmLtt99+odNMskrONc1lBABPPvkkAGCjjTYK3VVXXRWyZiqyjpN+fv311w+ZbYY22GCDrIZdVXiM1L3JjE2gtFfVPaqu3DxdLVqPSdtg9O/fP2TORfectuyhe1drejHjDChlFZ5wwgmhO/fcc0PWmnR5nrc6fs2kY6hBLV1TFO6vtm3bhk5dfaw/pq1Diohe87VNFEMJevfuHbqzzjorZO7bWnT5AaXri2YUa3Yu66vV6v4keq/RNlisE7faaquFrtpztaXKGGOMMSYDaspSNSfok+yMGTNC/vbbbwEkn95rsY7HsGHDQr777rtDPvHEEwEAffv2DZ0eizzeUBioPGnSpNDde++9IetbBS0ArJwOALfddlvI2jy5Vkirfq+B2FpxnP/fvXv30GmgdrUsVbpPeK6cdNJJobvkkktC1ur33Hca1K5WN36vWgLUUkWrDxtLA6UmtwCw1FJLhZyn1U6vH5tttlnI3Lfl6kDVCrr+ah3U5vNFQ9fkxRdfDFmt9rSWDxkyJHR5nF+V5pdffgl5pZVWCpn132rdUqXXj2effTZkNjrXRJ9qU3tnuzHGGGNMAfFDlTHGGGNMBvwt3H/aRoKtNhZZZJHQadBzEQMU1X1A9yUbJwNAq1atQt5ll10AJEvzs7ZHpVGTsgbyHnHEEQCAK6+8MnQavMzaIoq2ZunTp0/InF/eLs05QdePLYXUvanu6Xbt2gEA9t9//9AVZX4777xzyNr6SJMm2L5kTur8qMuFe0Ub+mp7laKcnzqOt99+O2Q2lNbaeNp8uShrqeePyjxvb7/99tBp6x266osyD6C01959993QcR8ByUbSdFvrnmosLr9yaNIBQzGKch7NLbr/NKmpCK72/EdgjDHGGNMI8EOVMcYYY0wGNFr3X7ku16yDQzcLAKy55pohF9EUrCZNui/V1K1umfbt2wMo1jyYcbP22muHTus0pbknNeNI3Sd0a9aS+Totk0qzU3SuzJpjls6fP58neswXWGCBkNPcc3OyPjo/tq/R2mS6P4pyLNRlpnXEevToAaA49bSA9JY5mlE7evTokLmuV199dehUZvZl3tcXnRNbsrAGGgCMHz8+5BEjRoRclPFXCu41zbjdZJNNyv4dUMyWSvVRrg4l7yt5rq8tVcYYY4wxGeCHKmOMMcaYDGi07j91P7DzOpDMCkn727xN9UTNm2rKZJsWzRjbeOONQ2b2TpHM2zym6hKhm2dOPv9nuVZIc0Wfdtppqf+vLtK0/y8KlXK/cq6a0VNE9Pzq2rVryFy/IrmneUzVTUI3JZAsyvv+++8DSLrStthiiwqPsGHwWA8cODB0bFcCAFtttVWdv22scF/27Nlztv9fiy4/RcevmcK33norAOCrr74K3QorrFC1cQG2VBljjDHGZEKTvN6CZ86cWbzX7wxo3rx5EwD4/fffKzI/1nTS2lvLL7+8/j6Aylk3mjZt2gQAZsyY0SjXr0WLFhVdP75haUsNhW+SlV6/Ss0vbzi/WbNmNcr5NWvWLJP5lasjxqBvrXOne7XS9wvOb072Z9o5pZaMIiU6/F3Ov2reH9Rq/PnnnwMAWrZsGTr1kDQU3h9mhy1VxhhjjDEZ4IcqY4wxxpgMyM39Z4wxxhjTmMgt+y+vmBz62rU3XZY+d/pcG3tMh2PiahPHHNU2nF9jj2n0+tUmXL/Gfn+YHXb/GWOMMcZkQKOtU6VoJgjrO91zzz2h22abbUJmm4ZacouW6zhPar3OU33za+y1Z4qOZpJxf9XiPlPKZcc1dnTepNavH2mUa3OShs7577QXzNxhS5UxxhhjTAb8LSxV+ibCRptDhw4NnTacZHPYor+R6ZuWvj2xErU2LNaG0qxkXqSK62lozRmtrs36XPr/888/f/UGZgAkj/+JJ54YMmum7bPPPlUfU0PRc2LatGkha8PotPpijcmS8+uvvwJIdmxIm3+tWmw4fp3fxIkTQx4+fDiAZJ0jrS7P6txFX+dy1n3Ov76K6nouFL3jiN7f087PtLlUch62VBljjDHGZIAfqowxxhhjMqDRuv/UJPjzzz+HfOmllwIAOnToEDo19RbdrE2zp5o0OScAeP755wEAzzzzTOh22WWXkAcMGAAAaNOmTeiKYtIFSubbTz75JHQXXXRRyFdffTUAYJVVVgndc889FzJdnUWaU2NBTeuTJ08O+f777w/52GOPBZBsc1L05sic16effhq6jTbaKGTOCQD22GMPAMkyLPPNN1/IaftPz9Wi7Eu9Pv7yyy8hb7fddgBKjdsBoH///iEfddRRAJIuwaJfM3Wub7/9NgDgzDPPDN29994b8hprrAEAePjhh0One/3aa68FAPzjH/8IXZHmz7nqPtOWZpz/N998U+czKmuT8MUXXzxkdbvlsZfT5jdlypSQ33nnHQDAb7/9FrrVV1895NatWwOobOslW6qMMcYYYzLAD1XGGGOMMRnQ6Nx/ae6xs88+O+SnnnoKAHD77beHTk2BRc+K4/zU5DlkyJCQab7eeuutQ/fAAw+EPHbsWADAiy++GDrNnsvDlK3m5++++w4AcMABB4RuqaWWCvmOO+4AAJxxxhmhe/fdd0Om2bqo65h2fNOyx8plt9SXtVNJdByjRo0KWd0L66yzDoBiuUTqg8dcXTp0EwDA8ccfH/Jtt90GILm/1JW+zDLLAACWWGKJ0B100EEhM/s2b3QfffDBByEvssgiAIDrr78+dMccc0zIX331FQDgsssuC12zZs1CLqJ78+OPPw553333BZAcp86lZ8+eAIBDDz00dOr+o6tUM6rzQNdPu4N89tlnAIArr7wydC+99FLIdP/NnDkzdM2bNw+Z+7pdu3ahu+CCC0Jea621Qq5GJh2QXEtmp+qa8Z6g/PTTTyFreM+gQYMAAN26dUv9rSzmYkuVMcYYY0wGNDpLFZ9qb7311tBdfvnlIbPmyAYbbBC6WnqrJvp2om8lDDTVJ24GdwOlt27VHX300RUbZzn0TUvfmhhAqoGSp556ap3P3XzzzaHTRIQ8LTmKjkPHx7f+qVOnhk5rivFNUgPxO3bsGPIpp5wCAFh44YVDV+n9y7noOF9//fWQ1cLDoNZaOqc41kUXXTR0GrysVm2upVpH1WrMBAv9/wkTJoR88cUXAyhWoDff/oFSgsG2224bOr2WcP9pILBaOvK0VOk5p4kEamlbe+21AQCDBw8O3b/+9a+Q6bXQOen60lKl1o9qUa424ejRo0M+7LDDACTrrHXp0iXkPn36AEgmYrRq1Srks846CwBw/vnnh+6tt95K/a5KonOdNWtWyCeffDIA4KabbgqdemqYSDLvvPOGTu8VtLRWMuDelipjjDHGmAzwQ5UxxhhjTAY0CvdfWlCimi81uO6kk04CkAyuLGpQ8+zQ2j9pspq0NWj9vPPOA5B0Sejn1a1YSVO+ml+//fbbkBkAzYQCIFnziO0lvvzyy9AVvfmtjo81jdR9oseZ7qVnn302dOPGjQuZ5n0GFFeDtOQPrW2ke+avul/ra2KrVGtNdezq3lH3OP9G56/ua/7/cccdFzp1laorI0/0mHbu3Dlkuv3UJah1fpjUUpSAdEXX7/vvvw9ZXVY8fzTQPK3NFxNmAGC11VYLmeddNa8zPFd072j4htbcYqKShoRo+ADdYnrNv/vuu0N+5JFHACTd00y+qCZ6ffj6669DvvHGGwEA++23X+hU5h4ody7zXNRjqdevLLClyhhjjDEmA/xQZYwxxhiTATXr/lPz4A8//BDyiSeeCCCZcaWZgMzwqUWXH1Cat9aeYu0NoNRFnVkuQMmkC5TcFhtvvL0F3EwAACAASURBVHHo1L2Wh/tMf3+BBRYAkMzeUVcDzbpqvu7bt2/Iu+66K4BkbbI8MgJ1zJodx3HpcdY6MA8++CAAYNlllw3dddddF/Jyyy0HoFj7VzNp6TZIWzNF3TMPPfRQyJMmTQKQNOlzTwPV2586ft2LROtNaaYRXQkrrrhi6NT9VxR0fjr+3XbbDUDyOKuriddVre1XFHTMmsmp7ltea/RvdS6s88R2J0Cyzhj3dzXPv7TsW22jw2smUForddnpWtNVra2/zjnnnJBZn0qzX/ValEfLJb3W8xjoNSetjp+24dH7P7OujzjiiNDZ/WeMMcYYU0D8UGWMMcYYkwE16/5Thg8fHvI999wDoNRNHEhmP9CUry4JNf/SLFzELDKgZHLdZJNNQqctW5jdt/3224eOBfsAYNNNNwUA7LjjjnW+s5rob2qmCU3Nn3/+eeiWX375kNlSQ/9f3Re9e/cGkDQJFylTiVmnH374YejOPffckFdaaSUAyYwc3b9Fcfvp+cOCekDJvaDFE/Vvmd157LHHhk5daXT1qXn+iiuuCHnppZcOOc9jUc69yUwldblrplnWroYs0LnwmKrL87XXXguZ55dmFxfp/CL1tXYqFxLAddPs3M0226zez1UbvWfp9XOxxRYDkFwTdZ9deumlAJIZg+uvv37I11xzDYBka7A8XH76O+rKZRsszf7WY8Hr6uGHHx46vWYw/EKvOS7+aYwxxhhTQIr32jQb9C1By/Br0B4bJW6zzTah0ydRPtVqoCyfzoFSoKY2VC2S1YrHQIN3ad0AgPvuuy/xLwBsscUWIdMqkncTZV0TrRnWtm1bAMmGz506dQqZbxr6Jj1ixIiQ11xzTQDFWjOF477kkktCp5YMtlQoonVK0fX78ccfQ+ZY9VwdOXJkyDy/1ltvvdBpIDSPRa9evUKnQcPlgmbzJG2uL7/8cuhOP/30kGlVKOr+pIVHzyk2YQdKiUBqcUsL5C8Suldp4VhooYVCp5aOMWPGACjVkwOSlo48r5Wa8KLXh6uuuipkemj233//0NE6BZSunzvvvHPo1JPBljV5WKeUcp4Mtpm78MILQ6ctu+i1UuvcnXfeGTItVJW8dthSZYwxxhiTAX6oMsYYY4zJgJpy/6mZduLEiSGztghQcm+pSVDN06wZs/fee4dOg54//fRTAEmTaR7BieUC6dmG5/rrrw+dBgrTRKy1m7SOFd1+RXI/6Pz+/e9/J/4FgDvuuCPkjz76CEDS5E2XH1CseRENmp08eTKApHuWndWBUn0xNV8XHda2AUpuE22to3tx9913BwAMHjw4dOr+ZICwJh9oS56iBEXrmupa9u/fH0ApDEF1QOm8Lso8gOT5R/fYkCFDQqeBzHTPF/E8U9JcegDQp08fAMmQCQY/A8Bdd90FIOmSXnzxxUPOY978TQ2T0DZIb731Vsh0740ePTp02vJrhx12AJCsU6VuRf5W3vtTf19lJlg9/vjjodt3331D3nDDDQEkE9X0WlINV7UtVcYYY4wxGeCHKmOMMcaYDKgp95+a3LV2ipbvZ3l+zU5Ja2Ojpf3VvUBXRN4uP+2iPWzYsJAvv/xyACU3JZA0dbNNC+tVAcmaHEXJmFJ03nR7sZ0OkKzpxKxOze4sOmq+ZiaK1lnZaaedQi7i+tSHZuexDcQNN9wQui5duoRMV7Sa5HXObI+hx4wupz//bR7wXHvjjTdCp64YXkvUvaI1u4roNtPzj64izejUmkZ0FeW9DmnoPPSewGs+AHz33XcAktnjmmnctWtXAECPHj0qNs65pVwbHs0kZtbso48+GjqtKXbggQcCSN7/WFsOyN/tl4auK+8Lek+fMWNGyLwvaHZ8tfeqLVXGGGOMMRlQU5YqfYrW2iH6JEsL1lprrRU6bajIAPdtt902dFpThnV01PpT6SddWuAYhA4AxxxzTMha54d1OrTirQaiM2hYgxqL/nasgZaspP3tt9+GTteaVoFasr7pmxQTJbTh9WqrrRZyEdeK551aitX6ola3W265BUAykFRrymj9H/Lqq6+GfMIJJyS+B0gG0ubxJq3XAjYU1tpTrKIOADfddBMAYNVVVw2dBsfyGJYLxK0WupY//fRTyEwA0TpHbdq0CfmvnmvlLP2VmGvab2kiy9tvvx1yhw4dAADvvfde6LRm38knnwwgmehUxOuLHkc9F2kpZmV1IFkdnlats846K3SsTVXu+/NA11T3Kq3ien/QeyU9TZroo5+vBrZUGWOMMcZkgB+qjDHGGGMyoKbcf2pG10BCbR580kknAQAeeuih0GkdKpo1tfYRXX4AsMoqqyT+rlKoeZMuH62N9dJLL4WszXXZEPnGG28MXcuWLUOmW1NNnkUxX+uYtLZYz549Q+bxf+CBB0KnNbkYdFmUxqbl0PGpe4UNhXfZZZfQVds8PafwXFA3g7qHnn766ZDpFtNzShvScq9/8cUXodOaVfzbNdZYI5Oxzy3q8mNwMwAcffTRAJKtsdTVx3Vn428g6Uri/NV9XcnmruXQ/UmXEQC88sorAJJrUt+1JM1Vo4k2et2u5Fx1bJrc8uuvv4ZMt5H+rSY1cXzlGrJzrjrnarV00TFpcPlRRx0VMhO1LrvsstBNmjQp5IEDBwJIJvqwNhdQal6v88vDFVguaYuhEhpeoOfX+++/DyC55zQUphoU+2pujDHGGFMj+KHKGGOMMSYDasr9p2ZIzQg655xzQmamCs2AAPD999+HzEwIrS1z0EEHhcz6OXlkYWnGAs24ALDRRhuFTFP9FVdcETqtQ7LEEktUcogNQs3XmvE1ZcqUkHv37g0g2TpC20zQ1cQsnlpA2wjRFcF6YkDS1VTE7D+i5x/r+QBA9+7dQ77uuusAJPeymu+ZyTpgwIDQdezYMeTzzz8fQLJ1TaWPCV0N6lJhvSwgWSeO7jHNYmTrJKBUJ6h169ah0+wquop23nnn0DHjFcjHFazuK9bZ0oy/pk2b1vmMrolmtzL7Wl1ObB0CACuvvHLI1XIr6fh4L1h33XVDpzXHDjnkEADAscceGzqtszZ9+nQAwDPPPBM6bcO05JJLhpxV2AX3p55TGv6h+++ee+4BkKzT1Llz55AZXqHXn1NPPTVkug21jlW1QmHU5ccsaQB47LHHQj7++OMBJPfkgw8+GPL48eMBlLKI88CWKmOMMcaYDKgpS5VSrrosn2SVb775JmRWJD/00ENDt+CCC4ZcraDutOBHfYvThpD61E0LHJ/IgWQdIAbtFdHioXPmGxNQanIKALfddhuAUr0fIPlWwjdMtX5oIGLe9VXS0Or3Cy20EABgxRVXDF3Rg+7TUOua1kljJWutM6XV1WkB2XLLLUOn+5tvyNXcvzz+GvyqDdfVesS92q9fv9BpIgITTPSaox0baLWiRfbP358H+vu0hGuijzaHZk0yTaR54YUXQmYgsR4/3evVWle13uv9gQkWail9/vnnQ2b1eB2/7vVll10WQKleIJC8f1RiflwfrRJ///33h6xWewaaq9VVq48zQUTHqfuXVPOaxN/SLhp6TdH1oydJjwXv6UCpPmWe55QtVcYYY4wxGeCHKmOMMcaYDKhZ959Sn8lV6zixPL+6+fKu40TzpwYPTp48OeThw4eHTPeXugfVlcDvKqIbTI+zmqyvvPLKkOneZMAzkAxEXH/99QEka8sUHW1OW+T1mRP0nNOWGEygUPeItpRggLu6urWmTFHc1nSjAMCRRx4ZMoOS1b2ka8k6cep+0fpepFq1jcqhx1mvjwxaVveYtjlp3749gGSdQE0UYtKBuuwrfX1Na6Ok4R177rlnyHTfab0sTbSg+1ITadLqJK200kp1fv/Pctbod6tLcty4cSGzZYvuP3XVMqhdr7/a5iUP9zvRazrDJIBkHbXRo0cDSCaSaHjFeeedByDf5B9bqowxxhhjMsAPVcYYY4wxGdAkLzfEjBkzatv/UYYWLVo0AYBZs2bN8fw040Jrkmh2ButzaZ2uana8b9asWRMAmDlzZmY/pPOm2VbN19pmgvWL1LybJc2bN28CAL///nuD5qeuCG0JMXbs2MS/QLImUKVdJU2bNp3r/flX4Lx1fdJaelRqntyfczM/Ped0/6mr76+6byvV5oPzy/L6qXuVrpJp06bV0QGl7Cu9/qjbhus6t3NuyPVTqW//lRsfP1fu+sJjoS7rOWFu1o/j13XQ2n0MaQFKdbh0/O3atQuZbnltA6Vr2dDwBK7fnNwf0jINtbbf2WefHTLrn+k9gRmbALDxxhsDSB6rLM8/3h9mhy1VxhhjjDEZ4IcqY4wxxpgMsPsvY7IyX6d1fgdKpsxquvyUSrj/0tD5p7lSKjXnSrj/tJAgzfbPPfdc6BZffPGQK52pUmn3X940xP1Xbs8VJSMRqIz7T0lrGVLf+ZfluZjV9bOoNGT9yq3J3BTqLLd+DV3LuXH/paHXz7T9V869Xq37w+ywpcoYY4wxJgNqp9jP3wx90s67jlYe5GWJywq1bgwdOjRkJh2wndCf/9bkR63vuSyo9Ju+mXv+Tvuzlq+JtlQZY4wxxmSAH6qMMcYYYzIgt0B1Y4wxxpjGhC1VxhhjjDEZkFugejVLKqRVx61U8DdTSv/4449GaQKcZ555Mik5UFRYcqCxl/yodEmMvGDKc2NPyW/s519jX7/GPr/Gvj9nhy1VxhhjjDEZ0GhLKmhxsFGjRoXMPlUbbLBB6t82FtL6eRljKgvPu3LXFMaw+pysHg0tlFmLa1ULhWwbK7ZUGWOMMcZkQKOzVPFN8YknngjdjjvuGPJhhx0GIGmpakzwTfjHH38MXbmO8saYuaNcGykWdx0xYkTorrvuupB33nlnAMBRRx2V+l3Oxs6eWbNmhfzZZ58BAF544YXQzZw5M2Qe/+7du4du+eWXD7nolh7upd9//z10KvNe4H1WOWypMsYYY4zJAD9UGWOMMcZkQKPzBY0bNw4AcMghh4Ru1VVXDXn33XcH0LiC03UuM2bMAJB0bw4cODDkXr16ASi+GbsxoevD8h7lXD4s9WHzfDHhuun6vfbaayGfddZZAIDHHnssdNrn8V//+lelh2iQLJlz7LHHhnz77bcDKLlpAaBp06Yh87qoLtt777035KWXXjrxd0UgLRD93HPPDZ3uz1tuuQVAch8WaS6NAVuqjDHGGGMywA9VxhhjjDEZULPuPzV5qin34IMPBgCsueaaoTv//PNDpvm2UhXV80Czj8aPHw8A+Oabb0Kncy2i2zMtk0rnlOYKq68OkM45D1eajl/X4oILLgAAfPDBB6Fr165dyIcffjgAYIkllghdEc3z2qUgbS10zJp9xLXQNdHvoiumSOdn2v58+umnQ7f33nuH/MMPPwAA9thjj9AdffTRITOTLO+Mv3J1jHTfpsF1rW/MebuvdU6a3cf7wiabbBI6DZW4+uqrAQB333136F555ZWQl1lmmewHmyE8l3799dfQjRw5MmSGx+j8NTsyT9I6nwD176X67mn6/9UIr7ClyhhjjDEmA2rCUsWnynJvVxqIuPjiiwMAzjvvvNC1bt065CK9ATeEtNo4AHDGGWfU+du111475DzfIMtZN/RNafr06QCAzz//PHRaZ4vfwb/783fxuKy00kqh00DUSs5fxzF27NiQ1WrBt+a11lordDfffHPIDIq97777Qte2bduQ87Ba8Zjqsfv4449D1v3H9Zk8eXLo9Fx89913ASTPw2233Tbk0047DUBy/f74448Gjb+h6Ln24osvAgD69u0bOrXEDRs2DADQu3fv0DVr1izkaiUipCVH6DFX641aNb788svZfm/Lli0BAPPNN1/odE/yXEsL/q4mumaXX355nf9Ps44CwEcffQSgFNAOABMnTgy5Z8+emY4zC3QvsQ4h74NA8vr61Vdf1flM3lZT/uYnn3wSOj1nVJ533nkBAP/5z39Cp+cf0WuGzr9Vq1YAgBYtWjRw1OWxpcoYY4wxJgP8UGWMMcYYkwE14f6jeVLN1w888EDI6mq46qqrAADLLrts6BqLy09Rky1NugDw8ssvAwB69OgROgbnA9Uzxae5aj/88MPQ6ZifeuqpkDn+Z599NnSLLLJIyDT/fvrpp6m/RbO/1gnaeOONQ67EXuBvTp06NXTHHHNMyBp0fu211wIAVlllldAxuQAA9t13XwDAiSeeGLpbb701ZJqtq+k+YssjTfi46aabQta1JJtvvnnI/fv3D5muFjXfq3tm0003BVCq9wSUWrsA1WuzpO6jb7/9NmSui7aB0vGzDp6uT7Xcl2n16oDS/nr//fdDRzcmUHJ5AcDzzz8/29/o2rUrgKRLWudHt+2ee+4ZOg3uztsVmEbasVKXk4ZPpLlSi0R9DbuLOG6O9aSTTgqdhk+oq457Sd3UP//8c8gLLbQQgKRLUPc3Q4X0t7LGlipjjDHGmAzwQ5UxxhhjTAbUlPuPNTYA4MADDwxZs6fatGkDoHydIpqC00r7qz7vOiv1oSZ3bUnAeQ8aNCh0adlH1YSmXK3no+4TzT7icdc2Cvr/NPUusMACqb9FU/5DDz0UOrqUgMrMn2O+//77Q/fOO++ErPt2hRVWAJBcvy5duoTM7CLNmFO3KVsuVXMdmd2nbtozzzwz5O7du4fM8+ef//xn6DRTjKhLZrXVVgt5hx12AAAcddRRodOac+p2yvoY6DVB3QfqKhgzZgyAkpsWAPr06RNyWh2uNPdTJdxg+jsPPvhgyAcccECd31SXl67P+uuvDyBZx2jKlCkhjx49GkCydYtmV9E9puf3kCFDQq5WJm59lFtrZh0vtthioVP3XxFrxqWh49Twgw4dOtT527zvddwzw4cPD51e89T9TvT6r+Pn9VVri22//fYhMxRGz5Ws19SWKmOMMcaYDPBDlTHGGGNMBtSE+4+uEi1sucYaa4Ss5tk0tNDb999/DwB49dVXQ6eFDOeff34AydYiu+yyS8iaSZdn+xPNfnvkkUdCZnE+Lf5WrXHqcf7iiy9CZusVdSM0b948ZM3ooktHixOqe4J/q+6LNDdQfRk/WcLjO2HChNCtu+66IXNNgPSx0qUElNyWmvGSVtyu0uieWWqppQAk212oezZtf6kubfy65rov2OblhBNOCB1buwCVdXvq/mUWKpB067Jo6+mnnx463cscn85Ps5N+++03AMmM1oaen9zr6iZRVwrRwpV08wFJl2rnzp0BJAvu6vrR1afZg+reo6s7rTVREUhrafLkk0+GzD2uBWn1+lOkuaTB+ek89VylXMR56Dg1JKC+4qRphaSZZQ0AW221Vci9evXKZrCzwZYqY4wxxpgMqAlLFQPJ1KJ0xRVXhLzggguGnPYmq1YpBtg+99xzqZ/hGybfKAHgu+++q/N5oHwDyGpw3XXXhazjY/NWfdPMozbVL7/8EjKtgxqcrW/y+ibIoPLlllsudPqmwZZD/fr1Cx2DZ4GShUfbhFR6/px3+/btQ6cNWXV9WD/tvffeC53WYaKFT60zaunKs/mu7qm5tRjRqqKB/NpwmHWQDj300NBVOriZ89N9ooHe06ZNC5l1qDT4V8dEWWuL3XPPPSHzuLGdDVBqnfHnMcwpah1SSzutUpdddlno9Jqp409ro6PHn3XiNLlCE0m4vkyo0M8Ala3ZVa4Je9pe1eD6a665ps53lNt/RazzlGap0etLEcecxtzufV0f1q/U+7vWPGQCTSWPiS1VxhhjjDEZ4IcqY4wxxpgMKKz7T02adJ+oyXrJJZdM/RzNeto64pxzzgmZpsLddtstdBoUR1eV1n7S9iNqoqyW+0+PBQO4NbhZg9IZjJoW/F1p9HfUfTVw4EAAwBtvvBE6bdOyzTbbhMz6MBr8q8eZ7U3U1aFrwjpl/PfP/18JuD4aBPnoo4+GvNlmm4V8/PHHA0i6lxS6ldRlokHNedbJmRPXm/6t7kW6N1mPCii5/ICSW0xrq1Vr/bR1DusVAaXWK0Bp3HpOqquN49frT1pNPP1MuWvZX4XHWmv38JwDSi51dbPPSfKDjp9hEZdccknoJk2aFDLbhGidq2qtH5McAOCGG24IedSoUSHTvaeJMK+99lrIHLe6L9OC24sKr8G8jwHJ+wPXp4iB6nOC3hO0TRbr22ntuE6dOoVcjXuhLVXGGGOMMRnghypjjDHGmAyoCfffxIkTASSzcNSkrNH/rBV0wQUXhE7N4ldffTUAYIMNNgiduhro6tPPq/siD1Ow/uYTTzwBAHjppZdCpzVV6D7Kw02kJmU1z7I9zT777JP6tzrWNLO0mmxvu+02AMDrr78eOs36YU0sdRVX+ljw+/U3NdNKM8FYP0hdSiNGjAiZtdi0DlktouuvmaCnnHIKgOSaDB06NGS6qKqZsZTm/vvkk09CZm0qoFSnTtto7L///iGzJdPJJ58cuvHjx4fM81evOQ11xfDz6jLedddd6/zd3J4HupafffYZAOCWW24JnWb0bbfddgCS2buVPv+4Vw4++ODQqftdaxp+9NFHAJK1w3R8dAXq9V+PJduglLt+5YFe/9geSN3XzDgGSrWg8h5zQ9HxX3zxxXX0mlFcbVenLVXGGGOMMRlQWEuVPl3S+qLBnWoJ0JoiV111FYBkoN5+++0X8jLLLAMgWcVZ6wjxe9W6xYakQPUagqp1SquHX3/99QCSdbT0qZxv+vr2mHeg5dzUplHrIN8ugVKlbQ1kP/XUU0Nm9fs8AjH1N7nPAGDAgAEhc6+qpUJr5mgAbS2jx4LWRQC46667ACQtCVqHiwHU1dyzHKtWsU8bE1CyZB9zzDGh0+rrDFTXQHytZM4EDVo89PezJMvv1D15xx13AEhaQg455JCQzzrrLADla0ZlhVrPWKfuscceC90RRxwRsq4FreV6TdKadpyXWk/p3QCAI488EkCpXhmQvFfUV/27EuixeOuttwAk68BpIhCvm7VqqeLxVeu3Wk25PpooVe252lJljDHGGJMBfqgyxhhjjMmAmnD/sWYI660AydYCWpOE7jltqXHzzTfX+Vy54OgVV1wRQNK92LFjx9S/rSRqPn/qqadCpom7b9++oevQoUPIDNrM2+XXUPQ4M/gXKCUraJNrde/SbZi3ebtcoDXbJOj66t+ypow2pK4leP7de++9oVP37IUXXggAWG+99UKXt6uae01dsmwiDZRcXgDQvXt3AEn3lyYabL311gCS1ydto8QAdnVfFxFdh4cffjhkuje1sbwmoPC6W+lEAz1/brzxRgDJY/r111+HvNdee4XMBAStQ3jggQeGzOuGrpnWHGObMm2TdtFFF4W85ZZbhsx9Vc1rEV21ek5pAgNdhXlfH+cWXt/1/qwhOXvuuSeAfO9/tlQZY4wxxmSAH6qMMcYYYzKgsO4/haZe1vgBgA8++CBkNd9Sv/DCC4dOXYHdunUDAKy88sqhYxd3oFTTQ1tHqClb3VKVNDFqxs2ll15aZyya8UeXElDZLvDVgGv97bffhk7N7zT/br755qErehd55a+6BHRvFd2Vq64YtixhuwggWeeJ7SP0M3m7Irgm6j7SjL3bb789ZGainn766aHTOkinnXYagKRLSLOv6KpOa11TBDguzS5W9ybd79rmq127diHncf5xL2kdQw0J0XsBsxP33Xff1O/i/DfccMPQ6f595ZVXACSz/9T9qfvm2GOPBZDMBK4Eek9adNFFAQDzzz9/6DRrfvr06QCSGYO674vYvkavFcz60/ACrSPG+ed5H7ClyhhjjDEmA2rCUkX0jUMDXbV6MZv2HnTQQaHThpJ86tWnX5VJuSfdSloNdByPP/54yM8991zIe+yxB4BknZuiW2fmBB6DQYMGhU4bnrIhqDYpLuLbVUNRi6PWsaLVNe8563nw66+/hrzjjjsCKFVuBpIWZgbNFsk6Q3RMXbp0CXnttdcOmRXRWRkeSNYho4WAAbNAsrlxEd6kZwf3lQZip1Un1/NTa8pVa131/ODx1dpimkiga6EWKJJ2Luk8NNCbng7uA6Bk/QKA++67L2QmWOm9qBLoXqIHZrXVVgsda8MBwMiRIwEkPR3sePHn7yoiTBp5//33Q6eJFLwu5Xl9tKXKGGOMMSYD/FBljDHGGJMBNeX+U5Oemn933nnnkFm/qL4mvUpRXBE6zlGjRoXcqlWrkGlqLhecXvSg5jTSgnY16FTdX3T7LbLIIqHL2xVWCRhQCiSbK7MmWd5menVVv/nmmyGz5dM999wTutatW4dc5EQK3Ud6fmmiBBt5lws0b9OmDQCgffv2oVP3WN7rlkZaIPCzzz4bOj3/6D7L+/zT32RSEWtIze5v5+b4p90ftDagure15RlDFXTPa1JNVuj82NRdE3leeOGFkOmS1OSJIl4/9fzS/ffkk08CAPr16xc6utSBYtzLbakyxhhjjMkAP1QZY4wxxmRATbn/ylEEk18WqBl28ODBIatZm9lFasauRZefou4HZm+++OKLoVPzLtuAFL3NR33oWutclltuOQDJLuxq/i4KWkdNs9+YlTpx4sTQderUKWTNpCoyek3ROkPLL7/8X/qcnp9Fvz7p+Uf3pp5/Gl5x3HHHAUjWOcrbfcTfr6ZrWddXXcXzzTdfnXFVev3Tjn///v1D1ppczB7W2o15r18aek/TayHbtD3yyCOhU5dqEcILbKkyxhhjjMkAP1QZY4wxxmRAo3D/NUa0eGJRW1o0hHLZHWyJMWXKlND16tUrZLoi9PNFNF/PCep+OeCAAwAASy21VOjoEgTyXX895j/88EPI6v6gKX7s2LGh22STTUKme7CW1kxdPUXM3psbdC21Jc2tt94KIOneO/HEE0OmK74Ibpai0NDswizhWJo1axY6LX5dLZdklnz88cchcy7MsgWKdy2xpcoYY4wx/5+9Mw27amzf+Ok4qMyzDJlDQmbKlLfInDkpYyiviNdMlHkeM8+EzNNrzhDKmCEh1jsiQgAAIABJREFUiShDZCgRTe+H/4f/cV77XJ617Z7nWWsPj/P3xXVceva+73Xf695rXaPJAFuqqhR9+q62J/Gs0bfiNm3aAAAWXXTR0HXu3LnOv630G2GW6FsjG3r369cvdGoVqORe0HFqS5DBgweHTEuVBqS3aNEi9TNMdaD3EpvvakPetdZaK2RbqGqDarKeNRbW+wKA3XbbDUDy96HazhRbqowxxhhjMsAPVcYYY4wxGTBPU3ctGWOMMcaUg4rFVM2ZM6dJPs3NN9988wDAzJkzm+T8WrRoMQ8AzJo1q0nOr3nz5vMAwOzZs5vk/Jo1a/aP2J9ev9rkn7J+Tf33r6n/Pvwddv8ZY4wxxmSAs/9M2dDaOA1trUN3td3WxtSPYvdfqXtRs6tq8b7TOnCca6l5/JOyr0222FJljDHGGJMBtlT9w+CbmtaGyrv2DN8Uv/3229Adc8wxIU+aNClkvhWyHgkAHHjggSGzua020dQ3aX5XtdR2akqoRUPf/ued9++PEV0f1sypttoy/zQmTJgQ8qBBg0LmPaoVq7WiOhsGV/v66V7V7gyPPvooAOD5558P3RprrBHyfvvtBwDYZJNNQqcNz6t93nOLXh/9LaC+lhqCVxu2VBljjDHGZIAfqowxxhhjMqDJuv+KuSrSUPdQUzR16rX48ccfASSbVKqpu9S1agi8vi+++GLoXnrppZD1mtMUPXbs2NCxySsA9OrVC0CydY22MaCpv3379qFT832lXYG8vqWCg6tpT6aN9Ycffgj52WefDfnPP/8EkNxHrVu3DnnzzTcHkGwzoa6GSq9PKXgtdH71uWfoli7nPDm+adOmhe7oo4+uMyag0H7otttuS/2sc889F0DS5Vvp/Ul0HUaPHh3yHnvsETL3Z9u2bUP36quvhsyWS0ceeWTozjnnnJAZdlDt+7QYvEYzZ84M3eeffx4y7+sNNtggdEsvvXTIlV7rtLMo7V7UcZY70cKWKmOMMcaYDPBDlTHGGGNMBlSsTU1eFWXpPvr9999DN3z48JDpalCXQ8uWLUPecMMNAQDNmjULXX2uUR4V1fX7G1LfSc2fffv2BQCMHz8+dE8//XTImlWXRkMqqtMk+9FHH4Vul112CXny5MkhayYKSctOVPfRUkstFfLEiRMBACeeeGLoTjvtNB1/yGnr2piK6sXcQLrXmHWlmZA6Z67VEkssETp1VdDtUsy8XYqGVOTm+L788svQ9ezZM+RWrVqFvPzyywNIzvm3336rM9auXbuGrkuXLiEvssgiABpups+qInex7CjO5bnnngud3j/cq7omzFgFgBNOOAFAcs+Wa/1++umn0A0cODDk/v37h0xXz0UXXRS6K664IuSrrroKAHDwwQeHLsuaTg1ZP67VnDlzQqfuTZ4JAHDTTTcBSJ4fM2bMCPnWW28FAFx77bWhu+eee0LecccdATQ8Y7pcFdX1LJo1a1bI/C285pprQvfxxx+H/P333wMAOnXqFLobb7wxZL3X0/ZtHhXV02qq/fHHH6F75ZVXQh42bBgA4IADDgidujIbW+fQFdWNMcYYY8pEkwhU1yfZt99+GwBw9tlnh+7ll1+u82/VEqXyW2+9BSAZXJt3HSeibxd8YwCSgZK9e/cGkP70XeyzRowYEfITTzwBIFn7qVSdocbC8anFRd+UNVBU1yINrp8G2uubFi08N9xwQ+jUUnDYYYfVa+xzQ6m3J50fg+713+obH9+2Nbj+0EMPDfmII44AACy33HKhW2yxxULOyvKc9nao+2jNNdcM+fbbbw+Z+66Y9WLKlCkAgMceeyx0msCw55571vn+clnT9Tt1TT744IOQzz//fADJNVWrh54b5PXXXw+ZZ8nFF1+c+r15zJVWQ7V+XnnllSHr/U+rllp31QJES9tCCy0Uun333Tfkcp2VStr9x4QcABgwYEDIXB8d55JLLhkyA9RvueWW0L333nsh77zzzlkNOxd4LdT6369fv5C5b7UOoFqd77rrLgDJOl7vvPNOyHqW5hm0XizRjPeSWkp1LZdZZhkAyfNFz6eOHTvW+a6s7zlbqowxxhhjMsAPVcYYY4wxGVCz7j8NHh01alTIrEkyffr00J166qkhr7zyygCSQdMMXgSATz75BACw2mqrZTzi0qgZUwMl1ZSpbrs0aDZlPRagUFsGKLjXDj/88NCpeTUP9wM/U026dGMBBZfm3MDP+Pnnn0OnAdQMtP/vf/8bOnX/6vXjtWjsnDmmF154IXTqEunRo0fIDKB99913Q7fqqquGvNZaawFI1vHSOl0MpO3QoUPoLrzwwpA32mijkBszr7S/bdeuXZ1xAMm1YJ0jDVTXdWeAtq4/XYJAwdVUyg2cJRyfujPuv//+kOny0n/DhA8AOOSQQ0KmW1ZdakOGDAmZgbRptdnKSbGEFK6bjv/MM8+s8/9POumk0K277roht2nTJvHvygGvJVvoAMlAbK2zxP1V7N5I23/699VYn0rvL47/jDPOCJ3W7OJvibqpDzrooJAZdqIB6erqL9f8i/2+817bZpttQqf3JxNl9PdTf99Zk3HBBRcMnd1/xhhjjDFViB+qjDHGGGMyoKbcf2rm1No3//nPf0JmVsojjzwSui233DJkmvqeeeaZ0KmpmFlbmuXRkNpQ9YHuN80y0dogu+++e8h0+xQzWXKs6lL58MMPQ954440BJN2blTBpNzZLSDPetM1OWk0edX8OGjQoZLqiGjt//v3WW28dutdeey3k9ddfP2TWydI2EeqKodtB66zoWj7wwAMAgLPOOit06mp8//33Q+Y1amyWDl05Oo/99tsvZM1OvPPOOwEUsnD074F09/TJJ58c8imnnAKg4AYF8s8o4/3HGmJAMvtNXSXMjtL7R9ePe0Ez5nR/sU2Pujcqcf+V+k7dM+oKO/300wEkM8I005pu4QUWWCD1s/JEwxiKZamlzVvXgue/uj+1pl453Zpzi46fmaqanap11Lgu2rpn3LhxITMUQ9dv7bXXDjnP+es8NKRAM7b33ntvAMnzT8fK80XDI9SVz/qVmr2aNbZUGWOMMcZkgB+qjDHGGGMyoKbcf2qSVfedulroimCWH5AsFHnfffcBSLZeWGWVVUI+7rjj6nxX3ibf2bNnA0i2hlCTtXZMp3mzVPbK9ddfHzotisf2A5XIOFKKuVTn1hVSzKRP/YMPPtioz68P/Ewtrqjm57TvVJN1WqHM+eefP3SlMuE0E6ZUG56GkPY52gZEXV10W2prD20DRcaMGROythFhIca8XWK6/3h/Dx48OHTaukT1a6yxBgBg2rRpodM2IGPHjgUA3HHHHaFT9wszAdVVVWmXUqnwBh0fM+z0rNphhx1CZqbtrrvumvr55XJ1lrqmOiZdP/6WaHFdzf4rlyuzPuhcWPRTz3cNNWD2HLPcgeRvxT777AMgmT2fd3Z4Wvathr/oucpM1GLnHF34+veavcj9m+c+tKXKGGOMMSYDasJSxSdZfaPQgFx9kmajU60DpH/HJ1m1RGkdK9bnyPvtUd8u+Nb+xhtvhI4BeUDpljT6WXyD1tpWWkemW7duAJLXLI+3r1Kfr4kGapXhG1YxSxo/q9jbE+tTPfroo3U+M2/mprFsqYaeP/zwA4BkHSi1dNASom9qWudL66+oBSkLdMx6fxx77LEh802Q+wxIWoW5F5988snQaaA7kwcqYb3R60XrMZDeUubzzz8PnV6XSZMmAQCmTp0aOg3KZxutbbfdts5n/vWz8qTY/cnv1/Mxbd01aaF79+4h00LAxsNA5a3iaej8v/7665D5+6GtXTQRodJWxVLQ0suAbADYa6+9QqZerVP7779/nc9ZfPHFQ857T3ItNCFHa/7p+cCWULpn1RPDlm5sxwYkreYMUM/T4mhLlTHGGGNMBvihyhhjjDEmA2rC/ZfW5qRr164hP/TQQyHT1de+ffvQqSnz8ssvB5AMTk8Lqszb5KmuBo5JXQZqktWaGuqWIGqq/+abbwAkXQ46F5p/s5wfr5mOTZMHWDtFO6er+4StTYCCK3CrrbYK3fbbbx8yay/p+NWVxKD+tOtUKdTVQBfvBRdcEDo1RbPlDttFAAWTPlBwtWmdKLYGAfKv6USK7R/WlNHWOxrITPO9tsbQudC9kvf9p5/P9WGSCpB0CT3++OMh0xWvwa/bbbddyKwp9/rrr4dO55/WJiXvOnhE96EG2mubIyb1qEuvS5cuIafV99GaUKwJ9OOPP4aOrUOAyrd5SQuK5vkLFO41baNU6TGXQudC97MGmuv+Yp07TW5RKjlXda1qyA6TQ4DC/DT4/rLLLgv57rvvBgD06tUrdLp/S4VfZIEtVcYYY4wxGeCHKmOMMcaYDKgJ9x9R87W2JtGWNMzU0DYS2nKCJkZtPaB1dCqR3UGXjWZ0sZ4WkDSFfvTRRwCS2R1ax+jTTz8FkDSPaksXZpe1bds2k7EDBfOyZvSx3glQWLe0diV/hWZZmnEBYLPNNguZbXbUvanuGWaC6DVRU/AiiyxS57saQn2yJ3Wu/LvvvvsudJq9wvYMOmfN1OG+LlZHrdKuCn6/us/0+lCv7kFdq6wzFucGjo+ZhwBwww03hDx+/PiQef2Z5Qgk9wLrW2lrDF0fug3zzr5NQ7PwNDtYM6VOOukkAMk6PzqXq666CkAhS/qvcP0rUc9J77NS58uIESNCp9fiuuuuA5A8M9NctZW+z3QtR48eHfKJJ54IIOn+23DDDUNu164dgOT1qXTtLX6/hul07Ngx5D333DNk/lbr/DSsZPXVVwdQyAIEknWuyhEeYUuVMcYYY0wG1JSlSt8O9O2W1gug8ASuDT+1ujGb3h5//PGpn1su0upk6ds96y0Byerxv/zyC4BkbSd96+WbvgbS6puoVgrOE30joAWuWG2ptLdK/f/Dhw8PmQ1P9W+aN29e5+9222230GlQuP7buX1D43fpnBjwCRQadhdr4qqWCu5VDWTWiuJMwNBECm1oygD8StfLKWYJoNWYjZWB5Fx//fVXAIXKzkAyaJadECoxP10zrfeldeL4b4pZXYcOHQqg0HgZSFrFVa4kahFUqwfr42mTbq1zxGD+8847L3SsvQUUKupr8km56hzp/aldNHQthg0bBqCQEAIU9iQAPPXUUwCS3gttDs57vFhD7FwDoOX8pMcBSFriORet7aTNlZnIpMkvlbZU8Zrp/AYMGBCy3jNcV02EePjhh0NmJwudX7nPEluqjDHGGGMywA9VxhhjjDEZUFPuPyWtiS5QMAv27ds3dNpmoH///gCStVMq7Uphywd10zHgHEiv77TpppuGTmtCXXnllQCAzTffPHQrrLBCyHmap/Wz1b1AV22xdhylXIHqKuVaFnM/cS11zqXqfJWC36VNdq+++uqQGQiq4ywWcM3xF3PfMilBa3OVq/ZUfdDrr+6Ta6+9NvFfID0pQusgaZ0gBkJXonWLomdKmntE3T8//fRTyJdeeimAZNKJ1jxigHulzxwNA2DtH6AQdsB6Y6oDCo2U1WWr7UVuueUWAMkzNw/3ku4P3pcDBw4M3c0335z6/bwvNdBeXWVsb6bzU1cw68QxoB8o3tw3q/pj/Bw9U3jOA8lAdSYYaO3FddZZJ2S6/9SlXS3otdPzkSE7Kuv9o7+bdFtXMvnFlipjjDHGmAzwQ5UxxhhjTAbUrPtPUTMra/6oSXqBBRYImdkb5WoNMTfQPK0ZC2p+LuX+0OwOuqAOPPDA0OXtSuFnag0odb+yjZDWFlGXVxrqXllrrbVC5vw0++Pbb78NmaZeNfnmMec0l0fv3r1Dt+KKK4as7juuBd0MAHDKKaeEzDYu2267bbYDzhjdU+PGjQuZ7kvWiwHSXb3MmASSrhTWX+N1ACrvKlPSWjKde+65IbMNUc+ePUO34447hlzJTCvdh507dw5ZXUXnn38+gORZpP+2U6dOAJLuNT2rdt555zrfm8f9p+cHzz+tLVasjhvPf3VPa5sh1trT7EDNHmfW48iRI0PXunXrkHUv0NXb2DXnXFmjEEjWETvjjDNCZlat1u5TVyzdnpWus1WKYteM12LChAmh07Oe524l7zNbqowxxhhjMqBJWKr0qfSTTz4BkAwq3mOPPUKmNaXStTnS0LeHUm/n+nSu1cfXW2+9xH//+rl5wM/X4EANpOzWrRsA4KWXXgodK/sC6Wuhb1f6Jsk3UK1yrQGqrN+iFbsbO3+OTwPeb7vttpBZ84wWKyBZZ0oDuXVfEg3kHjRoEIBkbZxq3KuKdi/gm/4LL7wQOrVeMABVg2fV0kULoFa0riZoqdLgYK3JxZpiDGgGiltNyo3eB2q9ZxVxoLCX1dKmVkN2alDr29lnnx0yq9KXc89yr6ilXJvTq9WeNevUEqfXhXPVjh1aJ45Wudtvvz10ei31DMzq3KWF8dZbb039Tk0qoKW0X79+odtpp51CZnPiaj9TlLRK+UOGDAmdnp9MQLOlyhhjjDGmxvFDlTHGGGNMBsxTqYC1OXPmNOqLNVBR68R06dIFQLLli5rqGaiXlxl+vvnmmwcAZs6cmeuFVfefurrYPJLtGIBko9jGrneLFi3mAYBZs2bV+4PUJKvuvfr8XRrqUuO66uerSb4UzZs3nwcAZs+e/bfz088fNWoUgKQbRa+z7lW6vTbaaKPQtWnTJuS83V7NmjXLZH8Wa17LoGG2MwEKLgcA2GqrrQAAY8eODZ02l2bzXq1TUx9TPvdnqfWrD7p+dE/uv//+odOgZdZ00oawWdbJyWr9FJ0fE33efPPN0LE1FlCo/6buMV2rxp6rDVk/fqee8+r+06QIjrU+eyqtIbo2rFdKnWtcv1K/f2nJV9p6TOsUaiIPg/XZ7gpINmSnezMv9xh//xry+1CMtIblGtKjrmg2lM6rNhV/H/4OW6qMMcYYYzLAD1XGGGOMMRnQJLL/tE4TzfNa+0czqaqp5k1jUJOoZlexfk7z5s3LPqZSaO2pLNdB3Q80m+fdOV7Ny8w+Yebe30H3QLGMsFrJyil2Ten2Gj58eOg0O47XaNlllw2d1gFiVlM13ae6b7/66isAwNtvvx26Xr16hdyhQwcA1dlaqBi659iSRV0qCtdd16fSa8V7SV1i6j7TtWjI/ZWWlV0spCCrs0Y/h/PT1lVsNwMAQ4cODZl7kfW0gGRWZKXXqiGktSRiPTsgOb9qqL9lS5UxxhhjTAb4ocoYY4wxJgNqNvtPTYJffPFFyHQFaZuQcpo8y5X9p6S13MlrXRuT/VcLzG32Xxpz0/qo0ubpPLLHFF6DYtmBaeg1aaz7M4/sP3X/TZw4EQDwzDPPhG6vvfYKmaEGeblx816/SpPH+lUTc5v9l0ap1l5K3uEPxShX9p8WF958881DbtmyJYD87j9n/xljjDHGlImatVQpaU/wlQr4rYSlqpzYUlXb2NLROHjWaKJBYwOh64PXr7ZpjKWqFsjDUqXQ6l2pRB9bqowxxhhjyoQfqowxxhhjMqBi7j9jjDHGmKaELVXGGGOMMRlQsYrqTT1Qr6nPr6kHkjoQvzZxIHBt4/1Z2/xTfh/+DluqjDHGGGMyoEn0/jOm1ihWHLNWev+Zv6dYwVPHsJYHLbOja5F2/dP+f7F1airrV+z8KTV/UxpbqowxxhhjMuAfZ6niG0yxMv7lbPli/nlwf82cOTN0WjxyoYUWAtC09pzeU2z5opYEnSuvRbXOn3PR8acVH541a1bIWqiQ89eChdU611pD9xnbmQDA77//HnKzZs0AFNqZAcCff/4ZcvPmzev8/7TvqKU10+vCvVrs+iy44IIAgBYtWpRpdA2jmKWtVJssynkW7LWlyhhjjDEmA/xQZYwxxhiTAU3W/acmeTXvTZ06FUDBzAkku9CXCmRsDA5eLVAqeLSpwr32+OOPh+61114L+eabbwYAzJkzp7wDyxhdXzW1T5gwAQAwZsyY0C2yyCIhb7bZZgAKbhig8sH7aXOZPHly6CZOnFjnb5555pmQW7duHXLHjh0BACuttFLoSp0/5u/h9ZsyZUroDjrooJCHDh0a8nLLLQcA2HrrrUP3/PPPh8z9t+2224Zuww03DJnrV+1rVux8/eCDDwAAF1xwQegee+yxkHfYYQcAwJAhQ0K38MILp35WJUn7TQcK56a6NCdNmlTn32655ZahW3rppUPOYn62VBljjDHGZIAfqowxxhhjMqDJuv8+//zzkK+//vqQ33//fQBJkx8zQoCCWVfNi4ccckjI2223XchzayrkZ+lnqnuS2UHF3INp7o+0jCMdU7Hsxkqi8yjl0qmPe1Czq6o9O4fjmm+++UL35Zdfhjxt2jQAhSxAoPLur/qQln1z++23hzxo0CAAwLhx40KnmVYDBgwAABx//PF1PhPId12LZQypW+mcc84BALz66quh++abb+qMTzPKdH+2bNkSANCvX7/QHX300SEXC1uoL2kZl0qx86EW6xRxrj/++GPo1KWuZ/1qq60GIOnS0vP9q6++ApB0z3PPAsDFF18MANhnn31Cp+tb6evG/cNzBACOOeaYkF9++WUAwCqrrBK6yy67LOQFFlgAQHJOuic1a7UScC/r+p511lkhM6zniy++CN0PP/wQMt2CL774Yuh4TwLZzM+WKmOMMcaYDGgSlip9E2PQnb59LL744iG3a9euzt9oUCwtBHfeeWfo9E1HAxj5NJ/2dqKfz+DArl27hq59+/Yh9+nTBwDQtm3bOp8NAIsttljIaW8i+lbMf6tv/2oVIZV4o7ryyitDvvzyy0PW68+xrr766qFTqyPfJHRO3bt3D/mEE04AkLxmlX57VNIsOV9//XXIDKTUN+lagvterW98uwcK63f44YeHbvbs2SFfddVVAIDtt98+dBtssEGdv8+StNpT77zzTsg9evQI+fvvv0/8zV9l3nfLLrts6NTi9NNPPwEArrnmmtC1adMm5E6dOoXMazm3+1fHoWfCZ599BqBghQCS+0vPR9Yn0vtLx8+xVJP1lGNZccUVQ3fbbbeFvMYaa4S81lprAUh6JxTOT/fZTTfdFPKpp54KIJl8wOD2v/5dudB1pyVGrVOaNHHuuecCAA4++ODQ6V7g348aNSp0upe22GKLkLnX8z5f9bf0l19+AQCcfvrpodtzzz1D5u/GH3/8ETr9/eBvkO6VrMdvS5UxxhhjTAb4ocoYY4wxJgOahPtPTa50ofXv3z906mrbZJNNACTdayozgPbBBx8MXZr5uxT6NzQ/M8gVSAbP77rrrgAKNVSApEl2/fXXD5lm648//jh0GohH83arVq1Cp+bpQw89FEDSPZi3KZ/XTF1CalJOM5mPHDky5GLNUcmll14a8o477gggWYem0sGVaeieU/cf6zhpIGk1jl9R8/xvv/0GIGme15pbt9xyCwBgl112CZ0GglN/zz33hG6jjTYKOatrkdbE+qOPPgrdKaecEvK3334bMu8/rXO36qqrhsxAe73/9MxgAO2RRx4Zur333jtkBkoDhbCDuZ2zrgP3EVA4//Q+WmqppULWc2fdddcFAHTo0CF0GpawwgorAEjW2dK9zGtZTpc7v1PPtG7duoWsY0k769LauOjf6P1J99iHH34Yus0337zBY88CHf/TTz8NAHj22WdDd/fdd4es9x3RPXfmmWfW+ftjjz025G222SaDEZdG56T7f/DgwQCSrmwNJaArW9tEac0y/q6qe97uP2OMMcaYKsQPVcYYY4wxGdAk3H/KmmuuCaCQBQaku4xUp6ZCupLUvNizZ8+QNWvk79xmalKkyVHNlGqeZu2s9957L3SafaRtPuhKScto0TExSwIomHQB4N133wUAXHfddaHTjuR5mO3pHlA3x6233pr6b9MynvQ6Mysprc5XLVGsjQsz4bJqjZQXxczzzJR68sknQ6d7baeddqrzN+q2octLW0uo+zCrmlW6f+jqP/HEE0P366+/hrzkkkuG3Lt3bwBAr169QqfZc3QLptWGAoC1114bAHDJJZeETjOtGjMn3Uc8B4FCxqJec80e/u9//1tnLJqdq+cj70XWewKAww47LOS99toLQHJNy4VeO70WutZp54vOj/v2rrvuCt2wYcNC3n///RP/BSqf8aehFMxa79KlS+hU5rwfeuih0B133HEhM3vuzTffDJ26tytRM05/y5ZZZhkAwKOPPho6dcVzTOryVFfmAw88UOdvsl4/W6qMMcYYYzLAD1XGGGOMMRlQe36TEqS55NLMlOoy0pL3dAVocbSNN974bz+rFGkF5TS7jwVF2QG9MdBsqtdh4MCBIdPtoLqVV165zlizhGPR66itH1555ZWQWfyymHuMWU3MMgOqq7jnPwV1qQwdOjTkCy+8EEAyY0iLZ3Iv6PrOnDkz5OnTpwNIurf1Xm2MqV7HTJcYAFx99dUAkm4GLXJ49tlnh8zu9sXcIGktqRS6nw444IDQ0SX/189tDOp+VPcloRsFSLo9S7W5mjx5MoBCuxMg6SobPnw4gGR2c7GWWnmi11ELQU6cOBFA0r388MMPh8z2NHq+rLPOOiGfdtppAJLnt55PlUALtTIURLM/dXzMqtXwGM1eZNHU5ZdfPnR6z5XrrNX7Z4kllghZzxKie50ZvNrmSlsKde7cuc7nZ40tVcYYY4wxGVBTlqpib3FpQYnFmlxSZusYIFlThzWdNLhbn4SzelLPuzaUvr1onRl+Ly0C5YDXTFvHaBuFAw88MGRaLfSa65vmySefDKBQj6WpUc1WN72n9E1YazqxJhLXCUjuRb716vqq1YhNcbXNVGObg/Pc0HNCEyWYFKLN0jXQVa06pSxRczuWclpvsjxrWNNK14fWO6DQxkWtG3mcn6XQ66tB91x3TX5QSynROmP33XdfyAzkrnTtOL2Oen/RqsZ2bUCyThODtrWJsCaS0EJVaetbMdLaJL300kshM+ie9SiBQmseoHCG5bl+tlRBlfSGAAAgAElEQVQZY4wxxmSAH6qMMcYYYzKgJtx/NOWqyVaDm7VNCbuHax0Z1oYBCvU51CSogXA0FWsZ+2o1haZB94LWXtFrxQBLbU1RLpO8fg/rMQHAQgstVEdWV5PWYWEtLzV562dVs/tM0XE2b948ZNZHq6Z5cE/p/acuEXXfsU6Vunr1/in1WayJo4HqWbmv9JpqoDJrOp111lmhY72sv35/Y9yPQMHtzoBuIOmqqqZ1T4PXQtf0xRdfrPP/i4VfVIK0moQaiK5wrOoS1DpiDPrX/V1N7LfffgCS99QjjzwSMpOSrrjiitBpHapq/K1T9zFbnZ1//vmh05ZydEVfc801odOg+3LMz5YqY4wxxpgM8EOVMcYYY0wGVK37Ly076KKLLgqd1klhxh5Q6CK+7777hk6zU0aOHAkgWZvpjjvuCJmmwkpndzQUuhI+/vjj0D3//PMh9+nTBwCwyCKLhK7S5vk0946aaV9//fWQmR2mY9bO6XTlVHpOxeC41CWh7j+VqwXei998803otM5Y165dQ+a9WMzMzv2pNaE0U+myyy4DMPftoBqKfuYRRxwBIFmbqrFuAl1fde8xq1Bbw+hcq709EeeiGbl0+QKFsIqsaos1FF1frcm0/fbbA0jWBtPwAY5Vs4v//e9/h8zsOnU/bbXVVnX+Pm+K7RO6KvVe1bVgqAuzdIHqPCv1ntG9xvpT2nqGraOAQk05rc1WbpemLVXGGGOMMRlQtZYqWpQA4IILLgCQbBL6zDPPhKxPpaw/9dZbb4Xu/vvvD5lNffv16xc6rUNDqvHpvRhpgZi8ZkAyqJvzTqsdVA1wLvp2MmDAgDr/XwNJtb7QCiusACD59llNcPys7Awka8bQUpp3HbNS6J7iWPSe0ybcei+V+izuNVZeB4AZM2aEvO6669b5+6zuRbV+s94QAIwZMwZA8pqXshgV+/9p9ae+/vrrkFnRWueslpBFF1005ErvgTQ475tvvjl0mujD7hB5nJ96zfX8SutYodeOyR9AwRqpVcQVrp/u6REjRoR86KGHAig05gWSlvJynaX6PZqIxPph2jC4e/fuIbNiPC3CAHDxxRfnNMr6Ucy6q4kQTz31FADg6KOPDp3+1tEqp78PaXslT2ypMsYYY4zJAD9UGWOMMcZkQFW4/2jq09YpGlzYs2fPxH8B4P333w9ZgwZpqp1//vlDp21QaCrVQHYNNKQpkfWugOo2w/8V1udgPS6g4HIACu4xrRNUTdBFo60HGJwOFPaK1onRRIVqXCuF89M6RWqqZx2xanI/M9BTW7eoS0HrwKU1TFZTPmvKaO0cNnEFCvXh8lhHdQmPHj065BdeeAEAMG7cuNCpezANPavUrUi37qeffho6bS7MOmsaFK+uJg1arya3POG5oa5gtqYBCq62LIODuZd0/TSQnDX3tLaZuiTTGgLrnlSZ9avGjh0buieffDJkjmHDDTes85l5o/tMx0eXJFBYH00e0JYt/Ds9Uyt9ZnJ9dZ3efPPNkPX+YNiB3r9aX473n7YZOu+880JmIlCea2ZLlTHGGGNMBvihyhhjjDEmA6rC/UfUvPvZZ5+FzIw+zQJ47bXXQlaTOU2FLNcPAEsttVTIX3zxBYBkdpm2pGEmVqVNoqVQU7BeK7bsOeyww0K3xx57hFyNbQjU/E6z9JAhQ0KnplqOX11OaoqvRpeJ1omZOnUqAOCrr74KnbbpScseqyU4fnX/DRs2LOT+/fsDSGbsdO7cOWSudd4uFf38X3/9FUAhMxgA2rVrl/p3nNfkyZNDp+v70UcfAUi2QVFX+9Zbbw0gmf2ooQbVvn8ZXsFrBgAdOnQIOY/xp9XG6tGjR8isubfRRhuFjtcZKNSmAgruHx2nuqJZ5+mNN94I3ZQpU0Lu1KkTAGDHHXcMXd6/FWmtnZ544omQf/rpp5BZs2njjTcO3ZVXXhkyW36xNpt+PlCZsAN+v4ZEaMgOa08qfCYAkrX96ALW/anPFeWoA1jbJ7gxxhhjTJVQFZYqPulrlW9tiMiKy2qdUUtM3759Q2adn2JP38XeQP86lmoKFFb41qZP79ocmoHorCwLJIP2q/FNWBk6dCiAZBV4XUsGwrKyLpDcN9ViYVSL07fffhvy6aefDgD48MMPQ6d1cDi/apmHosG/WpFarTasGafz00DavfbaCwDQrVu31O/I877T82PXXXcNmXWktLadBprr36UFOuvbLy2oan1SS9xuu+0GIGk9r9azhuheZNILOzMAyTpQeZwvvD7qkVCrFJOW9MzgOQIUrPdAYd204bzWDONZs9pqq4XuqKOOCpm/NVobsVyWqmJNnvX7uZe1yrhei7vuugtA0rpYSesUUNgzar3++eefQ9Zr3bFjRwDAySefHLr11luvzufqNSl3w3JbqowxxhhjMsAPVcYYY4wxGVAV7j+iZjoNGt1zzz0BJE2GapJXqtFt0lj0urA+zmmnnRY6Depm0CXdgED11qQiumZsBKrmeW2JQvduly5dyjS6hqF7VVtasGWS1l7ROjLV6ApioDJbYADJQNeDDz44ZK4Paz8BwA477BAy3Z/lbJPEa6pnhp4vdNXde++9odPgbK1ZRbe7uvy0ThrdRlpHTf8tx1Lt55ReK22zw/pAAwcODF25kgrUzahrxebU2kRe1++5554LmeeKun81UYRuRW09s9JKK4XMs7ic65eWHKEhA/r7wPZuGpx/5513hrzLLrvkNcx6oecj5/X555+HTq+51rFjUpLW9ksjzWVfLmypMsYYY4zJAD9UGWOMMcZkQFW5/4qR5uqrdvN5luj8x4wZAyDZMkSzYugerPYsP0VNwXT16ZzVFcj6MzrnanSZ6f488sgjQz7ooIMAJDMWK10nJo20cey+++4hr7LKKiFrx3u6hzS7b8CAASEzg7DS+1PdQ3QprL/++iX/bVobHnVl8v/r+ld6ro1FawLSPaYZWeVy/+k1X3HFFUPm/VWsBt8555wTMtdF3Uf6uTxX0rLT9O/LCb9fXWLapkXHxL2q89P9WS3ni17fL7/8EkCyzZDWcdt8881D5rWo5t9/W6qMMcYYYzLAD1XGGGOMMRlQE+6/ajFZVgqdP91iapLWooxt27YFkDSv1hIsDqkZH5MmTQqZWVtpLpdqQtdMi6+mFfes9v2dlj2nGYvMaCz190D1uMJ0TMyempsWQWn/ptqzaxuC7s/x48eHPHbsWADJ1ija5itP0tpVAYWzTt20yqKLLlrn3+pnqVzNxZ/1/lP3axrF5lct6Dmw5ZZbAki2odMx19r9ZUuVMcYYY0wG1ISl6p+OPtXTEvX222+HToOeWSeoWiwCc4O+lbRq1QpAofYMkHwrZYB0NVqnilFLY/07qtHilAXV+CZfadTSvemmm4bMhrxLL7102cdUjFLr1xTXt6mcKUBhfZrKmWJLlTHGGGNMBvihyhhjjDEmA+ZpiqZRY4wxxphyU7GYqjlz5jTJp7n55ptvHgCYPXt2k5xfs2bN5gG8frUK18/zq008v9qG85s5c2aTnF+LFi3+Eb8Pf4fdf8YYY4wxGeDsP2NMvdHssPrUREsLN6j1EIS0+df6nIwxDcOWKmOMMcaYDGhylqq05su1Xv9C34RZNbhYE960hq5N8a25oRXjq/1acF66j3X/lmv8en1ZRVzHpFWOp06dGjIb0mrlca0z1rx5cwDJivjV2FC6FDrmF154IeTffvsNQKEzQK3Been6pVkli91/PHcqsWeNqQZsqTLGGGOMyQA/VBljjDHGZECTcP+pqfq7774DkHR/sXVLLaHm9ZkzZ4Y8YsQIAAU3AwC0bNky5BVWWAFAcs50uQC1396ALqhZs2aFTuekrqa//g2QbG5cjddi9uzZAIAPP/wwdGussUbIiy22GIB8XCq659R9w+a5H330Ueh0fDfccEPIrVu3BpBs8j1hwoSQ11tvPQDA5ptvHrru3buH3KJFCwDV7zLSfXb00UeHvNFGGwEAunbtGjp1dVbLvNLcu0BhXtrEfNq0aSFzLX///ffUz1p99dUBAOuvv37q51eCtLmWGpOeDU09lKIWSWuIDhTOel0zPcsaGjZSH2ypMsYYY4zJAD9UGWOMMcZkQM26/9Sl8+WXX4ZMV4J2Vr/66qtDLmX+oymx3CbDv37PH3/8EfIJJ5wQ8uDBgwEkx7fQQguFvOSSSwIAtt1229Cdf/75IbO7fLWasXn9dXzqannxxRcBAHfddVfo9FpMnz4dQHJ/qPuzc+fOIffp0wdAZdyAxdwvn3zyCQDgpptuCt2gQYPKMiZmlgLA+++/HzLdW59++mnodH3UvfX666/X+f86v48//hgA8OSTT4ZOXUUbb7wxgOrN2OU1evnll0P3/fffh3zMMccAKGRBAtXpZp4yZUrIzz//fB35gw8+CN2MGTNCZtjBqquuGjo9f7nul156aeh69eoVcpp7PiuK3VMaKnDPPfcASK5fWvb0TjvtFDp1T3OvV+v52VTQeyYt+1TP959//jnkyy+/HEAy+1afBXiu5PmbbkuVMcYYY0wG1JSlSt8+9O1p4MCBIX/11VcAgCuuuCJ0+lSb9taonztu3DgAwI033hi6448/PuQVV1wx5KzfpvXpWd8ktQ5O3759AQBbb7116H788ceQGcj+yCOPhG7UqFEhX3LJJQCAf/3rX6Gr9Ju0vvVNnjwZAPDUU0+F7pprrgmZiQgavN+lS5eQ+Va8yCKLhE7XiYHEf/3ecsE1fuONN0LXvn37kIcNGwYAGDt2bOjUEpmnBUevBy1mAPDuu+8CABZYYIHQqcVhrbXWCnm11VYDkLQOaHIALVlqidW58q2y0pYqvRf1/GCg9uGHHx66Hj16hMy1rPQ9pXD83377bejUEvPDDz+EvMUWWwAADjvssNB17NgxZJ5/iy66aOjuvvvukHv37g0AGDNmTOjytvTz83XPvPPOOyFfdtllIY8ePRpA8hxYcMEFQ+a+HDBgQOjGjx8f8plnngkguSeqyWrVkDp3aTXJ5qZjAj+3sXud38+EGADo379/yP/+979D3mCDDeqMSZMmbrnlFgDA22+/HbrnnnsuZLXG54UtVcYYY4wxGeCHKmOMMcaYDKgJ9x9NfdoaQ917Dz74YMinn346gIIZG0g3eaoZ8Ouvvw6Zpnyt06Km8JVWWqn+E5hLdJwMOAeAa6+9NmS67dRkrabQI444AgDw0EMPhe6QQw4JmWbtJ554InSLL7546hjyRE3Ow4cPD/k///kPgKT7QE3ZaS1T1D2x9957/+33VqLmjM6VgfSaPHDzzTeHTPfDn3/+WZaxKXo9WC8KKNSUUpcx6xEByaQI1klT9/wrr7wSMt1/uufUFVMut1laIL3eR+q+fPXVV0NmIPoOO+wQuosuuqjOZ1WjS0hDCiZOnBjyAw88EPJ2220HoHigPT9L3e+PPfZYyAsvvDAA4KCDDgpd3q5cjmnIkCGh69evX8h77rlnyAzE13Nc50q3NhOCAODkk08OuWfPngCSLu9Ku6rTwmKGDh0auq222ipk1o/T31J1u/3yyy8AkrXlNBFD/27HHXcEUKhN11C4fronb7/99pAZ8qL/Nu3vgcK5pZ+lgeys35jnOWNLlTHGGGNMBvihyhhjjDEmA2rK/acZQ1pnhK0vgIL7SE2Cauqj20jdE6xtARTq6Bx66KGhW2WVVUIuV/aVZlrtsssuIaeZP9VVQfOtZj/omGnq1tpClUZNzcxkbNWqVeiWWmqpkOkW04wcdT/QPK/u00pkYqlJXr//uuuuA5DMuNI2Q9xr6t4tl3tBx6ltVmjmp2sHSO5DdVWm1dnSOki8hzV7rNjn5om6/x9//HEAhRpGQCELGEhm1zIUgGEGQHp2ps6jWlyBxca0zDLLhMzzoVjGGPe1uto0O/mUU04BAKy99tqhy+P+0/vr888/BwCcddZZoTv77LND1uwxuoc0e5WtoYDC74O697TOXTmyx+aGYmvJUAJ1WW6//fYhMxO3WHgBz6Jll102dG3atAmZdeSAgiuxsfubYzn33HNDp1n2KqeRFtKhbdxYEQAohCfkiS1VxhhjjDEZ4IcqY4wxxpgMqA5bZglo6lUz/IcffhgyM3KAgltBzdeaKZZmarzhhhtC3mSTTQAUimQCSVdMrlkDKUXYgGSmDa/BF198ETrN5KMrTAui7bbbbiGfc845AJIui0q4J/Q67r///iEzk0/HxNY6QMF9pAX9br311pCZNajFUcuF7jN1yWr2Jl3NV155Zei0OCZdneqeUFM293cea6afqS4Pjk+zZO+8886Qdf+xeKu61/W60H2ic9J7jdmr6667bujyuOd0rnR1vPXWW6FT9yyLnwIF94eOScMS0tZFXe2cfznvOY515ZVXDp1mzDLjDygUT9xjjz1Cp+NnUU1tnXXAAQeEfNpppwEoXXC5sej5yPt/yy23DN1RRx0Vso5/btvkaKFUPf81U7Ba0Ox3njUnnXRS6NZYY42QudeZBQcAyy23XMh06elvUTG4hxu7l/n3WgRYswzT1kz3lIaKMFRGs9/1LCsHtlQZY4wxxmRATViqaHXS1iXTpk0LWWvG8A1Gn261Dsf1118PIGk90EBNNo/V4Nm8A505Zm0Nok/aqufTvDYx1ad6vgm3a9cudGqJ41zzbGxajLl5+0kLJNS/47ocfPDBodM2No8++iiAZJ2yPIKf064fA2aBZBPk++67L2QG8qp1Tt/0aE3QRAW1hCy22GJ1/iYP0prM8toCyYa5WtMqrY6Y7k+ilrw77rgj5DfffLPOd+XRGko/h3tF10nPFG159NprrwFItoFi6xOgEPSsa6ZWIVrIdX2L1U7Lat/y83UeTJgAkm242OZJ6/Rts802IdMqxX0IJK3+3At5J1foNaNVSRN6dE+m7T8l7VzSRB+9r9kmK896hcXQcbKxPFBIzgIKll5t86J7jftLr1/a/itncg/3uVqU9HdAf4t5DXR8el3ogVHrpCbFlMNCbEuVMcYYY0wG+KHKGGOMMSYDasL9R1OfBmdrvRCtmcJA7ocffjh02qWaAbTqfujevXvI++23H4DKBG9r7S11T6YFFXbo0CF0WufovffeAwCMHDkydHot+vTpk+GI5w6ulSYaqCv3008/DZl1wtR90L59+5AZtK7XSoNHGWCbZaAszcsaSLnrrruGzD2lLh+VtebLOuusAyAZCKvry0BRDeTW76UrrJzmec5fXarFAnaZVKG1xbSOHD9LawOp+4xz1TpD2pIqK7e8utboytX5HXjggSHzTAAKrni9jzTpgO0xfv3119BpHTXuG62dpG1U5sZF3lD0ntKgdU06YIDzwIEDQ6dnLa+5hidooHOebj+9NpqIw3vps88+C52659Na7uj6673GtdJronUKedaW8/eB89bkD20tpPcEky20zqLWqWLYgV6TStdR4/5addVVQ6e1pTRphOe61r7T+nL8/dD1/eabb0Jm/TG3qTHGGGOMqXL8UGWMMcYYkwE14f6jyU/N5Pfee2/I2hKDWS1qkmbtKaDQxoX1jIBkphxNrZXoPM7MGyDpilD3HjMZNKNBzeLMitx5551Dp3WcWLNKsyvyriPzwQcfAChkvgHJ7BUd/5prrgkgmb2hbYRoqtb10TosNO/mkfGn16lt27Yh09VF1x6QrD1FkzQAHHfccQCS7gt1L9FVltY6o9JoxpPWkWJGFFBwm+20006h02tF1OXw6quvhsz2L+rS1zpregZktW85Fr3Ouia33XZbyHRFah0kdY/xuuie1s/ivch2NwCw2mqrhbzpppuGnGeGrl47rVnHOlyaCanZc3RP8z4tJzpmzWije+uqq65K/bfacoZnqbZp0UxOZvpp7aNi9dvKBb9fzxR1j6tbkGup4Qd67vJ3ka2ngMr81im877Q1lo55r732CpludQ2f0Ox9npu6TqWyP7PGlipjjDHGmAyoCUsVn9S1XooGqmnNKqJNILVmCa1BGjysVqFKwPnp25e+seqbEuVib7GsRaPB9/369QuZgbT6JpYV+nbOytoA0LdvXwDJgNCnn3465A033DBkvmFo9W6tnn7//fcDAFZfffXQXX311SHzrSXLty++9eobL8cBFN60NPhTLWVqdZo+fTqAQj0mABg8eHDIrM+kb1dak0xrHpULzl+Dz9mEGACmTp0aMoN6S1nXdK+oVZXXVRsaq1VTLWBZVyfXPbPVVluFrIH0tNDo+PVe5LrrZ6kli3WENBBaK2LrvZAnuj5plkK1FOi5u/feewMALrjggtBpUk250OvP4Hq15GidM92rPF8222yz0GnzYZ4rw4cPDx1rFwLls3ro+fHzzz8DSFq31Tqfdq+p9UrPJQ0ArzYOOeSQkDUpTWvisVPGk08+GTpNOqMFTj0dem65TpUxxhhjTI3ghypjjDHGmAyoKfefmjG1dpGSFqCs5nW6DdVkra6kSgbtqWmyPkGqagqn2VcD8fX/51kHRz9ba4OwfowG4mvDY20YTbO9mnzVFditWzcAyTYMa6+9dsh5rp/uLXU1kDQ3LZA0RTPQV+tcadAoa4ode+yxoWNrJaDgKsu7NpCuJYNCNXhZ66TpdWEdMW1Cq24Loi61ESNGhDxq1CgAyWumbvE8EhDSUJeKhhLQfashBereSwt6170wdOhQAIXkDQA4/PDDQ9brnnUCiV47raPFJsgA0KlTJwDJ1ica9Mv6VWzMDgAHHXRQyNwXebfB0mvK3wVt8qwuO70/+HfF1o/XSJNO6H4DCjUP6cbNC90HrON34oknhk7bdDG5ACiEGmgil641Ez0qXZsqDZ2ztk7q0qVLyHSPL7nkkqHjPQkUmoO/9NJLodO1tvvPGGOMMaZG8EOVMcYYY0wG1IT7jxRzryg0306ZMiV06ipirR11uVTaFMoxF3NtpOl1zFrGn1k5WltH63/QlZH3nNNcjnfffXfo2E4BSLr/mPWh5l1t80H3grZmqITLtj7Xr9S+VVcRs9s041FdDXSvlXPOdOXceOONodOMS92fNM9rxs1PP/0UMuf/0UcfhU7vVZrqdX21TpWGAOTpYtL9+/3334fMNh+asak13+h+GT9+fOj0Wr3wwgsAkm1gevbsGXKe96XOSd1DmhHGNVb3dlrNrfPPPz90w4YNC3nLLbfMcMRzB69Zmkuw1N8AyXuJc11sscVCp+Ehb7/9NoBknbE8XNI6Jl5TrTeo66eZ8Az/WH/99UOnf8es90rXpkpD3d16fnTu3Dlkjlvvfd2f3LeapamZkOUIH7ClyhhjjDEmA2rKUjU38KlVg1/VkkNLVSUq4xaDdTa0npE+UWt13EmTJgFINhTWQGYGFffo0SN0WlOGb2B5VFHXz9QmpKyT9cYbb4RO57rBBhuEfM011wBIvmlpoCG/oxrftBqKXjdaaDTQW9+UuW/1+uWBvsmzCrXWyNKK53ovMUBU3x7T6uioJUED0XkvaJ02rTheLquyfo/uP9Za07dnrXnEddGabBpIzHNJrVuK7oU836pZORwAWrduHTKTPvT+0kboXHetDaQNs8vZ6PvvaOg+4fj1/tMAcda00kQcPevymD/vJT0TtaNB2lmo95zei9V8bup+L5W0pf9W58RK+Wpp1Obh5diftlQZY4wxxmSAH6qMMcYYYzKgybn/aBZkOxYgaT6knrWTgGTNn3Kh5lnWrrn55ptDp3V6dC5sWaLmd9bmAAotYXr37h06tq4B8jX/qml18cUXD5mtLzRgUM27GhTL66KfVc0m66zh/lWXjLpv6TbSljnlcolxHQFg3333DVlberAmjtZh0jZSdKtoaxsdP/fyJZdcErrll18+5HLtBR2TuhLodtc6ODo+7nt1Oaj7MO3zlXLV4dIm8ppAcswxxwBI1m7S9WUohTb03WGHHULOuz5VuVCXmdYp4/xGjhwZulVXXTXXsaQ1kVd0rf76N0D1uGSzROenDcG5r7W11S+//BIyE31yTQjJ7ZONMcYYY/5B+KHKGGOMMSYD5qlUjaY5c+bk8sU0n2trDG2vwflqmf8sy9jPN9988wDA7Nmz//aD1MzPsWrrDu1irzArStuEaMdyZmIVy6RoLM2aNZsHaNj6FXNtVLpOmDK365cXdDuo+0xbhrD+mLoH6+MS4/rVZ35ct2IZfVpnjK4GdU+nZbQVGzNdweoSznt+pdD9yWuQ1ppGZZ1zHvdfQ+an95/W8XnyySdDfvzxxwEkx6wtwVjfTzMyszxr8li/hqBz0r184IEHAgBatWoVuquuuirkUnuV85s5c2b1HHoZ0qJFiwb/PjQUPYuYYc56agBw3XXXhbz77rsDaLibmr8Pf4ctVcYYY4wxGeCHKmOMMcaYDGhy7j+i5ttSbV6yvAYNcR+ValNTirzmkkZj3H+1QKXdf6TY/k1ryVEf8nCvpO3bxmaxNTRjqVrcR3mR1fyK7S/Kur9K7b9qcW/mhbqXPv74YwDJ1kvbbrttyKX2rd1/+UK3tmZnsngxUAiVaej5YvefMcYYY0yZaHJ1qkg5rTeNpbHWB9P0qMX9W0pnqoda2l+VRoPP2R5GrXdNpTZXU4D1HbfeeuvQpTXPzrMenC1VxhhjjDEZ4IcqY4wxxpgMqFigujHGGGNMU8KWKmOMMcaYDKhYoPqsWbOapImsefPm8wBNf37VlPKcJdWY0p0lnN+MGTOa5Pzmn3/+f8T6lfN80aDetOa9Wp29sfxTzpemXpLmf//7X5Oc37zzzuuSCsYYY4wx5aDJllT4p6N92pSGFj0rN8WKE9bK+M3fUyql2bGelaVYyYCHHnoIAPDHH3+E7tBDDw3Z92f5qU+h6zR8r2WLLVXGGGOMMRlQtZaqtCdubRdQzBJTChb/KtVNvFbhdfn1119Dp3EQCyywQNnH1BC0M/yMGTNCXmSRRQDkW7yt2tC58h6opYKDeq/SklEqDkfv9UqstQFUizUAACAASURBVH6njr+pnht/Ja01CwAceeSRAIALLrggdP+ke7GS6Jro/f/nn3/W0av1Sf+OvwW6Zi1atAg5rRC117d+2FJljDHGGJMBfqgyxhhjjMmAqnL/pXVDBwom99GjR4du3LhxqX9H94IGTC688MIhb7bZZgCApZdeOvW7ajFoT90TDCDt2LFj6NZee+2Q77jjDgDA/PPPH7pqCi6lqfrBBx8M3eWXXx7yq6++CgBYbLHFQldN488K3dOzZ88Omfte17ShrvA80TFNnjw55LvvvhsA8NVXX4VO3RPNmjUDAAwYMCB0ev/meX/qNZ85c2bI3377bcirr756oz6XcrXuWY5v+vTpoTvxxBND3nvvvQEAhx9+eOiqZS6lAraB2u6zOn78+JD1fHzqqadCnjhxIoDkmbHEEkuEvMoqqwAo3GcAcMQRR4S8ww47AEjek6Z+VN9pbIwxxhhTg/ihyhhjjDEmA6rK/acmxw8++CDkM888EwAwcuTI0E2dOjXkFVdcMeT27dsDSJrs1W24ySabAAAGDRoUurXWWivkWjELq3tFM+X69+8PABg7dmzomDEHFNyD1ZoFyHm99dZboVNXpZqtmzK6vtOmTQv5hBNOAAAMGTIkdEsuuWTIldi/aa6WYcOGhXzJJZeETPetuoz07xdddFEAwGmnnZb5OEtR7PxhbSYAuPLKKwGUdnnpZ/3www8h//TTTwCAtm3bNm6wOcG1uOKKK0L32WefhUz9fPPNF7pyZUQWy8Kk/Ntvv4VO7xkdK11hCy64YOiqvQ4ex3TDDTeE7pZbbglZz8Sjjz4aALDUUkuFTjMFeT58+OGHoXvllVdC3nbbbQEkr0+lzxTNFE4bS6mK/wr3UJ7rbEuVMcYYY0wGVIWlik+PfIsDgL59+4bMQNf//Oc/odt///1DbtmyZch8Q0wLdAcKb8AMyAOA4cOHh7zSSivV+ZtqROengYr33ntvnf8/NwGc1QLH980339TRAYU3kVqxKBajPnVg3n333ZBpaaz0Our3ax0x7r+zzz47dFozrVOnTgCAlVdeOXQ///xzyK+//joA4NFHHw2dVuxWC1Cee2DUqFEht2nTZq7/jtdFx6ZWHyZYrLvuuqGrtHUkzaqm1rltttkm5NVWWw1Aee8/XtOvv/46dNddd13IPCt0TBMmTAhZvRa0wBx22GGh69WrV8i0ZFXT+cIzj1ZqoHCfAMDGG28cMr06pdA9pzJ/iysxf/1OtXT36dMnZJ416p3hbzYAdO3atc7nqqWye/fuAAr7+K/fmwW2VBljjDHGZIAfqowxxhhjMqAq3H8077LGBgB8+umnIb/wwgsACjWmgPTgu2JooHO7du0AJAN9f/nll5DVlFiNpNW5Offcc0Ome0jnvNdee4XMQOBKuxyKwbUsVWem2ilW8+jll18GUAgIBZJJA/w7dVlozaZ9990XQLL2TLmuiQYKq0vvlFNOCfmuu+4CkAyUHThwYMisb7TsssuGTu/7Qw45BABwxhlnhE7rVHXr1q3B4y8G56WBzqznBgAHHXRQyKXcrvz/33//fehuv/32kOnWSGvdU06KzePxxx8HkHS/a00k7tVKhEc888wzIavLi+5hrT2owc0//vhjyE8//TQA4PTTTw+dXouTTz4ZQHW1geL49HdKr7/ef3NbBy2t9VWl4PfrPXPssceGPGXKlJD5W7fMMsuETn/Lhw4dCiDZWklrdjFAX/8m6zp/tlQZY4wxxmSAH6qMMcYYYzKgKtx/dF9oRL5mMbAOj5pkG2oy//333wEUN19XOquqFBwfs6yAZMsPsv7664es2S3MJKlW91+a+VrNs9XYkiUNHSdbswCFNjM77rhj6t9x3lrbSa8FXVHFWjrlAeeiLvmTTjopZNaeAgrZfery23TTTUPmuDVjUF2FrL+j10fd26qnK7ux8+f8NAtRXUa77LJLyKW+i/PTOnFdunQJeZ111gFQ+exi3Z/qKrnwwgsBJDMeNVOzEucGrzldw0AyvCHtzFCXltZxGzx4MIBCvUIAOOCAA0Ku9LqkwflrRqq6OjUUgOtazL3M+VXT7xznp/XQJk2aFPK///3vkJkJqBl9u+66a8ic3z333BM6bbP03XffASj++5IFtfELZYwxxhhT5fihyhhjjDEmA6rC/UdTHM35QLLQJ/9/MdNzmilTTXo0+QHAc889ByDZuoUF+YDqzC5TUzYzJK666qrQaXYDzZ9a3FTnV01ZLWmkuYJfeumlkKdPnw4AWHzxxev8TaXRPTdmzJiQb7zxxpCvvvpqAMXbKbCl0hNPPBE6tkYBgOWWWw5A/m4YvaeYdcTMKKCQxQgki0NyrqusskroSmXq6v7m/NQlqC1jdK+nFdpsCPz7t99+O3Rbb711yNoGq9R3ca66Ztttt12dv69P8de80UKaLMCsxVtbtGgRciXDBpo3bx5ymptOryOzoAGgd+/eIXONmVEOFPZcsc+tFjQz/bXXXgv5qKOOCpl7rXXr1qFTVy5doTrPSoeC8PvVDa33jLas4rmp49f9ybNEMwY1E5RZ13lmPNpSZYwxxhiTAVVhqSLFWsukUeztjm+KWkfniCOOCPnFF18EkAxeq8+baCVQCwjrx2gdI4V1fLS0f6XfROoDr7+28XjkkUdCptVEg08rPT/uxT///DN0+qa/+uqrh6wBskSbv5533nkAgD333DN0u+22W8jl2p/6PQzu1dYRHTp0CFktcQxqro9FVL8rzZKTd3IC98+bb74ZOq0dpg1r09pg6VnEtdT7U4PyH3vsMQDJ9S0Xah3V5vQPPPBAyLQQ7LPPPqGrT5urPPdnfT5b96SeH6xTpcH3SloiT9r+LCf8Tq3TSI8LUPhNAwprqZbyFVZYIeR//etfAID99tsvdGuttVbI3N+VOFO1dVCPHj1C1qSEtHGp1em9994DAFx77bWh07PqmGOOqfM3Wc/VlipjjDHGmAzwQ5UxxhhjTAZUlfuvoWhH+3POOQdAss0Cg5uBgnlXgzPVVci/r7R7Sc3s6kqh2VcDMdVV2rNnTwDJ4Evt6F0r6JzU/ZNVcHLeqElda4p17NgRQLKburqKGEirriityZJnIK1e5zfeeCNkJkXoPaFtZFZdddVGjU9N8e+//z4AYMKECaHTQNw8k0rUPfbJJ5+E/Prrr4fMa1TM/cc2Lx999FHodMx77703gOScyxUcreNkQgSQDOTt3r07gOLJLWluXd2fvD7lDPjmd+o5z3UAkvNjAogmJWhSzJprrgkAaNWqVeg0KSbNPZb3WcTvUjf0lltuGbK6tzjXqVOnhu6pp54Kma78m266KXR6FrEllroMy3XWaiJCqeQI3cuavHLfffcBACZPnhw6dSUyASbPOdlSZYwxxhiTAX6oMsYYY4zJgJpy/xXLPGHnaaBQn6Jz586h0zYEzOrRmhha84nZO3feeWfo1FRfLlOozvWdd94J+bbbbgOQNIlq9iJN2dVcb2VuqKU2QtwTmqVCMzpQcKkAhfo4mp30+eefh8w6VuWsncNrqm6SJ598MmSa0vfff//Qsd5LQ8enrkZ1v1922WV1dDvvvHPIeo11vI2B8z/44INDp3WMNHt47bXXBlA8U5l/py4VuiSAgouj0venXn+9pnT7ffHFF6HTmml0i6rLT11FBx54YB1d3mcmP1/dY1rnMK1Nl7Z80Tp4bC+kddJ0r7Nl0RZbbBE6dVXlMde0kIdi+4fzW2aZZUKndbp4Fql7XzOVmZX60EMPhU5rzun3Zn0W1yfLUvdv2u+jtu7R7OlytGmzpcoYY4wxJgNqylJVLDhUmy8ff/zxAJJvDwsuuGCdv9OK4/pU27dvXwDAgw8+GDq1dJWrIrnOT98qWFFdg2o1EI+VdCv9JtxYtE5QWqBsNVusgOT41ltvvZDZCHXIkCGh0zdh1geqxPw0oUGrmNMCoE26df/Vx2LEeemaqiVkxIgRAIB99903dGxC/Ne/ywq+teo6aaKAQguNro/Onw2vtcmrnkXV0tFA96quOy08en789ttvIS+00EIACpXXAWDmzJkh06qvDbfzbv7Nz9Q9ufvuu6d+P9E6TRrozLUcPnx46O6///6QeX30N+P2228PWWvS1fcM1mujlhTOqz7XTv+tzo/nqjYm131PS+PRRx8dOk200U4klUgW4lrqnlVPE/eqVmHfaqutQi5H0pktVcYYY4wxGeCHKmOMMcaYDKgp918x1LzOQFA186l5nuZDDbRkbRL9ew0eLpcrplhtKq3ZwwA9dY8deuihIVeyzUAWcNzakuHnn38O+csvvwRQCBiuBXQtWVNt0qRJodM6SC1btgRQXvctzfi6p9R9RZecBq+zHhpQGDNQuqYMr4XWljvuuONCZoDt+eefHzqtE5TnvtbP1muhpLmatCYO62xdfvnlqZ9bLWgdKl0fzkXHrOfj5ptvDiDZ+kUTeRh+oJ9ZifmX+k4NdNbfDwbt6/7XRAkmULDdCZB0Feq1qu89rNds3LhxIf/+++8AgPbt26f+2/q0dOP+1d9ETYph/Sr9Lq25ps3TKxEKw3W9+eabQ8fWT0DB/a7N3/NsSZOGLVXGGGOMMRnghypjjDHGmAyoKfdfsYybe+65J2TWp9LaTWrqpalU2xSccMIJdb5Ls0cqYb7W7IZhw4bV+f86J61JUu3tW+YWzTJRuH7VmP2n6Pi05tLDDz8MADjrrLNCp3u1klmbuqc0+47ZTyNHjkz9/3369AlZW34QzR6j2+/ZZ58N3YYbbhgyM3l0T1ej+0j/v9Y8+u677wAACy+8cD4DawTqrtHsZ7bOAZKZbkRrVk2cOBFAsmURW3sBBbdZtZ9DxcZHvbqMFGbSsR4ikGzTlNW8V1555ZCZKaxuLl0/ddXRba3nT9pZWaomlLr0l1122b/9t3lQbPxPP/00gGSbLGZMA4Xzg1mqQPnPD1uqjDHGGGMyoCYsVWm1bc4777yQ+fQKFGr+aHAzazsBhTexQYMGhU6DUlnRWWvyVFOgKcdSzoae5YRz0bcjtVrQ0tGlS5fQadBwtVwLtfroXttkk00AFAIqgeoZs+4pveYXXXQRAOCwww4LnVqtGJwNJBNA0j6Xb/qbbrpp6LTOTLt27QBUf501XTMNKmalba1SXi3rq+PQM0+D6llnSRN1tE4YLVF6fy666KJ1vqNa5lwMtUTpvUoPiAZn33XXXSHzt4b1nIBkHaSsqvxrbUXed1o77dRTTw1ZrzXHxXMGSE+6UE/Ia6+9FjI7PfA+BAq19YDy/Rbq94wZMyZk1p/S/aeWUno4Kmrxr9g3G2OMMcY0IfxQZYwxxhiTATXh/iNqptXmmWyCCQDdunUDkDTvavNksscee4Ssbo0tt9yyzr+ttCl7xowZIdPsyXY8QLLOSq3Da61uJG2IesMNNwAouGmBZB2jSq6VBlT++eefIY8ePTpkutJ0ftXo6tLrSJeWBjE//vjjIWvQblqAr7pE6FZX922xhq21CN1G2hok74a7DUGvsyaF9O/fH0Dx1jJ0yxRrqVKN6Fy4LmwMDQDjx48PmWulddKWX375kK+77joAyYbKebThSWt5pb9N2vBYG3YzAUTbBOnvB39Ddc30/OTvojaEL1drGv191+QWTYRhncKnnnoqdKyNBlRHGyhbqowxxhhjMsAPVcYYY4wxGTBPpczRs2bNqvcXp5lxgWT20S233AIg2UW9Y8eOIXfq1AkAsO6664aOrWmAdPN2fWjevPk8QMPmp+j3a50jule0Do6aTfNeT85v9uzZuX5RsZpk06dPB5DMOMqyZlWzZs0aPD8dx7Rp00JWV+WZZ54JID1LrhxwfjNmzKj3/HSfqZm9Pu4fzjutdlwWzD///GXZn+rmfO+990I+99xzAQCDBw8Ond6rjXWVcf0ae75UK1mdL3ovss0LUHDfzZw5M3Q77bRTyG3btgWQXCfN5KR7sKHZ11y/OXPmNGp+xc58zuuPP/742/GpTrOnmXWo4TX1md988803DwD873//m+s/4lrpb/qFF14YsmanDhw4EECytZXei3n//s0777wlf2xsqTLGGGOMyQA/VBljjDHGZEBNuf8UNe+qKXRuKVamv7HXIyv3n5I2vyzHXB/K5f5T0loW5JVx1Bj3XzF0/SqdKdUY918x6uN+zXuvlsv9p6SdRXllMdr9lw3F2qBwfxbL6Gvs/s3K/VcMjruhIRGNLd7aEPcf3XfaDqlDhw4hn3jiiSEz672cLj/F7j9jjDHGmDJRU3WqFH06rfXaNqWotHWj0lTKKpcVTX39anFNsuSfdBY1FUqdKbW6p2ulTZDC81HrgY0YMSJkrWNHC1U1z8+WKmOMMcaYDPBDlTHGGGNMBlQsUN0YY4wxpilRsZiqmTNnNsmnuRYtWuSa3VFpmN3R1OdXzuyxcpJ39lGl4fo19ey4pn5+NvX1a+rza+rny99h958xxhhjTAbUbPZfMea2ZlVTz8hSqqnOlTFNDd9fTY9idazIP+n3w9QPW6qMMcYYYzKgSViq9E3xzTffBFBoXAsk61+ccsopAIC11167TKMrL2kVdadOnRoym0drQ1+tTmuMKQ7vKz1ztGEvrVKLLLJI6BrafNeUB11Lru+ff/4ZOl1fNhxeYIEFUj+rVta3WMX1Whx/2u+X1osr95xsqTLGGGOMyQA/VBljjDHGZEDNuv/UZPvGG2+E3LVrVwBJ8/t3330XcseOHQEAjzzySB0dUPsBiBz/W2+9Fbru3buHvOmmmwIArrzyytCtvPLKdf7emMZQzDxPU3wttXNJc5XomdKjR4+Qf/rpJwDAOeecEzqeSQAw77z/f+RWk5slzf1VzD1UqlEvz49qX1+dxx9//BHyN998AwC48MILQ3ffffeF3L59ewDAscceG7q09QXKt8al1iSt4beO7X//+1/IHH+1rh/Hr2MePXp0yJyrhveUe01sqTLGGGOMyQA/VBljjDHGZEDF2tQ0pCKwmjGnT58e8g477BDylClTACRNtgsttFDIhxxyCICkyfvll18OubGZcJWoqK5j/vbbbwEAnTp1Cp26Kmie/+qrr0LXsmXLOv+/GHNbUb1UnZdicF1KZacUy6hq7H7Ou6L63NZRU/RapK1Pfeacd0V1jpX3IQCcddZZIa+77roAgF69eoUuy+zTrCqq6zWfPXt2yJdccgkA4KGHHgrdjBkzQu7SpQuApPv9qquuCpmhBuq+qA95VFSfMGFCyO+88w4A4Oeffw6dZg+PGTMGANCsWbPQLbzwwiEz1GCLLbZo0FjyrqjOdVWXX9++fUNm9vgvv/yS+vczZ84EAKy00kqhu/vuu0PeaKON/vb7s6qonubSAwr7Ss8EXb8HH3wQQGGdgWSm42mnnQYA2HjjjUNXH1dgHhXV1X3Hfanudc4JKFyXvfbaK3Qa6sLPamiYiyuqG2OMMcaUiZoKVNc3WrUuffDBByEffPDBAID11lsvdPPPP3/I++23H4BkIOK4ceNC5pt0tQbqkWLWC75Bq3VK57LzzjsDSFrvsrJWFhsT3+70e/Tfqp5vIlobRmGdLa09pjVj+LmVsMDqd+rbo8pjx44FUHjjB5I1w3jddH7LLrtsyIsvvnidv9H7oj5WwazQN8l3330XALDPPvuEbtKkSSH36dMHQHJPViK4txS6ZkOHDg351ltvBQCce+65oVPrxDrrrAMAOOOMM0KnVrtKrA/ROakl5vrrrw956aWXBlCoxwQkLVHbbbcdAGDFFVcM3aGHHhoy71u1VBW71/NEv1OtagxqPvHEE0P36quvhkxLj95TLVq0CJlnDQPaAeCyyy4L+c477wyZZ1Ue56uuJe85ALj44osBJM8XTdracccdAQB777136NQSe9555wEALrjggtC1adMm5HIlMun1V6vpUUcdBSCZaKa/71y/G264IXRLLrlkyKeffjqA5J7Iek62VBljjDHGZIAfqowxxhhjMqCm3H9qRl1iiSVCVvMfzdoaPKr/n26vadOmhU7rXKnbsJpRU/DIkSNDpilaTZpqSr300ksBJE3Cc+bMyWwsRE3qdC8Uc4lp0C4DfH/44YfU76Jb4l//+lfojjvuuJAZCFwJl4NeZ91/zzzzTMg0r3/xxRepn8F1U5eL7vUNNtgAQNIlePTRR4fcunXrkBsaDD036Ppp0gjX+uuvvw7dPffcE/Iee+xRZ2xqiq9GnnrqqZCPOOIIAMlAe91ro0aNAgB8+eWXoTvmmGNCrmRYgZ4JuqeuuOKKOv+2WJ0x1uHiOQIk69yxDZjuj3K5jHTMev/ddNNNIf/3v/8FkAwf0f3He0l/M26++eaQZ82aBaDghgeA3r17h6yuwqzmndYaiQH1AHDggQeGzLOc9QgB4Pjjjw95q622ApA8E3V9hw0bBgC47bbbQqf7I8+11PXT4Hkd//PPPw8AWHTRRUOn58+qq64KIOmeZnKJ0r9//5CzDj+wpcoYY4wxJgP8UGWMMcYYkwE15f5TNPuJWRYA8NprrwFIZmdo9D9RM7xmwlRL9lEx0lxtzz33XMg0z6upeP/99w+ZbqM83BB67TSjku5VNbMWy2She4tZSH/9XGYSDh8+PHQHHHBAyDQPM4sTyN/lwvFr7a+zzz475Mcee6zO3yy22GIht23bNuRVVlkFQHHX3a+//gogaZ5XV6K6OrjWWe1p/RzWQwOS7ke6onXOu+66a8isGcP7FAAef/zxkKuxTZJmynJ8ei3U1cSs4p122il0yy23XMjVklWs49drzvvyt99+C53W2WLW1fbbbx+6p59+OmS6xSqxjurGe+mll0JW9xHHpRnDzOgECtnRuk4vvvhiyMweVPfp6quvHnIe2Z10zzFzGCjUWwQKLj0A2GabbQAkW5NpJmdadqOe1TxLNLu1WM3BrH8rdUyffPJJyJrpx7OeWYxA0j1L97PW2WLIBVAIj9H110zQLOZnS5UxxhhjTAb4ocoYY4wxJgNqyv2nJtlNNtkkZHX/MPtBM1LUFE1TvWYPbLvttpmPNUvSimqqSVpdPnRFqUl64MCBIdMUnKUbgmZSHSeLsAKFNkLFXAL6dyx6qeZZNcNy3O+//37ounXrFvL3338PIOn+y4piGTPM9NJ2FyNGjEgdH0312uaiQ4cOITPrqJTp+fLLLw9ZC/XdcsstIQ8YMGCuPqsUXB/dM7qn1NXy9ttvA0hef22Jcd111wFIZp9WO5pJxWuq7hd1XzJrac899wxdNYYUFMu+ZfFgdfmtsMIKId9+++0AgA033DD1cyvpvtWQAG1NoucL77t99903dLpWvC6aUaahJkSvWR5Ztro+bDND1xaQPFNOPfXUkBkKo6EWaWvy2WefhbzbbruFzPY9jz76aJ3PBIB27dqFnFWhZc5VCz7r/lP3JV11a665Zur409qcaSgG3dPPPvts6I488siQ9Vyy+88YY4wxpoLUlKVK0Sd5vj0ChSdUfbrVmlS0IGjwur5VV2OgrD51862Ib4xAIThdUeubvmnmGSirT/Zar2W11Vab68/g9S/29sd1X3/99UOnVss855f29ggUap68/vrrodPWHRdddFHIfBPSfaZzLfV2xDEcfvjhoVOrJQP586ZYbamrr74aADB58uTQvffeeyGz/phaf6rRkqNj0qBz1qzSNh9qFWBzXX3jrZYzRc8RDUQ/9thjQ+b6qPWDwdtAwZKaZw20uUHvRSanHHbYYaHT+1OtymxzorXD0hqyl2rorueP1oxrzF4uFhDO1je6z9RqpTXtuC66Pnom3HjjjQCAQYMGhU4t5dwLan3WRJT77rsv5FatWgHIzlKl7WhYLwtIBqWvscYaAIrXVky719TS1qNHDwDJdkKadJPFs4AtVcYYY4wxGeCHKmOMMcaYDKhZ95+iNX/SgucmTpwYMk3FBx10UOjUVVgtrohi5uf7778fADB06NDQaSAl66do8J2aystVJyctuDxL9DP1Wj3xxBMAgO222y50Ov/GrK+a37XO0sMPPwwg6RLS2igadK8d4RsC5/rKK6+EToP2d9lll0Z9fhq8Zjr/k08+OWR19dI9pu4lTSTh/LU1lLak4LWq9H1YrKULkxG0TdJGG20UcsuWLQFUpk1LKXT9eA4CwJAhQ0JmzSmdn7pPGtvSqjGoG09rwp1wwgkAgClTpoSO6wAk9yrd5vpZuj7cdx9//HHoJk2aVGcsGnKQ5n5rCDomrUnF5A498/U3T12dDDX48MMPQ/f555+HnJZUoy2H6NbX2ld6f5900kkh87eosfCa6++0huxoUH5jz4XvvvsOQHLNNGnNbWqMMcYYY6oEP1QZY4wxxmRATbj/0rp0s1s4kOzYzeyVzTbbLHRau4d/p5298yy931B0rlqynzU3dP7q/mMm2jrrrBO6anE/NCXUZEyXlWY5NrbeSbFMIO7vwYMHh04z8bQ+W9boPNgNHkjWzGJWkrr/WrduHTLvxbfeeit06l6olvtP0THRxbTffvuFTt1qrM/GLDOg0DoEKLjS0lxOeaMu886dO4fM1h1A4fxguyQgmR3Ic1VdVZVYMz3/6HLTc5DtroBkJi7vFR2z3l+sT3X66aeHTt1/Sy21FICkqz+r81XHoRndP/74I4CkS2z8+PEha3YxW+5o+IPWxEvLftTv5R7RM4W1A4Fke6ys21+py1P3n7oi5/Y79fdT61+xph/rVQGFNQWyWUtbqowxxhhjMqAmLFUMbtUaGXfccUfIWhOHbzD6pM23e6BQSVctOWlPv8UsBUrWFiB9+9Mmzxp0zkA7HZM+yffs2RNAZYLTy4muWVpQtFoPspq/fqcGijIoVqsQa20VrQPDcelap32Hvl2x9hEAXH/99QCSQZ1aMVhrCuVpoSz22azZo2+3GrzLcauloZjVoJLoODQ4+4UXXgCQrAPHew4oNKdV6/irr74a8u677w4gWZE8q0SKUhQLwzom0gAACJJJREFUvu/Xr1/IbMSrZ602ZD/nnHMAJCvK521141roOtx7770hf/311wCArl27ho71mIBkQ2zWbNL9p54AWqg0+UP/ntdqxRVXDF1W95meU/r7xOuvFkP9t++++27IZ555JgDguOOOC92nn34aMgPs07p0AIXzSX9/mIgDAL179w65MfdqmnVMPU56fuhZ3pDP1+vD79AuJPqs4EB1Y4wxxpgqwQ9VxhhjjDEZULXuPzWJs07HGWecETptoqimdtZfOe2000KnZmPWlNHaVGr+pNmQjZcB4JlnnglZA3TZqiCrMv1ar0eb5H7wwQch01SpdTa0dggDpCvdRiIvuD5jxowJ3ejRo0NebrnlcvtuvaZt27YNuU+fPgAKrhEgWRtHXT3rrbceAGCZZZZJ/Y5ff/0VQKGxLZCs6cT11dYR2rxag3UrkaDA79Tv1nuZbg29p7SNBu/LSges65g1aJjtLdSlx9YtQKHhrDaE1TZaW2yxBQBg1KhRoVNXT7lc9WlnHgAsvfTSAJLuI20pRPeP1ubingbyXTc9x7WOVFprMq0jp7BNmTZf1vVlqIjWk2PwPpB0lWaNrokmwvD3T/eGnnlac5GuQg1P0KQtro+uk7rXOH82LgaSv3ka4J7V+cJz9fvvv2/0ZzGsQhtis44ZUKi/Rjd8HthSZYwxxhiTAX6oMsYYY4zJgKpy/2lG1IQJE0JmpL62+9A6HCy9DxQysLT2jbZZYFZImskbKGQnqctFTf3aHZy1ULJy/6nJ+pprrkkdP7NWNCNH6+A0RbefrhXN8syCA4D27duH3KZNGwD5uCH0MzVjhO43deloG5kvvvgi5Lvuumuuxqe1ZXr16hUys7O0TYa6/Iq176kkaZm0WsdLXdnVnqnK/aeuKHUVprXh0aymnXbaCQDQqlWr0FW6jpzuxTT3kGYXs74V6yEBwKD/a+9udSJpojCOPwi+NJeA4CIIFgyCYEiwGAwhCBJuAItYg0MiMAgQJHAFEBSKcAckGBISPsyrTs3T71bDzHR1z7D5/1Snd2ema7qnuzin6tSfP20foqTqfdBTkpFK9pS5z5h1ca7qlhGK+kW+jIvPeItjaPs6zc2I9fb75/uzzpfn+f/rpV67/f29ZlwMsfHn697eXtr2VGGp6zaeaX6f9NpRfqy5WdPevhi247XXHh4e0nY8V/19Sp9LIlUAAAAFjFWkynu+PtAu/jo/OztL+7wn6q+LSqwXFxdpXwz+lXoDMA8ODtI+j+5E/RavLXR8fJy219fXs587qNxAWK9M7dEHHzS5tLQkqVrxt81e9zjw7yqqG/tAU18QNAZ4trHwa662iiTNzc1Jqk6Y8NppHnWNaJa3ycX7+nXmUY3cX5rjGJ1y/vuKSRdeh8t/R9GWujpeXfHv1yMEEdX2gfZx/qXeNeB19NbW1tL24eGhpOpA5HH8zfr16YN+YyHjlZWVzo4lzoUfk3+nsQj0/f192ufXj0eVYyKLR7q8JlK0y+uQjbrmXy566BNd3t7e0vb5+bmkaqTJo0tRld0jqTc3N2k7BnUvLy+nfXU1rZrwtkSk2qOfXvvNn/tRh88j3VG7UepFovxevLi4mLYjk9EmIlUAAAAF0KkCAAAoYGJU9WDe39+//eBcqiVCz1K1ppOHN2NBWR/86umHeA8f3O7h00gfeu2VuoHAOTMzMxOS9PX19Vf76sKoUd8oUgNSNXzt6Z9YMsBrH3U50HVycrK2fSXVpR+iPpPXqbm6ukrbMcBx2O8k2vf5+dmofXXLHPWbnmtr6Y+pqalOzp/zc3lyciKpurSOT7qIRam3trbSvkFSmnH+Pj4+ip0/Pxdx/F57ys9P1K7z9LwPJYhU1LDX5/T09IT08/0zp59rMrZ98V6vzfT4+CipVw9Qqt5rm96L4v6ZO391SwfF4sK+TJTf8/34YqKATwTxVFIcf1tpvjh/Ta9Pfz74AP2oz+jL8MTSUVKvllfUS5OqdbhiSR5v/yD3n2jfIPeXOK/+OVEPTqoO1YlhQV4nzdO+8Xz3yT3evugfNH0+fIdIFQAAQAF0qgAAAAoY2/RfTj8zgiKsV9eueI+62VfxumHrPX2X/st9jtRLb/ksP+ezV2LW0Khq23SV/vOUrtdRWV1dlSRdX1+nfbE0iNQ8VVYq/TeuRpH+899thOq99pH/1i4vLyVVZx8Ncq2XSv+53FAET4/58UV6xZdM8Wuy6e+23/RfLn15dHSU9sUsWqk6lODp6UmSdHd3l/Z5qmh7e1tSdfZZyXvRd+k/l0tZ1qXM/f/GtVjynAyiVPqvLiUe1+XLy0va57+/mKnqNR/930tdn8PcX+pmVz8/P6ftmN3o6cFIuUvS7u6uJGlhYcGPKfu+wyD9BwAA0BE6VQAAAAX8qvTfb9Bv+s9FKrIupDuqUHVO2+m/XCh/f38/bd/e3kqqpv9mZ2fTdtPvh/RfuyL87sUxY7knqTerpy49/5M20n8urs+fhg/kln4pYZjZf3HMnkY5PT1N216oNoYXbGxspH3z8/NpO9rS1n2o3/RfTj+zREf1vAul0n8ulwr96VnS9vXZ9P4yrrOnSf8BAAB0hEhVYcNEqn6TriJVr6+vaZ8PWt7Z2ZEkbW5u/vUaiYHqPxl1pCp47bfcMjUN3rfVSNWoNalT5dE1nwiS+/345IEuo+NNIlW/QRuRqnFSKlI1rohUAQAAdIROFQAAQAEjS/8BAAD8S4hUAQAAFECnCgAAoAA6VQAAAAXQqQIAACiAThUAAEABdKoAAAAKoFMFAABQAJ0qAACAAuhUAQAAFECnCgAAoAA6VQAAAAXQqQIAACiAThUAAEABdKoAAAAKoFMFAABQAJ0qAACAAuhUAQAAFECnCgAAoAA6VQAAAAXQqQIAACiAThUAAEABdKoAAAAKoFMFAABQAJ0qAACAAv4D+QAZlZyVFdgAAAAASUVORK5CYII=\n",
>>>>>>> parent of 4e8a018... exercise3 complete
      "text/plain": [
       "<Figure size 720x720 with 100 Axes>"
      ]
     },
     "metadata": {
      "needs_background": "dark"
     },
     "output_type": "display_data"
    }
   ],
   "source": [
    "# Randomly select 100 data points to display\n",
    "rand_indices = np.random.choice(m, 100, replace=False)\n",
    "sel = X[rand_indices, :]\n",
    "\n",
    "utils.displayData(sel)"
   ]
  },
  {
   "cell_type": "markdown",
   "metadata": {
    "collapsed": true
   },
   "source": [
    "### 1.3 Vectorizing Logistic Regression\n",
    "\n",
    "You will be using multiple one-vs-all logistic regression models to build a multi-class classifier. Since there are 10 classes, you will need to train 10 separate logistic regression classifiers. To make this training efficient, it is important to ensure that your code is well vectorized. In this section, you will implement a vectorized version of logistic regression that does not employ any `for` loops. You can use your code in the previous exercise as a starting point for this exercise. \n",
    "\n",
    "To test your vectorized logistic regression, we will use custom data as defined in the following cell."
   ]
  },
  {
   "cell_type": "code",
   "execution_count": 4,
   "metadata": {},
   "outputs": [],
   "source": [
    "# test values for the parameters theta\n",
    "theta_t = np.array([-2, -1, 1, 2], dtype=float)\n",
    "\n",
    "# test values for the inputs\n",
    "X_t = np.concatenate([np.ones((5, 1)), np.arange(1, 16).reshape(5, 3, order='F')/10.0], axis=1)\n",
    "\n",
    "# test values for the labels\n",
    "y_t = np.array([1, 0, 1, 0, 1])\n",
    "\n",
    "# test value for the regularization parameter\n",
    "lambda_t = 3"
   ]
  },
  {
   "cell_type": "markdown",
   "metadata": {},
   "source": [
    "<a id=\"section1\"></a>\n",
    "#### 1.3.1 Vectorizing the cost function \n",
    "\n",
    "We will begin by writing a vectorized version of the cost function. Recall that in (unregularized) logistic regression, the cost function is\n",
    "\n",
    "$$ J(\\theta) = \\frac{1}{m} \\sum_{i=1}^m \\left[ -y^{(i)} \\log \\left( h_\\theta\\left( x^{(i)} \\right) \\right) - \\left(1 - y^{(i)} \\right) \\log \\left(1 - h_\\theta \\left( x^{(i)} \\right) \\right) \\right] $$\n",
    "\n",
    "To compute each element in the summation, we have to compute $h_\\theta(x^{(i)})$ for every example $i$, where $h_\\theta(x^{(i)}) = g(\\theta^T x^{(i)})$ and $g(z) = \\frac{1}{1+e^{-z}}$ is the sigmoid function. It turns out that we can compute this quickly for all our examples by using matrix multiplication. Let us define $X$ and $\\theta$ as\n",
    "\n",
    "$$ X = \\begin{bmatrix} - \\left( x^{(1)} \\right)^T - \\\\ - \\left( x^{(2)} \\right)^T - \\\\ \\vdots \\\\ - \\left( x^{(m)} \\right)^T - \\end{bmatrix} \\qquad \\text{and} \\qquad \\theta = \\begin{bmatrix} \\theta_0 \\\\ \\theta_1 \\\\ \\vdots \\\\ \\theta_n \\end{bmatrix} $$\n",
    "\n",
    "Then, by computing the matrix product $X\\theta$, we have: \n",
    "\n",
    "$$ X\\theta = \\begin{bmatrix} - \\left( x^{(1)} \\right)^T\\theta - \\\\ - \\left( x^{(2)} \\right)^T\\theta - \\\\ \\vdots \\\\ - \\left( x^{(m)} \\right)^T\\theta - \\end{bmatrix} = \\begin{bmatrix} - \\theta^T x^{(1)}  - \\\\ - \\theta^T x^{(2)} - \\\\ \\vdots \\\\ - \\theta^T x^{(m)}  - \\end{bmatrix} $$\n",
    "\n",
    "In the last equality, we used the fact that $a^Tb = b^Ta$ if $a$ and $b$ are vectors. This allows us to compute the products $\\theta^T x^{(i)}$ for all our examples $i$ in one line of code.\n",
    "\n",
    "#### 1.3.2 Vectorizing the gradient\n",
    "\n",
    "Recall that the gradient of the (unregularized) logistic regression cost is a vector where the $j^{th}$ element is defined as\n",
    "\n",
    "$$ \\frac{\\partial J }{\\partial \\theta_j} = \\frac{1}{m} \\sum_{i=1}^m \\left( \\left( h_\\theta\\left(x^{(i)}\\right) - y^{(i)} \\right)x_j^{(i)} \\right) $$\n",
    "\n",
    "To vectorize this operation over the dataset, we start by writing out all the partial derivatives explicitly for all $\\theta_j$,\n",
    "\n",
    "$$\n",
    "\\begin{align*}\n",
    "\\begin{bmatrix} \n",
    "\\frac{\\partial J}{\\partial \\theta_0} \\\\\n",
    "\\frac{\\partial J}{\\partial \\theta_1} \\\\\n",
    "\\frac{\\partial J}{\\partial \\theta_2} \\\\\n",
    "\\vdots \\\\\n",
    "\\frac{\\partial J}{\\partial \\theta_n}\n",
    "\\end{bmatrix} = &\n",
    "\\frac{1}{m} \\begin{bmatrix}\n",
    "\\sum_{i=1}^m \\left( \\left(h_\\theta\\left(x^{(i)}\\right) - y^{(i)} \\right)x_0^{(i)}\\right) \\\\\n",
    "\\sum_{i=1}^m \\left( \\left(h_\\theta\\left(x^{(i)}\\right) - y^{(i)} \\right)x_1^{(i)}\\right) \\\\\n",
    "\\sum_{i=1}^m \\left( \\left(h_\\theta\\left(x^{(i)}\\right) - y^{(i)} \\right)x_2^{(i)}\\right) \\\\\n",
    "\\vdots \\\\\n",
    "\\sum_{i=1}^m \\left( \\left(h_\\theta\\left(x^{(i)}\\right) - y^{(i)} \\right)x_n^{(i)}\\right) \\\\\n",
    "\\end{bmatrix} \\\\\n",
    "= & \\frac{1}{m} \\sum_{i=1}^m \\left( \\left(h_\\theta\\left(x^{(i)}\\right) - y^{(i)} \\right)x^{(i)}\\right) \\\\\n",
    "= & \\frac{1}{m} X^T \\left( h_\\theta(x) - y\\right)\n",
    "\\end{align*}\n",
    "$$\n",
    "\n",
    "where\n",
    "\n",
    "$$  h_\\theta(x) - y = \n",
    "\\begin{bmatrix}\n",
    "h_\\theta\\left(x^{(1)}\\right) - y^{(1)} \\\\\n",
    "h_\\theta\\left(x^{(2)}\\right) - y^{(2)} \\\\\n",
    "\\vdots \\\\\n",
    "h_\\theta\\left(x^{(m)}\\right) - y^{(m)} \n",
    "\\end{bmatrix} $$\n",
    "\n",
    "Note that $x^{(i)}$ is a vector, while $h_\\theta\\left(x^{(i)}\\right) - y^{(i)}$  is a scalar (single number).\n",
    "To understand the last step of the derivation, let $\\beta_i = (h_\\theta\\left(x^{(m)}\\right) - y^{(m)})$ and\n",
    "observe that:\n",
    "\n",
    "$$ \\sum_i \\beta_ix^{(i)} = \\begin{bmatrix} \n",
    "| & | & & | \\\\\n",
    "x^{(1)} & x^{(2)} & \\cdots & x^{(m)} \\\\\n",
    "| & | & & | \n",
    "\\end{bmatrix}\n",
    "\\begin{bmatrix}\n",
    "\\beta_1 \\\\\n",
    "\\beta_2 \\\\\n",
    "\\vdots \\\\\n",
    "\\beta_m\n",
    "\\end{bmatrix} = x^T \\beta\n",
    "$$\n",
    "\n",
    "where the values $\\beta_i = \\left( h_\\theta(x^{(i)} - y^{(i)} \\right)$.\n",
    "\n",
    "The expression above allows us to compute all the partial derivatives\n",
    "without any loops. If you are comfortable with linear algebra, we encourage you to work through the matrix multiplications above to convince yourself that the vectorized version does the same computations. \n",
    "\n",
    "Your job is to write the unregularized cost function `lrCostFunction` which returns both the cost function $J(\\theta)$ and its gradient $\\frac{\\partial J}{\\partial \\theta}$. Your implementation should use the strategy we presented above to calculate $\\theta^T x^{(i)}$. You should also use a vectorized approach for the rest of the cost function. A fully vectorized version of `lrCostFunction` should not contain any loops.\n",
    "\n",
    "<div class=\"alert alert-box alert-warning\">\n",
    "**Debugging Tip:** Vectorizing code can sometimes be tricky. One common strategy for debugging is to print out the sizes of the matrices you are working with using the `shape` property of `numpy` arrays. For example, given a data matrix $X$ of size $100 \\times 20$ (100 examples, 20 features) and $\\theta$, a vector with size $20$, you can observe that `np.dot(X, theta)` is a valid multiplication operation, while `np.dot(theta, X)` is not. Furthermore, if you have a non-vectorized version of your code, you can compare the output of your vectorized code and non-vectorized code to make sure that they produce the same outputs.\n",
    "</div>\n",
    "<a id=\"lrCostFunction\"></a>"
   ]
  },
  {
   "cell_type": "code",
   "execution_count": 27,
   "metadata": {},
   "outputs": [],
   "source": [
    "def lrCostFunction(theta, X, y, lambda_):\n",
    "    \"\"\"\n",
    "    Computes the cost of using theta as the parameter for regularized\n",
    "    logistic regression and the gradient of the cost w.r.t. to the parameters.\n",
    "    \n",
    "    Parameters\n",
    "    ----------\n",
    "    theta : array_like\n",
    "        Logistic regression parameters. A vector with shape (n, ). n is \n",
    "        the number of features including any intercept.  \n",
    "    \n",
    "    X : array_like\n",
    "        The data set with shape (m x n). m is the number of examples, and\n",
    "        n is the number of features (including intercept).\n",
    "    \n",
    "    y : array_like\n",
    "        The data labels. A vector with shape (m, ).\n",
    "    \n",
    "    lambda_ : float\n",
    "        The regularization parameter. \n",
    "    \n",
    "    Returns\n",
    "    -------\n",
    "    J : float\n",
    "        The computed value for the regularized cost function. \n",
    "    \n",
    "    grad : array_like\n",
    "        A vector of shape (n, ) which is the gradient of the cost\n",
    "        function with respect to theta, at the current values of theta.\n",
    "    \n",
    "    Instructions\n",
    "    ------------\n",
    "    Compute the cost of a particular choice of theta. You should set J to the cost.\n",
    "    Compute the partial derivatives and set grad to the partial\n",
    "    derivatives of the cost w.r.t. each parameter in theta\n",
    "    \n",
    "    Hint 1\n",
    "    ------\n",
    "    The computation of the cost function and gradients can be efficiently\n",
    "    vectorized. For example, consider the computation\n",
    "    \n",
    "        sigmoid(X * theta)\n",
    "    \n",
    "    Each row of the resulting matrix will contain the value of the prediction\n",
    "    for that example. You can make use of this to vectorize the cost function\n",
    "    and gradient computations. \n",
    "    \n",
    "    Hint 2\n",
    "    ------\n",
    "    When computing the gradient of the regularized cost function, there are\n",
    "    many possible vectorized solutions, but one solution looks like:\n",
    "    \n",
    "        grad = (unregularized gradient for logistic regression)\n",
    "        temp = theta \n",
    "        temp[0] = 0   # because we don't add anything for j = 0\n",
    "        grad = grad + YOUR_CODE_HERE (using the temp variable)\n",
    "    \n",
    "    Hint 3\n",
    "    ------\n",
    "    We have provided the implementatation of the sigmoid function within \n",
    "    the file `utils.py`. At the start of the notebook, we imported this file\n",
    "    as a module. Thus to access the sigmoid function within that file, you can\n",
    "    do the following: `utils.sigmoid(z)`.\n",
    "    \n",
    "    \"\"\"\n",
    "    #Initialize some useful values\n",
    "    m = len(y)\n",
    "    \n",
    "    # convert labels to ints if their type is bool\n",
    "    if y.dtype == bool:\n",
    "        y = y.astype(int)\n",
    "    \n",
    "    # You need to return the following variables correctly\n",
    "    J = 0\n",
    "    grad = np.zeros(theta.shape)\n",
    "    \n",
    "    # ====================== YOUR CODE HERE ======================\n",
    "    def sigmoid(z): \n",
    "        return 1/(1 + np.exp(-z))\n",
    "    \n",
    "    hypothesis = sigmoid(X @ theta)\n",
    "    error = (-y*np.log(hypothesis)) - ((1-y)*np.log(1-hypothesis))\n",
    "    errpr = np.array(error)\n",
    "    J = 1/m * sum(error) \n",
    "    J = J + ( lambda_/(2*m) * sum(np.square(theta[1:])) )\n",
    "    \n",
    "    grad = 1/m * np.dot(X.transpose(), (hypothesis - y))   \n",
    "    grad[1:] = grad[1:] + (lambda_/m)* theta[1:]\n",
    "    # =============================================================\n",
    "    return J, grad"
   ]
  },
  {
   "cell_type": "markdown",
   "metadata": {},
   "source": [
    "#### 1.3.3 Vectorizing regularized logistic regression\n",
    "\n",
    "After you have implemented vectorization for logistic regression, you will now\n",
    "add regularization to the cost function. Recall that for regularized logistic\n",
    "regression, the cost function is defined as\n",
    "\n",
    "$$ J(\\theta) = \\frac{1}{m} \\sum_{i=1}^m \\left[ -y^{(i)} \\log \\left(h_\\theta\\left(x^{(i)} \\right)\\right) - \\left( 1 - y^{(i)} \\right) \\log\\left(1 - h_\\theta \\left(x^{(i)} \\right) \\right) \\right] + \\frac{\\lambda}{2m} \\sum_{j=1}^n \\theta_j^2 $$\n",
    "\n",
    "Note that you should not be regularizing $\\theta_0$ which is used for the bias term.\n",
    "Correspondingly, the partial derivative of regularized logistic regression cost for $\\theta_j$ is defined as\n",
    "\n",
    "$$\n",
    "\\begin{align*}\n",
    "& \\frac{\\partial J(\\theta)}{\\partial \\theta_0} = \\frac{1}{m} \\sum_{i=1}^m \\left( h_\\theta\\left( x^{(i)} \\right) - y^{(i)} \\right) x_j^{(i)}  & \\text{for } j = 0 \\\\\n",
    "& \\frac{\\partial J(\\theta)}{\\partial \\theta_0} = \\left( \\frac{1}{m} \\sum_{i=1}^m \\left( h_\\theta\\left( x^{(i)} \\right) - y^{(i)} \\right) x_j^{(i)} \\right) + \\frac{\\lambda}{m} \\theta_j & \\text{for } j  \\ge 1\n",
    "\\end{align*}\n",
    "$$\n",
    "\n",
    "Now modify your code in lrCostFunction in the [**previous cell**](#lrCostFunction) to account for regularization. Once again, you should not put any loops into your code.\n",
    "\n",
    "<div class=\"alert alert-box alert-warning\">\n",
    "**python/numpy Tip:** When implementing the vectorization for regularized logistic regression, you might often want to only sum and update certain elements of $\\theta$. In `numpy`, you can index into the matrices to access and update only certain elements. For example, A[:, 3:5]\n",
    "= B[:, 1:3] will replaces the columns with index 3 to 5 of A with the columns with index 1 to 3 from B. To select columns (or rows) until the end of the matrix, you can leave the right hand side of the colon blank. For example, A[:, 2:] will only return elements from the $3^{rd}$ to last columns of $A$. If you leave the left hand size of the colon blank, you will select elements from the beginning of the matrix. For example, A[:, :2] selects the first two columns, and is equivalent to A[:, 0:2]. In addition, you can use negative indices to index arrays from the end. Thus, A[:, :-1] selects all columns of A except the last column, and A[:, -5:] selects the $5^{th}$ column from the end to the last column. Thus, you could use this together with the sum and power ($^{**}$) operations to compute the sum of only the elements you are interested in (e.g., `np.sum(z[1:]**2)`). In the starter code, `lrCostFunction`, we have also provided hints on yet another possible method computing the regularized gradient.\n",
    "</div>\n",
    "\n",
    "Once you finished your implementation, you can call the function `lrCostFunction` to test your solution using the following cell:"
   ]
  },
  {
   "cell_type": "code",
   "execution_count": 28,
   "metadata": {},
   "outputs": [
    {
     "name": "stdout",
     "output_type": "stream",
     "text": [
      "Cost         : 2.534819\n",
      "Expected cost: 2.534819\n",
      "-----------------------\n",
      "Gradients:\n",
      " [0.146561, -0.548558, 0.724722, 1.398003]\n",
      "Expected gradients:\n",
      " [0.146561, -0.548558, 0.724722, 1.398003]\n"
     ]
    }
   ],
   "source": [
    "J, grad = lrCostFunction(theta_t, X_t, y_t, lambda_t)\n",
    "\n",
    "print('Cost         : {:.6f}'.format(J))\n",
    "print('Expected cost: 2.534819')\n",
    "print('-----------------------')\n",
    "print('Gradients:')\n",
    "print(' [{:.6f}, {:.6f}, {:.6f}, {:.6f}]'.format(*grad))\n",
    "print('Expected gradients:')\n",
    "print(' [0.146561, -0.548558, 0.724722, 1.398003]');"
   ]
  },
  {
   "cell_type": "markdown",
   "metadata": {},
   "source": [
    "After completing a part of the exercise, you can submit your solutions for grading by first adding the function you modified to the submission object, and then sending your function to Coursera for grading. \n",
    "\n",
    "The submission script will prompt you for your login e-mail and submission token. You can obtain a submission token from the web page for the assignment. You are allowed to submit your solutions multiple times, and we will take only the highest score into consideration.\n",
    "\n",
    "*Execute the following cell to grade your solution to the first part of this exercise.*"
   ]
  },
  {
   "cell_type": "code",
   "execution_count": 30,
   "metadata": {},
   "outputs": [
    {
     "name": "stdout",
     "output_type": "stream",
     "text": [
      "\n",
      "Submitting Solutions | Programming Exercise multi-class-classification-and-neural-networks\n",
      "\n",
      "Use token from last successful submission (mthwsjc@gmail.com)? (Y/n): fROEr1rQXMAeeAKu\n",
      "Login (email address): mthwsjc@gmail.com\n",
      "Token: fROEr1rQXMAeeAKu\n",
      "                                  Part Name |     Score | Feedback\n",
      "                                  --------- |     ----- | --------\n",
      "            Regularized Logistic Regression |  30 /  30 | Nice work!\n",
      "             One-vs-All Classifier Training |   0 /  20 | \n",
      "           One-vs-All Classifier Prediction |   0 /  20 | \n",
      "         Neural Network Prediction Function |   0 /  30 | \n",
      "                                  --------------------------------\n",
      "                                            |  30 / 100 |  \n",
      "\n"
     ]
    }
   ],
   "source": [
    "# appends the implemented function in part 1 to the grader object\n",
    "grader[1] = lrCostFunction\n",
    "\n",
    "# send the added functions to coursera grader for getting a grade on this part\n",
    "grader.grade()"
   ]
  },
  {
   "cell_type": "markdown",
   "metadata": {},
   "source": [
    "<a id=\"section2\"></a>\n",
    "### 1.4 One-vs-all Classification\n",
    "\n",
    "In this part of the exercise, you will implement one-vs-all classification by training multiple regularized logistic regression classifiers, one for each of the $K$ classes in our dataset. In the handwritten digits dataset, $K = 10$, but your code should work for any value of $K$. \n",
    "\n",
    "You should now complete the code for the function `oneVsAll` below, to train one classifier for each class. In particular, your code should return all the classifier parameters in a matrix $\\theta \\in \\mathbb{R}^{K \\times (N +1)}$, where each row of $\\theta$ corresponds to the learned logistic regression parameters for one class. You can do this with a “for”-loop from $0$ to $K-1$, training each classifier independently.\n",
    "\n",
    "Note that the `y` argument to this function is a vector of labels from 0 to 9. When training the classifier for class $k \\in \\{0, ..., K-1\\}$, you will want a K-dimensional vector of labels $y$, where $y_j \\in 0, 1$ indicates whether the $j^{th}$ training instance belongs to class $k$ $(y_j = 1)$, or if it belongs to a different\n",
    "class $(y_j = 0)$. You may find logical arrays helpful for this task. \n",
    "\n",
    "Furthermore, you will be using scipy's `optimize.minimize` for this exercise. \n",
    "<a id=\"oneVsAll\"></a>"
   ]
  },
  {
   "cell_type": "code",
<<<<<<< HEAD
   "execution_count": 9,
=======
   "execution_count": null,
>>>>>>> parent of 4e8a018... exercise3 complete
   "metadata": {},
   "outputs": [],
   "source": [
    "def oneVsAll(X, y, num_labels, lambda_):\n",
    "    \"\"\"\n",
    "    Trains num_labels logistic regression classifiers and returns\n",
    "    each of these classifiers in a matrix all_theta, where the i-th\n",
    "    row of all_theta corresponds to the classifier for label i.\n",
    "    \n",
    "    Parameters\n",
    "    ----------\n",
    "    X : array_like\n",
    "        The input dataset of shape (m x n). m is the number of \n",
    "        data points, and n is the number of features. Note that we \n",
    "        do not assume that the intercept term (or bias) is in X, however\n",
    "        we provide the code below to add the bias term to X. \n",
    "    \n",
    "    y : array_like\n",
    "        The data labels. A vector of shape (m, ).\n",
    "    \n",
    "    num_labels : int\n",
    "        Number of possible labels.\n",
    "    \n",
    "    lambda_ : float\n",
    "        The logistic regularization parameter.\n",
    "    \n",
    "    Returns\n",
    "    -------\n",
    "    all_theta : array_like\n",
    "        The trained parameters for logistic regression for each class.\n",
    "        This is a matrix of shape (K x n+1) where K is number of classes\n",
    "        (ie. `numlabels`) and n is number of features without the bias.\n",
    "    \n",
    "    Instructions\n",
    "    ------------\n",
    "    You should complete the following code to train `num_labels`\n",
    "    logistic regression classifiers with regularization parameter `lambda_`. \n",
    "    \n",
    "    Hint\n",
    "    ----\n",
    "    You can use y == c to obtain a vector of 1's and 0's that tell you\n",
    "    whether the ground truth is true/false for this class.\n",
    "    \n",
    "    Note\n",
    "    ----\n",
    "    For this assignment, we recommend using `scipy.optimize.minimize(method='CG')`\n",
    "    to optimize the cost function. It is okay to use a for-loop \n",
    "    (`for c in range(num_labels):`) to loop over the different classes.\n",
    "    \n",
    "    Example Code\n",
    "    ------------\n",
    "    \n",
    "        # Set Initial theta\n",
    "        initial_theta = np.zeros(n + 1)\n",
    "      \n",
    "        # Set options for minimize\n",
    "        options = {'maxiter': 50}\n",
    "    \n",
    "        # Run minimize to obtain the optimal theta. This function will \n",
    "        # return a class object where theta is in `res.x` and cost in `res.fun`\n",
    "        res = optimize.minimize(lrCostFunction, \n",
    "                                initial_theta, \n",
    "                                (X, (y == c), lambda_), \n",
    "                                jac=True, \n",
    "                                method='TNC',\n",
    "                                options=options) \n",
    "    \"\"\"\n",
    "    # Some useful variables\n",
    "    m, n = X.shape\n",
    "    \n",
    "    # You need to return the following variables correctly \n",
    "    all_theta = np.zeros((num_labels, n + 1))\n",
    "\n",
    "    # Add ones to the X data matrix\n",
    "    X = np.concatenate([np.ones((m, 1)), X], axis=1)\n",
    "\n",
    "    # ====================== YOUR CODE HERE ======================\n",
    "   \n",
    "\n",
    "\n",
    "    # ============================================================\n",
    "    return all_theta"
   ]
  },
  {
   "cell_type": "markdown",
   "metadata": {},
   "source": [
    "After you have completed the code for `oneVsAll`, the following cell will use your implementation to train a multi-class classifier. "
   ]
  },
  {
   "cell_type": "code",
<<<<<<< HEAD
   "execution_count": 10,
   "metadata": {},
   "outputs": [
    {
     "name": "stdout",
     "output_type": "stream",
     "text": [
      "c: 0\n",
      "c: 1\n",
      "c: 2\n",
      "c: 3\n",
      "c: 4\n",
      "c: 5\n",
      "c: 6\n",
      "c: 7\n",
      "c: 8\n",
      "c: 9\n"
     ]
    },
    {
     "ename": "AttributeError",
     "evalue": "'list' object has no attribute 'reshape'",
     "output_type": "error",
     "traceback": [
      "\u001b[0;31m---------------------------------------------------------------------------\u001b[0m",
      "\u001b[0;31mAttributeError\u001b[0m                            Traceback (most recent call last)",
      "\u001b[0;32m<ipython-input-10-fd43c93fcc86>\u001b[0m in \u001b[0;36m<module>\u001b[0;34m\u001b[0m\n\u001b[1;32m      1\u001b[0m \u001b[0mlambda_\u001b[0m \u001b[0;34m=\u001b[0m \u001b[0;36m0.1\u001b[0m\u001b[0;34m\u001b[0m\u001b[0;34m\u001b[0m\u001b[0m\n\u001b[0;32m----> 2\u001b[0;31m \u001b[0mall_theta\u001b[0m \u001b[0;34m=\u001b[0m \u001b[0moneVsAll\u001b[0m\u001b[0;34m(\u001b[0m\u001b[0mX\u001b[0m\u001b[0;34m,\u001b[0m \u001b[0my\u001b[0m\u001b[0;34m,\u001b[0m \u001b[0mnum_labels\u001b[0m\u001b[0;34m,\u001b[0m \u001b[0mlambda_\u001b[0m\u001b[0;34m)\u001b[0m\u001b[0;34m\u001b[0m\u001b[0;34m\u001b[0m\u001b[0m\n\u001b[0m",
      "\u001b[0;32m<ipython-input-9-4dc8627df657>\u001b[0m in \u001b[0;36moneVsAll\u001b[0;34m(X, y, num_labels, lambda_)\u001b[0m\n\u001b[1;32m     93\u001b[0m         \u001b[0moptimal_theta\u001b[0m\u001b[0;34m.\u001b[0m\u001b[0mextend\u001b[0m\u001b[0;34m(\u001b[0m\u001b[0mres\u001b[0m\u001b[0;34m.\u001b[0m\u001b[0mx\u001b[0m\u001b[0;34m)\u001b[0m\u001b[0;34m\u001b[0m\u001b[0;34m\u001b[0m\u001b[0m\n\u001b[1;32m     94\u001b[0m \u001b[0;34m\u001b[0m\u001b[0m\n\u001b[0;32m---> 95\u001b[0;31m     \u001b[0mall_theta\u001b[0m \u001b[0;34m=\u001b[0m \u001b[0moptimal_theta\u001b[0m\u001b[0;34m.\u001b[0m\u001b[0mreshape\u001b[0m\u001b[0;34m(\u001b[0m\u001b[0moptimal_theta\u001b[0m\u001b[0;34m,\u001b[0m \u001b[0;34m(\u001b[0m\u001b[0;34m)\u001b[0m\u001b[0;34m)\u001b[0m\u001b[0;34m\u001b[0m\u001b[0;34m\u001b[0m\u001b[0m\n\u001b[0m\u001b[1;32m     96\u001b[0m     \u001b[0;31m# ============================================================\u001b[0m\u001b[0;34m\u001b[0m\u001b[0;34m\u001b[0m\u001b[0;34m\u001b[0m\u001b[0m\n\u001b[1;32m     97\u001b[0m     \u001b[0;32mreturn\u001b[0m \u001b[0mall_theta\u001b[0m\u001b[0;34m\u001b[0m\u001b[0;34m\u001b[0m\u001b[0m\n",
      "\u001b[0;31mAttributeError\u001b[0m: 'list' object has no attribute 'reshape'"
     ]
    }
   ],
=======
   "execution_count": null,
   "metadata": {},
   "outputs": [],
>>>>>>> parent of 4e8a018... exercise3 complete
   "source": [
    "lambda_ = 0.1\n",
    "all_theta = oneVsAll(X, y, num_labels, lambda_)"
   ]
  },
  {
   "cell_type": "markdown",
   "metadata": {},
   "source": [
    "*You should now submit your solutions.*"
   ]
  },
  {
   "cell_type": "code",
<<<<<<< HEAD
   "execution_count": 11,
   "metadata": {},
   "outputs": [
    {
     "name": "stdout",
     "output_type": "stream",
     "text": [
      "\n",
      "Submitting Solutions | Programming Exercise multi-class-classification-and-neural-networks\n",
      "\n",
      "Use token from last successful submission (mthwsjc@gmail.com)? (Y/n): \n",
      "c: 0\n",
      "c: 1\n",
      "c: 2\n",
      "c: 3\n"
     ]
    },
    {
     "ename": "AttributeError",
     "evalue": "'list' object has no attribute 'reshape'",
     "output_type": "error",
     "traceback": [
      "\u001b[0;31m---------------------------------------------------------------------------\u001b[0m",
      "\u001b[0;31mAttributeError\u001b[0m                            Traceback (most recent call last)",
      "\u001b[0;32m<ipython-input-11-a443fb65f699>\u001b[0m in \u001b[0;36m<module>\u001b[0;34m\u001b[0m\n\u001b[1;32m      1\u001b[0m \u001b[0mgrader\u001b[0m\u001b[0;34m[\u001b[0m\u001b[0;36m2\u001b[0m\u001b[0;34m]\u001b[0m \u001b[0;34m=\u001b[0m \u001b[0moneVsAll\u001b[0m\u001b[0;34m\u001b[0m\u001b[0;34m\u001b[0m\u001b[0m\n\u001b[0;32m----> 2\u001b[0;31m \u001b[0mgrader\u001b[0m\u001b[0;34m.\u001b[0m\u001b[0mgrade\u001b[0m\u001b[0;34m(\u001b[0m\u001b[0;34m)\u001b[0m\u001b[0;34m\u001b[0m\u001b[0;34m\u001b[0m\u001b[0m\n\u001b[0m",
      "\u001b[0;32m~/projects/machine-learning-python/submission.py\u001b[0m in \u001b[0;36mgrade\u001b[0;34m(self)\u001b[0m\n\u001b[1;32m     28\u001b[0m         \u001b[0;31m# Evaluate the different parts of exercise\u001b[0m\u001b[0;34m\u001b[0m\u001b[0;34m\u001b[0m\u001b[0;34m\u001b[0m\u001b[0m\n\u001b[1;32m     29\u001b[0m         \u001b[0mparts\u001b[0m \u001b[0;34m=\u001b[0m \u001b[0mOrderedDict\u001b[0m\u001b[0;34m(\u001b[0m\u001b[0;34m)\u001b[0m\u001b[0;34m\u001b[0m\u001b[0;34m\u001b[0m\u001b[0m\n\u001b[0;32m---> 30\u001b[0;31m         \u001b[0;32mfor\u001b[0m \u001b[0mpart_id\u001b[0m\u001b[0;34m,\u001b[0m \u001b[0mresult\u001b[0m \u001b[0;32min\u001b[0m \u001b[0mself\u001b[0m\u001b[0;34m:\u001b[0m\u001b[0;34m\u001b[0m\u001b[0;34m\u001b[0m\u001b[0m\n\u001b[0m\u001b[1;32m     31\u001b[0m             \u001b[0mparts\u001b[0m\u001b[0;34m[\u001b[0m\u001b[0mstr\u001b[0m\u001b[0;34m(\u001b[0m\u001b[0mpart_id\u001b[0m\u001b[0;34m)\u001b[0m\u001b[0;34m]\u001b[0m \u001b[0;34m=\u001b[0m \u001b[0;34m{\u001b[0m\u001b[0;34m'output'\u001b[0m\u001b[0;34m:\u001b[0m \u001b[0msprintf\u001b[0m\u001b[0;34m(\u001b[0m\u001b[0;34m'%0.5f '\u001b[0m\u001b[0;34m,\u001b[0m \u001b[0mresult\u001b[0m\u001b[0;34m)\u001b[0m\u001b[0;34m}\u001b[0m\u001b[0;34m\u001b[0m\u001b[0;34m\u001b[0m\u001b[0m\n\u001b[1;32m     32\u001b[0m         \u001b[0mresult\u001b[0m\u001b[0;34m,\u001b[0m \u001b[0mresponse\u001b[0m \u001b[0;34m=\u001b[0m \u001b[0mself\u001b[0m\u001b[0;34m.\u001b[0m\u001b[0mrequest\u001b[0m\u001b[0;34m(\u001b[0m\u001b[0mparts\u001b[0m\u001b[0;34m)\u001b[0m\u001b[0;34m\u001b[0m\u001b[0;34m\u001b[0m\u001b[0m\n",
      "\u001b[0;32m~/projects/machine-learning-python/Exercise3/utils.py\u001b[0m in \u001b[0;36m__iter__\u001b[0;34m(self)\u001b[0m\n\u001b[1;32m     93\u001b[0m                     \u001b[0mres\u001b[0m \u001b[0;34m=\u001b[0m \u001b[0mnp\u001b[0m\u001b[0;34m.\u001b[0m\u001b[0mhstack\u001b[0m\u001b[0;34m(\u001b[0m\u001b[0mres\u001b[0m\u001b[0;34m)\u001b[0m\u001b[0;34m.\u001b[0m\u001b[0mtolist\u001b[0m\u001b[0;34m(\u001b[0m\u001b[0;34m)\u001b[0m\u001b[0;34m\u001b[0m\u001b[0;34m\u001b[0m\u001b[0m\n\u001b[1;32m     94\u001b[0m                 \u001b[0;32melif\u001b[0m \u001b[0mpart_id\u001b[0m \u001b[0;34m==\u001b[0m \u001b[0;36m2\u001b[0m\u001b[0;34m:\u001b[0m\u001b[0;34m\u001b[0m\u001b[0;34m\u001b[0m\u001b[0m\n\u001b[0;32m---> 95\u001b[0;31m                     \u001b[0mres\u001b[0m \u001b[0;34m=\u001b[0m \u001b[0mfunc\u001b[0m\u001b[0;34m(\u001b[0m\u001b[0mself\u001b[0m\u001b[0;34m.\u001b[0m\u001b[0mXm\u001b[0m\u001b[0;34m,\u001b[0m \u001b[0mself\u001b[0m\u001b[0;34m.\u001b[0m\u001b[0mym\u001b[0m\u001b[0;34m,\u001b[0m \u001b[0;36m4\u001b[0m\u001b[0;34m,\u001b[0m \u001b[0;36m0.1\u001b[0m\u001b[0;34m)\u001b[0m\u001b[0;34m\u001b[0m\u001b[0;34m\u001b[0m\u001b[0m\n\u001b[0m\u001b[1;32m     96\u001b[0m                 \u001b[0;32melif\u001b[0m \u001b[0mpart_id\u001b[0m \u001b[0;34m==\u001b[0m \u001b[0;36m3\u001b[0m\u001b[0;34m:\u001b[0m\u001b[0;34m\u001b[0m\u001b[0;34m\u001b[0m\u001b[0m\n\u001b[1;32m     97\u001b[0m                     \u001b[0mres\u001b[0m \u001b[0;34m=\u001b[0m \u001b[0mfunc\u001b[0m\u001b[0;34m(\u001b[0m\u001b[0mself\u001b[0m\u001b[0;34m.\u001b[0m\u001b[0mt1\u001b[0m\u001b[0;34m,\u001b[0m \u001b[0mself\u001b[0m\u001b[0;34m.\u001b[0m\u001b[0mXm\u001b[0m\u001b[0;34m)\u001b[0m \u001b[0;34m+\u001b[0m \u001b[0;36m1\u001b[0m\u001b[0;34m\u001b[0m\u001b[0;34m\u001b[0m\u001b[0m\n",
      "\u001b[0;32m<ipython-input-9-4dc8627df657>\u001b[0m in \u001b[0;36moneVsAll\u001b[0;34m(X, y, num_labels, lambda_)\u001b[0m\n\u001b[1;32m     93\u001b[0m         \u001b[0moptimal_theta\u001b[0m\u001b[0;34m.\u001b[0m\u001b[0mextend\u001b[0m\u001b[0;34m(\u001b[0m\u001b[0mres\u001b[0m\u001b[0;34m.\u001b[0m\u001b[0mx\u001b[0m\u001b[0;34m)\u001b[0m\u001b[0;34m\u001b[0m\u001b[0;34m\u001b[0m\u001b[0m\n\u001b[1;32m     94\u001b[0m \u001b[0;34m\u001b[0m\u001b[0m\n\u001b[0;32m---> 95\u001b[0;31m     \u001b[0mall_theta\u001b[0m \u001b[0;34m=\u001b[0m \u001b[0moptimal_theta\u001b[0m\u001b[0;34m.\u001b[0m\u001b[0mreshape\u001b[0m\u001b[0;34m(\u001b[0m\u001b[0moptimal_theta\u001b[0m\u001b[0;34m,\u001b[0m \u001b[0;34m(\u001b[0m\u001b[0;34m)\u001b[0m\u001b[0;34m)\u001b[0m\u001b[0;34m\u001b[0m\u001b[0;34m\u001b[0m\u001b[0m\n\u001b[0m\u001b[1;32m     96\u001b[0m     \u001b[0;31m# ============================================================\u001b[0m\u001b[0;34m\u001b[0m\u001b[0;34m\u001b[0m\u001b[0;34m\u001b[0m\u001b[0m\n\u001b[1;32m     97\u001b[0m     \u001b[0;32mreturn\u001b[0m \u001b[0mall_theta\u001b[0m\u001b[0;34m\u001b[0m\u001b[0;34m\u001b[0m\u001b[0m\n",
      "\u001b[0;31mAttributeError\u001b[0m: 'list' object has no attribute 'reshape'"
     ]
    }
   ],
=======
   "execution_count": null,
   "metadata": {},
   "outputs": [],
>>>>>>> parent of 4e8a018... exercise3 complete
   "source": [
    "grader[2] = oneVsAll\n",
    "grader.grade()"
   ]
  },
  {
   "cell_type": "markdown",
   "metadata": {},
   "source": [
    "<a id=\"section3\"></a>\n",
    "#### 1.4.1 One-vs-all Prediction\n",
    "\n",
    "After training your one-vs-all classifier, you can now use it to predict the digit contained in a given image. For each input, you should compute the “probability” that it belongs to each class using the trained logistic regression classifiers. Your one-vs-all prediction function will pick the class for which the corresponding logistic regression classifier outputs the highest probability and return the class label (0, 1, ..., K-1) as the prediction for the input example. You should now complete the code in the function `predictOneVsAll` to use the one-vs-all classifier for making predictions. \n",
    "<a id=\"predictOneVsAll\"></a>"
   ]
  },
  {
   "cell_type": "code",
   "execution_count": null,
   "metadata": {},
   "outputs": [],
   "source": [
    "def predictOneVsAll(all_theta, X):\n",
    "    \"\"\"\n",
    "    Return a vector of predictions for each example in the matrix X. \n",
    "    Note that X contains the examples in rows. all_theta is a matrix where\n",
    "    the i-th row is a trained logistic regression theta vector for the \n",
    "    i-th class. You should set p to a vector of values from 0..K-1 \n",
    "    (e.g., p = [0, 2, 0, 1] predicts classes 0, 2, 0, 1 for 4 examples) .\n",
    "    \n",
    "    Parameters\n",
    "    ----------\n",
    "    all_theta : array_like\n",
    "        The trained parameters for logistic regression for each class.\n",
    "        This is a matrix of shape (K x n+1) where K is number of classes\n",
    "        and n is number of features without the bias.\n",
    "    \n",
    "    X : array_like\n",
    "        Data points to predict their labels. This is a matrix of shape \n",
    "        (m x n) where m is number of data points to predict, and n is number \n",
    "        of features without the bias term. Note we add the bias term for X in \n",
    "        this function. \n",
    "    \n",
    "    Returns\n",
    "    -------\n",
    "    p : array_like\n",
    "        The predictions for each data point in X. This is a vector of shape (m, ).\n",
    "    \n",
    "    Instructions\n",
    "    ------------\n",
    "    Complete the following code to make predictions using your learned logistic\n",
    "    regression parameters (one-vs-all). You should set p to a vector of predictions\n",
    "    (from 0 to num_labels-1).\n",
    "    \n",
    "    Hint\n",
    "    ----\n",
    "    This code can be done all vectorized using the numpy argmax function.\n",
    "    In particular, the argmax function returns the index of the max element,\n",
    "    for more information see '?np.argmax' or search online. If your examples\n",
    "    are in rows, then, you can use np.argmax(A, axis=1) to obtain the index \n",
    "    of the max for each row.\n",
    "    \"\"\"\n",
    "    m = X.shape[0];\n",
    "    num_labels = all_theta.shape[0]\n",
    "\n",
    "    # You need to return the following variables correctly \n",
    "    p = np.zeros(m)\n",
    "\n",
    "    # Add ones to the X data matrix\n",
    "    X = np.concatenate([np.ones((m, 1)), X], axis=1)\n",
    "\n",
    "    # ====================== YOUR CODE HERE ======================\n",
    "\n",
    "\n",
    "    \n",
    "    # ============================================================\n",
    "    return p"
   ]
  },
  {
   "cell_type": "markdown",
   "metadata": {},
   "source": [
    "Once you are done, call your `predictOneVsAll` function using the learned value of $\\theta$. You should see that the training set accuracy is about 95.1% (i.e., it classifies 95.1% of the examples in the training set correctly)."
   ]
  },
  {
   "cell_type": "code",
   "execution_count": null,
   "metadata": {},
   "outputs": [],
   "source": [
    "pred = predictOneVsAll(all_theta, X)\n",
    "print('Training Set Accuracy: {:.2f}%'.format(np.mean(pred == y) * 100))"
   ]
  },
  {
   "cell_type": "markdown",
   "metadata": {},
   "source": [
    "*You should now submit your solutions.*"
   ]
  },
  {
   "cell_type": "code",
   "execution_count": null,
   "metadata": {},
   "outputs": [],
   "source": [
    "grader[3] = predictOneVsAll\n",
    "grader.grade()"
   ]
  },
  {
   "cell_type": "markdown",
   "metadata": {},
   "source": [
    "## 2 Neural Networks\n",
    "\n",
    "In the previous part of this exercise, you implemented multi-class logistic regression to recognize handwritten digits. However, logistic regression cannot form more complex hypotheses as it is only a linear classifier (You could add more features - such as polynomial features - to logistic regression, but that can be very expensive to train).\n",
    "\n",
    "In this part of the exercise, you will implement a neural network to recognize handwritten digits using the same training set as before. The neural network will be able to represent complex models that form non-linear hypotheses. For this week, you will be using parameters from a neural network that we have already trained. Your goal is to implement the feedforward propagation algorithm to use our weights for prediction. In next week’s exercise, you will write the backpropagation algorithm for learning the neural network parameters. \n",
    "\n",
    "We start by first reloading and visualizing the dataset which contains the MNIST handwritten digits (this is the same as we did in the first part of this exercise, we reload it here to ensure the variables have not been modified). "
   ]
  },
  {
   "cell_type": "code",
   "execution_count": null,
   "metadata": {},
   "outputs": [],
   "source": [
    "#  training data stored in arrays X, y\n",
    "data = loadmat(os.path.join('Data', 'ex3data1.mat'))\n",
    "X, y = data['X'], data['y'].ravel()\n",
    "\n",
    "# set the zero digit to 0, rather than its mapped 10 in this dataset\n",
    "# This is an artifact due to the fact that this dataset was used in \n",
    "# MATLAB where there is no index 0\n",
    "y[y == 10] = 0\n",
    "\n",
    "# get number of examples in dataset\n",
    "m = y.size\n",
    "\n",
    "# randomly permute examples, to be used for visualizing one \n",
    "# picture at a time\n",
    "indices = np.random.permutation(m)\n",
    "\n",
    "# Randomly select 100 data points to display\n",
    "rand_indices = np.random.choice(m, 100, replace=False)\n",
    "sel = X[rand_indices, :]\n",
    "\n",
    "utils.displayData(sel)"
   ]
  },
  {
   "cell_type": "markdown",
   "metadata": {},
   "source": [
    "\n",
    "### 2.1 Model representation \n",
    "\n",
    "Our neural network is shown in the following figure.\n",
    "\n",
    "![Neural network](Figures/neuralnetwork.png)\n",
    "\n",
    "It has 3 layers: an input layer, a hidden layer and an output layer. Recall that our inputs are pixel values of digit images. Since the images are of size 20×20, this gives us 400 input layer units (excluding the extra bias unit which always outputs +1). As before, the training data will be loaded into the variables X and y. \n",
    "\n",
    "You have been provided with a set of network parameters ($\\Theta^{(1)}$, $\\Theta^{(2)}$) already trained by us. These are stored in `ex3weights.mat`. The following cell loads those parameters into  `Theta1` and `Theta2`. The parameters have dimensions that are sized for a neural network with 25 units in the second layer and 10 output units (corresponding to the 10 digit classes)."
   ]
  },
  {
   "cell_type": "code",
   "execution_count": null,
   "metadata": {},
   "outputs": [],
   "source": [
    "# Setup the parameters you will use for this exercise\n",
    "input_layer_size  = 400  # 20x20 Input Images of Digits\n",
    "hidden_layer_size = 25   # 25 hidden units\n",
    "num_labels = 10          # 10 labels, from 0 to 9\n",
    "\n",
    "# Load the .mat file, which returns a dictionary \n",
    "weights = loadmat(os.path.join('Data', 'ex3weights.mat'))\n",
    "\n",
    "# get the model weights from the dictionary\n",
    "# Theta1 has size 25 x 401\n",
    "# Theta2 has size 10 x 26\n",
    "Theta1, Theta2 = weights['Theta1'], weights['Theta2']\n",
    "\n",
    "# swap first and last columns of Theta2, due to legacy from MATLAB indexing, \n",
    "# since the weight file ex3weights.mat was saved based on MATLAB indexing\n",
    "Theta2 = np.roll(Theta2, 1, axis=0)"
   ]
  },
  {
   "cell_type": "markdown",
   "metadata": {},
   "source": [
    "<a id=\"section4\"></a>\n",
    "### 2.2 Feedforward Propagation and Prediction\n",
    "\n",
    "Now you will implement feedforward propagation for the neural network. You will need to complete the code in the function `predict` to return the neural network’s prediction. You should implement the feedforward computation that computes $h_\\theta(x^{(i)})$ for every example $i$ and returns the associated predictions. Similar to the one-vs-all classification strategy, the prediction from the neural network will be the label that has the largest output $\\left( h_\\theta(x) \\right)_k$.\n",
    "\n",
    "<div class=\"alert alert-box alert-warning\">\n",
    "**Implementation Note:** The matrix $X$ contains the examples in rows. When you complete the code in the function `predict`, you will need to add the column of 1’s to the matrix. The matrices `Theta1` and `Theta2` contain the parameters for each unit in rows. Specifically, the first row of `Theta1` corresponds to the first hidden unit in the second layer. In `numpy`, when you compute $z^{(2)} = \\theta^{(1)}a^{(1)}$, be sure that you index (and if necessary, transpose) $X$ correctly so that you get $a^{(l)}$ as a 1-D vector.\n",
    "</div>\n",
    "<a id=\"predict\"></a>"
   ]
  },
  {
   "cell_type": "code",
   "execution_count": null,
   "metadata": {},
   "outputs": [],
   "source": [
    "def predict(Theta1, Theta2, X):\n",
    "    \"\"\"\n",
    "    Predict the label of an input given a trained neural network.\n",
    "    \n",
    "    Parameters\n",
    "    ----------\n",
    "    Theta1 : array_like\n",
    "        Weights for the first layer in the neural network.\n",
    "        It has shape (2nd hidden layer size x input size)\n",
    "    \n",
    "    Theta2: array_like\n",
    "        Weights for the second layer in the neural network. \n",
    "        It has shape (output layer size x 2nd hidden layer size)\n",
    "    \n",
    "    X : array_like\n",
    "        The image inputs having shape (number of examples x image dimensions).\n",
    "    \n",
    "    Return \n",
    "    ------\n",
    "    p : array_like\n",
    "        Predictions vector containing the predicted label for each example.\n",
    "        It has a length equal to the number of examples.\n",
    "    \n",
    "    Instructions\n",
    "    ------------\n",
    "    Complete the following code to make predictions using your learned neural\n",
    "    network. You should set p to a vector containing labels \n",
    "    between 0 to (num_labels-1).\n",
    "     \n",
    "    Hint\n",
    "    ----\n",
    "    This code can be done all vectorized using the numpy argmax function.\n",
    "    In particular, the argmax function returns the index of the  max element,\n",
    "    for more information see '?np.argmax' or search online. If your examples\n",
    "    are in rows, then, you can use np.argmax(A, axis=1) to obtain the index\n",
    "    of the max for each row.\n",
    "    \n",
    "    Note\n",
    "    ----\n",
    "    Remember, we have supplied the `sigmoid` function in the `utils.py` file. \n",
    "    You can use this function by calling `utils.sigmoid(z)`, where you can \n",
    "    replace `z` by the required input variable to sigmoid.\n",
    "    \"\"\"\n",
    "    # Make sure the input has two dimensions\n",
    "    if X.ndim == 1:\n",
    "        X = X[None]  # promote to 2-dimensions\n",
    "    \n",
    "    # useful variables\n",
    "    m = X.shape[0]\n",
    "    num_labels = Theta2.shape[0]\n",
    "\n",
    "    # You need to return the following variables correctly \n",
    "    p = np.zeros(X.shape[0])\n",
    "\n",
    "    # ====================== YOUR CODE HERE ======================\n",
    "\n",
    "\n",
    "\n",
    "    # =============================================================\n",
    "    return p"
   ]
  },
  {
   "cell_type": "markdown",
   "metadata": {},
   "source": [
    "Once you are done, call your predict function using the loaded set of parameters for `Theta1` and `Theta2`. You should see that the accuracy is about 97.5%."
   ]
  },
  {
   "cell_type": "code",
   "execution_count": null,
   "metadata": {},
   "outputs": [],
   "source": [
    "pred = predict(Theta1, Theta2, X)\n",
    "print('Training Set Accuracy: {:.1f}%'.format(np.mean(pred == y) * 100))"
   ]
  },
  {
   "cell_type": "markdown",
   "metadata": {},
   "source": [
    "After that, we will display images from the training set one at a time, while at the same time printing out the predicted label for the displayed image. \n",
    "\n",
    "Run the following cell to display a single image the the neural network's prediction. You can run the cell multiple time to see predictions for different images."
   ]
  },
  {
   "cell_type": "code",
   "execution_count": null,
   "metadata": {},
   "outputs": [],
   "source": [
    "if indices.size > 0:\n",
    "    i, indices = indices[0], indices[1:]\n",
    "    utils.displayData(X[i, :], figsize=(4, 4))\n",
    "    pred = predict(Theta1, Theta2, X[i, :])\n",
    "    print('Neural Network Prediction: {}'.format(*pred))\n",
    "else:\n",
    "    print('No more images to display!')"
   ]
  },
  {
   "cell_type": "markdown",
   "metadata": {},
   "source": [
    "*You should now submit your solutions.*"
   ]
  },
  {
   "cell_type": "code",
   "execution_count": null,
   "metadata": {},
   "outputs": [],
   "source": [
    "grader[4] = predict\n",
    "grader.grade()"
   ]
  }
 ],
 "metadata": {
  "hide_input": false,
  "kernelspec": {
   "display_name": "Python 3",
   "language": "python",
   "name": "python3"
  },
  "language_info": {
   "codemirror_mode": {
    "name": "ipython",
    "version": 3
   },
   "file_extension": ".py",
   "mimetype": "text/x-python",
   "name": "python",
   "nbconvert_exporter": "python",
   "pygments_lexer": "ipython3",
   "version": "3.7.2"
  },
  "latex_envs": {
   "LaTeX_envs_menu_present": true,
   "autocomplete": true,
   "bibliofile": "biblio.bib",
   "cite_by": "apalike",
   "current_citInitial": 1,
   "eqLabelWithNumbers": true,
   "eqNumInitial": 1,
   "hotkeys": {
    "equation": "Ctrl-E",
    "itemize": "Ctrl-I"
   },
   "labels_anchors": false,
   "latex_user_defs": false,
   "report_style_numbering": false,
   "user_envs_cfg": false
  },
  "toc": {
   "colors": {
    "hover_highlight": "#DAA520",
    "navigate_num": "#000000",
    "navigate_text": "#333333",
    "running_highlight": "#FF0000",
    "selected_highlight": "#FFD700",
    "sidebar_border": "#EEEEEE",
    "wrapper_background": "#FFFFFF"
   },
   "moveMenuLeft": true,
   "nav_menu": {
    "height": "279px",
    "width": "252px"
   },
   "navigate_menu": true,
   "number_sections": true,
   "sideBar": true,
   "skip_h1_title": true,
   "threshold": 4,
   "toc_cell": true,
   "toc_section_display": "block",
   "toc_window_display": false,
   "widenNotebook": false
  }
 },
 "nbformat": 4,
 "nbformat_minor": 2
}
