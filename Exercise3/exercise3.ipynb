{
 "cells": [
  {
   "cell_type": "markdown",
   "metadata": {},
   "source": [
    "# Programming Exercise 3\n",
    "# Multi-class Classification and Neural Networks\n",
    "\n",
    "## Introduction\n",
    "\n",
    "\n",
    "In this exercise, you will implement one-vs-all logistic regression and neural networks to recognize handwritten digits. Before starting the programming exercise, we strongly recommend watching the video lectures and completing the review questions for the associated topics. \n",
    "\n",
    "All the information you need for solving this assignment is in this notebook, and all the code you will be implementing will take place within this notebook. The assignment can be promptly submitted to the coursera grader directly from this notebook (code and instructions are included below).\n",
    "\n",
    "Before we begin with the exercises, we need to import all libraries required for this programming exercise. Throughout the course, we will be using [`numpy`](http://www.numpy.org/) for all arrays and matrix operations, [`matplotlib`](https://matplotlib.org/) for plotting, and [`scipy`](https://docs.scipy.org/doc/scipy/reference/) for scientific and numerical computation functions and tools. You can find instructions on how to install required libraries in the README file in the [github repository](https://github.com/dibgerge/ml-coursera-python-assignments)."
   ]
  },
  {
   "cell_type": "code",
   "execution_count": 1,
   "metadata": {},
   "outputs": [],
   "source": [
    "from IPython.core.interactiveshell import InteractiveShell\n",
    "InteractiveShell.ast_node_interactivity = \"all\""
   ]
  },
  {
   "cell_type": "code",
   "execution_count": 2,
   "metadata": {},
   "outputs": [],
   "source": [
    "# used for manipulating directory paths\n",
    "import os\n",
    "\n",
    "# Scientific and vector computation for python\n",
    "import numpy as np\n",
    "\n",
    "# Plotting library\n",
    "from matplotlib import pyplot\n",
    "\n",
    "# Optimization module in scipy\n",
    "from scipy import optimize\n",
    "\n",
    "# will be used to load MATLAB mat datafile format\n",
    "from scipy.io import loadmat\n",
    "\n",
    "# library written for this exercise providing additional functions for assignment submission, and others\n",
    "import utils\n",
    "\n",
    "# define the submission/grader object for this exercise\n",
    "grader = utils.Grader()\n",
    "\n",
    "# tells matplotlib to embed plots within the notebook\n",
    "%matplotlib inline"
   ]
  },
  {
   "cell_type": "markdown",
   "metadata": {},
   "source": [
    "## Submission and Grading\n",
    "\n",
    "\n",
    "After completing each part of the assignment, be sure to submit your solutions to the grader. The following is a breakdown of how each part of this exercise is scored.\n",
    "\n",
    "\n",
    "| Section | Part                                 | Submission function                   |  Points \n",
    "| :-      |:-                                    | :-                                    |  :-:    \n",
    "| 1       | [Regularized Logistic Regression](#section1)     | [`lrCostFunction`](#lrCostFunction)   | 30     \n",
    "| 2       | [One-vs-all classifier training](#section2)       | [`oneVsAll`](#oneVsAll)               | 20     \n",
    "| 3       | [One-vs-all classifier prediction](#section3)     | [`predictOneVsAll`](#predictOneVsAll) | 20     \n",
    "| 4       | [Neural Network Prediction Function](#section4)   | [`predict`](#predict)           | 30\n",
    "|         | Total Points                         |                                 | 100    \n",
    "\n",
    "\n",
    "You are allowed to submit your solutions multiple times, and we will take only the highest score into consideration.\n",
    "\n",
    "<div class=\"alert alert-block alert-warning\">\n",
    "At the end of each section in this notebook, we have a cell which contains code for submitting the solutions thus far to the grader. Execute the cell to see your score up to the current section. For all your work to be submitted properly, you must execute those cells at least once. They must also be re-executed everytime the submitted function is updated.\n",
    "</div>"
   ]
  },
  {
   "cell_type": "markdown",
   "metadata": {},
   "source": [
    "## 1 Multi-class Classification\n",
    "\n",
    "For this exercise, you will use logistic regression and neural networks to recognize handwritten digits (from 0 to 9). Automated handwritten digit recognition is widely used today - from recognizing zip codes (postal codes)\n",
    "on mail envelopes to recognizing amounts written on bank checks. This exercise will show you how the methods you have learned can be used for this classification task.\n",
    "\n",
    "In the first part of the exercise, you will extend your previous implementation of logistic regression and apply it to one-vs-all classification.\n",
    "\n",
    "### 1.1 Dataset\n",
    "\n",
    "You are given a data set in `ex3data1.mat` that contains 5000 training examples of handwritten digits (This is a subset of the [MNIST](http://yann.lecun.com/exdb/mnist) handwritten digit dataset). The `.mat` format means that that the data has been saved in a native Octave/MATLAB matrix format, instead of a text (ASCII) format like a csv-file. We use the `.mat` format here because this is the dataset provided in the MATLAB version of this assignment. Fortunately, python provides mechanisms to load MATLAB native format using the `loadmat` function within the `scipy.io` module. This function returns a python dictionary with keys containing the variable names within the `.mat` file. \n",
    "\n",
    "There are 5000 training examples in `ex3data1.mat`, where each training example is a 20 pixel by 20 pixel grayscale image of the digit. Each pixel is represented by a floating point number indicating the grayscale intensity at that location. The 20 by 20 grid of pixels is “unrolled” into a 400-dimensional vector. Each of these training examples becomes a single row in our data matrix `X`. This gives us a 5000 by 400 matrix `X` where every row is a training example for a handwritten digit image.\n",
    "\n",
    "$$ X = \\begin{bmatrix} - \\: (x^{(1)})^T \\: - \\\\ -\\: (x^{(2)})^T \\:- \\\\ \\vdots \\\\ - \\: (x^{(m)})^T \\:-  \\end{bmatrix} $$\n",
    "\n",
    "The second part of the training set is a 5000-dimensional vector `y` that contains labels for the training set. \n",
    "We start the exercise by first loading the dataset. Execute the cell below, you do not need to write any code here."
   ]
  },
  {
   "cell_type": "code",
   "execution_count": 3,
   "metadata": {},
   "outputs": [],
   "source": [
    "# 20x20 Input Images of Digits\n",
    "input_layer_size  = 400\n",
    "\n",
    "# 10 labels, from 1 to 10 (note that we have mapped \"0\" to label 10)\n",
    "num_labels = 10\n",
    "\n",
    "#  training data stored in arrays X, y\n",
    "data = loadmat(os.path.join('Data', 'ex3data1.mat'))\n",
    "X, y = data['X'], data['y'].ravel()\n",
    "\n",
    "# set the zero digit to 0, rather than its mapped 10 in this dataset\n",
    "# This is an artifact due to the fact that this dataset was used in \n",
    "# MATLAB where there is no index 0\n",
    "y[y == 10] = 0\n",
    "\n",
    "m = y.size"
   ]
  },
  {
   "cell_type": "markdown",
   "metadata": {},
   "source": [
    "### 1.2 Visualizing the data\n",
    "\n",
    "You will begin by visualizing a subset of the training set. In the following cell, the code randomly selects 100 rows from `X` and passes those rows to the `displayData` function. This function maps each row to a 20 pixel by 20 pixel grayscale image and displays the images together. We have provided the `displayData` function in the file `utils.py`. You are encouraged to examine the code to see how it works. Run the following cell to visualize the data."
   ]
  },
  {
   "cell_type": "code",
   "execution_count": 4,
   "metadata": {},
   "outputs": [
    {
     "data": {
<<<<<<< HEAD
      "image/png": "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\n",
=======
      "image/png": "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\n",
>>>>>>> week4
      "text/plain": [
       "<Figure size 720x720 with 100 Axes>"
      ]
     },
     "metadata": {
      "needs_background": "dark"
     },
     "output_type": "display_data"
    }
   ],
   "source": [
    "# Randomly select 100 data points to display\n",
    "rand_indices = np.random.choice(m, 100, replace=False)\n",
    "sel = X[rand_indices, :]\n",
    "\n",
    "utils.displayData(sel)"
   ]
  },
  {
   "cell_type": "markdown",
   "metadata": {
    "collapsed": true
   },
   "source": [
    "### 1.3 Vectorizing Logistic Regression\n",
    "\n",
    "You will be using multiple one-vs-all logistic regression models to build a multi-class classifier. Since there are 10 classes, you will need to train 10 separate logistic regression classifiers. To make this training efficient, it is important to ensure that your code is well vectorized. In this section, you will implement a vectorized version of logistic regression that does not employ any `for` loops. You can use your code in the previous exercise as a starting point for this exercise. \n",
    "\n",
    "To test your vectorized logistic regression, we will use custom data as defined in the following cell."
   ]
  },
  {
   "cell_type": "code",
   "execution_count": 5,
   "metadata": {},
   "outputs": [],
   "source": [
    "# test values for the parameters theta\n",
    "theta_t = np.array([-2, -1, 1, 2], dtype=float)\n",
    "\n",
    "# test values for the inputs\n",
    "X_t = np.concatenate([np.ones((5, 1)), np.arange(1, 16).reshape(5, 3, order='F')/10.0], axis=1)\n",
    "\n",
    "# test values for the labels\n",
    "y_t = np.array([1, 0, 1, 0, 1])\n",
    "\n",
    "# test value for the regularization parameter\n",
    "lambda_t = 3"
   ]
  },
  {
   "cell_type": "markdown",
   "metadata": {},
   "source": [
    "<a id=\"section1\"></a>\n",
    "#### 1.3.1 Vectorizing the cost function \n",
    "\n",
    "We will begin by writing a vectorized version of the cost function. Recall that in (unregularized) logistic regression, the cost function is\n",
    "\n",
    "$$ J(\\theta) = \\frac{1}{m} \\sum_{i=1}^m \\left[ -y^{(i)} \\log \\left( h_\\theta\\left( x^{(i)} \\right) \\right) - \\left(1 - y^{(i)} \\right) \\log \\left(1 - h_\\theta \\left( x^{(i)} \\right) \\right) \\right] $$\n",
    "\n",
    "To compute each element in the summation, we have to compute $h_\\theta(x^{(i)})$ for every example $i$, where $h_\\theta(x^{(i)}) = g(\\theta^T x^{(i)})$ and $g(z) = \\frac{1}{1+e^{-z}}$ is the sigmoid function. It turns out that we can compute this quickly for all our examples by using matrix multiplication. Let us define $X$ and $\\theta$ as\n",
    "\n",
    "$$ X = \\begin{bmatrix} - \\left( x^{(1)} \\right)^T - \\\\ - \\left( x^{(2)} \\right)^T - \\\\ \\vdots \\\\ - \\left( x^{(m)} \\right)^T - \\end{bmatrix} \\qquad \\text{and} \\qquad \\theta = \\begin{bmatrix} \\theta_0 \\\\ \\theta_1 \\\\ \\vdots \\\\ \\theta_n \\end{bmatrix} $$\n",
    "\n",
    "Then, by computing the matrix product $X\\theta$, we have: \n",
    "\n",
    "$$ X\\theta = \\begin{bmatrix} - \\left( x^{(1)} \\right)^T\\theta - \\\\ - \\left( x^{(2)} \\right)^T\\theta - \\\\ \\vdots \\\\ - \\left( x^{(m)} \\right)^T\\theta - \\end{bmatrix} = \\begin{bmatrix} - \\theta^T x^{(1)}  - \\\\ - \\theta^T x^{(2)} - \\\\ \\vdots \\\\ - \\theta^T x^{(m)}  - \\end{bmatrix} $$\n",
    "\n",
    "In the last equality, we used the fact that $a^Tb = b^Ta$ if $a$ and $b$ are vectors. This allows us to compute the products $\\theta^T x^{(i)}$ for all our examples $i$ in one line of code.\n",
    "\n",
    "#### 1.3.2 Vectorizing the gradient\n",
    "\n",
    "Recall that the gradient of the (unregularized) logistic regression cost is a vector where the $j^{th}$ element is defined as\n",
    "\n",
    "$$ \\frac{\\partial J }{\\partial \\theta_j} = \\frac{1}{m} \\sum_{i=1}^m \\left( \\left( h_\\theta\\left(x^{(i)}\\right) - y^{(i)} \\right)x_j^{(i)} \\right) $$\n",
    "\n",
    "To vectorize this operation over the dataset, we start by writing out all the partial derivatives explicitly for all $\\theta_j$,\n",
    "\n",
    "$$\n",
    "\\begin{align*}\n",
    "\\begin{bmatrix} \n",
    "\\frac{\\partial J}{\\partial \\theta_0} \\\\\n",
    "\\frac{\\partial J}{\\partial \\theta_1} \\\\\n",
    "\\frac{\\partial J}{\\partial \\theta_2} \\\\\n",
    "\\vdots \\\\\n",
    "\\frac{\\partial J}{\\partial \\theta_n}\n",
    "\\end{bmatrix} = &\n",
    "\\frac{1}{m} \\begin{bmatrix}\n",
    "\\sum_{i=1}^m \\left( \\left(h_\\theta\\left(x^{(i)}\\right) - y^{(i)} \\right)x_0^{(i)}\\right) \\\\\n",
    "\\sum_{i=1}^m \\left( \\left(h_\\theta\\left(x^{(i)}\\right) - y^{(i)} \\right)x_1^{(i)}\\right) \\\\\n",
    "\\sum_{i=1}^m \\left( \\left(h_\\theta\\left(x^{(i)}\\right) - y^{(i)} \\right)x_2^{(i)}\\right) \\\\\n",
    "\\vdots \\\\\n",
    "\\sum_{i=1}^m \\left( \\left(h_\\theta\\left(x^{(i)}\\right) - y^{(i)} \\right)x_n^{(i)}\\right) \\\\\n",
    "\\end{bmatrix} \\\\\n",
    "= & \\frac{1}{m} \\sum_{i=1}^m \\left( \\left(h_\\theta\\left(x^{(i)}\\right) - y^{(i)} \\right)x^{(i)}\\right) \\\\\n",
    "= & \\frac{1}{m} X^T \\left( h_\\theta(x) - y\\right)\n",
    "\\end{align*}\n",
    "$$\n",
    "\n",
    "where\n",
    "\n",
    "$$  h_\\theta(x) - y = \n",
    "\\begin{bmatrix}\n",
    "h_\\theta\\left(x^{(1)}\\right) - y^{(1)} \\\\\n",
    "h_\\theta\\left(x^{(2)}\\right) - y^{(2)} \\\\\n",
    "\\vdots \\\\\n",
    "h_\\theta\\left(x^{(m)}\\right) - y^{(m)} \n",
    "\\end{bmatrix} $$\n",
    "\n",
    "Note that $x^{(i)}$ is a vector, while $h_\\theta\\left(x^{(i)}\\right) - y^{(i)}$  is a scalar (single number).\n",
    "To understand the last step of the derivation, let $\\beta_i = (h_\\theta\\left(x^{(m)}\\right) - y^{(m)})$ and\n",
    "observe that:\n",
    "\n",
    "$$ \\sum_i \\beta_ix^{(i)} = \\begin{bmatrix} \n",
    "| & | & & | \\\\\n",
    "x^{(1)} & x^{(2)} & \\cdots & x^{(m)} \\\\\n",
    "| & | & & | \n",
    "\\end{bmatrix}\n",
    "\\begin{bmatrix}\n",
    "\\beta_1 \\\\\n",
    "\\beta_2 \\\\\n",
    "\\vdots \\\\\n",
    "\\beta_m\n",
    "\\end{bmatrix} = x^T \\beta\n",
    "$$\n",
    "\n",
    "where the values $\\beta_i = \\left( h_\\theta(x^{(i)} - y^{(i)} \\right)$.\n",
    "\n",
    "The expression above allows us to compute all the partial derivatives\n",
    "without any loops. If you are comfortable with linear algebra, we encourage you to work through the matrix multiplications above to convince yourself that the vectorized version does the same computations. \n",
    "\n",
    "Your job is to write the unregularized cost function `lrCostFunction` which returns both the cost function $J(\\theta)$ and its gradient $\\frac{\\partial J}{\\partial \\theta}$. Your implementation should use the strategy we presented above to calculate $\\theta^T x^{(i)}$. You should also use a vectorized approach for the rest of the cost function. A fully vectorized version of `lrCostFunction` should not contain any loops.\n",
    "\n",
    "<div class=\"alert alert-box alert-warning\">\n",
    "**Debugging Tip:** Vectorizing code can sometimes be tricky. One common strategy for debugging is to print out the sizes of the matrices you are working with using the `shape` property of `numpy` arrays. For example, given a data matrix $X$ of size $100 \\times 20$ (100 examples, 20 features) and $\\theta$, a vector with size $20$, you can observe that `np.dot(X, theta)` is a valid multiplication operation, while `np.dot(theta, X)` is not. Furthermore, if you have a non-vectorized version of your code, you can compare the output of your vectorized code and non-vectorized code to make sure that they produce the same outputs.\n",
    "</div>\n",
    "<a id=\"lrCostFunction\"></a>"
   ]
  },
  {
   "cell_type": "code",
   "execution_count": 6,
   "metadata": {},
   "outputs": [],
   "source": [
    "def lrCostFunction(theta, X, y, lambda_):\n",
    "    #print(f'theta:{theta} \\n X:\\n{X} \\n y:{y} \\n lambda_:{lambda_}')\n",
    "    \"\"\"\n",
    "    Computes the cost of using theta as the parameter for regularized\n",
    "    logistic regression and the gradient of the cost w.r.t. to the parameters.\n",
    "    \n",
    "    Parameters\n",
    "    ----------\n",
    "    theta : array_like\n",
    "        Logistic regression parameters. A vector with shape (n, ). n is \n",
    "        the number of features including any intercept.  \n",
    "    \n",
    "    X : array_like\n",
    "        The data set with shape (m x n). m is the number of examples, and\n",
    "        n is the number of features (including intercept).\n",
    "    \n",
    "    y : array_like\n",
    "        The data labels. A vector with shape (m, ).\n",
    "    \n",
    "    lambda_ : float\n",
    "        The regularization parameter. \n",
    "    \n",
    "    Returns\n",
    "    -------\n",
    "    J : float\n",
    "        The computed value for the regularized cost function. \n",
    "    \n",
    "    grad : array_like\n",
    "        A vector of shape (n, ) which is the gradient of the cost\n",
    "        function with respect to theta, at the current values of theta.\n",
    "    \n",
    "    Instructions\n",
    "    ------------\n",
    "    Compute the cost of a particular choice of theta. You should set J to the cost.\n",
    "    Compute the partial derivatives and set grad to the partial\n",
    "    derivatives of the cost w.r.t. each parameter in theta\n",
    "    \n",
    "    Hint 1\n",
    "    ------\n",
    "    The computation of the cost function and gradients can be efficiently\n",
    "    vectorized. For example, consider the computation\n",
    "    \n",
    "        sigmoid(X * theta)\n",
    "    \n",
    "    Each row of the resulting matrix will contain the value of the prediction\n",
    "    for that example. You can make use of this to vectorize the cost function\n",
    "    and gradient computations. \n",
    "    \n",
    "    Hint 2\n",
    "    ------\n",
    "    When computing the gradient of the regularized cost function, there are\n",
    "    many possible vectorized solutions, but one solution looks like:\n",
    "    \n",
    "        grad = (unregularized gradient for logistic regression)\n",
    "        temp = theta \n",
    "        temp[0] = 0   # because we don't add anything for j = 0\n",
    "        grad = grad + YOUR_CODE_HERE (using the temp variable)\n",
    "    \n",
    "    Hint 3\n",
    "    ------\n",
    "    We have provided the implementatation of the sigmoid function within \n",
    "    the file `utils.py`. At the start of the notebook, we imported this file\n",
    "    as a module. Thus to access the sigmoid function within that file, you can\n",
    "    do the following: `utils.sigmoid(z)`.\n",
    "    \n",
    "    \"\"\"\n",
    "    #Initialize some useful values\n",
    "    m = len(y)\n",
    "    \n",
    "    # convert labels to ints if their type is bool\n",
    "    if y.dtype == bool:\n",
    "        y = y.astype(int)\n",
    "    \n",
    "    # You need to return the following variables correctly\n",
    "    J = 0\n",
    "    grad = np.zeros(theta.shape)\n",
    "    \n",
    "    # ====================== YOUR CODE HERE ======================\n",
    "    hypothesis = utils.sigmoid(X @ theta)\n",
    "    #print(f'\\nhypothesis: {hypothesis}')\n",
    "    error = (-y*np.log(hypothesis)) - ((1-y)*np.log(1-hypothesis))\n",
    "\n",
    "    #print(f'np.log(hypothesis): {np.log(hypothesis)}')\n",
    "    #print(f'error: {error}')\n",
    "    J = 1/m * sum(error) \n",
    "    J = J + ( lambda_/(2*m) * sum(np.square(theta[1:])) )\n",
    "    \n",
    "    grad = 1/m * np.dot(X.transpose(), (hypothesis - y))  \n",
    "    grad[1:] = grad[1:] + (lambda_/m)* theta[1:]\n",
    "    #print(f'gradient: {grad}')\n",
    "    # =============================================================\n",
    "    return J, grad"
   ]
  },
  {
   "cell_type": "markdown",
   "metadata": {},
   "source": [
    "#### 1.3.3 Vectorizing regularized logistic regression\n",
    "\n",
    "After you have implemented vectorization for logistic regression, you will now\n",
    "add regularization to the cost function. Recall that for regularized logistic\n",
    "regression, the cost function is defined as\n",
    "\n",
    "$$ J(\\theta) = \\frac{1}{m} \\sum_{i=1}^m \\left[ -y^{(i)} \\log \\left(h_\\theta\\left(x^{(i)} \\right)\\right) - \\left( 1 - y^{(i)} \\right) \\log\\left(1 - h_\\theta \\left(x^{(i)} \\right) \\right) \\right] + \\frac{\\lambda}{2m} \\sum_{j=1}^n \\theta_j^2 $$\n",
    "\n",
    "Note that you should not be regularizing $\\theta_0$ which is used for the bias term.\n",
    "Correspondingly, the partial derivative of regularized logistic regression cost for $\\theta_j$ is defined as\n",
    "\n",
    "$$\n",
    "\\begin{align*}\n",
    "& \\frac{\\partial J(\\theta)}{\\partial \\theta_0} = \\frac{1}{m} \\sum_{i=1}^m \\left( h_\\theta\\left( x^{(i)} \\right) - y^{(i)} \\right) x_j^{(i)}  & \\text{for } j = 0 \\\\\n",
    "& \\frac{\\partial J(\\theta)}{\\partial \\theta_0} = \\left( \\frac{1}{m} \\sum_{i=1}^m \\left( h_\\theta\\left( x^{(i)} \\right) - y^{(i)} \\right) x_j^{(i)} \\right) + \\frac{\\lambda}{m} \\theta_j & \\text{for } j  \\ge 1\n",
    "\\end{align*}\n",
    "$$\n",
    "\n",
    "Now modify your code in lrCostFunction in the [**previous cell**](#lrCostFunction) to account for regularization. Once again, you should not put any loops into your code.\n",
    "\n",
    "<div class=\"alert alert-box alert-warning\">\n",
    "**python/numpy Tip:** When implementing the vectorization for regularized logistic regression, you might often want to only sum and update certain elements of $\\theta$. In `numpy`, you can index into the matrices to access and update only certain elements. For example, A[:, 3:5]\n",
    "= B[:, 1:3] will replaces the columns with index 3 to 5 of A with the columns with index 1 to 3 from B. To select columns (or rows) until the end of the matrix, you can leave the right hand side of the colon blank. For example, A[:, 2:] will only return elements from the $3^{rd}$ to last columns of $A$. If you leave the left hand size of the colon blank, you will select elements from the beginning of the matrix. For example, A[:, :2] selects the first two columns, and is equivalent to A[:, 0:2]. In addition, you can use negative indices to index arrays from the end. Thus, A[:, :-1] selects all columns of A except the last column, and A[:, -5:] selects the $5^{th}$ column from the end to the last column. Thus, you could use this together with the sum and power ($^{**}$) operations to compute the sum of only the elements you are interested in (e.g., `np.sum(z[1:]**2)`). In the starter code, `lrCostFunction`, we have also provided hints on yet another possible method computing the regularized gradient.\n",
    "</div>\n",
    "\n",
    "Once you finished your implementation, you can call the function `lrCostFunction` to test your solution using the following cell:"
   ]
  },
  {
   "cell_type": "code",
   "execution_count": 7,
   "metadata": {},
   "outputs": [
    {
     "name": "stdout",
     "output_type": "stream",
     "text": [
      "Cost         : 2.534819\n",
      "Expected cost: 2.534819\n",
      "-----------------------\n",
      "Gradients:\n",
      " [0.146561, -0.548558, 0.724722, 1.398003]\n",
      "Expected gradients:\n",
      " [0.146561, -0.548558, 0.724722, 1.398003]\n"
     ]
    }
   ],
   "source": [
    "J, grad = lrCostFunction(theta_t, X_t, y_t, lambda_t)\n",
    "\n",
    "print('Cost         : {:.6f}'.format(J))\n",
    "print('Expected cost: 2.534819')\n",
    "print('-----------------------')\n",
    "print('Gradients:')\n",
    "print(' [{:.6f}, {:.6f}, {:.6f}, {:.6f}]'.format(*grad))\n",
    "print('Expected gradients:')\n",
    "print(' [0.146561, -0.548558, 0.724722, 1.398003]');"
   ]
  },
  {
   "cell_type": "markdown",
   "metadata": {},
   "source": [
    "After completing a part of the exercise, you can submit your solutions for grading by first adding the function you modified to the submission object, and then sending your function to Coursera for grading. \n",
    "\n",
    "The submission script will prompt you for your login e-mail and submission token. You can obtain a submission token from the web page for the assignment. You are allowed to submit your solutions multiple times, and we will take only the highest score into consideration.\n",
    "\n",
    "*Execute the following cell to grade your solution to the first part of this exercise.*"
   ]
  },
  {
   "cell_type": "code",
   "execution_count": 8,
   "metadata": {},
   "outputs": [
    {
     "name": "stdout",
     "output_type": "stream",
     "text": [
      "\n",
      "Submitting Solutions | Programming Exercise multi-class-classification-and-neural-networks\n",
      "\n",
      "Use token from last successful submission (mthwsjc@gmail.com)? (Y/n): \n",
      "                                  Part Name |     Score | Feedback\n",
      "                                  --------- |     ----- | --------\n",
      "            Regularized Logistic Regression |  30 /  30 | Nice work!\n",
      "             One-vs-All Classifier Training |   0 /  20 | \n",
      "           One-vs-All Classifier Prediction |   0 /  20 | \n",
      "         Neural Network Prediction Function |   0 /  30 | \n",
      "                                  --------------------------------\n",
      "                                            |  30 / 100 |  \n",
      "\n"
     ]
    }
   ],
   "source": [
    "# appends the implemented function in part 1 to the grader object\n",
    "grader[1] = lrCostFunction\n",
    "\n",
    "# send the added functions to coursera grader for getting a grade on this part\n",
    "grader.grade()"
   ]
  },
  {
   "cell_type": "markdown",
   "metadata": {},
   "source": [
    "<a id=\"section2\"></a>\n",
    "### 1.4 One-vs-all Classification\n",
    "\n",
    "In this part of the exercise, you will implement one-vs-all classification by training multiple regularized logistic regression classifiers, one for each of the $K$ classes in our dataset. In the handwritten digits dataset, $K = 10$, but your code should work for any value of $K$. \n",
    "\n",
    "You should now complete the code for the function `oneVsAll` below, to train one classifier for each class. In particular, your code should return all the classifier parameters in a matrix $\\theta \\in \\mathbb{R}^{K \\times (N +1)}$, where each row of $\\theta$ corresponds to the learned logistic regression parameters for one class. You can do this with a “for”-loop from $0$ to $K-1$, training each classifier independently.\n",
    "\n",
    "Note that the `y` argument to this function is a vector of labels from 0 to 9. When training the classifier for class $k \\in \\{0, ..., K-1\\}$, you will want a K-dimensional vector of labels $y$, where $y_j \\in 0, 1$ indicates whether the $j^{th}$ training instance belongs to class $k$ $(y_j = 1)$, or if it belongs to a different\n",
    "class $(y_j = 0)$. You may find logical arrays helpful for this task. \n",
    "\n",
    "Furthermore, you will be using scipy's `optimize.minimize` for this exercise. \n",
    "<a id=\"oneVsAll\"></a>"
   ]
  },
  {
   "cell_type": "code",
<<<<<<< HEAD
   "execution_count": 9,
   "metadata": {},
   "outputs": [],
   "source": [
    "def gradientDescent(X, y, theta, alpha, num_iters, lambda_):\n",
    "    \"\"\"\n",
    "    Take in numpy array X, y and theta and update theta by taking num_iters gradient steps\n",
    "    with learning rate of alpha\n",
    "    \n",
    "    return theta and the list of the cost of theta during each iteration\n",
    "    \"\"\"\n",
    "    \n",
    "    m=len(y)\n",
    "    J_history =[]\n",
    "    \n",
    "    for i in range(num_iters):\n",
    "        J, grad = lrCostFunction(theta,X,y,lambda_)\n",
    "        theta = theta - (alpha * grad)\n",
    "        J_history.append(J)\n",
    "    \n",
    "    return theta , J_history"
   ]
  },
  {
   "cell_type": "code",
   "execution_count": 31,
=======
   "execution_count": 11,
>>>>>>> week4
   "metadata": {},
   "outputs": [],
   "source": [
    "def oneVsAll(X, y, num_labels, lambda_):\n",
    "    \"\"\"\n",
    "    Trains num_labels logistic regression classifiers and returns\n",
    "    each of these classifiers in a matrix all_theta, where the i-th\n",
    "    row of all_theta corresponds to the classifier for label i.\n",
    "    \n",
    "    Parameters\n",
    "    ----------\n",
    "    X : array_like\n",
    "        The input dataset of shape (m x n). m is the number of \n",
    "        data points, and n is the number of features. Note that we \n",
    "        do not assume that the intercept term (or bias) is in X, however\n",
    "        we provide the code below to add the bias term to X. \n",
    "    \n",
    "    y : array_like\n",
    "        The data labels. A vector of shape (m, ).\n",
    "    \n",
    "    num_labels : int\n",
    "        Number of possible labels.\n",
    "    \n",
    "    lambda_ : float\n",
    "        The logistic regularization parameter.\n",
    "    \n",
    "    Returns\n",
    "    -------\n",
    "    all_theta : array_like\n",
    "        The trained parameters for logistic regression for each class.\n",
    "        This is a matrix of shape (K x n+1) where K is number of classes\n",
    "        (ie. `numlabels`) and n is number of features without the bias.\n",
    "    \n",
    "    Instructions\n",
    "    ------------\n",
    "    You should complete the following code to train `num_labels`\n",
    "    logistic regression classifiers with regularization parameter `lambda_`. \n",
    "    \n",
    "    Hint\n",
    "    ----\n",
    "    You can use y == c to obtain a vector of 1's and 0's that tell you\n",
    "    whether the ground truth is true/false for this class.\n",
    "    \n",
    "    Note\n",
    "    ----\n",
    "    For this assignment, we recommend using `scipy.optimize.minimize(method='CG')`\n",
    "    to optimize the cost function. It is okay to use a for-loop \n",
    "    (`for c in range(num_labels):`) to loop over the different classes.\n",
    "    \n",
    "    Example Code\n",
    "    ------------\n",
    "    \n",
    "        # Set Initial theta\n",
    "        initial_theta = np.zeros(n + 1)\n",
    "      \n",
    "        # Set options for minimize\n",
    "        options = {'maxiter': 50}\n",
    "    \n",
    "        # Run minimize to obtain the optimal theta. This function will \n",
    "        # return a class object where theta is in `res.x` and cost in `res.fun`\n",
    "        res = optimize.minimize(lrCostFunction, \n",
    "                                initial_theta, \n",
    "                                (X, (y == c), lambda_), \n",
    "                                jac=True, \n",
    "                                method='TNC',\n",
    "                                options=options) \n",
    "    \"\"\"\n",
    "    # Some useful variables\n",
    "    m, n = X.shape\n",
    "    \n",
    "    # You need to return the following variables correctly \n",
    "    all_theta = np.zeros((num_labels, n + 1))\n",
    "    initial_theta = np.zeros((n+1,1))\n",
    "\n",
    "    # Add ones to the X data matrix\n",
    "    X = np.concatenate([np.ones((m, 1)), X], axis=1)\n",
    "\n",
    "    # ====================== YOUR CODE HERE ======================\n",
<<<<<<< HEAD
    "    options = {'maxiter': 50}\n",
    "    all_theta = np.empty((1,401), float)\n",
    "    print(all_theta.shape)\n",
    "    all_cost=[]  \n",
    "    \n",
    "    # i is 1 - 10 because there are 10 digits to recognise\n",
    "    for i in range(0,num_labels):\n",
    "        print(f'iteration {i} of {num_labels}:')\n",
    "        y = np.where(y==i,1,0)\n",
    "        res = optimize.minimize(lrCostFunction, \n",
    "                                initial_theta, \n",
    "                                (X, y, lambda_), \n",
    "                                jac=True, \n",
    "                                method='CG',\n",
    "                                options=options)\n",
    "        theta = res.x\n",
    "        theta = np.asarray(theta)\n",
    "        print(theta.shape)\n",
    "        all_theta = np.append(all_theta, theta, axis=0)\n",
    "        \n",
    "        cost = res.fun\n",
    "        all_cost.append(cost)\n",
    "    '''Trains num_labels logistic regression classifiers and returns\n",
    "    each of these classifiers in a matrix all_theta, where the i-th\n",
    "    row of all_theta corresponds to the classifier for label i.'''\n",
    "    all_theta = np.array(all_theta).reshape(num_labels,n+1),\n",
=======
    "    \n",
    "    # Set Initial theta\n",
    "    initial_theta = np.zeros(n + 1)\n",
    "      \n",
    "    # Set options for minimize\n",
    "    options = {'maxiter': 50}\n",
    "    optimal_theta = []\n",
    "    c = 0\n",
    "    for c in range(num_labels):\n",
    "        print(f'c: {c}')\n",
    "        # Run minimize to obtain the optimal theta. This function will \n",
    "        # return a class object where theta is in `res.x` and cost in `res.fun`\n",
    "        res = optimize.minimize(lrCostFunction, \n",
    "                                initial_theta, \n",
    "                                (X, (y == c), lambda_), \n",
    "                                jac=True, \n",
    "                                method='CG',\n",
    "                                options=options) \n",
    "        optimal_theta.extend(res.x)\n",
    "\n",
    "    all_theta = optimal_theta.reshape(optimal_theta, ())\n",
>>>>>>> week4
    "    # ============================================================\n",
    "    print(all_theta.shape)\n",
    "    print(all_cost)\n",
    "    return all_theta, all_cost"
   ]
  },
  {
   "cell_type": "markdown",
   "metadata": {},
   "source": [
    "After you have completed the code for `oneVsAll`, the following cell will use your implementation to train a multi-class classifier. "
   ]
  },
  {
   "cell_type": "code",
<<<<<<< HEAD
   "execution_count": 32,
=======
   "execution_count": 12,
>>>>>>> week4
   "metadata": {},
   "outputs": [
    {
     "name": "stdout",
     "output_type": "stream",
     "text": [
      "y shape: (5000,)\n",
      "c: 0\n",
      "c: 1\n",
      "c: 2\n",
      "c: 3\n",
      "c: 4\n",
      "c: 5\n",
      "c: 6\n",
      "c: 7\n",
      "c: 8\n",
      "c: 9\n"
     ]
    }
   ],
   "source": [
    "def printer(label, string):\n",
    "    return print(f'{label}: {string}')"
   ]
  },
  {
   "cell_type": "code",
   "execution_count": 33,
   "metadata": {},
   "outputs": [
    {
     "name": "stdout",
     "output_type": "stream",
     "text": [
      "(1, 401)\n",
      "iteration 0 of 10:\n",
      "(401,)\n"
     ]
    },
    {
     "ename": "ValueError",
     "evalue": "all the input arrays must have same number of dimensions",
     "output_type": "error",
     "traceback": [
      "\u001b[0;31m---------------------------------------------------------------------------\u001b[0m",
      "\u001b[0;31mValueError\u001b[0m                                Traceback (most recent call last)",
      "\u001b[0;32m<ipython-input-33-dbf7cdddc9b8>\u001b[0m in \u001b[0;36m<module>\u001b[0;34m\u001b[0m\n\u001b[1;32m      1\u001b[0m \u001b[0mlambda_\u001b[0m \u001b[0;34m=\u001b[0m \u001b[0;36m0.1\u001b[0m\u001b[0;34m\u001b[0m\u001b[0;34m\u001b[0m\u001b[0m\n\u001b[1;32m      2\u001b[0m \u001b[0;31m#printer('num_labels', num_labels)\u001b[0m\u001b[0;34m\u001b[0m\u001b[0;34m\u001b[0m\u001b[0;34m\u001b[0m\u001b[0m\n\u001b[0;32m----> 3\u001b[0;31m \u001b[0mall_theta\u001b[0m \u001b[0;34m=\u001b[0m \u001b[0moneVsAll\u001b[0m\u001b[0;34m(\u001b[0m\u001b[0mX\u001b[0m\u001b[0;34m,\u001b[0m \u001b[0my\u001b[0m\u001b[0;34m,\u001b[0m \u001b[0mnum_labels\u001b[0m\u001b[0;34m,\u001b[0m \u001b[0mlambda_\u001b[0m\u001b[0;34m)\u001b[0m\u001b[0;34m\u001b[0m\u001b[0;34m\u001b[0m\u001b[0m\n\u001b[0m",
      "\u001b[0;32m<ipython-input-31-3c3e0f24471f>\u001b[0m in \u001b[0;36moneVsAll\u001b[0;34m(X, y, num_labels, lambda_)\u001b[0m\n\u001b[1;32m     92\u001b[0m         \u001b[0mtheta\u001b[0m \u001b[0;34m=\u001b[0m \u001b[0mnp\u001b[0m\u001b[0;34m.\u001b[0m\u001b[0masarray\u001b[0m\u001b[0;34m(\u001b[0m\u001b[0mtheta\u001b[0m\u001b[0;34m)\u001b[0m\u001b[0;34m\u001b[0m\u001b[0;34m\u001b[0m\u001b[0m\n\u001b[1;32m     93\u001b[0m         \u001b[0mprint\u001b[0m\u001b[0;34m(\u001b[0m\u001b[0mtheta\u001b[0m\u001b[0;34m.\u001b[0m\u001b[0mshape\u001b[0m\u001b[0;34m)\u001b[0m\u001b[0;34m\u001b[0m\u001b[0;34m\u001b[0m\u001b[0m\n\u001b[0;32m---> 94\u001b[0;31m         \u001b[0mall_theta\u001b[0m \u001b[0;34m=\u001b[0m \u001b[0mnp\u001b[0m\u001b[0;34m.\u001b[0m\u001b[0mappend\u001b[0m\u001b[0;34m(\u001b[0m\u001b[0mall_theta\u001b[0m\u001b[0;34m,\u001b[0m \u001b[0mtheta\u001b[0m\u001b[0;34m,\u001b[0m \u001b[0maxis\u001b[0m\u001b[0;34m=\u001b[0m\u001b[0;36m0\u001b[0m\u001b[0;34m)\u001b[0m\u001b[0;34m\u001b[0m\u001b[0;34m\u001b[0m\u001b[0m\n\u001b[0m\u001b[1;32m     95\u001b[0m \u001b[0;34m\u001b[0m\u001b[0m\n\u001b[1;32m     96\u001b[0m         \u001b[0mcost\u001b[0m \u001b[0;34m=\u001b[0m \u001b[0mres\u001b[0m\u001b[0;34m.\u001b[0m\u001b[0mfun\u001b[0m\u001b[0;34m\u001b[0m\u001b[0;34m\u001b[0m\u001b[0m\n",
      "\u001b[0;32m/usr/local/lib/python3.7/site-packages/numpy/lib/function_base.py\u001b[0m in \u001b[0;36mappend\u001b[0;34m(arr, values, axis)\u001b[0m\n\u001b[1;32m   4526\u001b[0m         \u001b[0mvalues\u001b[0m \u001b[0;34m=\u001b[0m \u001b[0mravel\u001b[0m\u001b[0;34m(\u001b[0m\u001b[0mvalues\u001b[0m\u001b[0;34m)\u001b[0m\u001b[0;34m\u001b[0m\u001b[0;34m\u001b[0m\u001b[0m\n\u001b[1;32m   4527\u001b[0m         \u001b[0maxis\u001b[0m \u001b[0;34m=\u001b[0m \u001b[0marr\u001b[0m\u001b[0;34m.\u001b[0m\u001b[0mndim\u001b[0m\u001b[0;34m-\u001b[0m\u001b[0;36m1\u001b[0m\u001b[0;34m\u001b[0m\u001b[0;34m\u001b[0m\u001b[0m\n\u001b[0;32m-> 4528\u001b[0;31m     \u001b[0;32mreturn\u001b[0m \u001b[0mconcatenate\u001b[0m\u001b[0;34m(\u001b[0m\u001b[0;34m(\u001b[0m\u001b[0marr\u001b[0m\u001b[0;34m,\u001b[0m \u001b[0mvalues\u001b[0m\u001b[0;34m)\u001b[0m\u001b[0;34m,\u001b[0m \u001b[0maxis\u001b[0m\u001b[0;34m=\u001b[0m\u001b[0maxis\u001b[0m\u001b[0;34m)\u001b[0m\u001b[0;34m\u001b[0m\u001b[0;34m\u001b[0m\u001b[0m\n\u001b[0m",
      "\u001b[0;31mValueError\u001b[0m: all the input arrays must have same number of dimensions"
     ]
    }
   ],
   "source": [
    "lambda_ = 0.1\n",
    "#printer('num_labels', num_labels)\n",
    "all_theta = oneVsAll(X, y, num_labels, lambda_)"
   ]
  },
  {
   "cell_type": "markdown",
   "metadata": {},
   "source": [
    "*You should now submit your solutions.*"
   ]
  },
  {
   "cell_type": "code",
<<<<<<< HEAD
   "execution_count": 145,
=======
   "execution_count": 13,
>>>>>>> week4
   "metadata": {},
   "outputs": [
    {
     "name": "stdout",
     "output_type": "stream",
     "text": [
      "\n",
      "Submitting Solutions | Programming Exercise multi-class-classification-and-neural-networks\n",
      "\n",
      "Use token from last successful submission (mthwsjc@gmail.com)? (Y/n): \n",
<<<<<<< HEAD
      "iteration 0 of 4:\n",
      "iteration 1 of 4:\n",
      "iteration 2 of 4:\n",
      "iteration 3 of 4:\n",
=======
      "y shape: (16,)\n",
      "c: 0\n",
      "c: 1\n",
      "c: 2\n",
      "c: 3\n",
>>>>>>> week4
      "                                  Part Name |     Score | Feedback\n",
      "                                  --------- |     ----- | --------\n",
      "            Regularized Logistic Regression |  30 /  30 | Nice work!\n",
      "             One-vs-All Classifier Training |   0 /  20 | \n",
      "           One-vs-All Classifier Prediction |   0 /  20 | \n",
      "         Neural Network Prediction Function |   0 /  30 | \n",
      "                                  --------------------------------\n",
      "                                            |  30 / 100 |  \n",
      "\n"
     ]
    }
   ],
   "source": [
    "grader[2] = oneVsAll\n",
    "grader.grade()"
   ]
  },
  {
   "cell_type": "markdown",
   "metadata": {},
   "source": [
    "<a id=\"section3\"></a>\n",
    "#### 1.4.1 One-vs-all Prediction\n",
    "\n",
    "After training your one-vs-all classifier, you can now use it to predict the digit contained in a given image. For each input, you should compute the “probability” that it belongs to each class using the trained logistic regression classifiers. Your one-vs-all prediction function will pick the class for which the corresponding logistic regression classifier outputs the highest probability and return the class label (0, 1, ..., K-1) as the prediction for the input example. You should now complete the code in the function `predictOneVsAll` to use the one-vs-all classifier for making predictions. \n",
    "<a id=\"predictOneVsAll\"></a>"
   ]
  },
  {
   "cell_type": "code",
   "execution_count": null,
   "metadata": {},
   "outputs": [],
   "source": [
    "def predictOneVsAll(all_theta, X):\n",
    "    \"\"\"\n",
    "    Return a vector of predictions for each example in the matrix X. \n",
    "    Note that X contains the examples in rows. all_theta is a matrix where\n",
    "    the i-th row is a trained logistic regression theta vector for the \n",
    "    i-th class. You should set p to a vector of values from 0..K-1 \n",
    "    (e.g., p = [0, 2, 0, 1] predicts classes 0, 2, 0, 1 for 4 examples) .\n",
    "    \n",
    "    Parameters\n",
    "    ----------\n",
    "    all_theta : array_like\n",
    "        The trained parameters for logistic regression for each class.\n",
    "        This is a matrix of shape (K x n+1) where K is number of classes\n",
    "        and n is number of features without the bias.\n",
    "    \n",
    "    X : array_like\n",
    "        Data points to predict their labels. This is a matrix of shape \n",
    "        (m x n) where m is number of data points to predict, and n is number \n",
    "        of features without the bias term. Note we add the bias term for X in \n",
    "        this function. \n",
    "    \n",
    "    Returns\n",
    "    -------\n",
    "    p : array_like\n",
    "        The predictions for each data point in X. This is a vector of shape (m, ).\n",
    "    \n",
    "    Instructions\n",
    "    ------------\n",
    "    Complete the following code to make predictions using your learned logistic\n",
    "    regression parameters (one-vs-all). You should set p to a vector of predictions\n",
    "    (from 0 to num_labels-1).\n",
    "    \n",
    "    Hint\n",
    "    ----\n",
    "    This code can be done all vectorized using the numpy argmax function.\n",
    "    In particular, the argmax function returns the index of the max element,\n",
    "    for more information see '?np.argmax' or search online. If your examples\n",
    "    are in rows, then, you can use np.argmax(A, axis=1) to obtain the index \n",
    "    of the max for each row.\n",
    "    \"\"\"\n",
    "    m = X.shape[0];\n",
    "    num_labels = all_theta.shape[0]\n",
    "\n",
    "    # You need to return the following variables correctly \n",
    "    p = np.zeros(m)\n",
    "\n",
    "    # Add ones to the X data matrix\n",
    "    X = np.concatenate([np.ones((m, 1)), X], axis=1)\n",
    "\n",
    "    # ====================== YOUR CODE HERE ======================\n",
    "\n",
    "\n",
    "    \n",
    "    # ============================================================\n",
    "    return p"
   ]
  },
  {
   "cell_type": "markdown",
   "metadata": {},
   "source": [
    "Once you are done, call your `predictOneVsAll` function using the learned value of $\\theta$. You should see that the training set accuracy is about 95.1% (i.e., it classifies 95.1% of the examples in the training set correctly)."
   ]
  },
  {
   "cell_type": "code",
   "execution_count": null,
   "metadata": {},
   "outputs": [],
   "source": [
    "pred = predictOneVsAll(all_theta, X)\n",
    "print('Training Set Accuracy: {:.2f}%'.format(np.mean(pred == y) * 100))"
   ]
  },
  {
   "cell_type": "markdown",
   "metadata": {},
   "source": [
    "*You should now submit your solutions.*"
   ]
  },
  {
   "cell_type": "code",
   "execution_count": null,
   "metadata": {},
   "outputs": [],
   "source": [
    "grader[3] = predictOneVsAll\n",
    "grader.grade()"
   ]
  },
  {
   "cell_type": "markdown",
   "metadata": {},
   "source": [
    "## 2 Neural Networks\n",
    "\n",
    "In the previous part of this exercise, you implemented multi-class logistic regression to recognize handwritten digits. However, logistic regression cannot form more complex hypotheses as it is only a linear classifier (You could add more features - such as polynomial features - to logistic regression, but that can be very expensive to train).\n",
    "\n",
    "In this part of the exercise, you will implement a neural network to recognize handwritten digits using the same training set as before. The neural network will be able to represent complex models that form non-linear hypotheses. For this week, you will be using parameters from a neural network that we have already trained. Your goal is to implement the feedforward propagation algorithm to use our weights for prediction. In next week’s exercise, you will write the backpropagation algorithm for learning the neural network parameters. \n",
    "\n",
    "We start by first reloading and visualizing the dataset which contains the MNIST handwritten digits (this is the same as we did in the first part of this exercise, we reload it here to ensure the variables have not been modified). "
   ]
  },
  {
   "cell_type": "code",
   "execution_count": null,
   "metadata": {},
   "outputs": [],
   "source": [
    "#  training data stored in arrays X, y\n",
    "data = loadmat(os.path.join('Data', 'ex3data1.mat'))\n",
    "X, y = data['X'], data['y'].ravel()\n",
    "\n",
    "# set the zero digit to 0, rather than its mapped 10 in this dataset\n",
    "# This is an artifact due to the fact that this dataset was used in \n",
    "# MATLAB where there is no index 0\n",
    "y[y == 10] = 0\n",
    "\n",
    "# get number of examples in dataset\n",
    "m = y.size\n",
    "\n",
    "# randomly permute examples, to be used for visualizing one \n",
    "# picture at a time\n",
    "indices = np.random.permutation(m)\n",
    "\n",
    "# Randomly select 100 data points to display\n",
    "rand_indices = np.random.choice(m, 100, replace=False)\n",
    "sel = X[rand_indices, :]\n",
    "\n",
    "utils.displayData(sel)"
   ]
  },
  {
   "cell_type": "markdown",
   "metadata": {},
   "source": [
    "\n",
    "### 2.1 Model representation \n",
    "\n",
    "Our neural network is shown in the following figure.\n",
    "\n",
    "![Neural network](Figures/neuralnetwork.png)\n",
    "\n",
    "It has 3 layers: an input layer, a hidden layer and an output layer. Recall that our inputs are pixel values of digit images. Since the images are of size 20×20, this gives us 400 input layer units (excluding the extra bias unit which always outputs +1). As before, the training data will be loaded into the variables X and y. \n",
    "\n",
    "You have been provided with a set of network parameters ($\\Theta^{(1)}$, $\\Theta^{(2)}$) already trained by us. These are stored in `ex3weights.mat`. The following cell loads those parameters into  `Theta1` and `Theta2`. The parameters have dimensions that are sized for a neural network with 25 units in the second layer and 10 output units (corresponding to the 10 digit classes)."
   ]
  },
  {
   "cell_type": "code",
   "execution_count": null,
   "metadata": {},
   "outputs": [],
   "source": [
    "# Setup the parameters you will use for this exercise\n",
    "input_layer_size  = 400  # 20x20 Input Images of Digits\n",
    "hidden_layer_size = 25   # 25 hidden units\n",
    "num_labels = 10          # 10 labels, from 0 to 9\n",
    "\n",
    "# Load the .mat file, which returns a dictionary \n",
    "weights = loadmat(os.path.join('Data', 'ex3weights.mat'))\n",
    "\n",
    "# get the model weights from the dictionary\n",
    "# Theta1 has size 25 x 401\n",
    "# Theta2 has size 10 x 26\n",
    "Theta1, Theta2 = weights['Theta1'], weights['Theta2']\n",
    "\n",
    "# swap first and last columns of Theta2, due to legacy from MATLAB indexing, \n",
    "# since the weight file ex3weights.mat was saved based on MATLAB indexing\n",
    "Theta2 = np.roll(Theta2, 1, axis=0)"
   ]
  },
  {
   "cell_type": "markdown",
   "metadata": {},
   "source": [
    "<a id=\"section4\"></a>\n",
    "### 2.2 Feedforward Propagation and Prediction\n",
    "\n",
    "Now you will implement feedforward propagation for the neural network. You will need to complete the code in the function `predict` to return the neural network’s prediction. You should implement the feedforward computation that computes $h_\\theta(x^{(i)})$ for every example $i$ and returns the associated predictions. Similar to the one-vs-all classification strategy, the prediction from the neural network will be the label that has the largest output $\\left( h_\\theta(x) \\right)_k$.\n",
    "\n",
    "<div class=\"alert alert-box alert-warning\">\n",
    "**Implementation Note:** The matrix $X$ contains the examples in rows. When you complete the code in the function `predict`, you will need to add the column of 1’s to the matrix. The matrices `Theta1` and `Theta2` contain the parameters for each unit in rows. Specifically, the first row of `Theta1` corresponds to the first hidden unit in the second layer. In `numpy`, when you compute $z^{(2)} = \\theta^{(1)}a^{(1)}$, be sure that you index (and if necessary, transpose) $X$ correctly so that you get $a^{(l)}$ as a 1-D vector.\n",
    "</div>\n",
    "<a id=\"predict\"></a>"
   ]
  },
  {
   "cell_type": "code",
   "execution_count": null,
   "metadata": {},
   "outputs": [],
   "source": [
    "def predict(Theta1, Theta2, X):\n",
    "    \"\"\"\n",
    "    Predict the label of an input given a trained neural network.\n",
    "    \n",
    "    Parameters\n",
    "    ----------\n",
    "    Theta1 : array_like\n",
    "        Weights for the first layer in the neural network.\n",
    "        It has shape (2nd hidden layer size x input size)\n",
    "    \n",
    "    Theta2: array_like\n",
    "        Weights for the second layer in the neural network. \n",
    "        It has shape (output layer size x 2nd hidden layer size)\n",
    "    \n",
    "    X : array_like\n",
    "        The image inputs having shape (number of examples x image dimensions).\n",
    "    \n",
    "    Return \n",
    "    ------\n",
    "    p : array_like\n",
    "        Predictions vector containing the predicted label for each example.\n",
    "        It has a length equal to the number of examples.\n",
    "    \n",
    "    Instructions\n",
    "    ------------\n",
    "    Complete the following code to make predictions using your learned neural\n",
    "    network. You should set p to a vector containing labels \n",
    "    between 0 to (num_labels-1).\n",
    "     \n",
    "    Hint\n",
    "    ----\n",
    "    This code can be done all vectorized using the numpy argmax function.\n",
    "    In particular, the argmax function returns the index of the  max element,\n",
    "    for more information see '?np.argmax' or search online. If your examples\n",
    "    are in rows, then, you can use np.argmax(A, axis=1) to obtain the index\n",
    "    of the max for each row.\n",
    "    \n",
    "    Note\n",
    "    ----\n",
    "    Remember, we have supplied the `sigmoid` function in the `utils.py` file. \n",
    "    You can use this function by calling `utils.sigmoid(z)`, where you can \n",
    "    replace `z` by the required input variable to sigmoid.\n",
    "    \"\"\"\n",
    "    # Make sure the input has two dimensions\n",
    "    if X.ndim == 1:\n",
    "        X = X[None]  # promote to 2-dimensions\n",
    "    \n",
    "    # useful variables\n",
    "    m = X.shape[0]\n",
    "    num_labels = Theta2.shape[0]\n",
    "\n",
    "    # You need to return the following variables correctly \n",
    "    p = np.zeros(X.shape[0])\n",
    "\n",
    "    # ====================== YOUR CODE HERE ======================\n",
    "\n",
    "\n",
    "\n",
    "    # =============================================================\n",
    "    return p"
   ]
  },
  {
   "cell_type": "markdown",
   "metadata": {},
   "source": [
    "Once you are done, call your predict function using the loaded set of parameters for `Theta1` and `Theta2`. You should see that the accuracy is about 97.5%."
   ]
  },
  {
   "cell_type": "code",
   "execution_count": null,
   "metadata": {},
   "outputs": [],
   "source": [
    "pred = predict(Theta1, Theta2, X)\n",
    "print('Training Set Accuracy: {:.1f}%'.format(np.mean(pred == y) * 100))"
   ]
  },
  {
   "cell_type": "markdown",
   "metadata": {},
   "source": [
    "After that, we will display images from the training set one at a time, while at the same time printing out the predicted label for the displayed image. \n",
    "\n",
    "Run the following cell to display a single image the the neural network's prediction. You can run the cell multiple time to see predictions for different images."
   ]
  },
  {
   "cell_type": "code",
   "execution_count": null,
   "metadata": {},
   "outputs": [],
   "source": [
    "if indices.size > 0:\n",
    "    i, indices = indices[0], indices[1:]\n",
    "    utils.displayData(X[i, :], figsize=(4, 4))\n",
    "    pred = predict(Theta1, Theta2, X[i, :])\n",
    "    print('Neural Network Prediction: {}'.format(*pred))\n",
    "else:\n",
    "    print('No more images to display!')"
   ]
  },
  {
   "cell_type": "markdown",
   "metadata": {},
   "source": [
    "*You should now submit your solutions.*"
   ]
  },
  {
   "cell_type": "code",
   "execution_count": null,
   "metadata": {},
   "outputs": [],
   "source": [
    "grader[4] = predict\n",
    "grader.grade()"
   ]
  }
 ],
 "metadata": {
  "hide_input": false,
  "kernelspec": {
   "display_name": "Python 3",
   "language": "python",
   "name": "python3"
  },
  "language_info": {
   "codemirror_mode": {
    "name": "ipython",
    "version": 3
   },
   "file_extension": ".py",
   "mimetype": "text/x-python",
   "name": "python",
   "nbconvert_exporter": "python",
   "pygments_lexer": "ipython3",
   "version": "3.7.2"
  },
  "latex_envs": {
   "LaTeX_envs_menu_present": true,
   "autocomplete": true,
   "bibliofile": "biblio.bib",
   "cite_by": "apalike",
   "current_citInitial": 1,
   "eqLabelWithNumbers": true,
   "eqNumInitial": 1,
   "hotkeys": {
    "equation": "Ctrl-E",
    "itemize": "Ctrl-I"
   },
   "labels_anchors": false,
   "latex_user_defs": false,
   "report_style_numbering": false,
   "user_envs_cfg": false
  },
  "toc": {
   "colors": {
    "hover_highlight": "#DAA520",
    "navigate_num": "#000000",
    "navigate_text": "#333333",
    "running_highlight": "#FF0000",
    "selected_highlight": "#FFD700",
    "sidebar_border": "#EEEEEE",
    "wrapper_background": "#FFFFFF"
   },
   "moveMenuLeft": true,
   "nav_menu": {
    "height": "279px",
    "width": "252px"
   },
   "navigate_menu": true,
   "number_sections": true,
   "sideBar": true,
   "skip_h1_title": true,
   "threshold": 4,
   "toc_cell": true,
   "toc_section_display": "block",
   "toc_window_display": false,
   "widenNotebook": false
  }
 },
 "nbformat": 4,
 "nbformat_minor": 2
}
